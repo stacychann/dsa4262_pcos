{
 "cells": [
  {
   "cell_type": "markdown",
   "metadata": {},
   "source": [
    "TabTransformer is a deep tabular data modeling architecture for supervised and semi-supervised learning. The TabTransformer is built upon self-attention based Transformers. The Transformer layers transform the embeddings of categorical features into robust contextual embeddings to achieve higher predictive accuracy."
   ]
  },
  {
   "cell_type": "markdown",
   "metadata": {},
   "source": [
    "# Importing packages and reading in the csv file"
   ]
  },
  {
   "cell_type": "code",
   "execution_count": 55,
   "metadata": {},
   "outputs": [],
   "source": [
    "import numpy as np\n",
    "import pandas as pd\n",
    "import math\n",
    "\n",
    "from functools import partial\n",
    "import matplotlib.pyplot as plt\n",
    "\n",
    "from sklearn.feature_selection import RFECV\n",
    "from sklearn.ensemble import RandomForestClassifier\n",
    "\n",
    "import tensorflow as tf\n",
    "from tensorflow import keras\n",
    "from tensorflow import data as tf_data\n",
    "from keras import layers\n",
    "from keras import ops\n",
    "from keras import Model\n",
    "from keras.layers import Dense, Embedding, Input, Dropout, BatchNormalization, Flatten, Attention, GroupQueryAttention, MultiHeadAttention, AdditiveAttention\n",
    "from keras.metrics import AUC, Precision, Recall, F1Score\n",
    "from keras.losses import BinaryCrossentropy, BinaryFocalCrossentropy\n",
    "from keras.optimizers import Adam, RMSprop, Adadelta, Adagrad, AdamW, Adamax"
   ]
  },
  {
   "cell_type": "code",
   "execution_count": 56,
   "metadata": {},
   "outputs": [
    {
     "name": "stdout",
     "output_type": "stream",
     "text": [
      "(529, 40)\n"
     ]
    },
    {
     "data": {
      "text/html": [
       "<div>\n",
       "<style scoped>\n",
       "    .dataframe tbody tr th:only-of-type {\n",
       "        vertical-align: middle;\n",
       "    }\n",
       "\n",
       "    .dataframe tbody tr th {\n",
       "        vertical-align: top;\n",
       "    }\n",
       "\n",
       "    .dataframe thead th {\n",
       "        text-align: right;\n",
       "    }\n",
       "</style>\n",
       "<table border=\"1\" class=\"dataframe\">\n",
       "  <thead>\n",
       "    <tr style=\"text-align: right;\">\n",
       "      <th></th>\n",
       "      <th>PCOS (Y/N)</th>\n",
       "      <th>Age (yrs)</th>\n",
       "      <th>BMI</th>\n",
       "      <th>Blood Group</th>\n",
       "      <th>Pulse rate(bpm)</th>\n",
       "      <th>RR (breaths/min)</th>\n",
       "      <th>Hb(g/dl)</th>\n",
       "      <th>Menstrual Cycle(R/I)</th>\n",
       "      <th>Menstrual Cycle Length(days)</th>\n",
       "      <th>Marriage Status (Yrs)</th>\n",
       "      <th>...</th>\n",
       "      <th>BP _Diastolic (mmHg)</th>\n",
       "      <th>Follicle No. (L)</th>\n",
       "      <th>Follicle No. (R)</th>\n",
       "      <th>Avg. F size (L) (mm)</th>\n",
       "      <th>Avg. F size (R) (mm)</th>\n",
       "      <th>Endometrium (mm)</th>\n",
       "      <th>Symptoms score</th>\n",
       "      <th>Unhealthy living score</th>\n",
       "      <th>I beta-HCG cat</th>\n",
       "      <th>II beta-HCG cat</th>\n",
       "    </tr>\n",
       "  </thead>\n",
       "  <tbody>\n",
       "    <tr>\n",
       "      <th>0</th>\n",
       "      <td>0</td>\n",
       "      <td>28</td>\n",
       "      <td>19.3</td>\n",
       "      <td>O+</td>\n",
       "      <td>78</td>\n",
       "      <td>high</td>\n",
       "      <td>low</td>\n",
       "      <td>regular</td>\n",
       "      <td>5</td>\n",
       "      <td>7.0</td>\n",
       "      <td>...</td>\n",
       "      <td>normal</td>\n",
       "      <td>3</td>\n",
       "      <td>3</td>\n",
       "      <td>18.0</td>\n",
       "      <td>18.0</td>\n",
       "      <td>8.5</td>\n",
       "      <td>0</td>\n",
       "      <td>2.0</td>\n",
       "      <td>normal</td>\n",
       "      <td>normal</td>\n",
       "    </tr>\n",
       "    <tr>\n",
       "      <th>1</th>\n",
       "      <td>0</td>\n",
       "      <td>36</td>\n",
       "      <td>24.9</td>\n",
       "      <td>O+</td>\n",
       "      <td>74</td>\n",
       "      <td>normal</td>\n",
       "      <td>normal</td>\n",
       "      <td>regular</td>\n",
       "      <td>5</td>\n",
       "      <td>11.0</td>\n",
       "      <td>...</td>\n",
       "      <td>normal</td>\n",
       "      <td>3</td>\n",
       "      <td>5</td>\n",
       "      <td>15.0</td>\n",
       "      <td>14.0</td>\n",
       "      <td>3.7</td>\n",
       "      <td>0</td>\n",
       "      <td>1.0</td>\n",
       "      <td>normal</td>\n",
       "      <td>abnormal</td>\n",
       "    </tr>\n",
       "    <tr>\n",
       "      <th>2</th>\n",
       "      <td>1</td>\n",
       "      <td>33</td>\n",
       "      <td>25.3</td>\n",
       "      <td>A+</td>\n",
       "      <td>72</td>\n",
       "      <td>normal</td>\n",
       "      <td>normal</td>\n",
       "      <td>regular</td>\n",
       "      <td>5</td>\n",
       "      <td>10.0</td>\n",
       "      <td>...</td>\n",
       "      <td>normal</td>\n",
       "      <td>13</td>\n",
       "      <td>15</td>\n",
       "      <td>18.0</td>\n",
       "      <td>20.0</td>\n",
       "      <td>10.0</td>\n",
       "      <td>2</td>\n",
       "      <td>2.0</td>\n",
       "      <td>normal</td>\n",
       "      <td>normal</td>\n",
       "    </tr>\n",
       "    <tr>\n",
       "      <th>3</th>\n",
       "      <td>0</td>\n",
       "      <td>37</td>\n",
       "      <td>29.7</td>\n",
       "      <td>B+</td>\n",
       "      <td>72</td>\n",
       "      <td>normal</td>\n",
       "      <td>normal</td>\n",
       "      <td>regular</td>\n",
       "      <td>5</td>\n",
       "      <td>4.0</td>\n",
       "      <td>...</td>\n",
       "      <td>normal</td>\n",
       "      <td>2</td>\n",
       "      <td>2</td>\n",
       "      <td>15.0</td>\n",
       "      <td>14.0</td>\n",
       "      <td>7.5</td>\n",
       "      <td>0</td>\n",
       "      <td>1.0</td>\n",
       "      <td>normal</td>\n",
       "      <td>normal</td>\n",
       "    </tr>\n",
       "    <tr>\n",
       "      <th>4</th>\n",
       "      <td>0</td>\n",
       "      <td>25</td>\n",
       "      <td>20.1</td>\n",
       "      <td>A+</td>\n",
       "      <td>72</td>\n",
       "      <td>normal</td>\n",
       "      <td>low</td>\n",
       "      <td>regular</td>\n",
       "      <td>5</td>\n",
       "      <td>1.0</td>\n",
       "      <td>...</td>\n",
       "      <td>normal</td>\n",
       "      <td>3</td>\n",
       "      <td>4</td>\n",
       "      <td>16.0</td>\n",
       "      <td>14.0</td>\n",
       "      <td>7.0</td>\n",
       "      <td>1</td>\n",
       "      <td>1.0</td>\n",
       "      <td>normal</td>\n",
       "      <td>normal</td>\n",
       "    </tr>\n",
       "  </tbody>\n",
       "</table>\n",
       "<p>5 rows × 40 columns</p>\n",
       "</div>"
      ],
      "text/plain": [
       "   PCOS (Y/N)  Age (yrs)   BMI Blood Group  Pulse rate(bpm) RR (breaths/min)  \\\n",
       "0           0         28  19.3          O+               78             high   \n",
       "1           0         36  24.9          O+               74           normal   \n",
       "2           1         33  25.3          A+               72           normal   \n",
       "3           0         37  29.7          B+               72           normal   \n",
       "4           0         25  20.1          A+               72           normal   \n",
       "\n",
       "  Hb(g/dl) Menstrual Cycle(R/I)  Menstrual Cycle Length(days)  \\\n",
       "0      low              regular                             5   \n",
       "1   normal              regular                             5   \n",
       "2   normal              regular                             5   \n",
       "3   normal              regular                             5   \n",
       "4      low              regular                             5   \n",
       "\n",
       "   Marriage Status (Yrs)  ...  BP _Diastolic (mmHg)  Follicle No. (L)  \\\n",
       "0                    7.0  ...                normal                 3   \n",
       "1                   11.0  ...                normal                 3   \n",
       "2                   10.0  ...                normal                13   \n",
       "3                    4.0  ...                normal                 2   \n",
       "4                    1.0  ...                normal                 3   \n",
       "\n",
       "   Follicle No. (R)  Avg. F size (L) (mm)  Avg. F size (R) (mm)  \\\n",
       "0                 3                  18.0                  18.0   \n",
       "1                 5                  15.0                  14.0   \n",
       "2                15                  18.0                  20.0   \n",
       "3                 2                  15.0                  14.0   \n",
       "4                 4                  16.0                  14.0   \n",
       "\n",
       "   Endometrium (mm) Symptoms score Unhealthy living score I beta-HCG cat  \\\n",
       "0               8.5              0                    2.0         normal   \n",
       "1               3.7              0                    1.0         normal   \n",
       "2              10.0              2                    2.0         normal   \n",
       "3               7.5              0                    1.0         normal   \n",
       "4               7.0              1                    1.0         normal   \n",
       "\n",
       "  II beta-HCG cat  \n",
       "0          normal  \n",
       "1        abnormal  \n",
       "2          normal  \n",
       "3          normal  \n",
       "4          normal  \n",
       "\n",
       "[5 rows x 40 columns]"
      ]
     },
     "execution_count": 56,
     "metadata": {},
     "output_type": "execute_result"
    }
   ],
   "source": [
    "df = pd.read_csv(\"./tt_data/tabtransformer_input_final.csv\")\n",
    "print(df.shape)\n",
    "df.head()"
   ]
  },
  {
   "cell_type": "markdown",
   "metadata": {},
   "source": [
    "# Renaming columns that contain '/'"
   ]
  },
  {
   "cell_type": "code",
   "execution_count": 57,
   "metadata": {},
   "outputs": [
    {
     "name": "stdout",
     "output_type": "stream",
     "text": [
      "Index(['PCOS (Y/N)', 'Age (yrs)', 'BMI', 'Blood Group', 'Pulse rate(bpm)',\n",
      "       'RR (breaths per min)', 'Hb(g per dl)', 'Menstrual Cycle(R or I)',\n",
      "       'Menstrual Cycle Length(days)', 'Marriage Status (Yrs)', 'Pregnant',\n",
      "       'No. of abortions', 'I   beta-HCG(mIU per mL)',\n",
      "       'II    beta-HCG(mIU per mL)', 'FSH:LH ratio', 'Waist:Hip Ratio',\n",
      "       'TSH (mIU per L)', 'AMH(ng per mL)', 'PRL(ng per mL)',\n",
      "       'Vit D3 (ng per mL)', 'PRG(ng per mL)', 'RBS(mg per dl)', 'Weight gain',\n",
      "       'hair growth', 'Skin darkening', 'Hair loss', 'Pimples', 'Fast food',\n",
      "       'Reg.Exercise', 'BP _Systolic (mmHg)', 'BP _Diastolic (mmHg)',\n",
      "       'Follicle No. (L)', 'Follicle No. (R)', 'Avg. F size (L) (mm)',\n",
      "       'Avg. F size (R) (mm)', 'Endometrium (mm)', 'Symptoms score',\n",
      "       'Unhealthy living score', 'I beta-HCG cat', 'II beta-HCG cat'],\n",
      "      dtype='object')\n"
     ]
    }
   ],
   "source": [
    "naming_dic = {'Menstrual Cycle(R/I)': 'Menstrual Cycle(R or I)', 'Weight gain(Y/N)': 'Weight gain', \n",
    "'hair growth(Y/N)': 'hair growth', 'Skin darkening (Y/N)': 'Skin darkening', 'Hair loss(Y/N)': 'Hair loss', \n",
    "'Pimples(Y/N)': 'Pimples', 'Fast food (Y/N)': 'Fast food', 'Reg.Exercise(Y/N)': 'Reg.Exercise',\n",
    "'Pregnant(Y/N)': 'Pregnant', 'RR (breaths/min)': 'RR (breaths per min)', 'Hb(g/dl)': 'Hb(g per dl)',\n",
    "'I   beta-HCG(mIU/mL)': 'I   beta-HCG(mIU per mL)', 'II    beta-HCG(mIU/mL)': 'II    beta-HCG(mIU per mL)',\n",
    "'FSH/LH': 'FSH:LH ratio', 'TSH (mIU/L)': 'TSH (mIU per L)', 'AMH(ng/mL)': 'AMH(ng per mL)', \n",
    "'PRL(ng/mL)': 'PRL(ng per mL)', 'Vit D3 (ng/mL)': 'Vit D3 (ng per mL)', 'PRG(ng/mL)': 'PRG(ng per mL)', \n",
    "'RBS(mg/dl)': 'RBS(mg per dl)'}\n",
    "\n",
    "df.rename(columns=naming_dic, inplace=True)\n",
    "print(df.columns)"
   ]
  },
  {
   "cell_type": "markdown",
   "metadata": {},
   "source": [
    "# Changing column types"
   ]
  },
  {
   "cell_type": "code",
   "execution_count": 58,
   "metadata": {},
   "outputs": [],
   "source": [
    "df[\"Fast food\"] = df[\"Fast food\"].astype(\"int64\")"
   ]
  },
  {
   "cell_type": "code",
   "execution_count": 59,
   "metadata": {},
   "outputs": [],
   "source": [
    "CATEGORICAL_FEATURE_NAMES = ['Blood Group', 'Menstrual Cycle(R or I)', 'Weight gain', 'hair growth', \n",
    "'Skin darkening', 'Hair loss', 'Pimples','Fast food', 'Reg.Exercise', 'Pregnant', 'Hb(g per dl)', \n",
    "'TSH (mIU per L)', 'AMH(ng per mL)', 'PRL(ng per mL)', 'Vit D3 (ng per mL)', 'RR (breaths per min)', \n",
    "'I beta-HCG cat', 'II beta-HCG cat', 'PRG(ng per mL)', 'RBS(mg per dl)', 'BP _Systolic (mmHg)', \n",
    "'BP _Diastolic (mmHg)']\n",
    "num_cols = [col for col in df.columns if col not in CATEGORICAL_FEATURE_NAMES+[\"PCOS (Y/N)\"]]\n",
    "for col in num_cols:\n",
    "    df[col] = df[col].astype(\"float32\")"
   ]
  },
  {
   "cell_type": "markdown",
   "metadata": {},
   "source": [
    "# Finding the class weights to resolve the issue of class imbalance"
   ]
  },
  {
   "cell_type": "code",
   "execution_count": 60,
   "metadata": {},
   "outputs": [],
   "source": [
    "target_counts = np.bincount(df[\"PCOS (Y/N)\"])\n",
    "weight_for_0 = 1.0/target_counts[0]\n",
    "weight_for_1 = 1.0/target_counts[1]"
   ]
  },
  {
   "cell_type": "markdown",
   "metadata": {},
   "source": [
    "# Changing the integers in categorical columns to strings"
   ]
  },
  {
   "cell_type": "code",
   "execution_count": 61,
   "metadata": {},
   "outputs": [],
   "source": [
    "cols = ['Weight gain', 'hair growth', 'Skin darkening', 'Hair loss', 'Pimples','Fast food', 'Reg.Exercise', 'Pregnant', 'PCOS (Y/N)']\n",
    "for col in cols:\n",
    "    df[col] = df[col].apply(lambda x: \"Yes\" if x==1 else \"No\")"
   ]
  },
  {
   "cell_type": "markdown",
   "metadata": {},
   "source": [
    "# Sets a random seed to ensure reproducible results"
   ]
  },
  {
   "cell_type": "code",
   "execution_count": 62,
   "metadata": {},
   "outputs": [
    {
     "data": {
      "text/plain": [
       "'\\nfrom keras import backend as K\\nsession_conf = tf.compat.v1.ConfigProto(intra_op_parallelism_threads=1, inter_op_parallelism_threads=1)\\nsess = tf.compat.v1.Session(graph=tf.compat.v1.get_default_graph(), config=session_conf)\\ntf.compat.v1.keras.backend.set_session(sess)\"\\n'"
      ]
     },
     "execution_count": 62,
     "metadata": {},
     "output_type": "execute_result"
    }
   ],
   "source": [
    "seed_value= 0\n",
    "\n",
    "# 1. Set the `PYTHONHASHSEED` environment variable at a fixed value\n",
    "import os\n",
    "os.environ['PYTHONHASHSEED']=str(seed_value)\n",
    "\n",
    "# 2. Set the `python` built-in pseudo-random generator at a fixed value\n",
    "import random\n",
    "random.seed(seed_value)\n",
    "\n",
    "# 3. Set the `numpy` pseudo-random generator at a fixed value\n",
    "np.random.seed(seed_value)\n",
    "\n",
    "# 4. Set the `tensorflow` pseudo-random generator at a fixed value\n",
    "tf.random.set_seed(seed_value)\n",
    "# for later versions: \n",
    "# tf.compat.v1.set_random_seed(seed_value)\n",
    "\n",
    "# 5. Configure a new global `tensorflow` session\n",
    "\"\"\"\n",
    "from keras import backend as K\n",
    "session_conf = tf.compat.v1.ConfigProto(intra_op_parallelism_threads=1, inter_op_parallelism_threads=1)\n",
    "sess = tf.compat.v1.Session(graph=tf.compat.v1.get_default_graph(), config=session_conf)\n",
    "tf.compat.v1.keras.backend.set_session(sess)\"\n",
    "\"\"\""
   ]
  },
  {
   "cell_type": "markdown",
   "metadata": {},
   "source": [
    "# Feature Selection Using RFE "
   ]
  },
  {
   "cell_type": "code",
   "execution_count": 63,
   "metadata": {},
   "outputs": [
    {
     "data": {
      "text/plain": [
       "'\\ntarget_column = \"PCOS (Y/N)\"\\ny = df[target_column]\\nX = df.drop(target_column, axis=1)\\n\\nrf = RandomForestClassifier(n_estimators=100, random_state=42, n_jobs=-1)\\nselector = RFECV(estimator=rf, cv=5, step=1, scoring=\\'roc_auc\\')\\nselector = selector.fit(X, y)\\nselected_columns = X.columns[selector.support_]\\nprint(selected_columns)\\nX = X[selected_columns]\\nX\\n'"
      ]
     },
     "execution_count": 63,
     "metadata": {},
     "output_type": "execute_result"
    }
   ],
   "source": [
    "\"\"\"\n",
    "target_column = \"PCOS (Y/N)\"\n",
    "y = df[target_column]\n",
    "X = df.drop(target_column, axis=1)\n",
    "\n",
    "rf = RandomForestClassifier(n_estimators=100, random_state=42, n_jobs=-1)\n",
    "selector = RFECV(estimator=rf, cv=5, step=1, scoring='roc_auc')\n",
    "selector = selector.fit(X, y)\n",
    "selected_columns = X.columns[selector.support_]\n",
    "print(selected_columns)\n",
    "X = X[selected_columns]\n",
    "X\n",
    "\"\"\""
   ]
  },
  {
   "cell_type": "markdown",
   "metadata": {},
   "source": [
    "# Splitting into train, validation and test datasets"
   ]
  },
  {
   "cell_type": "code",
   "execution_count": 64,
   "metadata": {},
   "outputs": [],
   "source": [
    "# Choose either 60, 20, 20 or 80, 10, 10\n",
    "# Depends on the complexity of the model, the dataset size and the nature of the data\n",
    "\n",
    "X = df.drop(\"PCOS (Y/N)\", axis=1)\n",
    "y = df[\"PCOS (Y/N)\"]\n",
    "\n",
    "test_size_1 = 0.4\n",
    "test_size_2 = 0.5\n",
    "random_state = 1\n",
    "\n",
    "from sklearn.model_selection import train_test_split\n",
    "X_train, X_valtest, y_train, y_valtest = train_test_split(X, y, test_size=test_size_1, stratify=y, random_state=random_state)\n",
    "X_val, X_test, y_val, y_test = train_test_split(X_valtest, y_valtest, test_size=test_size_2, stratify=y_valtest, random_state=random_state)"
   ]
  },
  {
   "cell_type": "code",
   "execution_count": 65,
   "metadata": {},
   "outputs": [],
   "source": [
    "# Needs to sort the columns properly so that the model can read in the inputs correctly\n",
    "\"\"\"\n",
    "training_data_tt = pd.concat([X_train, y_train], axis=1).reindex(sorted(df.columns), axis=1)\n",
    "training_data_tt.to_csv(\"./tt_data/training_data_tt.csv\", index=False)\n",
    "\n",
    "val_data_tt = pd.concat([X_val, y_val], axis=1).reindex(sorted(df.columns), axis=1)\n",
    "val_data_tt.to_csv(\"./tt_data/val_data_tt.csv\", index=False)\n",
    "\n",
    "test_data_tt = pd.concat([X_test, y_test], axis=1).reindex(sorted(df.columns), axis=1)\n",
    "test_data_tt.to_csv(\"./tt_data/test_data_tt.csv\", index=False)\n",
    "\"\"\"\n",
    "\n",
    "training_data_tt = pd.concat([X_train, y_train], axis=1)\n",
    "training_data_tt.to_csv(\"./tt_data/training_data_tt_final.csv\", index=False)\n",
    "\n",
    "val_data_tt = pd.concat([X_val, y_val], axis=1)\n",
    "val_data_tt.to_csv(\"./tt_data/val_data_tt_final.csv\", index=False)\n",
    "\n",
    "test_data_tt = pd.concat([X_test, y_test], axis=1)\n",
    "test_data_tt.to_csv(\"./tt_data/test_data_tt_final.csv\", index=False)"
   ]
  },
  {
   "cell_type": "markdown",
   "metadata": {},
   "source": [
    "# Define dataset metadata"
   ]
  },
  {
   "cell_type": "code",
   "execution_count": 66,
   "metadata": {},
   "outputs": [],
   "source": [
    "TRAIN_DATA_FILE = \"./tt_data/training_data_tt_final.csv\"\n",
    "VAL_DATA_FILE = \"./tt_data/val_data_tt_final.csv\"\n",
    "TEST_DATA_FILE = \"./tt_data/test_data_tt_final.csv\"\n",
    "training_data_tt = pd.read_csv(TRAIN_DATA_FILE)\n",
    "\n",
    "CATEGORICAL_FEATURE_NAMES = ['Blood Group', 'Menstrual Cycle(R or I)', 'Weight gain', 'hair growth', \n",
    "'Skin darkening', 'Hair loss', 'Pimples','Fast food', 'Reg.Exercise', 'Pregnant', 'Hb(g per dl)', \n",
    "'TSH (mIU per L)', 'AMH(ng per mL)', 'PRL(ng per mL)', 'Vit D3 (ng per mL)', 'RR (breaths per min)', \n",
    "'I beta-HCG cat', 'II beta-HCG cat', 'PRG(ng per mL)', 'RBS(mg per dl)', 'BP _Systolic (mmHg)', \n",
    "'BP _Diastolic (mmHg)']\n",
    "CATEGORICAL_FEATURES_WITH_VOCABULARY = {col:sorted(list(df[col].unique())) for col in CATEGORICAL_FEATURE_NAMES}\n",
    "NUMERIC_FEATURE_NAMES = [col for col in X.columns if col not in CATEGORICAL_FEATURE_NAMES]\n",
    "TARGET_COLUMN = \"PCOS (Y/N)\"\n",
    "TARGET_LABELS = [\"Yes\", \"No\"]\n",
    "FEATURE_NAMES = [col for col in list(training_data_tt.columns) if col!=TARGET_COLUMN]"
   ]
  },
  {
   "cell_type": "markdown",
   "metadata": {},
   "source": [
    "# Configure the hyperparameters"
   ]
  },
  {
   "cell_type": "code",
   "execution_count": 67,
   "metadata": {},
   "outputs": [],
   "source": [
    "# Includes model architecture and training configurations\n",
    "LEARNING_RATE = 0.001\n",
    "WEIGHT_DECAY = 0.0001\n",
    "DROPOUT_RATE = 0.2\n",
    "BATCH_SIZE = 64\n",
    "NUM_EPOCHS = 14\n",
    "\n",
    "NUM_TRANSFORMER_BLOCKS = 1\n",
    "NUM_HEADS = 4 #Number of attention heads\n",
    "EMBEDDING_DIMS = 16 # Embedding dimensions of the categorical features\n",
    "MLP_HIDDEN_UNITS_FACTORS = [2,1]\n",
    "NUM_MLP_BLOCKS = 2"
   ]
  },
  {
   "cell_type": "markdown",
   "metadata": {},
   "source": [
    "# Implement a data reading pipeline"
   ]
  },
  {
   "cell_type": "code",
   "execution_count": 68,
   "metadata": {},
   "outputs": [],
   "source": [
    "# Creating lookup\n",
    "target_label_lookup = layers.StringLookup(vocabulary=TARGET_LABELS, mask_token=None, num_oov_indices=0)\n",
    "lookup_dic={}\n",
    "for col in CATEGORICAL_FEATURE_NAMES:\n",
    "    vocab = CATEGORICAL_FEATURES_WITH_VOCABULARY[col]\n",
    "    lookup = layers.StringLookup(vocabulary=vocab, mask_token=None, num_oov_indices=0)\n",
    "    lookup_dic[col] = lookup\n",
    "\n",
    "def prepare_example(features, target):\n",
    "    target_idx = target_label_lookup(target)\n",
    "    return features, target_idx\n",
    "\n",
    "def encode_categorical(batch_x, batch_y):\n",
    "    for col in CATEGORICAL_FEATURE_NAMES:\n",
    "        if col in batch_x:\n",
    "            batch_x[col] = lookup_dic[col](batch_x[col])\n",
    "    return batch_x, batch_y\n",
    "\n",
    "def get_dataset_from_csv(csv_file_path, batch_size=128, shuffle=False):\n",
    "    dataset = (\n",
    "        tf_data.experimental.make_csv_dataset(\n",
    "            csv_file_path,\n",
    "            batch_size=batch_size,\n",
    "            label_name=TARGET_COLUMN,\n",
    "            num_epochs=1,\n",
    "            header=True,\n",
    "            shuffle=shuffle,\n",
    "        )\n",
    "        .map(prepare_example, num_parallel_calls=tf_data.AUTOTUNE, deterministic=False)\n",
    "        .map(encode_categorical)\n",
    "    )\n",
    "    return dataset.cache()"
   ]
  },
  {
   "cell_type": "markdown",
   "metadata": {},
   "source": [
    "# Implement a training and evaluation procedure"
   ]
  },
  {
   "cell_type": "code",
   "execution_count": 69,
   "metadata": {},
   "outputs": [],
   "source": [
    "#my_callbacks = [\n",
    "    #keras.callbacks.EarlyStopping(patience=2, min_delta=0.0012),\n",
    "    #keras.callbacks.ModelCheckpoint(filepath='model.{epoch:02d}-{val_loss:.2f}.h5'),\n",
    "    #keras.callbacks.TensorBoard(log_dir='./logs')]"
   ]
  },
  {
   "cell_type": "code",
   "execution_count": 70,
   "metadata": {},
   "outputs": [],
   "source": [
    "def run_experiment(model, train_data_file, val_data_file, test_data_file, learning_rate, weight_decay, batch_size, num_epoch, weight_for_0, weight_for_1):\n",
    "    train_dataset = get_dataset_from_csv(train_data_file, batch_size, shuffle=True)\n",
    "    validation_dataset = get_dataset_from_csv(val_data_file, batch_size)\n",
    "    test_dataset = get_dataset_from_csv(test_data_file, batch_size)\n",
    "    y_true = np.concatenate([y.numpy() for _, y in test_dataset])\n",
    "    model.compile(loss= BinaryCrossentropy() , optimizer=Adam(learning_rate=learning_rate, weight_decay=weight_decay) , metrics=[AUC]) \n",
    "    print(\"Start training the model...\")\n",
    "    history = model.fit(train_dataset, epochs=num_epoch, validation_data=validation_dataset, batch_size=batch_size, verbose=2, class_weight={0: weight_for_0, 1: weight_for_1})\n",
    "    print(\"Model training finished\")\n",
    "    test_loss, test_auc = model.evaluate(test_dataset, verbose=2)\n",
    "    print(f\"Test ROC AUC: {round(test_auc * 100, 2)}%\")\n",
    "    test_pred = model.predict(test_dataset, verbose=2).ravel()\n",
    "    return history, y_true, test_pred, test_auc"
   ]
  },
  {
   "cell_type": "markdown",
   "metadata": {},
   "source": [
    "# Create model inputs"
   ]
  },
  {
   "cell_type": "code",
   "execution_count": 71,
   "metadata": {},
   "outputs": [],
   "source": [
    "from collections import OrderedDict\n",
    "\n",
    "def create_model_inputs():\n",
    "    inputs=OrderedDict() \n",
    "    # If the dictionary is ordered, the Model will not sort the dictionary so it can read in the inputs correctly\n",
    "    for feature_name in FEATURE_NAMES:\n",
    "        if feature_name in CATEGORICAL_FEATURE_NAMES:\n",
    "            inputs[feature_name] = Input(shape=(), dtype=\"int64\", name=feature_name)\n",
    "        else:\n",
    "            inputs[feature_name] = Input(shape=(), dtype=\"float32\", name=feature_name)\n",
    "    return inputs"
   ]
  },
  {
   "cell_type": "markdown",
   "metadata": {},
   "source": [
    "# Encode features"
   ]
  },
  {
   "cell_type": "code",
   "execution_count": 72,
   "metadata": {},
   "outputs": [],
   "source": [
    "def encode_inputs(inputs, embedding_dims):\n",
    "    encoded_categorical_feature_list = []\n",
    "    numerical_feature_list = []\n",
    "    for feature_name in inputs:\n",
    "        if feature_name in CATEGORICAL_FEATURE_NAMES:\n",
    "            vocabulary = CATEGORICAL_FEATURES_WITH_VOCABULARY[feature_name]\n",
    "            embedding = Embedding(input_dim=len(vocabulary), output_dim=embedding_dims)\n",
    "            encoded_categorical_feature = embedding(inputs[feature_name]) # shape:(None, embedding_dims)\n",
    "            encoded_categorical_feature_list.append(encoded_categorical_feature)\n",
    "        else:\n",
    "            numerical_feature = ops.expand_dims(inputs[feature_name], axis=-1) # shape:(None, 1)\n",
    "            numerical_feature_list.append(numerical_feature)\n",
    "    return encoded_categorical_feature_list, numerical_feature_list"
   ]
  },
  {
   "cell_type": "markdown",
   "metadata": {},
   "source": [
    "# Implement an MLP block"
   ]
  },
  {
   "cell_type": "code",
   "execution_count": 73,
   "metadata": {},
   "outputs": [],
   "source": [
    "def create_mlp(input, hidden_units, dropout_rate, activation, normalization_layer, name=None):\n",
    "    inputs = Input(shape=input.shape[1:])\n",
    "    x = inputs\n",
    "    for units in hidden_units:\n",
    "        x = normalization_layer()(x)\n",
    "        x = Dense(units, activation=activation)(x)\n",
    "        x = Dropout(dropout_rate)(x)\n",
    "    outputs = x\n",
    "    model = Model(inputs=inputs, outputs=outputs)\n",
    "    return model"
   ]
  },
  {
   "cell_type": "markdown",
   "metadata": {},
   "source": [
    "# Implement the TabTransformer classifier"
   ]
  },
  {
   "cell_type": "markdown",
   "metadata": {},
   "source": [
    "1. All the categorical features are encoded as embeddings, using the same embedding_dims. This means that each value in each categorical feature will have its own embedding vector.\n",
    "2. A column embedding, one embedding vector for each categorical feature, is added (point-wise) to the categorical feature embedding.\n",
    "3. The embedded categorical features are fed into a stack of Transformer blocks. Each Transformer block consists of a multi-head self-attention layer followed by a feed-forward layer.\n",
    "4. The outputs of the final Transformer layer, which are the contextual embeddings of the categorical features, are concatenated with the input numerical features, and fed into a final MLP block.\n",
    "5. A softmax classifer is applied at the end of the model."
   ]
  },
  {
   "cell_type": "code",
   "execution_count": 74,
   "metadata": {},
   "outputs": [
    {
     "name": "stdout",
     "output_type": "stream",
     "text": [
      "Total model weights: 556151\n",
      "You must install graphviz (see instructions at https://graphviz.gitlab.io/download/) for `plot_model` to work.\n"
     ]
    }
   ],
   "source": [
    "def create_tabtransformer_classifier(num_transformer_blocks, num_heads, embedding_dims, mlp_hidden_units_factors, dropout_rate, use_column_embedding=False):\n",
    "    # Create model inputs\n",
    "    inputs = create_model_inputs()\n",
    "    # Encode features\n",
    "    encoded_categorical_feature_list, numerical_feature_list = encode_inputs(inputs, embedding_dims)\n",
    "    # Stack categorical feature embeddings for the Transformer\n",
    "    encoded_categorical_features = ops.stack(encoded_categorical_feature_list, axis=1) # shape:(None, num_cat_cols, embedding_dims)\n",
    "    # Concatenate numerical features\n",
    "    numerical_features = layers.concatenate(numerical_feature_list) # shape: (None, num_numerical_cols)\n",
    "    # Add column embedding to categorical feature embeddings\n",
    "    if use_column_embedding:\n",
    "        num_cat_columns = encoded_categorical_features.shape[1]\n",
    "        column_embedding = Embedding(input_dim=num_cat_columns, output_dim=embedding_dims)\n",
    "        column_indices = ops.arange(start=0, stop=num_cat_columns, step=1)\n",
    "        encoded_categorical_features = encoded_categorical_features + column_embedding(column_indices) # shape: (None, num_cat_cols, embedding_dims)\n",
    "    \n",
    "    # Create multiple layers of the Transformer block\n",
    "    for block_idx in range(num_transformer_blocks):\n",
    "        # Create a multi-head attention layer\n",
    "        attention_output = MultiHeadAttention(num_heads=num_heads, key_dim=embedding_dims, dropout=dropout_rate, name=f\"multihead_attention_{block_idx}\")(encoded_categorical_features, encoded_categorical_features) # shape: (None, num_cat_cols, embedding_dims)\n",
    "        # Skip connection 1\n",
    "        x = layers.Add(name=f\"skip_connection1_{block_idx}\")([attention_output, encoded_categorical_features]) # shape: (None, num_cat_cols, embedding_dims)\n",
    "        # Layer normalization 1\n",
    "        x = layers.LayerNormalization(name=f\"layer_norm1_{block_idx}\", epsilon=1e-6)(x)\n",
    "        # Feedforward\n",
    "        feedforward_output = create_mlp(input=x, hidden_units=[embedding_dims], dropout_rate=dropout_rate, activation=keras.activations.gelu, normalization_layer=layers.LayerNormalization, name=f\"feedforward_{block_idx}\")(x) # Using partial to provide keyword arguments before initialization\n",
    "        # normalization_layer=partial(layers.LayerNormalization, epsilon=1e-6)\n",
    "        # Skip connection 2\n",
    "        x = layers.Add(name=f\"skip_connection2_{block_idx}\")([feedforward_output, x])\n",
    "        # Layer normalization 2\n",
    "        encoded_categorical_features = layers.LayerNormalization(name=f\"layer_norm2_{block_idx}\", epsilon=1e-6)(x)\n",
    "    \n",
    "    # Flatten the \"contextualized\" embeddings of the categorical features\n",
    "    categorical_features = layers.Flatten()(encoded_categorical_features) # shape: (None, num_cat_cols*embedding_dims)\n",
    "    # Apply layer normalization to the numerical features\n",
    "    numerical_features = layers.LayerNormalization(epsilon=1e-6)(numerical_features)\n",
    "    # Prepare the input for the final MLP block\n",
    "    features = layers.concatenate([categorical_features, numerical_features]) # shape: (None,  num_cat_cols*embedding_dims+num_numerical_cols)\n",
    "\n",
    "    # Compute MLP hidden units\n",
    "    mlp_hidden_units = [factor*features.shape[-1] for factor in mlp_hidden_units_factors]\n",
    "    # Create final MLP\n",
    "    features = create_mlp(input=features, hidden_units=mlp_hidden_units, dropout_rate=dropout_rate, activation=keras.activations.selu, normalization_layer=layers.BatchNormalization, name=\"MLP\")(features) # shape: (None,  num_cat_cols*embedding_dims+num_numerical_cols)\n",
    "\n",
    "    # Add a sigmoid as a binary classifier\n",
    "    outputs = Dense(1, \"sigmoid\", name=\"sigmoid\")(features)\n",
    "    model = Model(inputs, outputs)\n",
    "    return model\n",
    "\n",
    "tabtransformer_model = create_tabtransformer_classifier(NUM_TRANSFORMER_BLOCKS, NUM_HEADS, EMBEDDING_DIMS, MLP_HIDDEN_UNITS_FACTORS, DROPOUT_RATE, True)\n",
    "print(\"Total model weights:\", tabtransformer_model.count_params())\n",
    "keras.utils.plot_model(tabtransformer_model, show_shapes=True, rankdir=\"LR\")"
   ]
  },
  {
   "cell_type": "markdown",
   "metadata": {},
   "source": [
    "# Training and evaluation"
   ]
  },
  {
   "cell_type": "code",
   "execution_count": 75,
   "metadata": {},
   "outputs": [
    {
     "name": "stdout",
     "output_type": "stream",
     "text": [
      "Start training the model...\n",
      "Epoch 1/14\n"
     ]
    },
    {
     "name": "stderr",
     "output_type": "stream",
     "text": [
      "c:\\Users\\Stacy\\anaconda\\envs\\dsa4262_pcos\\Lib\\site-packages\\keras\\src\\trainers\\epoch_iterator.py:151: UserWarning: Your input ran out of data; interrupting training. Make sure that your dataset or generator can generate at least `steps_per_epoch * epochs` batches. You may need to use the `.repeat()` function when building your dataset.\n",
      "  self._interrupted_warning()\n"
     ]
    },
    {
     "name": "stdout",
     "output_type": "stream",
     "text": [
      "5/5 - 9s - 2s/step - auc_2: 0.8020 - loss: 0.0042 - val_auc_2: 0.8699 - val_loss: 0.5326\n",
      "Epoch 2/14\n",
      "5/5 - 0s - 27ms/step - auc_2: 0.8726 - loss: 0.0037 - val_auc_2: 0.8309 - val_loss: 0.6025\n",
      "Epoch 3/14\n",
      "5/5 - 0s - 25ms/step - auc_2: 0.8519 - loss: 0.0024 - val_auc_2: 0.8621 - val_loss: 0.4675\n",
      "Epoch 4/14\n",
      "5/5 - 0s - 25ms/step - auc_2: 0.8943 - loss: 0.0018 - val_auc_2: 0.9144 - val_loss: 0.3529\n",
      "Epoch 5/14\n",
      "5/5 - 0s - 24ms/step - auc_2: 0.8858 - loss: 0.0017 - val_auc_2: 0.9026 - val_loss: 0.4437\n",
      "Epoch 6/14\n",
      "5/5 - 0s - 25ms/step - auc_2: 0.8955 - loss: 0.0017 - val_auc_2: 0.8848 - val_loss: 0.5307\n",
      "Epoch 7/14\n",
      "5/5 - 0s - 23ms/step - auc_2: 0.9133 - loss: 0.0014 - val_auc_2: 0.9122 - val_loss: 0.6083\n",
      "Epoch 8/14\n",
      "5/5 - 0s - 24ms/step - auc_2: 0.8962 - loss: 0.0015 - val_auc_2: 0.9071 - val_loss: 0.5219\n",
      "Epoch 9/14\n",
      "5/5 - 0s - 23ms/step - auc_2: 0.9264 - loss: 0.0012 - val_auc_2: 0.9103 - val_loss: 0.4061\n",
      "Epoch 10/14\n",
      "5/5 - 0s - 28ms/step - auc_2: 0.9488 - loss: 0.0010 - val_auc_2: 0.9175 - val_loss: 0.3488\n",
      "Epoch 11/14\n",
      "5/5 - 0s - 54ms/step - auc_2: 0.9339 - loss: 0.0012 - val_auc_2: 0.9077 - val_loss: 0.3654\n",
      "Epoch 12/14\n",
      "5/5 - 0s - 44ms/step - auc_2: 0.9320 - loss: 0.0011 - val_auc_2: 0.9105 - val_loss: 0.3685\n",
      "Epoch 13/14\n",
      "5/5 - 0s - 39ms/step - auc_2: 0.9563 - loss: 9.2919e-04 - val_auc_2: 0.9183 - val_loss: 0.3515\n",
      "Epoch 14/14\n",
      "5/5 - 0s - 44ms/step - auc_2: 0.9601 - loss: 8.9846e-04 - val_auc_2: 0.9234 - val_loss: 0.3291\n",
      "Model training finished\n",
      "2/2 - 0s - 17ms/step - auc_2: 0.9177 - loss: 0.3549\n",
      "Test ROC AUC: 91.77%\n",
      "WARNING:tensorflow:5 out of the last 5 calls to <function TensorFlowTrainer.make_predict_function.<locals>.one_step_on_data_distributed at 0x000001B3FFCB6200> triggered tf.function retracing. Tracing is expensive and the excessive number of tracings could be due to (1) creating @tf.function repeatedly in a loop, (2) passing tensors with different shapes, (3) passing Python objects instead of tensors. For (1), please define your @tf.function outside of the loop. For (2), @tf.function has reduce_retracing=True option that can avoid unnecessary retracing. For (3), please refer to https://www.tensorflow.org/guide/function#controlling_retracing and https://www.tensorflow.org/api_docs/python/tf/function for  more details.\n",
      "WARNING:tensorflow:6 out of the last 6 calls to <function TensorFlowTrainer.make_predict_function.<locals>.one_step_on_data_distributed at 0x000001B3FFCB6200> triggered tf.function retracing. Tracing is expensive and the excessive number of tracings could be due to (1) creating @tf.function repeatedly in a loop, (2) passing tensors with different shapes, (3) passing Python objects instead of tensors. For (1), please define your @tf.function outside of the loop. For (2), @tf.function has reduce_retracing=True option that can avoid unnecessary retracing. For (3), please refer to https://www.tensorflow.org/guide/function#controlling_retracing and https://www.tensorflow.org/api_docs/python/tf/function for  more details.\n",
      "2/2 - 2s - 773ms/step\n"
     ]
    }
   ],
   "source": [
    "history, y_true, y_pred, test_auc = run_experiment(tabtransformer_model, TRAIN_DATA_FILE, VAL_DATA_FILE, TEST_DATA_FILE, LEARNING_RATE, WEIGHT_DECAY, BATCH_SIZE, NUM_EPOCHS, weight_for_0, weight_for_1)"
   ]
  },
  {
   "cell_type": "code",
   "execution_count": 76,
   "metadata": {},
   "outputs": [
    {
     "data": {
      "image/png": "[encoded data removed]",
      "text/plain": [
       "<Figure size 640x480 with 1 Axes>"
      ]
     },
     "metadata": {},
     "output_type": "display_data"
    },
    {
     "data": {
      "image/png": "[encoded data removed]",
      "text/plain": [
       "<Figure size 640x480 with 1 Axes>"
      ]
     },
     "metadata": {},
     "output_type": "display_data"
    }
   ],
   "source": [
    "history_keys = list(history.history.keys())\n",
    "\n",
    "# summarize history for roc auc\n",
    "plt.plot(history.history[history_keys[0]])\n",
    "plt.plot(history.history[history_keys[2]])\n",
    "plt.title('model roc auc')\n",
    "plt.ylabel('roc auc')\n",
    "plt.xlabel('epoch')\n",
    "plt.legend(['train', 'validation'], loc='upper left')\n",
    "plt.show()\n",
    "\n",
    "# summarize history for loss\n",
    "plt.plot(history.history[history_keys[1]])\n",
    "plt.plot(history.history[history_keys[3]])\n",
    "plt.title('model loss')\n",
    "plt.ylabel('loss')\n",
    "plt.xlabel('epoch')\n",
    "plt.legend(['train', 'validation'], loc='upper left')\n",
    "plt.show()"
   ]
  },
  {
   "cell_type": "code",
   "execution_count": 77,
   "metadata": {},
   "outputs": [
    {
     "data": {
      "image/png": "[encoded data removed]",
      "text/plain": [
       "<Figure size 640x480 with 1 Axes>"
      ]
     },
     "metadata": {},
     "output_type": "display_data"
    }
   ],
   "source": [
    "from sklearn.metrics import roc_curve\n",
    "import matplotlib.pyplot as plt\n",
    "\n",
    "fpr, tpr, thresholds = roc_curve(y_true, y_pred)\n",
    "plt.figure(1)\n",
    "plt.plot([0, 1], [0, 1], 'k--')\n",
    "plt.plot(fpr, tpr, label='MLP AUC: {:.3f}'.format(test_auc))\n",
    "plt.xlabel('False positive rate')\n",
    "plt.ylabel('True positive rate')\n",
    "plt.title('ROC curve')\n",
    "plt.legend(loc='best')\n",
    "plt.show()"
   ]
  },
  {
   "cell_type": "markdown",
   "metadata": {},
   "source": [
    "## Finding the best threshold"
   ]
  },
  {
   "cell_type": "code",
   "execution_count": 78,
   "metadata": {},
   "outputs": [
    {
     "name": "stdout",
     "output_type": "stream",
     "text": [
      "Best threshold: 0.5265023708343506\n"
     ]
    }
   ],
   "source": [
    "# This method minimizes the distance to the top-left corner of the ROC space.\n",
    "distances = np.sqrt((1 - tpr) ** 2 + fpr ** 2)\n",
    "best_thresh = thresholds[np.argmin(distances)]\n",
    "print(f\"Best threshold: {best_thresh}\")"
   ]
  },
  {
   "cell_type": "code",
   "execution_count": 79,
   "metadata": {},
   "outputs": [
    {
     "name": "stdout",
     "output_type": "stream",
     "text": [
      "Precision: 0.91\n",
      "Recall: 0.89\n",
      "Specificity: 0.83\n",
      "Sensitivity: 0.89\n"
     ]
    },
    {
     "data": {
      "image/png": "[encoded data removed]",
      "text/plain": [
       "<Figure size 500x400 with 2 Axes>"
      ]
     },
     "metadata": {},
     "output_type": "display_data"
    },
    {
     "name": "stdout",
     "output_type": "stream",
     "text": [
      "              precision    recall  f1-score   support\n",
      "\n",
      "           0       0.78      0.83      0.81        35\n",
      "           1       0.91      0.89      0.90        71\n",
      "\n",
      "    accuracy                           0.87       106\n",
      "   macro avg       0.85      0.86      0.85       106\n",
      "weighted avg       0.87      0.87      0.87       106\n",
      "\n"
     ]
    }
   ],
   "source": [
    "from sklearn.metrics import precision_score, recall_score, classification_report, confusion_matrix\n",
    "import seaborn as sns\n",
    "\n",
    "y_pred = [1 if prob>=best_thresh else 0 for prob in y_pred]\n",
    "\n",
    "# Compute Precision and Recall\n",
    "precision = precision_score(y_true, y_pred)\n",
    "recall = recall_score(y_true, y_pred)\n",
    "\n",
    "print(f'Precision: {precision:.2f}')\n",
    "print(f'Recall: {recall:.2f}')\n",
    "\n",
    "# Compute Sensitivity and Specificity\n",
    "specificity = recall_score(y_true, y_pred, pos_label=0)\n",
    "\n",
    "print(f'Specificity: {specificity:.2f}')\n",
    "print(f'Sensitivity: {recall:.2f}')\n",
    "\n",
    "# Visualise the confusion matrix\n",
    "cm = confusion_matrix(y_true, y_pred)\n",
    "labels = [\"True Negatives (TN)\", \"False Positives (FP)\", \"False Negatives (FN)\", \"True Positives (TP)\"]\n",
    "\n",
    "# Plot confusion matrix\n",
    "plt.figure(figsize=(5, 4))\n",
    "sns.heatmap(cm, annot=True, fmt='d', cmap='Blues', xticklabels=[\"Pred 0\", \"Pred 1\"], yticklabels=[\"Actual 0\", \"Actual 1\"])\n",
    "plt.xlabel(\"Predicted Labels\")\n",
    "plt.ylabel(\"Actual Labels\")\n",
    "plt.title(\"Confusion Matrix\")\n",
    "plt.show()\n",
    "\n",
    "\n",
    "# Visualise the classification report\n",
    "report = classification_report(y_true, y_pred)\n",
    "print(report)"
   ]
  }
 ],
 "metadata": {
  "kernelspec": {
   "display_name": "dsa4262_pcos",
   "language": "python",
   "name": "python3"
  },
  "language_info": {
   "codemirror_mode": {
    "name": "ipython",
    "version": 3
   },
   "file_extension": ".py",
   "mimetype": "text/x-python",
   "name": "python",
   "nbconvert_exporter": "python",
   "pygments_lexer": "ipython3",
   "version": "3.11.11"
  }
 },
 "nbformat": 4,
 "nbformat_minor": 2
}
