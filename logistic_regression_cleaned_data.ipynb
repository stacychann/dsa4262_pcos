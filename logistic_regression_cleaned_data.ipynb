{
 "cells": [
  {
   "cell_type": "code",
   "execution_count": 29,
   "metadata": {},
   "outputs": [],
   "source": [
    "import numpy as np\n",
    "import matplotlib.pyplot as plt\n",
    "import pandas as pd\n",
    "import seaborn as sns\n",
    "from sklearn.linear_model import LogisticRegression\n",
    "from sklearn.model_selection import train_test_split, cross_val_score, KFold, GridSearchCV\n",
    "from sklearn.metrics import accuracy_score, roc_auc_score, classification_report, confusion_matrix\n",
    "from sklearn.metrics import precision_score, recall_score, f1_score\n",
    "from sklearn.preprocessing import StandardScaler\n",
    "from imblearn.over_sampling import SMOTE  # Handling class imbalance\n",
    "\n",
    "import warnings #to remove the warnings\n",
    "warnings.filterwarnings('ignore')"
   ]
  },
  {
   "cell_type": "code",
   "execution_count": 2,
   "metadata": {},
   "outputs": [
    {
     "name": "stdout",
     "output_type": "stream",
     "text": [
      "(529, 44)\n"
     ]
    },
    {
     "data": {
      "text/html": [
       "<div>\n",
       "<style scoped>\n",
       "    .dataframe tbody tr th:only-of-type {\n",
       "        vertical-align: middle;\n",
       "    }\n",
       "\n",
       "    .dataframe tbody tr th {\n",
       "        vertical-align: top;\n",
       "    }\n",
       "\n",
       "    .dataframe thead th {\n",
       "        text-align: right;\n",
       "    }\n",
       "</style>\n",
       "<table border=\"1\" class=\"dataframe\">\n",
       "  <thead>\n",
       "    <tr style=\"text-align: right;\">\n",
       "      <th></th>\n",
       "      <th>PCOS (Y/N)</th>\n",
       "      <th>Age (yrs)</th>\n",
       "      <th>BMI</th>\n",
       "      <th>Pulse rate(bpm)</th>\n",
       "      <th>RR (breaths/min)</th>\n",
       "      <th>Hb(g/dl)</th>\n",
       "      <th>Menstrual Cycle Length(days)</th>\n",
       "      <th>Marriage Status (Yrs)</th>\n",
       "      <th>Pregnant(Y/N)</th>\n",
       "      <th>No. of abortions</th>\n",
       "      <th>...</th>\n",
       "      <th>Blood Group_A+</th>\n",
       "      <th>Blood Group_A-</th>\n",
       "      <th>Blood Group_AB+</th>\n",
       "      <th>Blood Group_AB-</th>\n",
       "      <th>Blood Group_B+</th>\n",
       "      <th>Blood Group_B-</th>\n",
       "      <th>Blood Group_O+</th>\n",
       "      <th>Blood Group_O-</th>\n",
       "      <th>Menstrual Cycle(R/I)_irregular</th>\n",
       "      <th>Menstrual Cycle(R/I)_regular</th>\n",
       "    </tr>\n",
       "  </thead>\n",
       "  <tbody>\n",
       "    <tr>\n",
       "      <th>0</th>\n",
       "      <td>0</td>\n",
       "      <td>28</td>\n",
       "      <td>19.3</td>\n",
       "      <td>78</td>\n",
       "      <td>22</td>\n",
       "      <td>10.48</td>\n",
       "      <td>5</td>\n",
       "      <td>7.0</td>\n",
       "      <td>0</td>\n",
       "      <td>0</td>\n",
       "      <td>...</td>\n",
       "      <td>0.0</td>\n",
       "      <td>0.0</td>\n",
       "      <td>0.0</td>\n",
       "      <td>0.0</td>\n",
       "      <td>0.0</td>\n",
       "      <td>0.0</td>\n",
       "      <td>1.0</td>\n",
       "      <td>0.0</td>\n",
       "      <td>0.0</td>\n",
       "      <td>1.0</td>\n",
       "    </tr>\n",
       "    <tr>\n",
       "      <th>1</th>\n",
       "      <td>0</td>\n",
       "      <td>36</td>\n",
       "      <td>24.9</td>\n",
       "      <td>74</td>\n",
       "      <td>20</td>\n",
       "      <td>11.70</td>\n",
       "      <td>5</td>\n",
       "      <td>11.0</td>\n",
       "      <td>1</td>\n",
       "      <td>0</td>\n",
       "      <td>...</td>\n",
       "      <td>0.0</td>\n",
       "      <td>0.0</td>\n",
       "      <td>0.0</td>\n",
       "      <td>0.0</td>\n",
       "      <td>0.0</td>\n",
       "      <td>0.0</td>\n",
       "      <td>1.0</td>\n",
       "      <td>0.0</td>\n",
       "      <td>0.0</td>\n",
       "      <td>1.0</td>\n",
       "    </tr>\n",
       "    <tr>\n",
       "      <th>2</th>\n",
       "      <td>1</td>\n",
       "      <td>33</td>\n",
       "      <td>25.3</td>\n",
       "      <td>72</td>\n",
       "      <td>18</td>\n",
       "      <td>11.80</td>\n",
       "      <td>5</td>\n",
       "      <td>10.0</td>\n",
       "      <td>1</td>\n",
       "      <td>0</td>\n",
       "      <td>...</td>\n",
       "      <td>1.0</td>\n",
       "      <td>0.0</td>\n",
       "      <td>0.0</td>\n",
       "      <td>0.0</td>\n",
       "      <td>0.0</td>\n",
       "      <td>0.0</td>\n",
       "      <td>0.0</td>\n",
       "      <td>0.0</td>\n",
       "      <td>0.0</td>\n",
       "      <td>1.0</td>\n",
       "    </tr>\n",
       "    <tr>\n",
       "      <th>3</th>\n",
       "      <td>0</td>\n",
       "      <td>37</td>\n",
       "      <td>29.7</td>\n",
       "      <td>72</td>\n",
       "      <td>20</td>\n",
       "      <td>12.00</td>\n",
       "      <td>5</td>\n",
       "      <td>4.0</td>\n",
       "      <td>0</td>\n",
       "      <td>0</td>\n",
       "      <td>...</td>\n",
       "      <td>0.0</td>\n",
       "      <td>0.0</td>\n",
       "      <td>0.0</td>\n",
       "      <td>0.0</td>\n",
       "      <td>1.0</td>\n",
       "      <td>0.0</td>\n",
       "      <td>0.0</td>\n",
       "      <td>0.0</td>\n",
       "      <td>0.0</td>\n",
       "      <td>1.0</td>\n",
       "    </tr>\n",
       "    <tr>\n",
       "      <th>4</th>\n",
       "      <td>0</td>\n",
       "      <td>25</td>\n",
       "      <td>20.1</td>\n",
       "      <td>72</td>\n",
       "      <td>18</td>\n",
       "      <td>10.00</td>\n",
       "      <td>5</td>\n",
       "      <td>1.0</td>\n",
       "      <td>1</td>\n",
       "      <td>0</td>\n",
       "      <td>...</td>\n",
       "      <td>1.0</td>\n",
       "      <td>0.0</td>\n",
       "      <td>0.0</td>\n",
       "      <td>0.0</td>\n",
       "      <td>0.0</td>\n",
       "      <td>0.0</td>\n",
       "      <td>0.0</td>\n",
       "      <td>0.0</td>\n",
       "      <td>0.0</td>\n",
       "      <td>1.0</td>\n",
       "    </tr>\n",
       "  </tbody>\n",
       "</table>\n",
       "<p>5 rows × 44 columns</p>\n",
       "</div>"
      ],
      "text/plain": [
       "   PCOS (Y/N)  Age (yrs)   BMI  Pulse rate(bpm)  RR (breaths/min)  Hb(g/dl)  \\\n",
       "0           0         28  19.3               78                22     10.48   \n",
       "1           0         36  24.9               74                20     11.70   \n",
       "2           1         33  25.3               72                18     11.80   \n",
       "3           0         37  29.7               72                20     12.00   \n",
       "4           0         25  20.1               72                18     10.00   \n",
       "\n",
       "   Menstrual Cycle Length(days)  Marriage Status (Yrs)  Pregnant(Y/N)  \\\n",
       "0                             5                    7.0              0   \n",
       "1                             5                   11.0              1   \n",
       "2                             5                   10.0              1   \n",
       "3                             5                    4.0              0   \n",
       "4                             5                    1.0              1   \n",
       "\n",
       "   No. of abortions  ...  Blood Group_A+  Blood Group_A-  Blood Group_AB+  \\\n",
       "0                 0  ...             0.0             0.0              0.0   \n",
       "1                 0  ...             0.0             0.0              0.0   \n",
       "2                 0  ...             1.0             0.0              0.0   \n",
       "3                 0  ...             0.0             0.0              0.0   \n",
       "4                 0  ...             1.0             0.0              0.0   \n",
       "\n",
       "   Blood Group_AB-  Blood Group_B+  Blood Group_B-  Blood Group_O+  \\\n",
       "0              0.0             0.0             0.0             1.0   \n",
       "1              0.0             0.0             0.0             1.0   \n",
       "2              0.0             0.0             0.0             0.0   \n",
       "3              0.0             1.0             0.0             0.0   \n",
       "4              0.0             0.0             0.0             0.0   \n",
       "\n",
       "   Blood Group_O-  Menstrual Cycle(R/I)_irregular  \\\n",
       "0             0.0                             0.0   \n",
       "1             0.0                             0.0   \n",
       "2             0.0                             0.0   \n",
       "3             0.0                             0.0   \n",
       "4             0.0                             0.0   \n",
       "\n",
       "   Menstrual Cycle(R/I)_regular  \n",
       "0                           1.0  \n",
       "1                           1.0  \n",
       "2                           1.0  \n",
       "3                           1.0  \n",
       "4                           1.0  \n",
       "\n",
       "[5 rows x 44 columns]"
      ]
     },
     "execution_count": 2,
     "metadata": {},
     "output_type": "execute_result"
    }
   ],
   "source": [
    "data = pd.read_csv(\"cleaned_data.csv\")\n",
    "df = data.copy()\n",
    "print(df.shape)\n",
    "df.head()"
   ]
  },
  {
   "cell_type": "code",
   "execution_count": 3,
   "metadata": {},
   "outputs": [
    {
     "data": {
      "text/html": [
       "<div>\n",
       "<style scoped>\n",
       "    .dataframe tbody tr th:only-of-type {\n",
       "        vertical-align: middle;\n",
       "    }\n",
       "\n",
       "    .dataframe tbody tr th {\n",
       "        vertical-align: top;\n",
       "    }\n",
       "\n",
       "    .dataframe thead th {\n",
       "        text-align: right;\n",
       "    }\n",
       "</style>\n",
       "<table border=\"1\" class=\"dataframe\">\n",
       "  <thead>\n",
       "    <tr style=\"text-align: right;\">\n",
       "      <th></th>\n",
       "      <th>PCOS (Y/N)</th>\n",
       "      <th>Age (yrs)</th>\n",
       "      <th>BMI</th>\n",
       "      <th>Pulse rate(bpm)</th>\n",
       "      <th>RR (breaths/min)</th>\n",
       "      <th>Hb(g/dl)</th>\n",
       "      <th>Menstrual Cycle Length(days)</th>\n",
       "      <th>Marriage Status (Yrs)</th>\n",
       "      <th>Pregnant(Y/N)</th>\n",
       "      <th>No. of abortions</th>\n",
       "      <th>...</th>\n",
       "      <th>Blood Group_A+</th>\n",
       "      <th>Blood Group_A-</th>\n",
       "      <th>Blood Group_AB+</th>\n",
       "      <th>Blood Group_AB-</th>\n",
       "      <th>Blood Group_B+</th>\n",
       "      <th>Blood Group_B-</th>\n",
       "      <th>Blood Group_O+</th>\n",
       "      <th>Blood Group_O-</th>\n",
       "      <th>Menstrual Cycle(R/I)_irregular</th>\n",
       "      <th>Menstrual Cycle(R/I)_regular</th>\n",
       "    </tr>\n",
       "  </thead>\n",
       "  <tbody>\n",
       "    <tr>\n",
       "      <th>count</th>\n",
       "      <td>529.000000</td>\n",
       "      <td>529.000000</td>\n",
       "      <td>529.00000</td>\n",
       "      <td>529.000000</td>\n",
       "      <td>529.000000</td>\n",
       "      <td>529.000000</td>\n",
       "      <td>529.000000</td>\n",
       "      <td>529.000000</td>\n",
       "      <td>529.000000</td>\n",
       "      <td>529.000000</td>\n",
       "      <td>...</td>\n",
       "      <td>529.000000</td>\n",
       "      <td>529.000000</td>\n",
       "      <td>529.000000</td>\n",
       "      <td>529.000000</td>\n",
       "      <td>529.000000</td>\n",
       "      <td>529.000000</td>\n",
       "      <td>529.000000</td>\n",
       "      <td>529.000000</td>\n",
       "      <td>529.000000</td>\n",
       "      <td>529.000000</td>\n",
       "    </tr>\n",
       "    <tr>\n",
       "      <th>mean</th>\n",
       "      <td>0.323251</td>\n",
       "      <td>31.425331</td>\n",
       "      <td>24.32344</td>\n",
       "      <td>73.474480</td>\n",
       "      <td>19.238185</td>\n",
       "      <td>11.152136</td>\n",
       "      <td>4.937618</td>\n",
       "      <td>7.651607</td>\n",
       "      <td>0.387524</td>\n",
       "      <td>0.283554</td>\n",
       "      <td>...</td>\n",
       "      <td>0.200378</td>\n",
       "      <td>0.024575</td>\n",
       "      <td>0.077505</td>\n",
       "      <td>0.003781</td>\n",
       "      <td>0.245747</td>\n",
       "      <td>0.030246</td>\n",
       "      <td>0.381853</td>\n",
       "      <td>0.035917</td>\n",
       "      <td>0.275992</td>\n",
       "      <td>0.724008</td>\n",
       "    </tr>\n",
       "    <tr>\n",
       "      <th>std</th>\n",
       "      <td>0.468161</td>\n",
       "      <td>5.430222</td>\n",
       "      <td>4.08396</td>\n",
       "      <td>2.709378</td>\n",
       "      <td>1.697809</td>\n",
       "      <td>0.866512</td>\n",
       "      <td>1.498068</td>\n",
       "      <td>4.801196</td>\n",
       "      <td>0.487646</td>\n",
       "      <td>0.684607</td>\n",
       "      <td>...</td>\n",
       "      <td>0.400662</td>\n",
       "      <td>0.154971</td>\n",
       "      <td>0.267644</td>\n",
       "      <td>0.061429</td>\n",
       "      <td>0.430937</td>\n",
       "      <td>0.171425</td>\n",
       "      <td>0.486301</td>\n",
       "      <td>0.186259</td>\n",
       "      <td>0.447436</td>\n",
       "      <td>0.447436</td>\n",
       "    </tr>\n",
       "    <tr>\n",
       "      <th>min</th>\n",
       "      <td>0.000000</td>\n",
       "      <td>20.000000</td>\n",
       "      <td>12.40000</td>\n",
       "      <td>70.000000</td>\n",
       "      <td>16.000000</td>\n",
       "      <td>8.500000</td>\n",
       "      <td>0.000000</td>\n",
       "      <td>0.000000</td>\n",
       "      <td>0.000000</td>\n",
       "      <td>0.000000</td>\n",
       "      <td>...</td>\n",
       "      <td>0.000000</td>\n",
       "      <td>0.000000</td>\n",
       "      <td>0.000000</td>\n",
       "      <td>0.000000</td>\n",
       "      <td>0.000000</td>\n",
       "      <td>0.000000</td>\n",
       "      <td>0.000000</td>\n",
       "      <td>0.000000</td>\n",
       "      <td>0.000000</td>\n",
       "      <td>0.000000</td>\n",
       "    </tr>\n",
       "    <tr>\n",
       "      <th>25%</th>\n",
       "      <td>0.000000</td>\n",
       "      <td>27.000000</td>\n",
       "      <td>21.60000</td>\n",
       "      <td>72.000000</td>\n",
       "      <td>18.000000</td>\n",
       "      <td>10.500000</td>\n",
       "      <td>5.000000</td>\n",
       "      <td>4.000000</td>\n",
       "      <td>0.000000</td>\n",
       "      <td>0.000000</td>\n",
       "      <td>...</td>\n",
       "      <td>0.000000</td>\n",
       "      <td>0.000000</td>\n",
       "      <td>0.000000</td>\n",
       "      <td>0.000000</td>\n",
       "      <td>0.000000</td>\n",
       "      <td>0.000000</td>\n",
       "      <td>0.000000</td>\n",
       "      <td>0.000000</td>\n",
       "      <td>0.000000</td>\n",
       "      <td>0.000000</td>\n",
       "    </tr>\n",
       "    <tr>\n",
       "      <th>50%</th>\n",
       "      <td>0.000000</td>\n",
       "      <td>31.000000</td>\n",
       "      <td>24.20000</td>\n",
       "      <td>72.000000</td>\n",
       "      <td>18.000000</td>\n",
       "      <td>11.000000</td>\n",
       "      <td>5.000000</td>\n",
       "      <td>7.000000</td>\n",
       "      <td>0.000000</td>\n",
       "      <td>0.000000</td>\n",
       "      <td>...</td>\n",
       "      <td>0.000000</td>\n",
       "      <td>0.000000</td>\n",
       "      <td>0.000000</td>\n",
       "      <td>0.000000</td>\n",
       "      <td>0.000000</td>\n",
       "      <td>0.000000</td>\n",
       "      <td>0.000000</td>\n",
       "      <td>0.000000</td>\n",
       "      <td>0.000000</td>\n",
       "      <td>1.000000</td>\n",
       "    </tr>\n",
       "    <tr>\n",
       "      <th>75%</th>\n",
       "      <td>1.000000</td>\n",
       "      <td>35.000000</td>\n",
       "      <td>26.70000</td>\n",
       "      <td>74.000000</td>\n",
       "      <td>20.000000</td>\n",
       "      <td>11.700000</td>\n",
       "      <td>5.000000</td>\n",
       "      <td>10.000000</td>\n",
       "      <td>1.000000</td>\n",
       "      <td>0.000000</td>\n",
       "      <td>...</td>\n",
       "      <td>0.000000</td>\n",
       "      <td>0.000000</td>\n",
       "      <td>0.000000</td>\n",
       "      <td>0.000000</td>\n",
       "      <td>0.000000</td>\n",
       "      <td>0.000000</td>\n",
       "      <td>1.000000</td>\n",
       "      <td>0.000000</td>\n",
       "      <td>1.000000</td>\n",
       "      <td>1.000000</td>\n",
       "    </tr>\n",
       "    <tr>\n",
       "      <th>max</th>\n",
       "      <td>1.000000</td>\n",
       "      <td>48.000000</td>\n",
       "      <td>38.90000</td>\n",
       "      <td>82.000000</td>\n",
       "      <td>28.000000</td>\n",
       "      <td>14.800000</td>\n",
       "      <td>12.000000</td>\n",
       "      <td>30.000000</td>\n",
       "      <td>1.000000</td>\n",
       "      <td>5.000000</td>\n",
       "      <td>...</td>\n",
       "      <td>1.000000</td>\n",
       "      <td>1.000000</td>\n",
       "      <td>1.000000</td>\n",
       "      <td>1.000000</td>\n",
       "      <td>1.000000</td>\n",
       "      <td>1.000000</td>\n",
       "      <td>1.000000</td>\n",
       "      <td>1.000000</td>\n",
       "      <td>1.000000</td>\n",
       "      <td>1.000000</td>\n",
       "    </tr>\n",
       "  </tbody>\n",
       "</table>\n",
       "<p>8 rows × 44 columns</p>\n",
       "</div>"
      ],
      "text/plain": [
       "       PCOS (Y/N)   Age (yrs)        BMI  Pulse rate(bpm)  RR (breaths/min)  \\\n",
       "count  529.000000  529.000000  529.00000       529.000000        529.000000   \n",
       "mean     0.323251   31.425331   24.32344        73.474480         19.238185   \n",
       "std      0.468161    5.430222    4.08396         2.709378          1.697809   \n",
       "min      0.000000   20.000000   12.40000        70.000000         16.000000   \n",
       "25%      0.000000   27.000000   21.60000        72.000000         18.000000   \n",
       "50%      0.000000   31.000000   24.20000        72.000000         18.000000   \n",
       "75%      1.000000   35.000000   26.70000        74.000000         20.000000   \n",
       "max      1.000000   48.000000   38.90000        82.000000         28.000000   \n",
       "\n",
       "         Hb(g/dl)  Menstrual Cycle Length(days)  Marriage Status (Yrs)  \\\n",
       "count  529.000000                    529.000000             529.000000   \n",
       "mean    11.152136                      4.937618               7.651607   \n",
       "std      0.866512                      1.498068               4.801196   \n",
       "min      8.500000                      0.000000               0.000000   \n",
       "25%     10.500000                      5.000000               4.000000   \n",
       "50%     11.000000                      5.000000               7.000000   \n",
       "75%     11.700000                      5.000000              10.000000   \n",
       "max     14.800000                     12.000000              30.000000   \n",
       "\n",
       "       Pregnant(Y/N)  No. of abortions  ...  Blood Group_A+  Blood Group_A-  \\\n",
       "count     529.000000        529.000000  ...      529.000000      529.000000   \n",
       "mean        0.387524          0.283554  ...        0.200378        0.024575   \n",
       "std         0.487646          0.684607  ...        0.400662        0.154971   \n",
       "min         0.000000          0.000000  ...        0.000000        0.000000   \n",
       "25%         0.000000          0.000000  ...        0.000000        0.000000   \n",
       "50%         0.000000          0.000000  ...        0.000000        0.000000   \n",
       "75%         1.000000          0.000000  ...        0.000000        0.000000   \n",
       "max         1.000000          5.000000  ...        1.000000        1.000000   \n",
       "\n",
       "       Blood Group_AB+  Blood Group_AB-  Blood Group_B+  Blood Group_B-  \\\n",
       "count       529.000000       529.000000      529.000000      529.000000   \n",
       "mean          0.077505         0.003781        0.245747        0.030246   \n",
       "std           0.267644         0.061429        0.430937        0.171425   \n",
       "min           0.000000         0.000000        0.000000        0.000000   \n",
       "25%           0.000000         0.000000        0.000000        0.000000   \n",
       "50%           0.000000         0.000000        0.000000        0.000000   \n",
       "75%           0.000000         0.000000        0.000000        0.000000   \n",
       "max           1.000000         1.000000        1.000000        1.000000   \n",
       "\n",
       "       Blood Group_O+  Blood Group_O-  Menstrual Cycle(R/I)_irregular  \\\n",
       "count      529.000000      529.000000                      529.000000   \n",
       "mean         0.381853        0.035917                        0.275992   \n",
       "std          0.486301        0.186259                        0.447436   \n",
       "min          0.000000        0.000000                        0.000000   \n",
       "25%          0.000000        0.000000                        0.000000   \n",
       "50%          0.000000        0.000000                        0.000000   \n",
       "75%          1.000000        0.000000                        1.000000   \n",
       "max          1.000000        1.000000                        1.000000   \n",
       "\n",
       "       Menstrual Cycle(R/I)_regular  \n",
       "count                    529.000000  \n",
       "mean                       0.724008  \n",
       "std                        0.447436  \n",
       "min                        0.000000  \n",
       "25%                        0.000000  \n",
       "50%                        1.000000  \n",
       "75%                        1.000000  \n",
       "max                        1.000000  \n",
       "\n",
       "[8 rows x 44 columns]"
      ]
     },
     "execution_count": 3,
     "metadata": {},
     "output_type": "execute_result"
    }
   ],
   "source": [
    "df.describe()"
   ]
  },
  {
   "cell_type": "code",
   "execution_count": 4,
   "metadata": {},
   "outputs": [
    {
     "data": {
      "text/plain": [
       "Index(['PCOS (Y/N)', 'Age (yrs)', 'BMI', 'Pulse rate(bpm)', 'RR (breaths/min)',\n",
       "       'Hb(g/dl)', 'Menstrual Cycle Length(days)', 'Marriage Status (Yrs)',\n",
       "       'Pregnant(Y/N)', 'No. of abortions', 'I   beta-HCG(mIU/mL)',\n",
       "       'II    beta-HCG(mIU/mL)', 'FSH/LH', 'Waist:Hip Ratio', 'TSH (mIU/L)',\n",
       "       'AMH(ng/mL)', 'PRL(ng/mL)', 'Vit D3 (ng/mL)', 'PRG(ng/mL)',\n",
       "       'RBS(mg/dl)', 'Weight gain(Y/N)', 'hair growth(Y/N)',\n",
       "       'Skin darkening (Y/N)', 'Hair loss(Y/N)', 'Pimples(Y/N)',\n",
       "       'Fast food (Y/N)', 'Reg.Exercise(Y/N)', 'BP _Systolic (mmHg)',\n",
       "       'BP _Diastolic (mmHg)', 'Follicle No. (L)', 'Follicle No. (R)',\n",
       "       'Avg. F size (L) (mm)', 'Avg. F size (R) (mm)', 'Endometrium (mm)',\n",
       "       'Blood Group_A+', 'Blood Group_A-', 'Blood Group_AB+',\n",
       "       'Blood Group_AB-', 'Blood Group_B+', 'Blood Group_B-', 'Blood Group_O+',\n",
       "       'Blood Group_O-', 'Menstrual Cycle(R/I)_irregular',\n",
       "       'Menstrual Cycle(R/I)_regular'],\n",
       "      dtype='object')"
      ]
     },
     "execution_count": 4,
     "metadata": {},
     "output_type": "execute_result"
    }
   ],
   "source": [
    "df.keys()"
   ]
  },
  {
   "cell_type": "markdown",
   "metadata": {},
   "source": [
    "## Data Preparation\n",
    "- Split dataset (80-20)\n",
    "- Standardise features\n",
    "- Handle class imbalance with SMOTE"
   ]
  },
  {
   "cell_type": "code",
   "execution_count": 10,
   "metadata": {},
   "outputs": [],
   "source": [
    "# dependent variable\n",
    "y= df['PCOS (Y/N)']\n",
    "# independent variables\n",
    "X= df.drop(['PCOS (Y/N)'], axis=1) "
   ]
  },
  {
   "cell_type": "code",
   "execution_count": 12,
   "metadata": {},
   "outputs": [],
   "source": [
    "X_train, X_test, y_train, y_test = train_test_split(X, y, test_size=0.2, random_state=42, stratify=y)"
   ]
  },
  {
   "cell_type": "code",
   "execution_count": 15,
   "metadata": {},
   "outputs": [],
   "source": [
    "# standardise featres\n",
    "scaler = StandardScaler()\n",
    "X_train = scaler.fit_transform(X_train)\n",
    "X_test = scaler.transform(X_test)"
   ]
  },
  {
   "cell_type": "code",
   "execution_count": 16,
   "metadata": {},
   "outputs": [
    {
     "name": "stderr",
     "output_type": "stream",
     "text": [
      "  File \"c:\\Users\\XuanHuan.DESKTOP-SFCP3LA\\Desktop\\DSA4264\\dsa4262_pcos\\dsa4262_env\\Lib\\site-packages\\joblib\\externals\\loky\\backend\\context.py\", line 282, in _count_physical_cores\n",
      "    raise ValueError(f\"found {cpu_count_physical} physical cores < 1\")\n"
     ]
    }
   ],
   "source": [
    "# handle class imbalance with SMOTE (for oversampling)\n",
    "smote = SMOTE(random_state=42)\n",
    "X_train, y_train = smote.fit_resample(X_train, y_train)"
   ]
  },
  {
   "cell_type": "markdown",
   "metadata": {},
   "source": [
    "## Logistic Regression"
   ]
  },
  {
   "cell_type": "code",
   "execution_count": 17,
   "metadata": {},
   "outputs": [],
   "source": [
    "# define model with balanced class weights\n",
    "model = LogisticRegression(class_weight='balanced', max_iter=1000)"
   ]
  },
  {
   "cell_type": "code",
   "execution_count": 22,
   "metadata": {},
   "outputs": [],
   "source": [
    "# perform 5-fold cross-validation\n",
    "kf = KFold(n_splits=5, shuffle=True, random_state=42)\n",
    "cv_accuracy_scores = cross_val_score(model, X_train, y_train, cv=kf, scoring='accuracy')\n",
    "cv_auc_roc_scores = cross_val_score(model, X_train, y_train, cv=kf, scoring='roc_auc_ovr_weighted')"
   ]
  },
  {
   "cell_type": "code",
   "execution_count": 23,
   "metadata": {},
   "outputs": [
    {
     "name": "stdout",
     "output_type": "stream",
     "text": [
      "Cross-Validation Accuracy Scores: [0.85217391 0.91304348 0.85964912 0.95614035 0.85964912]\n",
      "Mean Accuracy: 0.8881\n",
      "Cross-Validation AUC-ROC Scores: [0.928      0.97900183 0.91296296 0.98302469 0.95740741]\n",
      "Mean AUC-ROC: 0.9521\n"
     ]
    }
   ],
   "source": [
    "print(f\"Cross-Validation Accuracy Scores: {cv_accuracy_scores}\")\n",
    "print(f\"Mean Accuracy: {cv_accuracy_scores.mean():.4f}\")\n",
    "\n",
    "print(f\"Cross-Validation AUC-ROC Scores: {cv_auc_roc_scores}\")\n",
    "print(f\"Mean AUC-ROC: {cv_auc_roc_scores.mean():.4f}\")"
   ]
  },
  {
   "cell_type": "code",
   "execution_count": 24,
   "metadata": {},
   "outputs": [
    {
     "name": "stdout",
     "output_type": "stream",
     "text": [
      "The intercept b0=  [-1.2317361]\n",
      "The coefficient b1=  [[-0.177338    0.42887029  0.36071058 -0.17661626 -0.20339529 -0.25343561\n",
      "  -0.66402341 -0.17597928 -0.1758086  -0.43173873  0.52788355 -0.12288474\n",
      "  -0.07212816  0.30808954  0.32639036  0.00407003 -0.1686687  -0.37867531\n",
      "   0.33320047  0.64455479  0.8097344   0.5788484   0.32586929  0.55997374\n",
      "   0.41339547  0.39172481 -0.12323121 -0.22245525  0.21130599  2.0487329\n",
      "   0.25845633  0.18051686  0.06084908  0.05896134 -0.18355647 -0.1864967\n",
      "  -0.1725264   0.17036272  0.20289409 -0.06611666 -0.08183108  0.28135771\n",
      "  -0.28135771]]\n"
     ]
    }
   ],
   "source": [
    "model.fit(X_train,y_train)\n",
    "\n",
    "print(\"The intercept b0= \", model.intercept_)\n",
    "print(\"The coefficient b1= \", model.coef_)\n",
    "\n",
    "# predict test set\n",
    "y_pred= model.predict(X_test)"
   ]
  },
  {
   "cell_type": "code",
   "execution_count": 26,
   "metadata": {},
   "outputs": [
    {
     "name": "stdout",
     "output_type": "stream",
     "text": [
      "[[63  9]\n",
      " [ 5 29]]\n"
     ]
    },
    {
     "data": {
      "image/png": "[encoded data removed]",
      "text/plain": [
       "<Figure size 640x480 with 2 Axes>"
      ]
     },
     "metadata": {},
     "output_type": "display_data"
    }
   ],
   "source": [
    "# confusion matrix\n",
    "ConfusionMatrix = confusion_matrix(y_test, y_pred)\n",
    "print(ConfusionMatrix)\n",
    "\n",
    "ax = sns.heatmap(ConfusionMatrix, annot=True, cmap='BuPu')\n",
    "ax.set_title('Confusion Matrix for PCOS Risk');\n",
    "ax.set_xlabel('PCOS Risk Prediction')\n",
    "ax.set_ylabel('Actual');\n",
    "ax.xaxis.set_ticklabels(['PCOS Negative','PCOS Positive'])\n",
    "ax.yaxis.set_ticklabels(['PCOS Negative','PCOS Positive'])\n",
    "plt.show()"
   ]
  },
  {
   "cell_type": "markdown",
   "metadata": {},
   "source": [
    "## Hyperparameter Tuning with GridSearchCV\n",
    "- finding best parameters for best auc-roc score"
   ]
  },
  {
   "cell_type": "code",
   "execution_count": 36,
   "metadata": {},
   "outputs": [
    {
     "name": "stdout",
     "output_type": "stream",
     "text": [
      "Best Parameters: {'C': 0.01, 'penalty': 'l2', 'solver': 'liblinear'}\n",
      "Best Grid-Search AUC-ROC score: 0.9641\n"
     ]
    }
   ],
   "source": [
    "param_grid = {\n",
    "    'C': [0.01, 0.1, 1, 10, 100],  # regularization strength\n",
    "    'penalty': ['l1', 'l2'],  # regularization type\n",
    "    'solver': ['liblinear']  # needed for L1 regularization\n",
    "}\n",
    "\n",
    "grid_search = GridSearchCV(LogisticRegression(class_weight='balanced', max_iter=1000), param_grid, cv=5, scoring='roc_auc_ovr_weighted', n_jobs=-1)\n",
    "grid_search.fit(X_train, y_train)\n",
    "\n",
    "print(f\"Best Parameters: {grid_search.best_params_}\")\n",
    "print(f\"Best Grid-Search AUC-ROC score: {grid_search.best_score_:.4f}\")"
   ]
  },
  {
   "cell_type": "code",
   "execution_count": 37,
   "metadata": {},
   "outputs": [],
   "source": [
    "best_model = grid_search.best_estimator_\n",
    "y_pred = best_model.predict(X_test)\n",
    "y_prob = best_model.predict_proba(X_test)[:, 1]  # Probability scores for AUC-ROC"
   ]
  },
  {
   "cell_type": "code",
   "execution_count": 38,
   "metadata": {},
   "outputs": [
    {
     "name": "stdout",
     "output_type": "stream",
     "text": [
      "Test Accuracy: 0.8396\n",
      "Test AUC-ROC Score: 0.9547\n",
      "\n",
      "Confusion Matrix:\n",
      " [[58 14]\n",
      " [ 3 31]]\n",
      "\n",
      "Classification Report:\n",
      "               precision    recall  f1-score   support\n",
      "\n",
      "           0       0.95      0.81      0.87        72\n",
      "           1       0.69      0.91      0.78        34\n",
      "\n",
      "    accuracy                           0.84       106\n",
      "   macro avg       0.82      0.86      0.83       106\n",
      "weighted avg       0.87      0.84      0.84       106\n",
      "\n"
     ]
    }
   ],
   "source": [
    "accuracy = accuracy_score(y_test, y_pred)\n",
    "auc = roc_auc_score(y_test, y_prob)\n",
    "conf_matrix = confusion_matrix(y_test, y_pred)\n",
    "\n",
    "print(f\"Test Accuracy: {accuracy:.4f}\")\n",
    "print(f\"Test AUC-ROC Score: {auc:.4f}\")\n",
    "print(\"\\nConfusion Matrix:\\n\", conf_matrix)\n",
    "print(\"\\nClassification Report:\\n\", classification_report(y_test, y_pred))\n"
   ]
  },
  {
   "cell_type": "markdown",
   "metadata": {},
   "source": [
    "## Logistic Regression with RFE\n",
    "- See if it improves model performance\n",
    "\n",
    "- Steps:\n",
    "    - Standardisation\n",
    "    - SMOTE\n",
    "    - RFE\n",
    "    - K-fold cross validation\n",
    "    - GridSearchCV"
   ]
  },
  {
   "cell_type": "code",
   "execution_count": 39,
   "metadata": {},
   "outputs": [],
   "source": [
    "from sklearn.feature_selection import RFE"
   ]
  },
  {
   "cell_type": "code",
   "execution_count": 44,
   "metadata": {},
   "outputs": [],
   "source": [
    "# split dataset\n",
    "X_train, X_test, y_train, y_test = train_test_split(X, y, test_size=0.2, random_state=42, stratify=y)\n",
    "\n",
    "# standardise features\n",
    "scaler = StandardScaler()\n",
    "X_train = scaler.fit_transform(X_train)\n",
    "X_test = scaler.transform(X_test)\n",
    "\n",
    "# handle class imbalance\n",
    "smote = SMOTE(random_state=42)\n",
    "X_train, y_train = smote.fit_resample(X_train, y_train)"
   ]
  },
  {
   "cell_type": "code",
   "execution_count": 45,
   "metadata": {},
   "outputs": [
    {
     "name": "stdout",
     "output_type": "stream",
     "text": [
      "Selected Feature Indices: [ 6  9 10 14 19 20 21 23 29 41]\n"
     ]
    }
   ],
   "source": [
    "base_model = LogisticRegression(class_weight='balanced', max_iter=1000, solver='liblinear')\n",
    "\n",
    "# use RFE to select top 10 features\n",
    "rfe = RFE(base_model, n_features_to_select=10)\n",
    "X_train_rfe = rfe.fit_transform(X_train, y_train)\n",
    "X_test_rfe = rfe.transform(X_test)  # apply same transformation to test set\n",
    "\n",
    "# get selected feature indices\n",
    "selected_features = np.where(rfe.support_)[0]\n",
    "print(f\"Selected Feature Indices: {selected_features}\")\n"
   ]
  },
  {
   "cell_type": "code",
   "execution_count": 48,
   "metadata": {},
   "outputs": [
    {
     "name": "stdout",
     "output_type": "stream",
     "text": [
      "Cross-Validation Accuracy Scores: [0.88695652 0.93043478 0.85087719 0.95614035 0.87719298]\n",
      "Mean Accuracy After Feature Selection: 0.9003\n",
      "Cross-Validation ROC-AUC Scores: [0.96030769 0.98752282 0.91635802 0.9787037  0.95987654]\n",
      "Mean ROC-AUC After Feature Selection: 0.9606\n"
     ]
    }
   ],
   "source": [
    "# perform 5-fold cross-validation\n",
    "kf = KFold(n_splits=5, shuffle=True, random_state=42)\n",
    "\n",
    "model = LogisticRegression(class_weight='balanced', max_iter=1000)\n",
    "\n",
    "cv_accuracy_scores = cross_val_score(model, X_train_rfe, y_train, cv=kf, scoring='accuracy')\n",
    "cv_auc_roc_scores = cross_val_score(model, X_train_rfe, y_train, cv=kf, scoring='roc_auc_ovr_weighted')\n",
    "\n",
    "print(f\"Cross-Validation Accuracy Scores: {cv_accuracy_scores}\")\n",
    "print(f\"Mean Accuracy After Feature Selection: {cv_accuracy_scores.mean():.4f}\")\n",
    "print(f\"Cross-Validation ROC-AUC Scores: {cv_auc_roc_scores}\")\n",
    "print(f\"Mean ROC-AUC After Feature Selection: {cv_auc_roc_scores.mean():.4f}\")"
   ]
  },
  {
   "cell_type": "markdown",
   "metadata": {},
   "source": [
    "## Hyperparameter Tuning with GridSearchCV (with RFE)"
   ]
  },
  {
   "cell_type": "code",
   "execution_count": 56,
   "metadata": {},
   "outputs": [
    {
     "name": "stdout",
     "output_type": "stream",
     "text": [
      "Best Parameters After Feature Selection: {'C': 0.1, 'penalty': 'l2', 'solver': 'liblinear'}\n",
      "Best Cross-Validation ROC-AUC score: 0.9655\n"
     ]
    }
   ],
   "source": [
    "param_grid = {\n",
    "    'C': [0.01, 0.1, 1, 10, 100],  # regularization strength\n",
    "    'penalty': ['l1', 'l2'],  # regularization type\n",
    "    'solver': ['liblinear']  # needed for L1 regularization\n",
    "}\n",
    "\n",
    "grid_search = GridSearchCV(LogisticRegression(class_weight='balanced', max_iter=1000), param_grid, cv=5, scoring='roc_auc_ovr_weighted', n_jobs=-1)\n",
    "grid_search.fit(X_train_rfe, y_train)\n",
    "\n",
    "print(f\"Best Parameters After Feature Selection: {grid_search.best_params_}\")\n",
    "print(f\"Best Cross-Validation ROC-AUC score: {grid_search.best_score_:.4f}\")\n"
   ]
  },
  {
   "cell_type": "code",
   "execution_count": 54,
   "metadata": {},
   "outputs": [],
   "source": [
    "# evaluate on test set\n",
    "best_model = grid_search.best_estimator_\n",
    "y_pred = best_model.predict(X_test_rfe)\n",
    "y_prob = best_model.predict_proba(X_test_rfe)[:, 1]  # probability scores for AUC-ROC\n"
   ]
  },
  {
   "cell_type": "code",
   "execution_count": 55,
   "metadata": {},
   "outputs": [
    {
     "name": "stdout",
     "output_type": "stream",
     "text": [
      "Test Accuracy After Feature Selection: 0.8868\n",
      "Test AUC-ROC Score After Feature Selection: 0.9473\n",
      "\n",
      "Confusion Matrix:\n",
      " [[63  9]\n",
      " [ 3 31]]\n",
      "\n",
      "Classification Report:\n",
      "               precision    recall  f1-score   support\n",
      "\n",
      "           0       0.95      0.88      0.91        72\n",
      "           1       0.78      0.91      0.84        34\n",
      "\n",
      "    accuracy                           0.89       106\n",
      "   macro avg       0.86      0.89      0.88       106\n",
      "weighted avg       0.90      0.89      0.89       106\n",
      "\n"
     ]
    }
   ],
   "source": [
    "accuracy = accuracy_score(y_test, y_pred)\n",
    "auc = roc_auc_score(y_test, y_prob)\n",
    "conf_matrix = confusion_matrix(y_test, y_pred)\n",
    "\n",
    "print(f\"Test Accuracy After Feature Selection: {accuracy:.4f}\")\n",
    "print(f\"Test AUC-ROC Score After Feature Selection: {auc:.4f}\")\n",
    "print(\"\\nConfusion Matrix:\\n\", conf_matrix)\n",
    "print(\"\\nClassification Report:\\n\", classification_report(y_test, y_pred))"
   ]
  }
 ],
 "metadata": {
  "kernelspec": {
   "display_name": "dsa4262_env",
   "language": "python",
   "name": "python3"
  },
  "language_info": {
   "codemirror_mode": {
    "name": "ipython",
    "version": 3
   },
   "file_extension": ".py",
   "mimetype": "text/x-python",
   "name": "python",
   "nbconvert_exporter": "python",
   "pygments_lexer": "ipython3",
   "version": "3.12.9"
  }
 },
 "nbformat": 4,
 "nbformat_minor": 2
}
