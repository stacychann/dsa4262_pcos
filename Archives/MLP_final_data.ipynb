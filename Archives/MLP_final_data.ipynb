{
 "cells": [
  {
   "cell_type": "markdown",
   "metadata": {},
   "source": [
    "# Importing packages and reading in the csv file"
   ]
  },
  {
   "cell_type": "code",
   "execution_count": 1,
   "metadata": {},
   "outputs": [],
   "source": [
    "import numpy as np\n",
    "import pandas as pd\n",
    "\n",
    "import tensorflow as tf\n",
    "from tensorflow import keras\n",
    "from keras import Model\n",
    "from keras.layers import Dense, Input, Dropout, BatchNormalization, Flatten\n",
    "from keras.metrics import AUC, Precision, Recall, F1Score\n",
    "from keras.losses import BinaryCrossentropy, BinaryFocalCrossentropy\n",
    "from keras.optimizers import Adam, RMSprop, Adadelta, Adagrad, AdamW, Adamax\n",
    "from sklearn.feature_selection import RFECV\n",
    "from sklearn.ensemble import RandomForestClassifier"
   ]
  },
  {
   "cell_type": "code",
   "execution_count": 2,
   "metadata": {},
   "outputs": [
    {
     "name": "stdout",
     "output_type": "stream",
     "text": [
      "(529, 66)\n"
     ]
    },
    {
     "data": {
      "text/html": [
       "<div>\n",
       "<style scoped>\n",
       "    .dataframe tbody tr th:only-of-type {\n",
       "        vertical-align: middle;\n",
       "    }\n",
       "\n",
       "    .dataframe tbody tr th {\n",
       "        vertical-align: top;\n",
       "    }\n",
       "\n",
       "    .dataframe thead th {\n",
       "        text-align: right;\n",
       "    }\n",
       "</style>\n",
       "<table border=\"1\" class=\"dataframe\">\n",
       "  <thead>\n",
       "    <tr style=\"text-align: right;\">\n",
       "      <th></th>\n",
       "      <th>PCOS (Y/N)</th>\n",
       "      <th>Age (yrs)</th>\n",
       "      <th>BMI</th>\n",
       "      <th>Pulse rate(bpm)</th>\n",
       "      <th>Menstrual Cycle Length(days)</th>\n",
       "      <th>Marriage Status (Yrs)</th>\n",
       "      <th>Pregnant(Y/N)</th>\n",
       "      <th>No. of abortions</th>\n",
       "      <th>I   beta-HCG(mIU/mL)</th>\n",
       "      <th>II    beta-HCG(mIU/mL)</th>\n",
       "      <th>...</th>\n",
       "      <th>RBS(mg/dl)_low</th>\n",
       "      <th>RBS(mg/dl)_normal</th>\n",
       "      <th>BP _Systolic (mmHg)_high</th>\n",
       "      <th>BP _Systolic (mmHg)_normal</th>\n",
       "      <th>BP _Diastolic (mmHg)_high</th>\n",
       "      <th>BP _Diastolic (mmHg)_normal</th>\n",
       "      <th>I beta-HCG cat_abnormal</th>\n",
       "      <th>I beta-HCG cat_normal</th>\n",
       "      <th>II beta-HCG cat_abnormal</th>\n",
       "      <th>II beta-HCG cat_normal</th>\n",
       "    </tr>\n",
       "  </thead>\n",
       "  <tbody>\n",
       "    <tr>\n",
       "      <th>0</th>\n",
       "      <td>0</td>\n",
       "      <td>28</td>\n",
       "      <td>19.3</td>\n",
       "      <td>78</td>\n",
       "      <td>5</td>\n",
       "      <td>7.0</td>\n",
       "      <td>0</td>\n",
       "      <td>0</td>\n",
       "      <td>1.99</td>\n",
       "      <td>1.99</td>\n",
       "      <td>...</td>\n",
       "      <td>0.0</td>\n",
       "      <td>1.0</td>\n",
       "      <td>0.0</td>\n",
       "      <td>1.0</td>\n",
       "      <td>0.0</td>\n",
       "      <td>1.0</td>\n",
       "      <td>0.0</td>\n",
       "      <td>1.0</td>\n",
       "      <td>0.0</td>\n",
       "      <td>1.0</td>\n",
       "    </tr>\n",
       "    <tr>\n",
       "      <th>1</th>\n",
       "      <td>0</td>\n",
       "      <td>36</td>\n",
       "      <td>24.9</td>\n",
       "      <td>74</td>\n",
       "      <td>5</td>\n",
       "      <td>11.0</td>\n",
       "      <td>1</td>\n",
       "      <td>0</td>\n",
       "      <td>60.80</td>\n",
       "      <td>1.99</td>\n",
       "      <td>...</td>\n",
       "      <td>0.0</td>\n",
       "      <td>1.0</td>\n",
       "      <td>0.0</td>\n",
       "      <td>1.0</td>\n",
       "      <td>0.0</td>\n",
       "      <td>1.0</td>\n",
       "      <td>0.0</td>\n",
       "      <td>1.0</td>\n",
       "      <td>1.0</td>\n",
       "      <td>0.0</td>\n",
       "    </tr>\n",
       "    <tr>\n",
       "      <th>2</th>\n",
       "      <td>1</td>\n",
       "      <td>33</td>\n",
       "      <td>25.3</td>\n",
       "      <td>72</td>\n",
       "      <td>5</td>\n",
       "      <td>10.0</td>\n",
       "      <td>1</td>\n",
       "      <td>0</td>\n",
       "      <td>494.08</td>\n",
       "      <td>494.08</td>\n",
       "      <td>...</td>\n",
       "      <td>0.0</td>\n",
       "      <td>1.0</td>\n",
       "      <td>0.0</td>\n",
       "      <td>1.0</td>\n",
       "      <td>0.0</td>\n",
       "      <td>1.0</td>\n",
       "      <td>0.0</td>\n",
       "      <td>1.0</td>\n",
       "      <td>0.0</td>\n",
       "      <td>1.0</td>\n",
       "    </tr>\n",
       "    <tr>\n",
       "      <th>3</th>\n",
       "      <td>0</td>\n",
       "      <td>37</td>\n",
       "      <td>29.7</td>\n",
       "      <td>72</td>\n",
       "      <td>5</td>\n",
       "      <td>4.0</td>\n",
       "      <td>0</td>\n",
       "      <td>0</td>\n",
       "      <td>1.99</td>\n",
       "      <td>1.99</td>\n",
       "      <td>...</td>\n",
       "      <td>0.0</td>\n",
       "      <td>1.0</td>\n",
       "      <td>0.0</td>\n",
       "      <td>1.0</td>\n",
       "      <td>0.0</td>\n",
       "      <td>1.0</td>\n",
       "      <td>0.0</td>\n",
       "      <td>1.0</td>\n",
       "      <td>0.0</td>\n",
       "      <td>1.0</td>\n",
       "    </tr>\n",
       "    <tr>\n",
       "      <th>4</th>\n",
       "      <td>0</td>\n",
       "      <td>25</td>\n",
       "      <td>20.1</td>\n",
       "      <td>72</td>\n",
       "      <td>5</td>\n",
       "      <td>1.0</td>\n",
       "      <td>1</td>\n",
       "      <td>0</td>\n",
       "      <td>801.45</td>\n",
       "      <td>801.45</td>\n",
       "      <td>...</td>\n",
       "      <td>0.0</td>\n",
       "      <td>1.0</td>\n",
       "      <td>0.0</td>\n",
       "      <td>1.0</td>\n",
       "      <td>0.0</td>\n",
       "      <td>1.0</td>\n",
       "      <td>0.0</td>\n",
       "      <td>1.0</td>\n",
       "      <td>0.0</td>\n",
       "      <td>1.0</td>\n",
       "    </tr>\n",
       "  </tbody>\n",
       "</table>\n",
       "<p>5 rows × 66 columns</p>\n",
       "</div>"
      ],
      "text/plain": [
       "   PCOS (Y/N)  Age (yrs)   BMI  Pulse rate(bpm)  Menstrual Cycle Length(days)  \\\n",
       "0           0         28  19.3               78                             5   \n",
       "1           0         36  24.9               74                             5   \n",
       "2           1         33  25.3               72                             5   \n",
       "3           0         37  29.7               72                             5   \n",
       "4           0         25  20.1               72                             5   \n",
       "\n",
       "   Marriage Status (Yrs)  Pregnant(Y/N)  No. of abortions  \\\n",
       "0                    7.0              0                 0   \n",
       "1                   11.0              1                 0   \n",
       "2                   10.0              1                 0   \n",
       "3                    4.0              0                 0   \n",
       "4                    1.0              1                 0   \n",
       "\n",
       "   I   beta-HCG(mIU/mL)  II    beta-HCG(mIU/mL)  ...  RBS(mg/dl)_low  \\\n",
       "0                  1.99                    1.99  ...             0.0   \n",
       "1                 60.80                    1.99  ...             0.0   \n",
       "2                494.08                  494.08  ...             0.0   \n",
       "3                  1.99                    1.99  ...             0.0   \n",
       "4                801.45                  801.45  ...             0.0   \n",
       "\n",
       "   RBS(mg/dl)_normal  BP _Systolic (mmHg)_high  BP _Systolic (mmHg)_normal  \\\n",
       "0                1.0                       0.0                         1.0   \n",
       "1                1.0                       0.0                         1.0   \n",
       "2                1.0                       0.0                         1.0   \n",
       "3                1.0                       0.0                         1.0   \n",
       "4                1.0                       0.0                         1.0   \n",
       "\n",
       "   BP _Diastolic (mmHg)_high  BP _Diastolic (mmHg)_normal  \\\n",
       "0                        0.0                          1.0   \n",
       "1                        0.0                          1.0   \n",
       "2                        0.0                          1.0   \n",
       "3                        0.0                          1.0   \n",
       "4                        0.0                          1.0   \n",
       "\n",
       "   I beta-HCG cat_abnormal  I beta-HCG cat_normal  II beta-HCG cat_abnormal  \\\n",
       "0                      0.0                    1.0                       0.0   \n",
       "1                      0.0                    1.0                       1.0   \n",
       "2                      0.0                    1.0                       0.0   \n",
       "3                      0.0                    1.0                       0.0   \n",
       "4                      0.0                    1.0                       0.0   \n",
       "\n",
       "   II beta-HCG cat_normal  \n",
       "0                     1.0  \n",
       "1                     0.0  \n",
       "2                     1.0  \n",
       "3                     1.0  \n",
       "4                     1.0  \n",
       "\n",
       "[5 rows x 66 columns]"
      ]
     },
     "execution_count": 2,
     "metadata": {},
     "output_type": "execute_result"
    }
   ],
   "source": [
    "df = pd.read_csv(\"final_data.csv\")\n",
    "print(df.shape)\n",
    "df.head()"
   ]
  },
  {
   "cell_type": "code",
   "execution_count": 3,
   "metadata": {},
   "outputs": [
    {
     "data": {
      "text/plain": [
       "Index(['PCOS (Y/N)', 'Age (yrs)', 'BMI', 'Pulse rate(bpm)',\n",
       "       'Menstrual Cycle Length(days)', 'Marriage Status (Yrs)',\n",
       "       'Pregnant(Y/N)', 'No. of abortions', 'I   beta-HCG(mIU/mL)',\n",
       "       'II    beta-HCG(mIU/mL)', 'FSH/LH', 'Waist:Hip Ratio',\n",
       "       'Weight gain(Y/N)', 'hair growth(Y/N)', 'Skin darkening (Y/N)',\n",
       "       'Hair loss(Y/N)', 'Pimples(Y/N)', 'Fast food (Y/N)',\n",
       "       'Reg.Exercise(Y/N)', 'Follicle No. (L)', 'Follicle No. (R)',\n",
       "       'Avg. F size (L) (mm)', 'Avg. F size (R) (mm)', 'Endometrium (mm)',\n",
       "       'Blood Group_A+', 'Blood Group_A-', 'Blood Group_AB+',\n",
       "       'Blood Group_AB-', 'Blood Group_B+', 'Blood Group_B-', 'Blood Group_O+',\n",
       "       'Blood Group_O-', 'Menstrual Cycle(R/I)_irregular',\n",
       "       'Menstrual Cycle(R/I)_regular', 'Symptoms score',\n",
       "       'Unhealthy living score', 'RR (breaths/min)_high',\n",
       "       'RR (breaths/min)_normal', 'Hb(g/dl)_low', 'Hb(g/dl)_normal',\n",
       "       'TSH (mIU/L)_high', 'TSH (mIU/L)_low', 'TSH (mIU/L)_normal',\n",
       "       'AMH(ng/mL)_high', 'AMH(ng/mL)_low', 'AMH(ng/mL)_normal',\n",
       "       'PRL(ng/mL)_high', 'PRL(ng/mL)_low', 'PRL(ng/mL)_normal',\n",
       "       'Vit D3 (ng/mL)_high', 'Vit D3 (ng/mL)_low', 'Vit D3 (ng/mL)_normal',\n",
       "       'PRG(ng/mL)_high', 'PRG(ng/mL)_low', 'PRG(ng/mL)_normal',\n",
       "       'RBS(mg/dl)_high', 'RBS(mg/dl)_low', 'RBS(mg/dl)_normal',\n",
       "       'BP _Systolic (mmHg)_high', 'BP _Systolic (mmHg)_normal',\n",
       "       'BP _Diastolic (mmHg)_high', 'BP _Diastolic (mmHg)_normal',\n",
       "       'I beta-HCG cat_abnormal', 'I beta-HCG cat_normal',\n",
       "       'II beta-HCG cat_abnormal', 'II beta-HCG cat_normal'],\n",
       "      dtype='object')"
      ]
     },
     "execution_count": 3,
     "metadata": {},
     "output_type": "execute_result"
    }
   ],
   "source": [
    "df.columns"
   ]
  },
  {
   "cell_type": "markdown",
   "metadata": {},
   "source": [
    "# Sets a random seed to ensure reproducible results"
   ]
  },
  {
   "cell_type": "code",
   "execution_count": 6,
   "metadata": {},
   "outputs": [
    {
     "data": {
      "text/plain": [
       "'\\nfrom keras import backend as K\\nsession_conf = tf.compat.v1.ConfigProto(intra_op_parallelism_threads=1, inter_op_parallelism_threads=1)\\nsess = tf.compat.v1.Session(graph=tf.compat.v1.get_default_graph(), config=session_conf)\\ntf.compat.v1.keras.backend.set_session(sess)\"\\n'"
      ]
     },
     "execution_count": 6,
     "metadata": {},
     "output_type": "execute_result"
    }
   ],
   "source": [
    "seed_value= 0\n",
    "\n",
    "# 1. Set the `PYTHONHASHSEED` environment variable at a fixed value\n",
    "import os\n",
    "os.environ['PYTHONHASHSEED']=str(seed_value)\n",
    "\n",
    "# 2. Set the `python` built-in pseudo-random generator at a fixed value\n",
    "import random\n",
    "random.seed(seed_value)\n",
    "\n",
    "# 3. Set the `numpy` pseudo-random generator at a fixed value\n",
    "np.random.seed(seed_value)\n",
    "\n",
    "# 4. Set the `tensorflow` pseudo-random generator at a fixed value\n",
    "tf.random.set_seed(seed_value)\n",
    "# for later versions: \n",
    "# tf.compat.v1.set_random_seed(seed_value)\n",
    "\n",
    "# 5. Configure a new global `tensorflow` session\n",
    "\"\"\"\n",
    "from keras import backend as K\n",
    "session_conf = tf.compat.v1.ConfigProto(intra_op_parallelism_threads=1, inter_op_parallelism_threads=1)\n",
    "sess = tf.compat.v1.Session(graph=tf.compat.v1.get_default_graph(), config=session_conf)\n",
    "tf.compat.v1.keras.backend.set_session(sess)\"\n",
    "\"\"\""
   ]
  },
  {
   "cell_type": "markdown",
   "metadata": {},
   "source": [
    "# Finding the class weights to resolve the issue of class imbalance"
   ]
  },
  {
   "cell_type": "code",
   "execution_count": 5,
   "metadata": {},
   "outputs": [],
   "source": [
    "target_counts = np.bincount(df[\"PCOS (Y/N)\"])\n",
    "weight_for_0 = 1.0/target_counts[0]\n",
    "weight_for_1 = 1.0/target_counts[1]"
   ]
  },
  {
   "cell_type": "markdown",
   "metadata": {},
   "source": [
    "# Feature Selection Using RFE "
   ]
  },
  {
   "cell_type": "code",
   "execution_count": 7,
   "metadata": {},
   "outputs": [
    {
     "name": "stdout",
     "output_type": "stream",
     "text": [
      "Index(['Age (yrs)', 'BMI', 'Pulse rate(bpm)', 'Menstrual Cycle Length(days)',\n",
      "       'Marriage Status (Yrs)', 'Pregnant(Y/N)', 'No. of abortions',\n",
      "       'I   beta-HCG(mIU/mL)', 'II    beta-HCG(mIU/mL)', 'FSH/LH',\n",
      "       'Waist:Hip Ratio', 'Weight gain(Y/N)', 'hair growth(Y/N)',\n",
      "       'Skin darkening (Y/N)', 'Hair loss(Y/N)', 'Pimples(Y/N)',\n",
      "       'Fast food (Y/N)', 'Reg.Exercise(Y/N)', 'Follicle No. (L)',\n",
      "       'Follicle No. (R)', 'Avg. F size (L) (mm)', 'Avg. F size (R) (mm)',\n",
      "       'Endometrium (mm)', 'Blood Group_B+', 'Blood Group_O+',\n",
      "       'Menstrual Cycle(R/I)_irregular', 'Menstrual Cycle(R/I)_regular',\n",
      "       'Symptoms score', 'Unhealthy living score', 'Hb(g/dl)_low',\n",
      "       'Hb(g/dl)_normal', 'TSH (mIU/L)_high', 'TSH (mIU/L)_normal',\n",
      "       'AMH(ng/mL)_high', 'AMH(ng/mL)_low', 'AMH(ng/mL)_normal',\n",
      "       'PRL(ng/mL)_high', 'PRL(ng/mL)_normal', 'Vit D3 (ng/mL)_low',\n",
      "       'Vit D3 (ng/mL)_normal', 'I beta-HCG cat_abnormal',\n",
      "       'I beta-HCG cat_normal', 'II beta-HCG cat_abnormal',\n",
      "       'II beta-HCG cat_normal'],\n",
      "      dtype='object')\n"
     ]
    },
    {
     "data": {
      "text/html": [
       "<div>\n",
       "<style scoped>\n",
       "    .dataframe tbody tr th:only-of-type {\n",
       "        vertical-align: middle;\n",
       "    }\n",
       "\n",
       "    .dataframe tbody tr th {\n",
       "        vertical-align: top;\n",
       "    }\n",
       "\n",
       "    .dataframe thead th {\n",
       "        text-align: right;\n",
       "    }\n",
       "</style>\n",
       "<table border=\"1\" class=\"dataframe\">\n",
       "  <thead>\n",
       "    <tr style=\"text-align: right;\">\n",
       "      <th></th>\n",
       "      <th>Age (yrs)</th>\n",
       "      <th>BMI</th>\n",
       "      <th>Pulse rate(bpm)</th>\n",
       "      <th>Menstrual Cycle Length(days)</th>\n",
       "      <th>Marriage Status (Yrs)</th>\n",
       "      <th>Pregnant(Y/N)</th>\n",
       "      <th>No. of abortions</th>\n",
       "      <th>I   beta-HCG(mIU/mL)</th>\n",
       "      <th>II    beta-HCG(mIU/mL)</th>\n",
       "      <th>FSH/LH</th>\n",
       "      <th>...</th>\n",
       "      <th>AMH(ng/mL)_low</th>\n",
       "      <th>AMH(ng/mL)_normal</th>\n",
       "      <th>PRL(ng/mL)_high</th>\n",
       "      <th>PRL(ng/mL)_normal</th>\n",
       "      <th>Vit D3 (ng/mL)_low</th>\n",
       "      <th>Vit D3 (ng/mL)_normal</th>\n",
       "      <th>I beta-HCG cat_abnormal</th>\n",
       "      <th>I beta-HCG cat_normal</th>\n",
       "      <th>II beta-HCG cat_abnormal</th>\n",
       "      <th>II beta-HCG cat_normal</th>\n",
       "    </tr>\n",
       "  </thead>\n",
       "  <tbody>\n",
       "    <tr>\n",
       "      <th>0</th>\n",
       "      <td>28</td>\n",
       "      <td>19.3</td>\n",
       "      <td>78</td>\n",
       "      <td>5</td>\n",
       "      <td>7.0</td>\n",
       "      <td>0</td>\n",
       "      <td>0</td>\n",
       "      <td>1.99</td>\n",
       "      <td>1.99</td>\n",
       "      <td>2.16</td>\n",
       "      <td>...</td>\n",
       "      <td>0.0</td>\n",
       "      <td>1.0</td>\n",
       "      <td>1.0</td>\n",
       "      <td>0.0</td>\n",
       "      <td>1.0</td>\n",
       "      <td>0.0</td>\n",
       "      <td>0.0</td>\n",
       "      <td>1.0</td>\n",
       "      <td>0.0</td>\n",
       "      <td>1.0</td>\n",
       "    </tr>\n",
       "    <tr>\n",
       "      <th>1</th>\n",
       "      <td>36</td>\n",
       "      <td>24.9</td>\n",
       "      <td>74</td>\n",
       "      <td>5</td>\n",
       "      <td>11.0</td>\n",
       "      <td>1</td>\n",
       "      <td>0</td>\n",
       "      <td>60.80</td>\n",
       "      <td>1.99</td>\n",
       "      <td>6.17</td>\n",
       "      <td>...</td>\n",
       "      <td>0.0</td>\n",
       "      <td>1.0</td>\n",
       "      <td>0.0</td>\n",
       "      <td>0.0</td>\n",
       "      <td>0.0</td>\n",
       "      <td>0.0</td>\n",
       "      <td>0.0</td>\n",
       "      <td>1.0</td>\n",
       "      <td>1.0</td>\n",
       "      <td>0.0</td>\n",
       "    </tr>\n",
       "    <tr>\n",
       "      <th>2</th>\n",
       "      <td>33</td>\n",
       "      <td>25.3</td>\n",
       "      <td>72</td>\n",
       "      <td>5</td>\n",
       "      <td>10.0</td>\n",
       "      <td>1</td>\n",
       "      <td>0</td>\n",
       "      <td>494.08</td>\n",
       "      <td>494.08</td>\n",
       "      <td>6.30</td>\n",
       "      <td>...</td>\n",
       "      <td>0.0</td>\n",
       "      <td>0.0</td>\n",
       "      <td>0.0</td>\n",
       "      <td>0.0</td>\n",
       "      <td>0.0</td>\n",
       "      <td>1.0</td>\n",
       "      <td>0.0</td>\n",
       "      <td>1.0</td>\n",
       "      <td>0.0</td>\n",
       "      <td>1.0</td>\n",
       "    </tr>\n",
       "    <tr>\n",
       "      <th>3</th>\n",
       "      <td>37</td>\n",
       "      <td>29.7</td>\n",
       "      <td>72</td>\n",
       "      <td>5</td>\n",
       "      <td>4.0</td>\n",
       "      <td>0</td>\n",
       "      <td>0</td>\n",
       "      <td>1.99</td>\n",
       "      <td>1.99</td>\n",
       "      <td>3.42</td>\n",
       "      <td>...</td>\n",
       "      <td>0.0</td>\n",
       "      <td>1.0</td>\n",
       "      <td>1.0</td>\n",
       "      <td>0.0</td>\n",
       "      <td>0.0</td>\n",
       "      <td>1.0</td>\n",
       "      <td>0.0</td>\n",
       "      <td>1.0</td>\n",
       "      <td>0.0</td>\n",
       "      <td>1.0</td>\n",
       "    </tr>\n",
       "    <tr>\n",
       "      <th>4</th>\n",
       "      <td>25</td>\n",
       "      <td>20.1</td>\n",
       "      <td>72</td>\n",
       "      <td>5</td>\n",
       "      <td>1.0</td>\n",
       "      <td>1</td>\n",
       "      <td>0</td>\n",
       "      <td>801.45</td>\n",
       "      <td>801.45</td>\n",
       "      <td>4.42</td>\n",
       "      <td>...</td>\n",
       "      <td>0.0</td>\n",
       "      <td>1.0</td>\n",
       "      <td>0.0</td>\n",
       "      <td>0.0</td>\n",
       "      <td>0.0</td>\n",
       "      <td>1.0</td>\n",
       "      <td>0.0</td>\n",
       "      <td>1.0</td>\n",
       "      <td>0.0</td>\n",
       "      <td>1.0</td>\n",
       "    </tr>\n",
       "    <tr>\n",
       "      <th>...</th>\n",
       "      <td>...</td>\n",
       "      <td>...</td>\n",
       "      <td>...</td>\n",
       "      <td>...</td>\n",
       "      <td>...</td>\n",
       "      <td>...</td>\n",
       "      <td>...</td>\n",
       "      <td>...</td>\n",
       "      <td>...</td>\n",
       "      <td>...</td>\n",
       "      <td>...</td>\n",
       "      <td>...</td>\n",
       "      <td>...</td>\n",
       "      <td>...</td>\n",
       "      <td>...</td>\n",
       "      <td>...</td>\n",
       "      <td>...</td>\n",
       "      <td>...</td>\n",
       "      <td>...</td>\n",
       "      <td>...</td>\n",
       "      <td>...</td>\n",
       "    </tr>\n",
       "    <tr>\n",
       "      <th>524</th>\n",
       "      <td>35</td>\n",
       "      <td>18.5</td>\n",
       "      <td>72</td>\n",
       "      <td>5</td>\n",
       "      <td>8.0</td>\n",
       "      <td>0</td>\n",
       "      <td>1</td>\n",
       "      <td>1.99</td>\n",
       "      <td>1.99</td>\n",
       "      <td>5.56</td>\n",
       "      <td>...</td>\n",
       "      <td>0.0</td>\n",
       "      <td>1.0</td>\n",
       "      <td>0.0</td>\n",
       "      <td>1.0</td>\n",
       "      <td>0.0</td>\n",
       "      <td>1.0</td>\n",
       "      <td>0.0</td>\n",
       "      <td>1.0</td>\n",
       "      <td>0.0</td>\n",
       "      <td>1.0</td>\n",
       "    </tr>\n",
       "    <tr>\n",
       "      <th>525</th>\n",
       "      <td>30</td>\n",
       "      <td>25.3</td>\n",
       "      <td>72</td>\n",
       "      <td>5</td>\n",
       "      <td>4.0</td>\n",
       "      <td>1</td>\n",
       "      <td>1</td>\n",
       "      <td>80.13</td>\n",
       "      <td>1.99</td>\n",
       "      <td>1.79</td>\n",
       "      <td>...</td>\n",
       "      <td>0.0</td>\n",
       "      <td>0.0</td>\n",
       "      <td>0.0</td>\n",
       "      <td>0.0</td>\n",
       "      <td>0.0</td>\n",
       "      <td>1.0</td>\n",
       "      <td>0.0</td>\n",
       "      <td>1.0</td>\n",
       "      <td>1.0</td>\n",
       "      <td>0.0</td>\n",
       "    </tr>\n",
       "    <tr>\n",
       "      <th>526</th>\n",
       "      <td>36</td>\n",
       "      <td>23.4</td>\n",
       "      <td>74</td>\n",
       "      <td>6</td>\n",
       "      <td>8.0</td>\n",
       "      <td>0</td>\n",
       "      <td>0</td>\n",
       "      <td>1.99</td>\n",
       "      <td>1.99</td>\n",
       "      <td>4.30</td>\n",
       "      <td>...</td>\n",
       "      <td>0.0</td>\n",
       "      <td>0.0</td>\n",
       "      <td>1.0</td>\n",
       "      <td>0.0</td>\n",
       "      <td>0.0</td>\n",
       "      <td>1.0</td>\n",
       "      <td>0.0</td>\n",
       "      <td>1.0</td>\n",
       "      <td>0.0</td>\n",
       "      <td>1.0</td>\n",
       "    </tr>\n",
       "    <tr>\n",
       "      <th>527</th>\n",
       "      <td>27</td>\n",
       "      <td>22.2</td>\n",
       "      <td>74</td>\n",
       "      <td>2</td>\n",
       "      <td>2.0</td>\n",
       "      <td>0</td>\n",
       "      <td>0</td>\n",
       "      <td>292.92</td>\n",
       "      <td>1.99</td>\n",
       "      <td>1.02</td>\n",
       "      <td>...</td>\n",
       "      <td>0.0</td>\n",
       "      <td>0.0</td>\n",
       "      <td>1.0</td>\n",
       "      <td>0.0</td>\n",
       "      <td>0.0</td>\n",
       "      <td>1.0</td>\n",
       "      <td>1.0</td>\n",
       "      <td>0.0</td>\n",
       "      <td>0.0</td>\n",
       "      <td>1.0</td>\n",
       "    </tr>\n",
       "    <tr>\n",
       "      <th>528</th>\n",
       "      <td>23</td>\n",
       "      <td>30.1</td>\n",
       "      <td>80</td>\n",
       "      <td>7</td>\n",
       "      <td>2.0</td>\n",
       "      <td>0</td>\n",
       "      <td>0</td>\n",
       "      <td>1.99</td>\n",
       "      <td>1.99</td>\n",
       "      <td>0.93</td>\n",
       "      <td>...</td>\n",
       "      <td>0.0</td>\n",
       "      <td>0.0</td>\n",
       "      <td>0.0</td>\n",
       "      <td>1.0</td>\n",
       "      <td>1.0</td>\n",
       "      <td>0.0</td>\n",
       "      <td>0.0</td>\n",
       "      <td>1.0</td>\n",
       "      <td>0.0</td>\n",
       "      <td>1.0</td>\n",
       "    </tr>\n",
       "  </tbody>\n",
       "</table>\n",
       "<p>529 rows × 44 columns</p>\n",
       "</div>"
      ],
      "text/plain": [
       "     Age (yrs)   BMI  Pulse rate(bpm)  Menstrual Cycle Length(days)  \\\n",
       "0           28  19.3               78                             5   \n",
       "1           36  24.9               74                             5   \n",
       "2           33  25.3               72                             5   \n",
       "3           37  29.7               72                             5   \n",
       "4           25  20.1               72                             5   \n",
       "..         ...   ...              ...                           ...   \n",
       "524         35  18.5               72                             5   \n",
       "525         30  25.3               72                             5   \n",
       "526         36  23.4               74                             6   \n",
       "527         27  22.2               74                             2   \n",
       "528         23  30.1               80                             7   \n",
       "\n",
       "     Marriage Status (Yrs)  Pregnant(Y/N)  No. of abortions  \\\n",
       "0                      7.0              0                 0   \n",
       "1                     11.0              1                 0   \n",
       "2                     10.0              1                 0   \n",
       "3                      4.0              0                 0   \n",
       "4                      1.0              1                 0   \n",
       "..                     ...            ...               ...   \n",
       "524                    8.0              0                 1   \n",
       "525                    4.0              1                 1   \n",
       "526                    8.0              0                 0   \n",
       "527                    2.0              0                 0   \n",
       "528                    2.0              0                 0   \n",
       "\n",
       "     I   beta-HCG(mIU/mL)  II    beta-HCG(mIU/mL)  FSH/LH  ...  \\\n",
       "0                    1.99                    1.99    2.16  ...   \n",
       "1                   60.80                    1.99    6.17  ...   \n",
       "2                  494.08                  494.08    6.30  ...   \n",
       "3                    1.99                    1.99    3.42  ...   \n",
       "4                  801.45                  801.45    4.42  ...   \n",
       "..                    ...                     ...     ...  ...   \n",
       "524                  1.99                    1.99    5.56  ...   \n",
       "525                 80.13                    1.99    1.79  ...   \n",
       "526                  1.99                    1.99    4.30  ...   \n",
       "527                292.92                    1.99    1.02  ...   \n",
       "528                  1.99                    1.99    0.93  ...   \n",
       "\n",
       "     AMH(ng/mL)_low  AMH(ng/mL)_normal  PRL(ng/mL)_high  PRL(ng/mL)_normal  \\\n",
       "0               0.0                1.0              1.0                0.0   \n",
       "1               0.0                1.0              0.0                0.0   \n",
       "2               0.0                0.0              0.0                0.0   \n",
       "3               0.0                1.0              1.0                0.0   \n",
       "4               0.0                1.0              0.0                0.0   \n",
       "..              ...                ...              ...                ...   \n",
       "524             0.0                1.0              0.0                1.0   \n",
       "525             0.0                0.0              0.0                0.0   \n",
       "526             0.0                0.0              1.0                0.0   \n",
       "527             0.0                0.0              1.0                0.0   \n",
       "528             0.0                0.0              0.0                1.0   \n",
       "\n",
       "     Vit D3 (ng/mL)_low  Vit D3 (ng/mL)_normal  I beta-HCG cat_abnormal  \\\n",
       "0                   1.0                    0.0                      0.0   \n",
       "1                   0.0                    0.0                      0.0   \n",
       "2                   0.0                    1.0                      0.0   \n",
       "3                   0.0                    1.0                      0.0   \n",
       "4                   0.0                    1.0                      0.0   \n",
       "..                  ...                    ...                      ...   \n",
       "524                 0.0                    1.0                      0.0   \n",
       "525                 0.0                    1.0                      0.0   \n",
       "526                 0.0                    1.0                      0.0   \n",
       "527                 0.0                    1.0                      1.0   \n",
       "528                 1.0                    0.0                      0.0   \n",
       "\n",
       "     I beta-HCG cat_normal  II beta-HCG cat_abnormal  II beta-HCG cat_normal  \n",
       "0                      1.0                       0.0                     1.0  \n",
       "1                      1.0                       1.0                     0.0  \n",
       "2                      1.0                       0.0                     1.0  \n",
       "3                      1.0                       0.0                     1.0  \n",
       "4                      1.0                       0.0                     1.0  \n",
       "..                     ...                       ...                     ...  \n",
       "524                    1.0                       0.0                     1.0  \n",
       "525                    1.0                       1.0                     0.0  \n",
       "526                    1.0                       0.0                     1.0  \n",
       "527                    0.0                       0.0                     1.0  \n",
       "528                    1.0                       0.0                     1.0  \n",
       "\n",
       "[529 rows x 44 columns]"
      ]
     },
     "execution_count": 7,
     "metadata": {},
     "output_type": "execute_result"
    }
   ],
   "source": [
    "target_column = \"PCOS (Y/N)\"\n",
    "y = df[target_column]\n",
    "X = df.drop(target_column, axis=1)\n",
    "\n",
    "rf = RandomForestClassifier(n_estimators=100, random_state=42, n_jobs=-1)\n",
    "selector = RFECV(estimator=rf, cv=5, step=1, scoring='roc_auc')\n",
    "selector = selector.fit(X, y)\n",
    "selected_columns = X.columns[selector.support_]\n",
    "print(selected_columns)\n",
    "X = X[selected_columns]\n",
    "X"
   ]
  },
  {
   "cell_type": "markdown",
   "metadata": {},
   "source": [
    "# Splitting into train, validation and test datasets"
   ]
  },
  {
   "cell_type": "code",
   "execution_count": 8,
   "metadata": {},
   "outputs": [],
   "source": [
    "# Choose either 60, 20, 20 or 80, 10, 10\n",
    "# Depends on the complexity of the model, the dataset size and the nature of the data\n",
    "\n",
    "test_size_1 = 0.4\n",
    "test_size_2 = 0.5\n",
    "random_state = 1\n",
    "\n",
    "from sklearn.model_selection import train_test_split\n",
    "X_train, X_valtest, y_train, y_valtest = train_test_split(X, y, test_size=test_size_1, stratify=y, random_state=random_state)\n",
    "X_val, X_test, y_val, y_test = train_test_split(X_valtest, y_valtest, test_size=test_size_2, stratify=y_valtest, random_state=random_state)"
   ]
  },
  {
   "cell_type": "markdown",
   "metadata": {},
   "source": [
    "# Scaling numerical columns (Standardization)"
   ]
  },
  {
   "cell_type": "code",
   "execution_count": 10,
   "metadata": {},
   "outputs": [
    {
     "data": {
      "text/plain": [
       "Index(['Age (yrs)', 'BMI', 'Pulse rate(bpm)', 'Menstrual Cycle Length(days)',\n",
       "       'Marriage Status (Yrs)', 'Pregnant(Y/N)', 'No. of abortions',\n",
       "       'I   beta-HCG(mIU/mL)', 'II    beta-HCG(mIU/mL)', 'FSH/LH',\n",
       "       'Waist:Hip Ratio', 'Weight gain(Y/N)', 'hair growth(Y/N)',\n",
       "       'Skin darkening (Y/N)', 'Hair loss(Y/N)', 'Pimples(Y/N)',\n",
       "       'Fast food (Y/N)', 'Reg.Exercise(Y/N)', 'Follicle No. (L)',\n",
       "       'Follicle No. (R)', 'Avg. F size (L) (mm)', 'Avg. F size (R) (mm)',\n",
       "       'Endometrium (mm)', 'Blood Group_B+', 'Blood Group_O+',\n",
       "       'Menstrual Cycle(R/I)_irregular', 'Menstrual Cycle(R/I)_regular',\n",
       "       'Symptoms score', 'Unhealthy living score', 'Hb(g/dl)_low',\n",
       "       'Hb(g/dl)_normal', 'TSH (mIU/L)_high', 'TSH (mIU/L)_normal',\n",
       "       'AMH(ng/mL)_high', 'AMH(ng/mL)_low', 'AMH(ng/mL)_normal',\n",
       "       'PRL(ng/mL)_high', 'PRL(ng/mL)_normal', 'Vit D3 (ng/mL)_low',\n",
       "       'Vit D3 (ng/mL)_normal', 'I beta-HCG cat_abnormal',\n",
       "       'I beta-HCG cat_normal', 'II beta-HCG cat_abnormal',\n",
       "       'II beta-HCG cat_normal'],\n",
       "      dtype='object')"
      ]
     },
     "execution_count": 10,
     "metadata": {},
     "output_type": "execute_result"
    }
   ],
   "source": [
    "X_train.columns"
   ]
  },
  {
   "cell_type": "code",
   "execution_count": 11,
   "metadata": {},
   "outputs": [
    {
     "data": {
      "text/plain": [
       "['Age (yrs)',\n",
       " 'BMI',\n",
       " 'Pulse rate(bpm)',\n",
       " 'Menstrual Cycle Length(days)',\n",
       " 'Marriage Status (Yrs)',\n",
       " 'No. of abortions',\n",
       " 'I   beta-HCG(mIU/mL)',\n",
       " 'II    beta-HCG(mIU/mL)',\n",
       " 'FSH/LH',\n",
       " 'Waist:Hip Ratio',\n",
       " 'Follicle No. (L)',\n",
       " 'Follicle No. (R)',\n",
       " 'Avg. F size (L) (mm)',\n",
       " 'Avg. F size (R) (mm)',\n",
       " 'Endometrium (mm)',\n",
       " 'Symptoms score',\n",
       " 'Unhealthy living score',\n",
       " 'Hb(g/dl)_low',\n",
       " 'Hb(g/dl)_normal',\n",
       " 'TSH (mIU/L)_high',\n",
       " 'TSH (mIU/L)_normal',\n",
       " 'AMH(ng/mL)_high',\n",
       " 'AMH(ng/mL)_low',\n",
       " 'AMH(ng/mL)_normal',\n",
       " 'PRL(ng/mL)_high',\n",
       " 'PRL(ng/mL)_normal',\n",
       " 'Vit D3 (ng/mL)_low',\n",
       " 'Vit D3 (ng/mL)_normal',\n",
       " 'I beta-HCG cat_abnormal',\n",
       " 'I beta-HCG cat_normal',\n",
       " 'II beta-HCG cat_abnormal',\n",
       " 'II beta-HCG cat_normal']"
      ]
     },
     "execution_count": 11,
     "metadata": {},
     "output_type": "execute_result"
    }
   ],
   "source": [
    "cat_cols = ['Blood Group_A+', 'Blood Group_A-', 'Blood Group_AB+','Blood Group_AB-', \n",
    "'Blood Group_B+', 'Blood Group_B-', 'Blood Group_O+', 'Blood Group_O-', \n",
    "'Menstrual Cycle(R/I)_irregular', 'Menstrual Cycle(R/I)_regular', 'Weight gain(Y/N)', \n",
    "'hair growth(Y/N)', 'Skin darkening (Y/N)', 'Hair loss(Y/N)', 'Pimples(Y/N)',\n",
    "'Fast food (Y/N)', 'Reg.Exercise(Y/N)', 'Pregnant(Y/N)']\n",
    "numerical_cols =  [col for col in list(X_train.columns) if col not in cat_cols]\n",
    "numerical_cols"
   ]
  },
  {
   "cell_type": "code",
   "execution_count": 12,
   "metadata": {},
   "outputs": [],
   "source": [
    "# data standardization with sklearn\n",
    "from sklearn.preprocessing import StandardScaler\n",
    "\n",
    "# copy of datasets\n",
    "X_train_stand = X_train.copy()\n",
    "X_val_stand = X_val.copy()\n",
    "X_test_stand = X_test.copy()\n",
    "\n",
    "# apply standardization on numerical features\n",
    "for i in numerical_cols:\n",
    "    \n",
    "    # fit on training data column\n",
    "    scale = StandardScaler().fit(X_train_stand[[i]])\n",
    "    \n",
    "    # transform the training data column\n",
    "    X_train_stand[i] = scale.transform(X_train_stand[[i]])\n",
    "    \n",
    "    # transform the validation data column\n",
    "    X_val_stand[i] = scale.transform(X_val_stand[[i]])\n",
    "\n",
    "    # transform the testing data column\n",
    "    X_test_stand[i] = scale.transform(X_test_stand[[i]])"
   ]
  },
  {
   "cell_type": "markdown",
   "metadata": {},
   "source": [
    "# Building a neural network (Keras Functional API)"
   ]
  },
  {
   "cell_type": "code",
   "execution_count": 13,
   "metadata": {},
   "outputs": [
    {
     "data": {
      "text/html": [
       "<pre style=\"white-space:pre;overflow-x:auto;line-height:normal;font-family:Menlo,'DejaVu Sans Mono',consolas,'Courier New',monospace\"><span style=\"font-weight: bold\">Model: \"functional\"</span>\n",
       "</pre>\n"
      ],
      "text/plain": [
       "\u001b[1mModel: \"functional\"\u001b[0m\n"
      ]
     },
     "metadata": {},
     "output_type": "display_data"
    },
    {
     "data": {
      "text/html": [
       "<pre style=\"white-space:pre;overflow-x:auto;line-height:normal;font-family:Menlo,'DejaVu Sans Mono',consolas,'Courier New',monospace\">┏━━━━━━━━━━━━━━━━━━━━━━━━━━━━━━━━━┳━━━━━━━━━━━━━━━━━━━━━━━━┳━━━━━━━━━━━━━━━┓\n",
       "┃<span style=\"font-weight: bold\"> Layer (type)                    </span>┃<span style=\"font-weight: bold\"> Output Shape           </span>┃<span style=\"font-weight: bold\">       Param # </span>┃\n",
       "┡━━━━━━━━━━━━━━━━━━━━━━━━━━━━━━━━━╇━━━━━━━━━━━━━━━━━━━━━━━━╇━━━━━━━━━━━━━━━┩\n",
       "│ input_layer (<span style=\"color: #0087ff; text-decoration-color: #0087ff\">InputLayer</span>)        │ (<span style=\"color: #00d7ff; text-decoration-color: #00d7ff\">None</span>, <span style=\"color: #00af00; text-decoration-color: #00af00\">44</span>)             │             <span style=\"color: #00af00; text-decoration-color: #00af00\">0</span> │\n",
       "├─────────────────────────────────┼────────────────────────┼───────────────┤\n",
       "│ dense (<span style=\"color: #0087ff; text-decoration-color: #0087ff\">Dense</span>)                   │ (<span style=\"color: #00d7ff; text-decoration-color: #00d7ff\">None</span>, <span style=\"color: #00af00; text-decoration-color: #00af00\">32</span>)             │         <span style=\"color: #00af00; text-decoration-color: #00af00\">1,440</span> │\n",
       "├─────────────────────────────────┼────────────────────────┼───────────────┤\n",
       "│ dense_1 (<span style=\"color: #0087ff; text-decoration-color: #0087ff\">Dense</span>)                 │ (<span style=\"color: #00d7ff; text-decoration-color: #00d7ff\">None</span>, <span style=\"color: #00af00; text-decoration-color: #00af00\">32</span>)             │         <span style=\"color: #00af00; text-decoration-color: #00af00\">1,056</span> │\n",
       "├─────────────────────────────────┼────────────────────────┼───────────────┤\n",
       "│ dropout (<span style=\"color: #0087ff; text-decoration-color: #0087ff\">Dropout</span>)               │ (<span style=\"color: #00d7ff; text-decoration-color: #00d7ff\">None</span>, <span style=\"color: #00af00; text-decoration-color: #00af00\">32</span>)             │             <span style=\"color: #00af00; text-decoration-color: #00af00\">0</span> │\n",
       "├─────────────────────────────────┼────────────────────────┼───────────────┤\n",
       "│ dense_2 (<span style=\"color: #0087ff; text-decoration-color: #0087ff\">Dense</span>)                 │ (<span style=\"color: #00d7ff; text-decoration-color: #00d7ff\">None</span>, <span style=\"color: #00af00; text-decoration-color: #00af00\">32</span>)             │         <span style=\"color: #00af00; text-decoration-color: #00af00\">1,056</span> │\n",
       "├─────────────────────────────────┼────────────────────────┼───────────────┤\n",
       "│ batch_normalization             │ (<span style=\"color: #00d7ff; text-decoration-color: #00d7ff\">None</span>, <span style=\"color: #00af00; text-decoration-color: #00af00\">32</span>)             │           <span style=\"color: #00af00; text-decoration-color: #00af00\">128</span> │\n",
       "│ (<span style=\"color: #0087ff; text-decoration-color: #0087ff\">BatchNormalization</span>)            │                        │               │\n",
       "├─────────────────────────────────┼────────────────────────┼───────────────┤\n",
       "│ dense_3 (<span style=\"color: #0087ff; text-decoration-color: #0087ff\">Dense</span>)                 │ (<span style=\"color: #00d7ff; text-decoration-color: #00d7ff\">None</span>, <span style=\"color: #00af00; text-decoration-color: #00af00\">1</span>)              │            <span style=\"color: #00af00; text-decoration-color: #00af00\">33</span> │\n",
       "└─────────────────────────────────┴────────────────────────┴───────────────┘\n",
       "</pre>\n"
      ],
      "text/plain": [
       "┏━━━━━━━━━━━━━━━━━━━━━━━━━━━━━━━━━┳━━━━━━━━━━━━━━━━━━━━━━━━┳━━━━━━━━━━━━━━━┓\n",
       "┃\u001b[1m \u001b[0m\u001b[1mLayer (type)                   \u001b[0m\u001b[1m \u001b[0m┃\u001b[1m \u001b[0m\u001b[1mOutput Shape          \u001b[0m\u001b[1m \u001b[0m┃\u001b[1m \u001b[0m\u001b[1m      Param #\u001b[0m\u001b[1m \u001b[0m┃\n",
       "┡━━━━━━━━━━━━━━━━━━━━━━━━━━━━━━━━━╇━━━━━━━━━━━━━━━━━━━━━━━━╇━━━━━━━━━━━━━━━┩\n",
       "│ input_layer (\u001b[38;5;33mInputLayer\u001b[0m)        │ (\u001b[38;5;45mNone\u001b[0m, \u001b[38;5;34m44\u001b[0m)             │             \u001b[38;5;34m0\u001b[0m │\n",
       "├─────────────────────────────────┼────────────────────────┼───────────────┤\n",
       "│ dense (\u001b[38;5;33mDense\u001b[0m)                   │ (\u001b[38;5;45mNone\u001b[0m, \u001b[38;5;34m32\u001b[0m)             │         \u001b[38;5;34m1,440\u001b[0m │\n",
       "├─────────────────────────────────┼────────────────────────┼───────────────┤\n",
       "│ dense_1 (\u001b[38;5;33mDense\u001b[0m)                 │ (\u001b[38;5;45mNone\u001b[0m, \u001b[38;5;34m32\u001b[0m)             │         \u001b[38;5;34m1,056\u001b[0m │\n",
       "├─────────────────────────────────┼────────────────────────┼───────────────┤\n",
       "│ dropout (\u001b[38;5;33mDropout\u001b[0m)               │ (\u001b[38;5;45mNone\u001b[0m, \u001b[38;5;34m32\u001b[0m)             │             \u001b[38;5;34m0\u001b[0m │\n",
       "├─────────────────────────────────┼────────────────────────┼───────────────┤\n",
       "│ dense_2 (\u001b[38;5;33mDense\u001b[0m)                 │ (\u001b[38;5;45mNone\u001b[0m, \u001b[38;5;34m32\u001b[0m)             │         \u001b[38;5;34m1,056\u001b[0m │\n",
       "├─────────────────────────────────┼────────────────────────┼───────────────┤\n",
       "│ batch_normalization             │ (\u001b[38;5;45mNone\u001b[0m, \u001b[38;5;34m32\u001b[0m)             │           \u001b[38;5;34m128\u001b[0m │\n",
       "│ (\u001b[38;5;33mBatchNormalization\u001b[0m)            │                        │               │\n",
       "├─────────────────────────────────┼────────────────────────┼───────────────┤\n",
       "│ dense_3 (\u001b[38;5;33mDense\u001b[0m)                 │ (\u001b[38;5;45mNone\u001b[0m, \u001b[38;5;34m1\u001b[0m)              │            \u001b[38;5;34m33\u001b[0m │\n",
       "└─────────────────────────────────┴────────────────────────┴───────────────┘\n"
      ]
     },
     "metadata": {},
     "output_type": "display_data"
    },
    {
     "data": {
      "text/html": [
       "<pre style=\"white-space:pre;overflow-x:auto;line-height:normal;font-family:Menlo,'DejaVu Sans Mono',consolas,'Courier New',monospace\"><span style=\"font-weight: bold\"> Total params: </span><span style=\"color: #00af00; text-decoration-color: #00af00\">3,713</span> (14.50 KB)\n",
       "</pre>\n"
      ],
      "text/plain": [
       "\u001b[1m Total params: \u001b[0m\u001b[38;5;34m3,713\u001b[0m (14.50 KB)\n"
      ]
     },
     "metadata": {},
     "output_type": "display_data"
    },
    {
     "data": {
      "text/html": [
       "<pre style=\"white-space:pre;overflow-x:auto;line-height:normal;font-family:Menlo,'DejaVu Sans Mono',consolas,'Courier New',monospace\"><span style=\"font-weight: bold\"> Trainable params: </span><span style=\"color: #00af00; text-decoration-color: #00af00\">3,649</span> (14.25 KB)\n",
       "</pre>\n"
      ],
      "text/plain": [
       "\u001b[1m Trainable params: \u001b[0m\u001b[38;5;34m3,649\u001b[0m (14.25 KB)\n"
      ]
     },
     "metadata": {},
     "output_type": "display_data"
    },
    {
     "data": {
      "text/html": [
       "<pre style=\"white-space:pre;overflow-x:auto;line-height:normal;font-family:Menlo,'DejaVu Sans Mono',consolas,'Courier New',monospace\"><span style=\"font-weight: bold\"> Non-trainable params: </span><span style=\"color: #00af00; text-decoration-color: #00af00\">64</span> (256.00 B)\n",
       "</pre>\n"
      ],
      "text/plain": [
       "\u001b[1m Non-trainable params: \u001b[0m\u001b[38;5;34m64\u001b[0m (256.00 B)\n"
      ]
     },
     "metadata": {},
     "output_type": "display_data"
    }
   ],
   "source": [
    "inputs = Input(shape=X_train_stand.shape[1:])\n",
    "x = Dense(32, activation=\"relu\")(inputs)\n",
    "x = Dense(32, activation=\"relu\")(x)\n",
    "x = Dropout(rate=0.2, seed=1)(x)\n",
    "x = Dense(32, activation=\"relu\")(x)\n",
    "x = BatchNormalization()(x)\n",
    "outputs = Dense(1, activation=\"sigmoid\")(x)\n",
    "model = Model(inputs=inputs, outputs=outputs)\n",
    "model.summary()"
   ]
  },
  {
   "cell_type": "code",
   "execution_count": 16,
   "metadata": {},
   "outputs": [
    {
     "name": "stdout",
     "output_type": "stream",
     "text": [
      "You must install graphviz (see instructions at https://graphviz.gitlab.io/download/) for `plot_model` to work.\n"
     ]
    }
   ],
   "source": [
    "keras.utils.plot_model(model, \"my_first_model.png\", show_shapes=True)"
   ]
  },
  {
   "cell_type": "code",
   "execution_count": 17,
   "metadata": {},
   "outputs": [],
   "source": [
    "my_callbacks = [\n",
    "    #keras.callbacks.EarlyStopping(patience=2, min_delta=0.0012),\n",
    "    #keras.callbacks.ModelCheckpoint(filepath='model.{epoch:02d}-{val_loss:.2f}.h5'),\n",
    "    #keras.callbacks.TensorBoard(log_dir='./logs')\n",
    "]"
   ]
  },
  {
   "cell_type": "code",
   "execution_count": 20,
   "metadata": {},
   "outputs": [
    {
     "name": "stdout",
     "output_type": "stream",
     "text": [
      "Epoch 1/50\n",
      "\u001b[1m5/5\u001b[0m \u001b[32m━━━━━━━━━━━━━━━━━━━━\u001b[0m\u001b[37m\u001b[0m \u001b[1m2s\u001b[0m 113ms/step - auc_2: 0.9999 - loss: 1.2310e-04 - precision_2: 0.9878 - recall_2: 0.9817 - val_auc_2: 0.8893 - val_loss: 0.4610 - val_precision_2: 0.8235 - val_recall_2: 0.8235\n",
      "Epoch 2/50\n",
      "\u001b[1m5/5\u001b[0m \u001b[32m━━━━━━━━━━━━━━━━━━━━\u001b[0m\u001b[37m\u001b[0m \u001b[1m0s\u001b[0m 18ms/step - auc_2: 0.9998 - loss: 1.3249e-04 - precision_2: 0.9878 - recall_2: 0.9817 - val_auc_2: 0.8862 - val_loss: 0.4759 - val_precision_2: 0.8182 - val_recall_2: 0.7941\n",
      "Epoch 3/50\n",
      "\u001b[1m5/5\u001b[0m \u001b[32m━━━━━━━━━━━━━━━━━━━━\u001b[0m\u001b[37m\u001b[0m \u001b[1m0s\u001b[0m 19ms/step - auc_2: 1.0000 - loss: 8.5331e-05 - precision_2: 1.0000 - recall_2: 1.0000 - val_auc_2: 0.8840 - val_loss: 0.4893 - val_precision_2: 0.8182 - val_recall_2: 0.7941\n",
      "Epoch 4/50\n",
      "\u001b[1m5/5\u001b[0m \u001b[32m━━━━━━━━━━━━━━━━━━━━\u001b[0m\u001b[37m\u001b[0m \u001b[1m0s\u001b[0m 18ms/step - auc_2: 0.9997 - loss: 9.4577e-05 - precision_2: 1.0000 - recall_2: 0.9967 - val_auc_2: 0.8826 - val_loss: 0.4996 - val_precision_2: 0.8182 - val_recall_2: 0.7941\n",
      "Epoch 5/50\n",
      "\u001b[1m5/5\u001b[0m \u001b[32m━━━━━━━━━━━━━━━━━━━━\u001b[0m\u001b[37m\u001b[0m \u001b[1m0s\u001b[0m 26ms/step - auc_2: 0.9992 - loss: 1.2797e-04 - precision_2: 0.9847 - recall_2: 0.9918 - val_auc_2: 0.8868 - val_loss: 0.4999 - val_precision_2: 0.8235 - val_recall_2: 0.8235\n",
      "Epoch 6/50\n",
      "\u001b[1m5/5\u001b[0m \u001b[32m━━━━━━━━━━━━━━━━━━━━\u001b[0m\u001b[37m\u001b[0m \u001b[1m0s\u001b[0m 20ms/step - auc_2: 1.0000 - loss: 7.6560e-05 - precision_2: 0.9880 - recall_2: 1.0000 - val_auc_2: 0.8875 - val_loss: 0.5026 - val_precision_2: 0.8000 - val_recall_2: 0.8235\n",
      "Epoch 7/50\n",
      "\u001b[1m5/5\u001b[0m \u001b[32m━━━━━━━━━━━━━━━━━━━━\u001b[0m\u001b[37m\u001b[0m \u001b[1m0s\u001b[0m 18ms/step - auc_2: 1.0000 - loss: 7.4330e-05 - precision_2: 1.0000 - recall_2: 1.0000 - val_auc_2: 0.8905 - val_loss: 0.5060 - val_precision_2: 0.8235 - val_recall_2: 0.8235\n",
      "Epoch 8/50\n",
      "\u001b[1m5/5\u001b[0m \u001b[32m━━━━━━━━━━━━━━━━━━━━\u001b[0m\u001b[37m\u001b[0m \u001b[1m0s\u001b[0m 19ms/step - auc_2: 1.0000 - loss: 1.0132e-04 - precision_2: 1.0000 - recall_2: 0.9817 - val_auc_2: 0.8926 - val_loss: 0.5120 - val_precision_2: 0.8000 - val_recall_2: 0.8235\n",
      "Epoch 9/50\n",
      "\u001b[1m5/5\u001b[0m \u001b[32m━━━━━━━━━━━━━━━━━━━━\u001b[0m\u001b[37m\u001b[0m \u001b[1m0s\u001b[0m 21ms/step - auc_2: 1.0000 - loss: 6.1767e-05 - precision_2: 1.0000 - recall_2: 0.9967 - val_auc_2: 0.8936 - val_loss: 0.5136 - val_precision_2: 0.8000 - val_recall_2: 0.8235\n",
      "Epoch 10/50\n",
      "\u001b[1m5/5\u001b[0m \u001b[32m━━━━━━━━━━━━━━━━━━━━\u001b[0m\u001b[37m\u001b[0m \u001b[1m0s\u001b[0m 21ms/step - auc_2: 1.0000 - loss: 7.6647e-05 - precision_2: 1.0000 - recall_2: 1.0000 - val_auc_2: 0.8930 - val_loss: 0.5193 - val_precision_2: 0.8000 - val_recall_2: 0.8235\n",
      "Epoch 11/50\n",
      "\u001b[1m5/5\u001b[0m \u001b[32m━━━━━━━━━━━━━━━━━━━━\u001b[0m\u001b[37m\u001b[0m \u001b[1m0s\u001b[0m 17ms/step - auc_2: 1.0000 - loss: 6.0277e-05 - precision_2: 1.0000 - recall_2: 1.0000 - val_auc_2: 0.8915 - val_loss: 0.5324 - val_precision_2: 0.7778 - val_recall_2: 0.8235\n",
      "Epoch 12/50\n",
      "\u001b[1m5/5\u001b[0m \u001b[32m━━━━━━━━━━━━━━━━━━━━\u001b[0m\u001b[37m\u001b[0m \u001b[1m0s\u001b[0m 19ms/step - auc_2: 1.0000 - loss: 7.0579e-05 - precision_2: 0.9947 - recall_2: 1.0000 - val_auc_2: 0.8917 - val_loss: 0.5448 - val_precision_2: 0.7778 - val_recall_2: 0.8235\n",
      "Epoch 13/50\n",
      "\u001b[1m5/5\u001b[0m \u001b[32m━━━━━━━━━━━━━━━━━━━━\u001b[0m\u001b[37m\u001b[0m \u001b[1m0s\u001b[0m 21ms/step - auc_2: 1.0000 - loss: 4.9590e-05 - precision_2: 1.0000 - recall_2: 1.0000 - val_auc_2: 0.8907 - val_loss: 0.5495 - val_precision_2: 0.8000 - val_recall_2: 0.8235\n",
      "Epoch 14/50\n",
      "\u001b[1m5/5\u001b[0m \u001b[32m━━━━━━━━━━━━━━━━━━━━\u001b[0m\u001b[37m\u001b[0m \u001b[1m0s\u001b[0m 21ms/step - auc_2: 1.0000 - loss: 8.1853e-05 - precision_2: 0.9880 - recall_2: 1.0000 - val_auc_2: 0.8920 - val_loss: 0.5551 - val_precision_2: 0.8000 - val_recall_2: 0.8235\n",
      "Epoch 15/50\n",
      "\u001b[1m5/5\u001b[0m \u001b[32m━━━━━━━━━━━━━━━━━━━━\u001b[0m\u001b[37m\u001b[0m \u001b[1m0s\u001b[0m 18ms/step - auc_2: 0.9999 - loss: 5.5193e-05 - precision_2: 0.9919 - recall_2: 1.0000 - val_auc_2: 0.8926 - val_loss: 0.5576 - val_precision_2: 0.8000 - val_recall_2: 0.8235\n",
      "Epoch 16/50\n",
      "\u001b[1m5/5\u001b[0m \u001b[32m━━━━━━━━━━━━━━━━━━━━\u001b[0m\u001b[37m\u001b[0m \u001b[1m0s\u001b[0m 19ms/step - auc_2: 0.9998 - loss: 7.0412e-05 - precision_2: 0.9946 - recall_2: 0.9946 - val_auc_2: 0.8954 - val_loss: 0.5649 - val_precision_2: 0.8000 - val_recall_2: 0.8235\n",
      "Epoch 17/50\n",
      "\u001b[1m5/5\u001b[0m \u001b[32m━━━━━━━━━━━━━━━━━━━━\u001b[0m\u001b[37m\u001b[0m \u001b[1m0s\u001b[0m 20ms/step - auc_2: 1.0000 - loss: 6.2177e-05 - precision_2: 0.9867 - recall_2: 1.0000 - val_auc_2: 0.8971 - val_loss: 0.5711 - val_precision_2: 0.8000 - val_recall_2: 0.8235\n",
      "Epoch 18/50\n",
      "\u001b[1m5/5\u001b[0m \u001b[32m━━━━━━━━━━━━━━━━━━━━\u001b[0m\u001b[37m\u001b[0m \u001b[1m0s\u001b[0m 18ms/step - auc_2: 1.0000 - loss: 6.0131e-05 - precision_2: 0.9880 - recall_2: 1.0000 - val_auc_2: 0.8981 - val_loss: 0.5721 - val_precision_2: 0.8000 - val_recall_2: 0.8235\n",
      "Epoch 19/50\n",
      "\u001b[1m5/5\u001b[0m \u001b[32m━━━━━━━━━━━━━━━━━━━━\u001b[0m\u001b[37m\u001b[0m \u001b[1m0s\u001b[0m 17ms/step - auc_2: 1.0000 - loss: 4.0760e-05 - precision_2: 0.9947 - recall_2: 1.0000 - val_auc_2: 0.8893 - val_loss: 0.5719 - val_precision_2: 0.8000 - val_recall_2: 0.8235\n",
      "Epoch 20/50\n",
      "\u001b[1m5/5\u001b[0m \u001b[32m━━━━━━━━━━━━━━━━━━━━\u001b[0m\u001b[37m\u001b[0m \u001b[1m0s\u001b[0m 19ms/step - auc_2: 1.0000 - loss: 6.2536e-05 - precision_2: 0.9880 - recall_2: 1.0000 - val_auc_2: 0.8979 - val_loss: 0.5738 - val_precision_2: 0.8000 - val_recall_2: 0.8235\n",
      "Epoch 21/50\n",
      "\u001b[1m5/5\u001b[0m \u001b[32m━━━━━━━━━━━━━━━━━━━━\u001b[0m\u001b[37m\u001b[0m \u001b[1m0s\u001b[0m 19ms/step - auc_2: 0.9986 - loss: 1.8703e-04 - precision_2: 1.0000 - recall_2: 0.9784 - val_auc_2: 0.8983 - val_loss: 0.5749 - val_precision_2: 0.8000 - val_recall_2: 0.8235\n",
      "Epoch 22/50\n",
      "\u001b[1m5/5\u001b[0m \u001b[32m━━━━━━━━━━━━━━━━━━━━\u001b[0m\u001b[37m\u001b[0m \u001b[1m0s\u001b[0m 20ms/step - auc_2: 1.0000 - loss: 4.6984e-05 - precision_2: 0.9947 - recall_2: 1.0000 - val_auc_2: 0.8981 - val_loss: 0.5883 - val_precision_2: 0.8000 - val_recall_2: 0.8235\n",
      "Epoch 23/50\n",
      "\u001b[1m5/5\u001b[0m \u001b[32m━━━━━━━━━━━━━━━━━━━━\u001b[0m\u001b[37m\u001b[0m \u001b[1m0s\u001b[0m 14ms/step - auc_2: 1.0000 - loss: 3.3106e-05 - precision_2: 0.9968 - recall_2: 1.0000 - val_auc_2: 0.8981 - val_loss: 0.5909 - val_precision_2: 0.8000 - val_recall_2: 0.8235\n",
      "Epoch 24/50\n",
      "\u001b[1m5/5\u001b[0m \u001b[32m━━━━━━━━━━━━━━━━━━━━\u001b[0m\u001b[37m\u001b[0m \u001b[1m0s\u001b[0m 20ms/step - auc_2: 1.0000 - loss: 7.0130e-05 - precision_2: 0.9849 - recall_2: 1.0000 - val_auc_2: 0.9009 - val_loss: 0.5827 - val_precision_2: 0.8000 - val_recall_2: 0.8235\n",
      "Epoch 25/50\n",
      "\u001b[1m5/5\u001b[0m \u001b[32m━━━━━━━━━━━━━━━━━━━━\u001b[0m\u001b[37m\u001b[0m \u001b[1m0s\u001b[0m 16ms/step - auc_2: 1.0000 - loss: 4.3396e-05 - precision_2: 1.0000 - recall_2: 1.0000 - val_auc_2: 0.8989 - val_loss: 0.5806 - val_precision_2: 0.8000 - val_recall_2: 0.8235\n",
      "Epoch 26/50\n",
      "\u001b[1m5/5\u001b[0m \u001b[32m━━━━━━━━━━━━━━━━━━━━\u001b[0m\u001b[37m\u001b[0m \u001b[1m0s\u001b[0m 20ms/step - auc_2: 1.0000 - loss: 5.6371e-05 - precision_2: 1.0000 - recall_2: 1.0000 - val_auc_2: 0.8985 - val_loss: 0.5847 - val_precision_2: 0.7941 - val_recall_2: 0.7941\n",
      "Epoch 27/50\n",
      "\u001b[1m5/5\u001b[0m \u001b[32m━━━━━━━━━━━━━━━━━━━━\u001b[0m\u001b[37m\u001b[0m \u001b[1m0s\u001b[0m 17ms/step - auc_2: 1.0000 - loss: 5.2246e-05 - precision_2: 0.9968 - recall_2: 1.0000 - val_auc_2: 0.8991 - val_loss: 0.5900 - val_precision_2: 0.7941 - val_recall_2: 0.7941\n",
      "Epoch 28/50\n",
      "\u001b[1m5/5\u001b[0m \u001b[32m━━━━━━━━━━━━━━━━━━━━\u001b[0m\u001b[37m\u001b[0m \u001b[1m0s\u001b[0m 19ms/step - auc_2: 1.0000 - loss: 1.0480e-04 - precision_2: 1.0000 - recall_2: 0.9695 - val_auc_2: 0.8997 - val_loss: 0.5945 - val_precision_2: 0.7941 - val_recall_2: 0.7941\n",
      "Epoch 29/50\n",
      "\u001b[1m5/5\u001b[0m \u001b[32m━━━━━━━━━━━━━━━━━━━━\u001b[0m\u001b[37m\u001b[0m \u001b[1m0s\u001b[0m 19ms/step - auc_2: 1.0000 - loss: 3.0051e-05 - precision_2: 0.9947 - recall_2: 1.0000 - val_auc_2: 0.8913 - val_loss: 0.5997 - val_precision_2: 0.8000 - val_recall_2: 0.8235\n",
      "Epoch 30/50\n",
      "\u001b[1m5/5\u001b[0m \u001b[32m━━━━━━━━━━━━━━━━━━━━\u001b[0m\u001b[37m\u001b[0m \u001b[1m0s\u001b[0m 17ms/step - auc_2: 0.9998 - loss: 1.0641e-04 - precision_2: 1.0000 - recall_2: 0.9763 - val_auc_2: 0.8924 - val_loss: 0.6070 - val_precision_2: 0.8000 - val_recall_2: 0.8235\n",
      "Epoch 31/50\n",
      "\u001b[1m5/5\u001b[0m \u001b[32m━━━━━━━━━━━━━━━━━━━━\u001b[0m\u001b[37m\u001b[0m \u001b[1m0s\u001b[0m 16ms/step - auc_2: 1.0000 - loss: 3.3119e-05 - precision_2: 0.9968 - recall_2: 1.0000 - val_auc_2: 0.8928 - val_loss: 0.6189 - val_precision_2: 0.8000 - val_recall_2: 0.8235\n",
      "Epoch 32/50\n",
      "\u001b[1m5/5\u001b[0m \u001b[32m━━━━━━━━━━━━━━━━━━━━\u001b[0m\u001b[37m\u001b[0m \u001b[1m0s\u001b[0m 17ms/step - auc_2: 1.0000 - loss: 2.7388e-05 - precision_2: 1.0000 - recall_2: 1.0000 - val_auc_2: 0.8928 - val_loss: 0.6352 - val_precision_2: 0.8000 - val_recall_2: 0.8235\n",
      "Epoch 33/50\n",
      "\u001b[1m5/5\u001b[0m \u001b[32m━━━━━━━━━━━━━━━━━━━━\u001b[0m\u001b[37m\u001b[0m \u001b[1m0s\u001b[0m 16ms/step - auc_2: 1.0000 - loss: 4.7383e-05 - precision_2: 0.9946 - recall_2: 0.9946 - val_auc_2: 0.8924 - val_loss: 0.6488 - val_precision_2: 0.8000 - val_recall_2: 0.8235\n",
      "Epoch 34/50\n",
      "\u001b[1m5/5\u001b[0m \u001b[32m━━━━━━━━━━━━━━━━━━━━\u001b[0m\u001b[37m\u001b[0m \u001b[1m0s\u001b[0m 18ms/step - auc_2: 0.9999 - loss: 5.2439e-05 - precision_2: 0.9865 - recall_2: 0.9918 - val_auc_2: 0.8928 - val_loss: 0.6611 - val_precision_2: 0.8000 - val_recall_2: 0.8235\n",
      "Epoch 35/50\n",
      "\u001b[1m5/5\u001b[0m \u001b[32m━━━━━━━━━━━━━━━━━━━━\u001b[0m\u001b[37m\u001b[0m \u001b[1m0s\u001b[0m 18ms/step - auc_2: 0.9999 - loss: 1.0388e-04 - precision_2: 0.9946 - recall_2: 0.9817 - val_auc_2: 0.8922 - val_loss: 0.6896 - val_precision_2: 0.8000 - val_recall_2: 0.8235\n",
      "Epoch 36/50\n",
      "\u001b[1m5/5\u001b[0m \u001b[32m━━━━━━━━━━━━━━━━━━━━\u001b[0m\u001b[37m\u001b[0m \u001b[1m0s\u001b[0m 16ms/step - auc_2: 1.0000 - loss: 2.5074e-05 - precision_2: 1.0000 - recall_2: 1.0000 - val_auc_2: 0.8905 - val_loss: 0.7072 - val_precision_2: 0.8000 - val_recall_2: 0.8235\n",
      "Epoch 37/50\n",
      "\u001b[1m5/5\u001b[0m \u001b[32m━━━━━━━━━━━━━━━━━━━━\u001b[0m\u001b[37m\u001b[0m \u001b[1m0s\u001b[0m 16ms/step - auc_2: 1.0000 - loss: 2.9295e-05 - precision_2: 1.0000 - recall_2: 1.0000 - val_auc_2: 0.8917 - val_loss: 0.7118 - val_precision_2: 0.8000 - val_recall_2: 0.8235\n",
      "Epoch 38/50\n",
      "\u001b[1m5/5\u001b[0m \u001b[32m━━━━━━━━━━━━━━━━━━━━\u001b[0m\u001b[37m\u001b[0m \u001b[1m0s\u001b[0m 17ms/step - auc_2: 1.0000 - loss: 4.1544e-05 - precision_2: 0.9867 - recall_2: 1.0000 - val_auc_2: 0.8924 - val_loss: 0.7003 - val_precision_2: 0.8000 - val_recall_2: 0.8235\n",
      "Epoch 39/50\n",
      "\u001b[1m5/5\u001b[0m \u001b[32m━━━━━━━━━━━━━━━━━━━━\u001b[0m\u001b[37m\u001b[0m \u001b[1m0s\u001b[0m 16ms/step - auc_2: 1.0000 - loss: 5.3624e-05 - precision_2: 1.0000 - recall_2: 0.9817 - val_auc_2: 0.8913 - val_loss: 0.6932 - val_precision_2: 0.8000 - val_recall_2: 0.8235\n",
      "Epoch 40/50\n",
      "\u001b[1m5/5\u001b[0m \u001b[32m━━━━━━━━━━━━━━━━━━━━\u001b[0m\u001b[37m\u001b[0m \u001b[1m0s\u001b[0m 18ms/step - auc_2: 1.0000 - loss: 5.7809e-05 - precision_2: 1.0000 - recall_2: 0.9967 - val_auc_2: 0.8905 - val_loss: 0.6992 - val_precision_2: 0.8000 - val_recall_2: 0.8235\n",
      "Epoch 41/50\n",
      "\u001b[1m5/5\u001b[0m \u001b[32m━━━━━━━━━━━━━━━━━━━━\u001b[0m\u001b[37m\u001b[0m \u001b[1m0s\u001b[0m 20ms/step - auc_2: 1.0000 - loss: 2.2109e-05 - precision_2: 1.0000 - recall_2: 1.0000 - val_auc_2: 0.8905 - val_loss: 0.7145 - val_precision_2: 0.7500 - val_recall_2: 0.7941\n",
      "Epoch 42/50\n",
      "\u001b[1m5/5\u001b[0m \u001b[32m━━━━━━━━━━━━━━━━━━━━\u001b[0m\u001b[37m\u001b[0m \u001b[1m0s\u001b[0m 16ms/step - auc_2: 1.0000 - loss: 5.3376e-05 - precision_2: 1.0000 - recall_2: 0.9817 - val_auc_2: 0.8907 - val_loss: 0.7172 - val_precision_2: 0.7500 - val_recall_2: 0.7941\n",
      "Epoch 43/50\n",
      "\u001b[1m5/5\u001b[0m \u001b[32m━━━━━━━━━━━━━━━━━━━━\u001b[0m\u001b[37m\u001b[0m \u001b[1m0s\u001b[0m 18ms/step - auc_2: 1.0000 - loss: 4.2196e-05 - precision_2: 0.9821 - recall_2: 1.0000 - val_auc_2: 0.8885 - val_loss: 0.7173 - val_precision_2: 0.7500 - val_recall_2: 0.7941\n",
      "Epoch 44/50\n",
      "\u001b[1m5/5\u001b[0m \u001b[32m━━━━━━━━━━━━━━━━━━━━\u001b[0m\u001b[37m\u001b[0m \u001b[1m0s\u001b[0m 18ms/step - auc_2: 0.9999 - loss: 3.7410e-05 - precision_2: 1.0000 - recall_2: 0.9967 - val_auc_2: 0.8885 - val_loss: 0.7179 - val_precision_2: 0.7500 - val_recall_2: 0.7941\n",
      "Epoch 45/50\n",
      "\u001b[1m5/5\u001b[0m \u001b[32m━━━━━━━━━━━━━━━━━━━━\u001b[0m\u001b[37m\u001b[0m \u001b[1m0s\u001b[0m 21ms/step - auc_2: 0.9998 - loss: 1.0804e-04 - precision_2: 0.9876 - recall_2: 0.9633 - val_auc_2: 0.8905 - val_loss: 0.7233 - val_precision_2: 0.7778 - val_recall_2: 0.8235\n",
      "Epoch 46/50\n",
      "\u001b[1m5/5\u001b[0m \u001b[32m━━━━━━━━━━━━━━━━━━━━\u001b[0m\u001b[37m\u001b[0m \u001b[1m0s\u001b[0m 15ms/step - auc_2: 1.0000 - loss: 4.4062e-05 - precision_2: 0.9895 - recall_2: 1.0000 - val_auc_2: 0.8875 - val_loss: 0.7178 - val_precision_2: 0.7778 - val_recall_2: 0.8235\n",
      "Epoch 47/50\n",
      "\u001b[1m5/5\u001b[0m \u001b[32m━━━━━━━━━━━━━━━━━━━━\u001b[0m\u001b[37m\u001b[0m \u001b[1m0s\u001b[0m 17ms/step - auc_2: 1.0000 - loss: 1.9616e-05 - precision_2: 1.0000 - recall_2: 1.0000 - val_auc_2: 0.8891 - val_loss: 0.7107 - val_precision_2: 0.7778 - val_recall_2: 0.8235\n",
      "Epoch 48/50\n",
      "\u001b[1m5/5\u001b[0m \u001b[32m━━━━━━━━━━━━━━━━━━━━\u001b[0m\u001b[37m\u001b[0m \u001b[1m0s\u001b[0m 16ms/step - auc_2: 1.0000 - loss: 2.2238e-05 - precision_2: 1.0000 - recall_2: 1.0000 - val_auc_2: 0.8905 - val_loss: 0.7055 - val_precision_2: 0.8000 - val_recall_2: 0.8235\n",
      "Epoch 49/50\n",
      "\u001b[1m5/5\u001b[0m \u001b[32m━━━━━━━━━━━━━━━━━━━━\u001b[0m\u001b[37m\u001b[0m \u001b[1m0s\u001b[0m 18ms/step - auc_2: 0.9994 - loss: 1.2021e-04 - precision_2: 1.0000 - recall_2: 0.9817 - val_auc_2: 0.8926 - val_loss: 0.7125 - val_precision_2: 0.8000 - val_recall_2: 0.8235\n",
      "Epoch 50/50\n",
      "\u001b[1m5/5\u001b[0m \u001b[32m━━━━━━━━━━━━━━━━━━━━\u001b[0m\u001b[37m\u001b[0m \u001b[1m0s\u001b[0m 16ms/step - auc_2: 1.0000 - loss: 5.1592e-05 - precision_2: 1.0000 - recall_2: 0.9967 - val_auc_2: 0.8907 - val_loss: 0.7193 - val_precision_2: 0.7778 - val_recall_2: 0.8235\n",
      "4/4 - 0s - 8ms/step - auc_2: 0.9276 - loss: 0.5919 - precision_2: 0.7838 - recall_2: 0.8286\n",
      "0.5919162034988403 0.9275653958320618 0.7837837934494019 0.8285714387893677\n"
     ]
    }
   ],
   "source": [
    "model.compile(loss= BinaryCrossentropy() , optimizer=Adam() , metrics=[AUC, Precision, Recall]) \n",
    "history = model.fit(x=X_train_stand, y=y_train, batch_size=64, epochs=50, validation_data=(X_val_stand, y_val), class_weight={0: weight_for_0, 1: weight_for_1}, callbacks=my_callbacks)\n",
    "test_loss, test_auc, test_precision, test_recall = model.evaluate(X_test_stand, y_test, verbose=2)\n",
    "print(test_loss, test_auc, test_precision, test_recall)"
   ]
  },
  {
   "cell_type": "markdown",
   "metadata": {},
   "source": [
    "# Using Keras_tuner"
   ]
  },
  {
   "cell_type": "code",
   "execution_count": 21,
   "metadata": {},
   "outputs": [],
   "source": [
    "import keras_tuner\n",
    "class MyHyperModel(keras_tuner.HyperModel):\n",
    "    def build(self, hp):\n",
    "        # Tune the number of layers.\n",
    "        inputs = Input(shape=X_train.shape[1:])\n",
    "        x = Dense(32, activation=\"relu\")(inputs)\n",
    "        for i in range(hp.Int(\"num_layers\", 1, 4)):\n",
    "            x = Dense(\n",
    "                    # Tune number of units separately.\n",
    "                    units=hp.Int(f\"units_{i}\", min_value=32, max_value=320, step=32),\n",
    "                    activation=hp.Choice(f\"activation_{i}\", [\"relu\", \"tanh\"])\n",
    "                )(x)\n",
    "        if hp.Boolean(\"dropout\"):\n",
    "            x = (Dropout(rate=hp.Float(\"dropout_rate\", min_value=0.1, max_value=0.3, step=0.1)))(x)\n",
    "        if hp.Boolean(\"batch_norm\"): \n",
    "            x = BatchNormalization()(x)\n",
    "        outputs = Dense(1, activation=\"sigmoid\")(x)\n",
    "        model = Model(inputs=inputs, outputs=outputs) \n",
    "        learning_rate = hp.Float(\"lr\", min_value=1e-4, max_value=1e-2, sampling=\"log\")\n",
    "        model.compile(loss=BinaryCrossentropy(), optimizer=Adam(learning_rate=learning_rate) , metrics=[AUC]) \n",
    "        return model\n",
    "\n",
    "    # It is generally not needed to tune the number of epochs because a built-in callback is passed to model.fit()\n",
    "    # to save the model at its best epoch evaluated by the validation_data.\n",
    "    def fit(self, hp, model, *args, **kwargs):\n",
    "        return model.fit(\n",
    "            *args,\n",
    "            batch_size=hp.Int(\"batch_size\", min_value=32, max_value=128, step=32),\n",
    "            **kwargs\n",
    "        )"
   ]
  },
  {
   "cell_type": "code",
   "execution_count": 22,
   "metadata": {},
   "outputs": [
    {
     "name": "stdout",
     "output_type": "stream",
     "text": [
      "\u001b[1m10/10\u001b[0m \u001b[32m━━━━━━━━━━━━━━━━━━━━\u001b[0m\u001b[37m\u001b[0m \u001b[1m1s\u001b[0m 28ms/step - auc_3: 0.4504 - loss: 0.0028 - val_auc_3: 0.4026 - val_loss: 0.7177\n"
     ]
    },
    {
     "data": {
      "text/plain": [
       "<keras.src.callbacks.history.History at 0x1bd63e26e10>"
      ]
     },
     "execution_count": 22,
     "metadata": {},
     "output_type": "execute_result"
    }
   ],
   "source": [
    "# Quick check to see if the code is working correctly\n",
    "hp = keras_tuner.HyperParameters()\n",
    "hypermodel = MyHyperModel()\n",
    "model = hypermodel.build(hp)\n",
    "hypermodel.fit(hp, model, x=X_train_stand, y=y_train, validation_data=(X_val_stand, y_val), class_weight={0: weight_for_0, 1: weight_for_1})"
   ]
  },
  {
   "cell_type": "markdown",
   "metadata": {},
   "source": [
    "During the search, the model-building function is called with different hyperparameter values in different trial. In each trial, the tuner would generate a new set of hyperparameter values to build the model. The model is then fit and evaluated. The metrics are recorded. The tuner progressively explores the space and finally finds a good set of hyperparameter values."
   ]
  },
  {
   "cell_type": "code",
   "execution_count": 23,
   "metadata": {},
   "outputs": [
    {
     "name": "stdout",
     "output_type": "stream",
     "text": [
      "Search space summary\n",
      "Default search space size: 6\n",
      "num_layers (Int)\n",
      "{'default': None, 'conditions': [], 'min_value': 1, 'max_value': 4, 'step': 1, 'sampling': 'linear'}\n",
      "units_0 (Int)\n",
      "{'default': None, 'conditions': [], 'min_value': 32, 'max_value': 320, 'step': 32, 'sampling': 'linear'}\n",
      "activation_0 (Choice)\n",
      "{'default': 'relu', 'conditions': [], 'values': ['relu', 'tanh'], 'ordered': False}\n",
      "dropout (Boolean)\n",
      "{'default': False, 'conditions': []}\n",
      "batch_norm (Boolean)\n",
      "{'default': False, 'conditions': []}\n",
      "lr (Float)\n",
      "{'default': 0.0001, 'conditions': [], 'min_value': 0.0001, 'max_value': 0.01, 'step': None, 'sampling': 'log'}\n"
     ]
    }
   ],
   "source": [
    "# Select a tuner class: RandomSearch, BayesianOptimization and Hyperband (Each corresponds to one tuning algorithm.)\n",
    "tuner = keras_tuner.RandomSearch(\n",
    "    hypermodel=MyHyperModel(),\n",
    "    objective=keras_tuner.Objective(\"val_auc\", direction=\"max\"),\n",
    "    max_trials=5,\n",
    "    overwrite=True,\n",
    "    directory=\"neural_network_results\",\n",
    "    project_name=\"tune_hypermodel\"\n",
    ")\n",
    "tuner.search_space_summary()\n"
   ]
  },
  {
   "cell_type": "code",
   "execution_count": 24,
   "metadata": {},
   "outputs": [
    {
     "name": "stdout",
     "output_type": "stream",
     "text": [
      "Trial 5 Complete [00h 00m 02s]\n",
      "val_auc: 0.9070670008659363\n",
      "\n",
      "Best val_auc So Far: 0.9070670008659363\n",
      "Total elapsed time: 00h 00m 12s\n",
      "Results summary\n",
      "Results in neural_network_results\\tune_hypermodel\n",
      "Showing 10 best trials\n",
      "Objective(name=\"val_auc\", direction=\"max\")\n",
      "\n",
      "Trial 4 summary\n",
      "Hyperparameters:\n",
      "num_layers: 3\n",
      "units_0: 192\n",
      "activation_0: relu\n",
      "dropout: False\n",
      "batch_norm: True\n",
      "lr: 0.005283071526371937\n",
      "units_1: 256\n",
      "activation_1: relu\n",
      "units_2: 32\n",
      "activation_2: relu\n",
      "batch_size: 32\n",
      "units_3: 64\n",
      "activation_3: relu\n",
      "dropout_rate: 0.2\n",
      "Score: 0.9070670008659363\n",
      "\n",
      "Trial 3 summary\n",
      "Hyperparameters:\n",
      "num_layers: 4\n",
      "units_0: 96\n",
      "activation_0: relu\n",
      "dropout: True\n",
      "batch_norm: False\n",
      "lr: 0.004116823186183904\n",
      "units_1: 288\n",
      "activation_1: tanh\n",
      "units_2: 192\n",
      "activation_2: relu\n",
      "batch_size: 32\n",
      "units_3: 256\n",
      "activation_3: tanh\n",
      "dropout_rate: 0.1\n",
      "Score: 0.8988970518112183\n",
      "\n",
      "Trial 2 summary\n",
      "Hyperparameters:\n",
      "num_layers: 1\n",
      "units_0: 64\n",
      "activation_0: tanh\n",
      "dropout: True\n",
      "batch_norm: False\n",
      "lr: 0.008516344844733455\n",
      "units_1: 192\n",
      "activation_1: relu\n",
      "units_2: 256\n",
      "activation_2: tanh\n",
      "batch_size: 128\n",
      "units_3: 320\n",
      "activation_3: relu\n",
      "dropout_rate: 0.1\n",
      "Score: 0.8686683177947998\n",
      "\n",
      "Trial 1 summary\n",
      "Hyperparameters:\n",
      "num_layers: 4\n",
      "units_0: 64\n",
      "activation_0: relu\n",
      "dropout: False\n",
      "batch_norm: False\n",
      "lr: 0.00038593719959256805\n",
      "units_1: 288\n",
      "activation_1: relu\n",
      "units_2: 128\n",
      "activation_2: tanh\n",
      "batch_size: 64\n",
      "units_3: 32\n",
      "activation_3: relu\n",
      "Score: 0.5964052081108093\n",
      "\n",
      "Trial 0 summary\n",
      "Hyperparameters:\n",
      "num_layers: 3\n",
      "units_0: 96\n",
      "activation_0: relu\n",
      "dropout: False\n",
      "batch_norm: True\n",
      "lr: 0.00020263128279152088\n",
      "units_1: 32\n",
      "activation_1: relu\n",
      "units_2: 32\n",
      "activation_2: relu\n",
      "batch_size: 32\n",
      "Score: 0.5553512573242188\n"
     ]
    }
   ],
   "source": [
    "tuner.search(x=X_train_stand, y=y_train, validation_data=(X_val_stand, y_val), class_weight={0: weight_for_0, 1: weight_for_1}, callbacks=my_callbacks)\n",
    "tuner.results_summary()"
   ]
  },
  {
   "cell_type": "code",
   "execution_count": 25,
   "metadata": {},
   "outputs": [
    {
     "name": "stderr",
     "output_type": "stream",
     "text": [
      "c:\\Users\\Stacy\\anaconda\\envs\\dsa4262_pcos\\Lib\\site-packages\\keras\\src\\saving\\saving_lib.py:757: UserWarning: Skipping variable loading for optimizer 'adam', because it has 2 variables whereas the saved optimizer has 26 variables. \n",
      "  saveable.load_own_variables(weights_store.get(inner_path))\n"
     ]
    },
    {
     "data": {
      "text/html": [
       "<pre style=\"white-space:pre;overflow-x:auto;line-height:normal;font-family:Menlo,'DejaVu Sans Mono',consolas,'Courier New',monospace\"><span style=\"font-weight: bold\">Model: \"functional\"</span>\n",
       "</pre>\n"
      ],
      "text/plain": [
       "\u001b[1mModel: \"functional\"\u001b[0m\n"
      ]
     },
     "metadata": {},
     "output_type": "display_data"
    },
    {
     "data": {
      "text/html": [
       "<pre style=\"white-space:pre;overflow-x:auto;line-height:normal;font-family:Menlo,'DejaVu Sans Mono',consolas,'Courier New',monospace\">┏━━━━━━━━━━━━━━━━━━━━━━━━━━━━━━━━━┳━━━━━━━━━━━━━━━━━━━━━━━━┳━━━━━━━━━━━━━━━┓\n",
       "┃<span style=\"font-weight: bold\"> Layer (type)                    </span>┃<span style=\"font-weight: bold\"> Output Shape           </span>┃<span style=\"font-weight: bold\">       Param # </span>┃\n",
       "┡━━━━━━━━━━━━━━━━━━━━━━━━━━━━━━━━━╇━━━━━━━━━━━━━━━━━━━━━━━━╇━━━━━━━━━━━━━━━┩\n",
       "│ input_layer (<span style=\"color: #0087ff; text-decoration-color: #0087ff\">InputLayer</span>)        │ (<span style=\"color: #00d7ff; text-decoration-color: #00d7ff\">None</span>, <span style=\"color: #00af00; text-decoration-color: #00af00\">44</span>)             │             <span style=\"color: #00af00; text-decoration-color: #00af00\">0</span> │\n",
       "├─────────────────────────────────┼────────────────────────┼───────────────┤\n",
       "│ dense (<span style=\"color: #0087ff; text-decoration-color: #0087ff\">Dense</span>)                   │ (<span style=\"color: #00d7ff; text-decoration-color: #00d7ff\">None</span>, <span style=\"color: #00af00; text-decoration-color: #00af00\">32</span>)             │         <span style=\"color: #00af00; text-decoration-color: #00af00\">1,440</span> │\n",
       "├─────────────────────────────────┼────────────────────────┼───────────────┤\n",
       "│ dense_1 (<span style=\"color: #0087ff; text-decoration-color: #0087ff\">Dense</span>)                 │ (<span style=\"color: #00d7ff; text-decoration-color: #00d7ff\">None</span>, <span style=\"color: #00af00; text-decoration-color: #00af00\">192</span>)            │         <span style=\"color: #00af00; text-decoration-color: #00af00\">6,336</span> │\n",
       "├─────────────────────────────────┼────────────────────────┼───────────────┤\n",
       "│ dense_2 (<span style=\"color: #0087ff; text-decoration-color: #0087ff\">Dense</span>)                 │ (<span style=\"color: #00d7ff; text-decoration-color: #00d7ff\">None</span>, <span style=\"color: #00af00; text-decoration-color: #00af00\">256</span>)            │        <span style=\"color: #00af00; text-decoration-color: #00af00\">49,408</span> │\n",
       "├─────────────────────────────────┼────────────────────────┼───────────────┤\n",
       "│ dense_3 (<span style=\"color: #0087ff; text-decoration-color: #0087ff\">Dense</span>)                 │ (<span style=\"color: #00d7ff; text-decoration-color: #00d7ff\">None</span>, <span style=\"color: #00af00; text-decoration-color: #00af00\">32</span>)             │         <span style=\"color: #00af00; text-decoration-color: #00af00\">8,224</span> │\n",
       "├─────────────────────────────────┼────────────────────────┼───────────────┤\n",
       "│ batch_normalization             │ (<span style=\"color: #00d7ff; text-decoration-color: #00d7ff\">None</span>, <span style=\"color: #00af00; text-decoration-color: #00af00\">32</span>)             │           <span style=\"color: #00af00; text-decoration-color: #00af00\">128</span> │\n",
       "│ (<span style=\"color: #0087ff; text-decoration-color: #0087ff\">BatchNormalization</span>)            │                        │               │\n",
       "├─────────────────────────────────┼────────────────────────┼───────────────┤\n",
       "│ dense_4 (<span style=\"color: #0087ff; text-decoration-color: #0087ff\">Dense</span>)                 │ (<span style=\"color: #00d7ff; text-decoration-color: #00d7ff\">None</span>, <span style=\"color: #00af00; text-decoration-color: #00af00\">1</span>)              │            <span style=\"color: #00af00; text-decoration-color: #00af00\">33</span> │\n",
       "└─────────────────────────────────┴────────────────────────┴───────────────┘\n",
       "</pre>\n"
      ],
      "text/plain": [
       "┏━━━━━━━━━━━━━━━━━━━━━━━━━━━━━━━━━┳━━━━━━━━━━━━━━━━━━━━━━━━┳━━━━━━━━━━━━━━━┓\n",
       "┃\u001b[1m \u001b[0m\u001b[1mLayer (type)                   \u001b[0m\u001b[1m \u001b[0m┃\u001b[1m \u001b[0m\u001b[1mOutput Shape          \u001b[0m\u001b[1m \u001b[0m┃\u001b[1m \u001b[0m\u001b[1m      Param #\u001b[0m\u001b[1m \u001b[0m┃\n",
       "┡━━━━━━━━━━━━━━━━━━━━━━━━━━━━━━━━━╇━━━━━━━━━━━━━━━━━━━━━━━━╇━━━━━━━━━━━━━━━┩\n",
       "│ input_layer (\u001b[38;5;33mInputLayer\u001b[0m)        │ (\u001b[38;5;45mNone\u001b[0m, \u001b[38;5;34m44\u001b[0m)             │             \u001b[38;5;34m0\u001b[0m │\n",
       "├─────────────────────────────────┼────────────────────────┼───────────────┤\n",
       "│ dense (\u001b[38;5;33mDense\u001b[0m)                   │ (\u001b[38;5;45mNone\u001b[0m, \u001b[38;5;34m32\u001b[0m)             │         \u001b[38;5;34m1,440\u001b[0m │\n",
       "├─────────────────────────────────┼────────────────────────┼───────────────┤\n",
       "│ dense_1 (\u001b[38;5;33mDense\u001b[0m)                 │ (\u001b[38;5;45mNone\u001b[0m, \u001b[38;5;34m192\u001b[0m)            │         \u001b[38;5;34m6,336\u001b[0m │\n",
       "├─────────────────────────────────┼────────────────────────┼───────────────┤\n",
       "│ dense_2 (\u001b[38;5;33mDense\u001b[0m)                 │ (\u001b[38;5;45mNone\u001b[0m, \u001b[38;5;34m256\u001b[0m)            │        \u001b[38;5;34m49,408\u001b[0m │\n",
       "├─────────────────────────────────┼────────────────────────┼───────────────┤\n",
       "│ dense_3 (\u001b[38;5;33mDense\u001b[0m)                 │ (\u001b[38;5;45mNone\u001b[0m, \u001b[38;5;34m32\u001b[0m)             │         \u001b[38;5;34m8,224\u001b[0m │\n",
       "├─────────────────────────────────┼────────────────────────┼───────────────┤\n",
       "│ batch_normalization             │ (\u001b[38;5;45mNone\u001b[0m, \u001b[38;5;34m32\u001b[0m)             │           \u001b[38;5;34m128\u001b[0m │\n",
       "│ (\u001b[38;5;33mBatchNormalization\u001b[0m)            │                        │               │\n",
       "├─────────────────────────────────┼────────────────────────┼───────────────┤\n",
       "│ dense_4 (\u001b[38;5;33mDense\u001b[0m)                 │ (\u001b[38;5;45mNone\u001b[0m, \u001b[38;5;34m1\u001b[0m)              │            \u001b[38;5;34m33\u001b[0m │\n",
       "└─────────────────────────────────┴────────────────────────┴───────────────┘\n"
      ]
     },
     "metadata": {},
     "output_type": "display_data"
    },
    {
     "data": {
      "text/html": [
       "<pre style=\"white-space:pre;overflow-x:auto;line-height:normal;font-family:Menlo,'DejaVu Sans Mono',consolas,'Courier New',monospace\"><span style=\"font-weight: bold\"> Total params: </span><span style=\"color: #00af00; text-decoration-color: #00af00\">65,569</span> (256.13 KB)\n",
       "</pre>\n"
      ],
      "text/plain": [
       "\u001b[1m Total params: \u001b[0m\u001b[38;5;34m65,569\u001b[0m (256.13 KB)\n"
      ]
     },
     "metadata": {},
     "output_type": "display_data"
    },
    {
     "data": {
      "text/html": [
       "<pre style=\"white-space:pre;overflow-x:auto;line-height:normal;font-family:Menlo,'DejaVu Sans Mono',consolas,'Courier New',monospace\"><span style=\"font-weight: bold\"> Trainable params: </span><span style=\"color: #00af00; text-decoration-color: #00af00\">65,505</span> (255.88 KB)\n",
       "</pre>\n"
      ],
      "text/plain": [
       "\u001b[1m Trainable params: \u001b[0m\u001b[38;5;34m65,505\u001b[0m (255.88 KB)\n"
      ]
     },
     "metadata": {},
     "output_type": "display_data"
    },
    {
     "data": {
      "text/html": [
       "<pre style=\"white-space:pre;overflow-x:auto;line-height:normal;font-family:Menlo,'DejaVu Sans Mono',consolas,'Courier New',monospace\"><span style=\"font-weight: bold\"> Non-trainable params: </span><span style=\"color: #00af00; text-decoration-color: #00af00\">64</span> (256.00 B)\n",
       "</pre>\n"
      ],
      "text/plain": [
       "\u001b[1m Non-trainable params: \u001b[0m\u001b[38;5;34m64\u001b[0m (256.00 B)\n"
      ]
     },
     "metadata": {},
     "output_type": "display_data"
    }
   ],
   "source": [
    "# Get the top 2 models.\n",
    "models = tuner.get_best_models(num_models=1)\n",
    "best_model = models[0]\n",
    "best_model.summary()"
   ]
  },
  {
   "cell_type": "markdown",
   "metadata": {},
   "source": [
    "# Retraining and evaluation"
   ]
  },
  {
   "cell_type": "code",
   "execution_count": 26,
   "metadata": {},
   "outputs": [
    {
     "name": "stdout",
     "output_type": "stream",
     "text": [
      "Epoch 1/3\n",
      "\u001b[1m14/14\u001b[0m \u001b[32m━━━━━━━━━━━━━━━━━━━━\u001b[0m\u001b[37m\u001b[0m \u001b[1m2s\u001b[0m 6ms/step - auc: 0.7887 - loss: 0.0022\n",
      "Epoch 2/3\n",
      "\u001b[1m14/14\u001b[0m \u001b[32m━━━━━━━━━━━━━━━━━━━━\u001b[0m\u001b[37m\u001b[0m \u001b[1m0s\u001b[0m 4ms/step - auc: 0.9497 - loss: 0.0011 \n",
      "Epoch 3/3\n",
      "\u001b[1m14/14\u001b[0m \u001b[32m━━━━━━━━━━━━━━━━━━━━\u001b[0m\u001b[37m\u001b[0m \u001b[1m0s\u001b[0m 3ms/step - auc: 0.9724 - loss: 8.3452e-04 \n",
      "4/4 - 0s - 53ms/step - auc: 0.9441 - loss: 0.7823\n",
      "0.7823405861854553 0.9440644383430481\n"
     ]
    }
   ],
   "source": [
    "best_hps = tuner.get_best_hyperparameters(1)\n",
    "# Build the model with the best hp.\n",
    "hypermodel = MyHyperModel()\n",
    "model = hypermodel.build(best_hps[0])\n",
    "# Fit with the entire dataset.\n",
    "x_all = np.concatenate((X_train_stand, X_val_stand))\n",
    "y_all = np.concatenate((y_train, y_val))\n",
    "history = model.fit(x=x_all, y=y_all, epochs=3, class_weight={0: weight_for_0, 1: weight_for_1})\n",
    "test_loss, test_auc = model.evaluate(X_test_stand, y_test, verbose=2)\n",
    "print(test_loss, test_auc)"
   ]
  },
  {
   "cell_type": "code",
   "execution_count": 27,
   "metadata": {},
   "outputs": [
    {
     "name": "stdout",
     "output_type": "stream",
     "text": [
      "\u001b[1m4/4\u001b[0m \u001b[32m━━━━━━━━━━━━━━━━━━━━\u001b[0m\u001b[37m\u001b[0m \u001b[1m0s\u001b[0m 19ms/step\n"
     ]
    },
    {
     "data": {
      "image/png": "[encoded data removed]",
      "text/plain": [
       "<Figure size 640x480 with 1 Axes>"
      ]
     },
     "metadata": {},
     "output_type": "display_data"
    }
   ],
   "source": [
    "from sklearn.metrics import roc_curve\n",
    "import matplotlib.pyplot as plt\n",
    "y_pred_proba = model.predict(X_test_stand).ravel()\n",
    "fpr, tpr, thresholds = roc_curve(y_test, y_pred_proba)\n",
    "plt.figure(1)\n",
    "plt.plot([0, 1], [0, 1], 'k--')\n",
    "plt.plot(fpr, tpr, label='MLP AUC: {:.3f}'.format(test_auc))\n",
    "plt.xlabel('False positive rate')\n",
    "plt.ylabel('True positive rate')\n",
    "plt.title('ROC curve')\n",
    "plt.legend(loc='best')\n",
    "plt.show()"
   ]
  },
  {
   "cell_type": "markdown",
   "metadata": {},
   "source": [
    "## Finding the best threshold"
   ]
  },
  {
   "cell_type": "code",
   "execution_count": 28,
   "metadata": {},
   "outputs": [
    {
     "name": "stdout",
     "output_type": "stream",
     "text": [
      "Best threshold: 0.9685145616531372\n"
     ]
    }
   ],
   "source": [
    "# This method minimizes the distance to the top-left corner of the ROC space.\n",
    "distances = np.sqrt((1 - tpr) ** 2 + fpr ** 2)\n",
    "best_thresh = thresholds[np.argmin(distances)]\n",
    "print(f\"Best threshold: {best_thresh}\")"
   ]
  },
  {
   "cell_type": "code",
   "execution_count": 29,
   "metadata": {},
   "outputs": [
    {
     "name": "stdout",
     "output_type": "stream",
     "text": [
      "Precision: 0.86\n",
      "Recall: 0.91\n",
      "Specificity: 0.93\n",
      "Sensitivity: 0.91\n"
     ]
    },
    {
     "data": {
      "image/png": "[encoded data removed]",
      "text/plain": [
       "<Figure size 500x400 with 2 Axes>"
      ]
     },
     "metadata": {},
     "output_type": "display_data"
    },
    {
     "name": "stdout",
     "output_type": "stream",
     "text": [
      "              precision    recall  f1-score   support\n",
      "\n",
      "           0       0.96      0.93      0.94        71\n",
      "           1       0.86      0.91      0.89        35\n",
      "\n",
      "    accuracy                           0.92       106\n",
      "   macro avg       0.91      0.92      0.92       106\n",
      "weighted avg       0.93      0.92      0.93       106\n",
      "\n"
     ]
    }
   ],
   "source": [
    "from sklearn.metrics import precision_score, recall_score, classification_report, confusion_matrix\n",
    "import seaborn as sns\n",
    "\n",
    "y_pred = [1 if prob>=best_thresh else 0 for prob in y_pred_proba]\n",
    "\n",
    "# Compute Precision and Recall\n",
    "precision = precision_score(y_test, y_pred)\n",
    "recall = recall_score(y_test, y_pred)\n",
    "\n",
    "print(f'Precision: {precision:.2f}')\n",
    "print(f'Recall: {recall:.2f}')\n",
    "\n",
    "# Compute Sensitivity and Specificity\n",
    "specificity = recall_score(y_test, y_pred, pos_label=0)\n",
    "\n",
    "print(f'Specificity: {specificity:.2f}')\n",
    "print(f'Sensitivity: {recall:.2f}')\n",
    "\n",
    "# Visualise the confusion matrix\n",
    "cm = confusion_matrix(y_test, y_pred)\n",
    "labels = [\"True Negatives (TN)\", \"False Positives (FP)\", \"False Negatives (FN)\", \"True Positives (TP)\"]\n",
    "\n",
    "# Plot confusion matrix\n",
    "plt.figure(figsize=(5, 4))\n",
    "sns.heatmap(cm, annot=True, fmt='d', cmap='Blues', xticklabels=[\"Pred 0\", \"Pred 1\"], yticklabels=[\"Actual 0\", \"Actual 1\"])\n",
    "plt.xlabel(\"Predicted Labels\")\n",
    "plt.ylabel(\"Actual Labels\")\n",
    "plt.title(\"Confusion Matrix\")\n",
    "plt.show()\n",
    "\n",
    "\n",
    "# Visualise the classification report\n",
    "report = classification_report(y_test, y_pred)\n",
    "print(report)"
   ]
  }
 ],
 "metadata": {
  "kernelspec": {
   "display_name": "dsa4262_pcos",
   "language": "python",
   "name": "python3"
  },
  "language_info": {
   "codemirror_mode": {
    "name": "ipython",
    "version": 3
   },
   "file_extension": ".py",
   "mimetype": "text/x-python",
   "name": "python",
   "nbconvert_exporter": "python",
   "pygments_lexer": "ipython3",
   "version": "3.11.11"
  }
 },
 "nbformat": 4,
 "nbformat_minor": 2
}
