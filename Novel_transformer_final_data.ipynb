{
 "cells": [
  {
   "cell_type": "markdown",
   "metadata": {},
   "source": [
    "This novel transformer-based model is a deep tabular data modeling architecture for supervised and semi-supervised learning. The model is built upon self-attention based Transformers. Unlike the TabTransformer which only transforms the embeddings of categorical features into robust contextual embeddings, this novel model feeds both the categorical and numerical feature embeddings into the transformer layers to obtain richer contextual embeddings for better performance."
   ]
  },
  {
   "cell_type": "markdown",
   "metadata": {},
   "source": [
    "# Importing packages and reading in the csv file"
   ]
  },
  {
   "cell_type": "code",
   "execution_count": 51,
   "metadata": {},
   "outputs": [],
   "source": [
    "import numpy as np\n",
    "import pandas as pd\n",
    "import math\n",
    "\n",
    "from functools import partial\n",
    "import matplotlib.pyplot as plt\n",
    "\n",
    "from sklearn.feature_selection import RFECV\n",
    "from sklearn.ensemble import RandomForestClassifier\n",
    "\n",
    "import tensorflow as tf\n",
    "from tensorflow import keras\n",
    "from tensorflow import data as tf_data\n",
    "from keras import layers\n",
    "from keras import ops\n",
    "from keras import Model\n",
    "from keras.layers import Dense, Embedding, Input, Dropout, BatchNormalization, Flatten, Attention, GroupQueryAttention, MultiHeadAttention, AdditiveAttention\n",
    "from keras.metrics import AUC, Precision, Recall, F1Score\n",
    "from keras.losses import BinaryCrossentropy, BinaryFocalCrossentropy\n",
    "from keras.optimizers import Adam, RMSprop, Adadelta, Adagrad, AdamW, Adamax"
   ]
  },
  {
   "cell_type": "code",
   "execution_count": 52,
   "metadata": {},
   "outputs": [
    {
     "name": "stdout",
     "output_type": "stream",
     "text": [
      "(423, 37)\n",
      "(106, 37)\n",
      "(423, 1)\n",
      "(106, 1)\n"
     ]
    },
    {
     "data": {
      "text/html": [
       "<div>\n",
       "<style scoped>\n",
       "    .dataframe tbody tr th:only-of-type {\n",
       "        vertical-align: middle;\n",
       "    }\n",
       "\n",
       "    .dataframe tbody tr th {\n",
       "        vertical-align: top;\n",
       "    }\n",
       "\n",
       "    .dataframe thead th {\n",
       "        text-align: right;\n",
       "    }\n",
       "</style>\n",
       "<table border=\"1\" class=\"dataframe\">\n",
       "  <thead>\n",
       "    <tr style=\"text-align: right;\">\n",
       "      <th></th>\n",
       "      <th>Age (yrs)</th>\n",
       "      <th>BMI</th>\n",
       "      <th>Pulse rate(bpm)</th>\n",
       "      <th>Menstrual Cycle Length(days)</th>\n",
       "      <th>Marriage Status (Yrs)</th>\n",
       "      <th>Pregnant(Y/N)</th>\n",
       "      <th>No. of abortions</th>\n",
       "      <th>I   beta-HCG(mIU/mL)</th>\n",
       "      <th>II    beta-HCG(mIU/mL)</th>\n",
       "      <th>FSH/LH</th>\n",
       "      <th>...</th>\n",
       "      <th>Hb(g/dl)</th>\n",
       "      <th>Menstrual Cycle(R/I)</th>\n",
       "      <th>TSH (mIU/L)</th>\n",
       "      <th>AMH(ng/mL)</th>\n",
       "      <th>PRL(ng/mL)</th>\n",
       "      <th>Vit D3 (ng/mL)</th>\n",
       "      <th>PRG(ng/mL)</th>\n",
       "      <th>RBS(mg/dl)</th>\n",
       "      <th>I beta-HCG cat</th>\n",
       "      <th>II beta-HCG cat</th>\n",
       "    </tr>\n",
       "  </thead>\n",
       "  <tbody>\n",
       "    <tr>\n",
       "      <th>0</th>\n",
       "      <td>38</td>\n",
       "      <td>29.0</td>\n",
       "      <td>78</td>\n",
       "      <td>2</td>\n",
       "      <td>16.0</td>\n",
       "      <td>1</td>\n",
       "      <td>1</td>\n",
       "      <td>110.17</td>\n",
       "      <td>110.17</td>\n",
       "      <td>4.16</td>\n",
       "      <td>...</td>\n",
       "      <td>normal</td>\n",
       "      <td>irregular</td>\n",
       "      <td>normal</td>\n",
       "      <td>high</td>\n",
       "      <td>low</td>\n",
       "      <td>high</td>\n",
       "      <td>low</td>\n",
       "      <td>normal</td>\n",
       "      <td>normal</td>\n",
       "      <td>normal</td>\n",
       "    </tr>\n",
       "    <tr>\n",
       "      <th>1</th>\n",
       "      <td>38</td>\n",
       "      <td>21.3</td>\n",
       "      <td>72</td>\n",
       "      <td>5</td>\n",
       "      <td>14.0</td>\n",
       "      <td>0</td>\n",
       "      <td>0</td>\n",
       "      <td>1.99</td>\n",
       "      <td>1.99</td>\n",
       "      <td>3.67</td>\n",
       "      <td>...</td>\n",
       "      <td>normal</td>\n",
       "      <td>regular</td>\n",
       "      <td>normal</td>\n",
       "      <td>low</td>\n",
       "      <td>high</td>\n",
       "      <td>normal</td>\n",
       "      <td>low</td>\n",
       "      <td>normal</td>\n",
       "      <td>normal</td>\n",
       "      <td>normal</td>\n",
       "    </tr>\n",
       "    <tr>\n",
       "      <th>2</th>\n",
       "      <td>35</td>\n",
       "      <td>21.4</td>\n",
       "      <td>72</td>\n",
       "      <td>6</td>\n",
       "      <td>13.0</td>\n",
       "      <td>1</td>\n",
       "      <td>0</td>\n",
       "      <td>2045.30</td>\n",
       "      <td>569.10</td>\n",
       "      <td>1.19</td>\n",
       "      <td>...</td>\n",
       "      <td>normal</td>\n",
       "      <td>regular</td>\n",
       "      <td>high</td>\n",
       "      <td>normal</td>\n",
       "      <td>low</td>\n",
       "      <td>normal</td>\n",
       "      <td>low</td>\n",
       "      <td>normal</td>\n",
       "      <td>normal</td>\n",
       "      <td>normal</td>\n",
       "    </tr>\n",
       "    <tr>\n",
       "      <th>3</th>\n",
       "      <td>29</td>\n",
       "      <td>19.6</td>\n",
       "      <td>80</td>\n",
       "      <td>5</td>\n",
       "      <td>2.0</td>\n",
       "      <td>1</td>\n",
       "      <td>0</td>\n",
       "      <td>8104.21</td>\n",
       "      <td>91.55</td>\n",
       "      <td>3.11</td>\n",
       "      <td>...</td>\n",
       "      <td>normal</td>\n",
       "      <td>regular</td>\n",
       "      <td>normal</td>\n",
       "      <td>high</td>\n",
       "      <td>low</td>\n",
       "      <td>low</td>\n",
       "      <td>low</td>\n",
       "      <td>normal</td>\n",
       "      <td>normal</td>\n",
       "      <td>normal</td>\n",
       "    </tr>\n",
       "    <tr>\n",
       "      <th>4</th>\n",
       "      <td>37</td>\n",
       "      <td>29.0</td>\n",
       "      <td>80</td>\n",
       "      <td>5</td>\n",
       "      <td>14.0</td>\n",
       "      <td>0</td>\n",
       "      <td>0</td>\n",
       "      <td>1.99</td>\n",
       "      <td>1.99</td>\n",
       "      <td>2.81</td>\n",
       "      <td>...</td>\n",
       "      <td>low</td>\n",
       "      <td>regular</td>\n",
       "      <td>normal</td>\n",
       "      <td>high</td>\n",
       "      <td>normal</td>\n",
       "      <td>normal</td>\n",
       "      <td>low</td>\n",
       "      <td>normal</td>\n",
       "      <td>normal</td>\n",
       "      <td>normal</td>\n",
       "    </tr>\n",
       "    <tr>\n",
       "      <th>...</th>\n",
       "      <td>...</td>\n",
       "      <td>...</td>\n",
       "      <td>...</td>\n",
       "      <td>...</td>\n",
       "      <td>...</td>\n",
       "      <td>...</td>\n",
       "      <td>...</td>\n",
       "      <td>...</td>\n",
       "      <td>...</td>\n",
       "      <td>...</td>\n",
       "      <td>...</td>\n",
       "      <td>...</td>\n",
       "      <td>...</td>\n",
       "      <td>...</td>\n",
       "      <td>...</td>\n",
       "      <td>...</td>\n",
       "      <td>...</td>\n",
       "      <td>...</td>\n",
       "      <td>...</td>\n",
       "      <td>...</td>\n",
       "      <td>...</td>\n",
       "    </tr>\n",
       "    <tr>\n",
       "      <th>418</th>\n",
       "      <td>29</td>\n",
       "      <td>29.3</td>\n",
       "      <td>72</td>\n",
       "      <td>5</td>\n",
       "      <td>9.0</td>\n",
       "      <td>0</td>\n",
       "      <td>0</td>\n",
       "      <td>1.99</td>\n",
       "      <td>1.99</td>\n",
       "      <td>1.06</td>\n",
       "      <td>...</td>\n",
       "      <td>normal</td>\n",
       "      <td>irregular</td>\n",
       "      <td>normal</td>\n",
       "      <td>high</td>\n",
       "      <td>normal</td>\n",
       "      <td>low</td>\n",
       "      <td>low</td>\n",
       "      <td>normal</td>\n",
       "      <td>normal</td>\n",
       "      <td>normal</td>\n",
       "    </tr>\n",
       "    <tr>\n",
       "      <th>419</th>\n",
       "      <td>27</td>\n",
       "      <td>23.1</td>\n",
       "      <td>82</td>\n",
       "      <td>5</td>\n",
       "      <td>5.0</td>\n",
       "      <td>0</td>\n",
       "      <td>0</td>\n",
       "      <td>1.99</td>\n",
       "      <td>1.99</td>\n",
       "      <td>2.23</td>\n",
       "      <td>...</td>\n",
       "      <td>low</td>\n",
       "      <td>regular</td>\n",
       "      <td>normal</td>\n",
       "      <td>high</td>\n",
       "      <td>normal</td>\n",
       "      <td>normal</td>\n",
       "      <td>low</td>\n",
       "      <td>normal</td>\n",
       "      <td>normal</td>\n",
       "      <td>normal</td>\n",
       "    </tr>\n",
       "    <tr>\n",
       "      <th>420</th>\n",
       "      <td>35</td>\n",
       "      <td>22.5</td>\n",
       "      <td>74</td>\n",
       "      <td>4</td>\n",
       "      <td>15.0</td>\n",
       "      <td>1</td>\n",
       "      <td>1</td>\n",
       "      <td>1.99</td>\n",
       "      <td>1.99</td>\n",
       "      <td>4.31</td>\n",
       "      <td>...</td>\n",
       "      <td>normal</td>\n",
       "      <td>regular</td>\n",
       "      <td>normal</td>\n",
       "      <td>high</td>\n",
       "      <td>low</td>\n",
       "      <td>normal</td>\n",
       "      <td>low</td>\n",
       "      <td>normal</td>\n",
       "      <td>abnormal</td>\n",
       "      <td>abnormal</td>\n",
       "    </tr>\n",
       "    <tr>\n",
       "      <th>421</th>\n",
       "      <td>36</td>\n",
       "      <td>25.3</td>\n",
       "      <td>72</td>\n",
       "      <td>2</td>\n",
       "      <td>10.0</td>\n",
       "      <td>0</td>\n",
       "      <td>0</td>\n",
       "      <td>1.99</td>\n",
       "      <td>1.99</td>\n",
       "      <td>1.93</td>\n",
       "      <td>...</td>\n",
       "      <td>low</td>\n",
       "      <td>irregular</td>\n",
       "      <td>normal</td>\n",
       "      <td>high</td>\n",
       "      <td>normal</td>\n",
       "      <td>normal</td>\n",
       "      <td>low</td>\n",
       "      <td>normal</td>\n",
       "      <td>normal</td>\n",
       "      <td>normal</td>\n",
       "    </tr>\n",
       "    <tr>\n",
       "      <th>422</th>\n",
       "      <td>28</td>\n",
       "      <td>21.0</td>\n",
       "      <td>74</td>\n",
       "      <td>6</td>\n",
       "      <td>4.0</td>\n",
       "      <td>1</td>\n",
       "      <td>0</td>\n",
       "      <td>17243.97</td>\n",
       "      <td>410.13</td>\n",
       "      <td>8.43</td>\n",
       "      <td>...</td>\n",
       "      <td>low</td>\n",
       "      <td>regular</td>\n",
       "      <td>normal</td>\n",
       "      <td>normal</td>\n",
       "      <td>low</td>\n",
       "      <td>normal</td>\n",
       "      <td>low</td>\n",
       "      <td>normal</td>\n",
       "      <td>normal</td>\n",
       "      <td>normal</td>\n",
       "    </tr>\n",
       "  </tbody>\n",
       "</table>\n",
       "<p>423 rows × 37 columns</p>\n",
       "</div>"
      ],
      "text/plain": [
       "     Age (yrs)   BMI  Pulse rate(bpm)  Menstrual Cycle Length(days)  \\\n",
       "0           38  29.0               78                             2   \n",
       "1           38  21.3               72                             5   \n",
       "2           35  21.4               72                             6   \n",
       "3           29  19.6               80                             5   \n",
       "4           37  29.0               80                             5   \n",
       "..         ...   ...              ...                           ...   \n",
       "418         29  29.3               72                             5   \n",
       "419         27  23.1               82                             5   \n",
       "420         35  22.5               74                             4   \n",
       "421         36  25.3               72                             2   \n",
       "422         28  21.0               74                             6   \n",
       "\n",
       "     Marriage Status (Yrs)  Pregnant(Y/N)  No. of abortions  \\\n",
       "0                     16.0              1                 1   \n",
       "1                     14.0              0                 0   \n",
       "2                     13.0              1                 0   \n",
       "3                      2.0              1                 0   \n",
       "4                     14.0              0                 0   \n",
       "..                     ...            ...               ...   \n",
       "418                    9.0              0                 0   \n",
       "419                    5.0              0                 0   \n",
       "420                   15.0              1                 1   \n",
       "421                   10.0              0                 0   \n",
       "422                    4.0              1                 0   \n",
       "\n",
       "     I   beta-HCG(mIU/mL)  II    beta-HCG(mIU/mL)  FSH/LH  ...  Hb(g/dl)  \\\n",
       "0                  110.17                  110.17    4.16  ...    normal   \n",
       "1                    1.99                    1.99    3.67  ...    normal   \n",
       "2                 2045.30                  569.10    1.19  ...    normal   \n",
       "3                 8104.21                   91.55    3.11  ...    normal   \n",
       "4                    1.99                    1.99    2.81  ...       low   \n",
       "..                    ...                     ...     ...  ...       ...   \n",
       "418                  1.99                    1.99    1.06  ...    normal   \n",
       "419                  1.99                    1.99    2.23  ...       low   \n",
       "420                  1.99                    1.99    4.31  ...    normal   \n",
       "421                  1.99                    1.99    1.93  ...       low   \n",
       "422              17243.97                  410.13    8.43  ...       low   \n",
       "\n",
       "     Menstrual Cycle(R/I)  TSH (mIU/L)  AMH(ng/mL)  PRL(ng/mL)  \\\n",
       "0               irregular       normal        high         low   \n",
       "1                 regular       normal         low        high   \n",
       "2                 regular         high      normal         low   \n",
       "3                 regular       normal        high         low   \n",
       "4                 regular       normal        high      normal   \n",
       "..                    ...          ...         ...         ...   \n",
       "418             irregular       normal        high      normal   \n",
       "419               regular       normal        high      normal   \n",
       "420               regular       normal        high         low   \n",
       "421             irregular       normal        high      normal   \n",
       "422               regular       normal      normal         low   \n",
       "\n",
       "     Vit D3 (ng/mL)  PRG(ng/mL)  RBS(mg/dl)  I beta-HCG cat  II beta-HCG cat  \n",
       "0              high         low      normal          normal           normal  \n",
       "1            normal         low      normal          normal           normal  \n",
       "2            normal         low      normal          normal           normal  \n",
       "3               low         low      normal          normal           normal  \n",
       "4            normal         low      normal          normal           normal  \n",
       "..              ...         ...         ...             ...              ...  \n",
       "418             low         low      normal          normal           normal  \n",
       "419          normal         low      normal          normal           normal  \n",
       "420          normal         low      normal        abnormal         abnormal  \n",
       "421          normal         low      normal          normal           normal  \n",
       "422          normal         low      normal          normal           normal  \n",
       "\n",
       "[423 rows x 37 columns]"
      ]
     },
     "execution_count": 52,
     "metadata": {},
     "output_type": "execute_result"
    }
   ],
   "source": [
    "X_train = pd.read_csv(\"./tt_data/X_train_final_tt.csv\")\n",
    "y_train = pd.read_csv(\"./tt_data/y_train_final_tt.csv\")\n",
    "X_test = pd.read_csv(\"./tt_data/X_test_final_tt.csv\")\n",
    "y_test = pd.read_csv(\"./tt_data/y_test_final_tt.csv\")\n",
    "print(X_train.shape)\n",
    "print(X_test.shape)\n",
    "print(y_train.shape)\n",
    "print(y_test.shape)\n",
    "X_train"
   ]
  },
  {
   "cell_type": "markdown",
   "metadata": {},
   "source": [
    "# Renaming columns that contain '/'"
   ]
  },
  {
   "cell_type": "code",
   "execution_count": 53,
   "metadata": {},
   "outputs": [
    {
     "name": "stdout",
     "output_type": "stream",
     "text": [
      "Index(['Age (yrs)', 'BMI', 'Pulse rate(bpm)', 'Menstrual Cycle Length(days)',\n",
      "       'Marriage Status (Yrs)', 'Pregnant', 'No. of abortions',\n",
      "       'I   beta-HCG(mIU per mL)', 'II    beta-HCG(mIU per mL)',\n",
      "       'FSH:LH ratio', 'Waist:Hip Ratio', 'Weight gain', 'hair growth',\n",
      "       'Skin darkening', 'Hair loss', 'Pimples', 'Fast food', 'Reg.Exercise',\n",
      "       'Follicle No. (L)', 'Follicle No. (R)', 'Avg. F size (L) (mm)',\n",
      "       'Avg. F size (R) (mm)', 'Endometrium (mm)', 'Symptoms score',\n",
      "       'Unhealthy living score', 'Blood Group', 'RR (breaths per min)',\n",
      "       'Hb(g per dl)', 'Menstrual Cycle(R or I)', 'TSH (mIU per L)',\n",
      "       'AMH(ng per mL)', 'PRL(ng per mL)', 'Vit D3 (ng per mL)',\n",
      "       'PRG(ng per mL)', 'RBS(mg per dl)', 'I beta-HCG cat',\n",
      "       'II beta-HCG cat'],\n",
      "      dtype='object')\n",
      "\n",
      "\n",
      "Index(['Age (yrs)', 'BMI', 'Pulse rate(bpm)', 'Menstrual Cycle Length(days)',\n",
      "       'Marriage Status (Yrs)', 'Pregnant', 'No. of abortions',\n",
      "       'I   beta-HCG(mIU per mL)', 'II    beta-HCG(mIU per mL)',\n",
      "       'FSH:LH ratio', 'Waist:Hip Ratio', 'Weight gain', 'hair growth',\n",
      "       'Skin darkening', 'Hair loss', 'Pimples', 'Fast food', 'Reg.Exercise',\n",
      "       'Follicle No. (L)', 'Follicle No. (R)', 'Avg. F size (L) (mm)',\n",
      "       'Avg. F size (R) (mm)', 'Endometrium (mm)', 'Symptoms score',\n",
      "       'Unhealthy living score', 'Blood Group', 'RR (breaths per min)',\n",
      "       'Hb(g per dl)', 'Menstrual Cycle(R or I)', 'TSH (mIU per L)',\n",
      "       'AMH(ng per mL)', 'PRL(ng per mL)', 'Vit D3 (ng per mL)',\n",
      "       'PRG(ng per mL)', 'RBS(mg per dl)', 'I beta-HCG cat',\n",
      "       'II beta-HCG cat'],\n",
      "      dtype='object')\n"
     ]
    }
   ],
   "source": [
    "naming_dic = {'Menstrual Cycle(R/I)': 'Menstrual Cycle(R or I)', 'Weight gain(Y/N)': 'Weight gain', \n",
    "'hair growth(Y/N)': 'hair growth', 'Skin darkening (Y/N)': 'Skin darkening', 'Hair loss(Y/N)': 'Hair loss', \n",
    "'Pimples(Y/N)': 'Pimples', 'Fast food (Y/N)': 'Fast food', 'Reg.Exercise(Y/N)': 'Reg.Exercise',\n",
    "'Pregnant(Y/N)': 'Pregnant', 'RR (breaths/min)': 'RR (breaths per min)', 'Hb(g/dl)': 'Hb(g per dl)',\n",
    "'I   beta-HCG(mIU/mL)': 'I   beta-HCG(mIU per mL)', 'II    beta-HCG(mIU/mL)': 'II    beta-HCG(mIU per mL)',\n",
    "'FSH/LH': 'FSH:LH ratio', 'TSH (mIU/L)': 'TSH (mIU per L)', 'AMH(ng/mL)': 'AMH(ng per mL)', \n",
    "'PRL(ng/mL)': 'PRL(ng per mL)', 'Vit D3 (ng/mL)': 'Vit D3 (ng per mL)', 'PRG(ng/mL)': 'PRG(ng per mL)', \n",
    "'RBS(mg/dl)': 'RBS(mg per dl)'}\n",
    "\n",
    "X_train.rename(columns=naming_dic, inplace=True)\n",
    "X_test.rename(columns=naming_dic, inplace=True)\n",
    "print(X_train.columns)\n",
    "print(\"\\n\")\n",
    "print(X_test.columns)"
   ]
  },
  {
   "cell_type": "markdown",
   "metadata": {},
   "source": [
    "# Changing column types"
   ]
  },
  {
   "cell_type": "code",
   "execution_count": 54,
   "metadata": {},
   "outputs": [],
   "source": [
    "X_train[\"Fast food\"] = X_train[\"Fast food\"].astype(\"int64\")\n",
    "X_test[\"Fast food\"] = X_test[\"Fast food\"].astype(\"int64\")"
   ]
  },
  {
   "cell_type": "code",
   "execution_count": 55,
   "metadata": {},
   "outputs": [],
   "source": [
    "CATEGORICAL_FEATURE_NAMES = ['Blood Group', 'Menstrual Cycle(R or I)', 'Weight gain', 'hair growth', \n",
    "'Skin darkening', 'Hair loss', 'Pimples','Fast food', 'Reg.Exercise', 'Pregnant', 'Hb(g per dl)', \n",
    "'TSH (mIU per L)', 'AMH(ng per mL)', 'PRL(ng per mL)', 'Vit D3 (ng per mL)', 'RR (breaths per min)', \n",
    "'I beta-HCG cat', 'II beta-HCG cat', 'PRG(ng per mL)', 'RBS(mg per dl)', 'BP _Systolic (mmHg)', \n",
    "'BP _Diastolic (mmHg)']\n",
    "num_cols = [col for col in X_train.columns if col not in CATEGORICAL_FEATURE_NAMES]\n",
    "for col in num_cols:\n",
    "    X_train[col] = X_train[col].astype(\"float32\")\n",
    "    X_test[col] = X_test[col].astype(\"float32\")"
   ]
  },
  {
   "cell_type": "markdown",
   "metadata": {},
   "source": [
    "# Finding the class weights to resolve the issue of class imbalance"
   ]
  },
  {
   "cell_type": "code",
   "execution_count": 56,
   "metadata": {},
   "outputs": [
    {
     "data": {
      "text/html": [
       "<div>\n",
       "<style scoped>\n",
       "    .dataframe tbody tr th:only-of-type {\n",
       "        vertical-align: middle;\n",
       "    }\n",
       "\n",
       "    .dataframe tbody tr th {\n",
       "        vertical-align: top;\n",
       "    }\n",
       "\n",
       "    .dataframe thead th {\n",
       "        text-align: right;\n",
       "    }\n",
       "</style>\n",
       "<table border=\"1\" class=\"dataframe\">\n",
       "  <thead>\n",
       "    <tr style=\"text-align: right;\">\n",
       "      <th></th>\n",
       "      <th>PCOS (Y/N)</th>\n",
       "    </tr>\n",
       "  </thead>\n",
       "  <tbody>\n",
       "    <tr>\n",
       "      <th>0</th>\n",
       "      <td>1</td>\n",
       "    </tr>\n",
       "    <tr>\n",
       "      <th>1</th>\n",
       "      <td>0</td>\n",
       "    </tr>\n",
       "    <tr>\n",
       "      <th>2</th>\n",
       "      <td>0</td>\n",
       "    </tr>\n",
       "    <tr>\n",
       "      <th>3</th>\n",
       "      <td>0</td>\n",
       "    </tr>\n",
       "    <tr>\n",
       "      <th>4</th>\n",
       "      <td>0</td>\n",
       "    </tr>\n",
       "    <tr>\n",
       "      <th>...</th>\n",
       "      <td>...</td>\n",
       "    </tr>\n",
       "    <tr>\n",
       "      <th>101</th>\n",
       "      <td>0</td>\n",
       "    </tr>\n",
       "    <tr>\n",
       "      <th>102</th>\n",
       "      <td>0</td>\n",
       "    </tr>\n",
       "    <tr>\n",
       "      <th>103</th>\n",
       "      <td>0</td>\n",
       "    </tr>\n",
       "    <tr>\n",
       "      <th>104</th>\n",
       "      <td>0</td>\n",
       "    </tr>\n",
       "    <tr>\n",
       "      <th>105</th>\n",
       "      <td>0</td>\n",
       "    </tr>\n",
       "  </tbody>\n",
       "</table>\n",
       "<p>529 rows × 1 columns</p>\n",
       "</div>"
      ],
      "text/plain": [
       "     PCOS (Y/N)\n",
       "0             1\n",
       "1             0\n",
       "2             0\n",
       "3             0\n",
       "4             0\n",
       "..          ...\n",
       "101           0\n",
       "102           0\n",
       "103           0\n",
       "104           0\n",
       "105           0\n",
       "\n",
       "[529 rows x 1 columns]"
      ]
     },
     "execution_count": 56,
     "metadata": {},
     "output_type": "execute_result"
    }
   ],
   "source": [
    "df = pd.concat([y_train, y_test], axis=0)\n",
    "df "
   ]
  },
  {
   "cell_type": "code",
   "execution_count": 57,
   "metadata": {},
   "outputs": [],
   "source": [
    "target_counts = np.bincount(df[\"PCOS (Y/N)\"])\n",
    "weight_for_0 = 1.0/target_counts[0]\n",
    "weight_for_1 = 1.0/target_counts[1]"
   ]
  },
  {
   "cell_type": "markdown",
   "metadata": {},
   "source": [
    "# Changing the integers in categorical columns to strings"
   ]
  },
  {
   "cell_type": "code",
   "execution_count": 58,
   "metadata": {},
   "outputs": [],
   "source": [
    "cols = ['Weight gain', 'hair growth', 'Skin darkening', 'Hair loss', 'Pimples','Fast food', 'Reg.Exercise', 'Pregnant']\n",
    "for col in cols:\n",
    "    X_train[col] = X_train[col].apply(lambda x: \"Yes\" if x==1 else \"No\")\n",
    "    X_test[col] = X_test[col].apply(lambda x: \"Yes\" if x==1 else \"No\")"
   ]
  },
  {
   "cell_type": "markdown",
   "metadata": {},
   "source": [
    "# Sets a random seed to ensure reproducible results"
   ]
  },
  {
   "cell_type": "code",
   "execution_count": 59,
   "metadata": {},
   "outputs": [
    {
     "data": {
      "text/plain": [
       "'\\nfrom keras import backend as K\\nsession_conf = tf.compat.v1.ConfigProto(intra_op_parallelism_threads=1, inter_op_parallelism_threads=1)\\nsess = tf.compat.v1.Session(graph=tf.compat.v1.get_default_graph(), config=session_conf)\\ntf.compat.v1.keras.backend.set_session(sess)\"\\n'"
      ]
     },
     "execution_count": 59,
     "metadata": {},
     "output_type": "execute_result"
    }
   ],
   "source": [
    "seed_value= 0\n",
    "\n",
    "# 1. Set the `PYTHONHASHSEED` environment variable at a fixed value\n",
    "import os\n",
    "os.environ['PYTHONHASHSEED']=str(seed_value)\n",
    "\n",
    "# 2. Set the `python` built-in pseudo-random generator at a fixed value\n",
    "import random\n",
    "random.seed(seed_value)\n",
    "\n",
    "# 3. Set the `numpy` pseudo-random generator at a fixed value\n",
    "np.random.seed(seed_value)\n",
    "\n",
    "# 4. Set the `tensorflow` pseudo-random generator at a fixed value\n",
    "tf.random.set_seed(seed_value)\n",
    "# for later versions: \n",
    "# tf.compat.v1.set_random_seed(seed_value)\n",
    "\n",
    "# 5. Configure a new global `tensorflow` session\n",
    "\"\"\"\n",
    "from keras import backend as K\n",
    "session_conf = tf.compat.v1.ConfigProto(intra_op_parallelism_threads=1, inter_op_parallelism_threads=1)\n",
    "sess = tf.compat.v1.Session(graph=tf.compat.v1.get_default_graph(), config=session_conf)\n",
    "tf.compat.v1.keras.backend.set_session(sess)\"\n",
    "\"\"\""
   ]
  },
  {
   "cell_type": "markdown",
   "metadata": {},
   "source": [
    "# Splitting into train, validation and test datasets"
   ]
  },
  {
   "cell_type": "code",
   "execution_count": 60,
   "metadata": {},
   "outputs": [],
   "source": [
    "# Choose either 60, 20, 20 or 80, 10, 10\n",
    "# Depends on the complexity of the model, the dataset size and the nature of the data\n",
    "\n",
    "test_size = 0.25\n",
    "random_state = 1\n",
    "\n",
    "from sklearn.model_selection import train_test_split\n",
    "X_train, X_val, y_train, y_val = train_test_split(X_train, y_train, test_size=test_size, stratify=y_train, random_state=random_state)"
   ]
  },
  {
   "cell_type": "code",
   "execution_count": 61,
   "metadata": {},
   "outputs": [],
   "source": [
    "# Needs to sort the columns properly so that the model can read in the inputs correctly\n",
    "\"\"\"\n",
    "training_data_tt = pd.concat([X_train, y_train], axis=1).reindex(sorted(df.columns), axis=1)\n",
    "training_data_tt.to_csv(\"./tt_data/training_data_tt.csv\", index=False)\n",
    "\n",
    "val_data_tt = pd.concat([X_val, y_val], axis=1).reindex(sorted(df.columns), axis=1)\n",
    "val_data_tt.to_csv(\"./tt_data/val_data_tt.csv\", index=False)\n",
    "\n",
    "test_data_tt = pd.concat([X_test, y_test], axis=1).reindex(sorted(df.columns), axis=1)\n",
    "test_data_tt.to_csv(\"./tt_data/test_data_tt.csv\", index=False)\n",
    "\"\"\"\n",
    "\n",
    "training_data_tt = pd.concat([X_train, y_train], axis=1)\n",
    "training_data_tt.to_csv(\"./tt_data/training_data_tt_final.csv\", index=False)\n",
    "\n",
    "val_data_tt = pd.concat([X_val, y_val], axis=1)\n",
    "val_data_tt.to_csv(\"./tt_data/val_data_tt_final.csv\", index=False)\n",
    "\n",
    "test_data_tt = pd.concat([X_test, y_test], axis=1)\n",
    "test_data_tt.to_csv(\"./tt_data/test_data_tt_final.csv\", index=False)"
   ]
  },
  {
   "cell_type": "markdown",
   "metadata": {},
   "source": [
    "# Define dataset metadata"
   ]
  },
  {
   "cell_type": "code",
   "execution_count": 62,
   "metadata": {},
   "outputs": [],
   "source": [
    "TRAIN_DATA_FILE = \"./tt_data/training_data_tt_final.csv\"\n",
    "VAL_DATA_FILE = \"./tt_data/val_data_tt_final.csv\"\n",
    "TEST_DATA_FILE = \"./tt_data/test_data_tt_final.csv\"\n",
    "training_data_tt = pd.read_csv(TRAIN_DATA_FILE)\n",
    "\n",
    "CATEGORICAL_FEATURE_NAMES = ['Blood Group', 'Menstrual Cycle(R or I)', 'Weight gain', 'hair growth', \n",
    "'Skin darkening', 'Hair loss', 'Pimples','Fast food', 'Reg.Exercise', 'Pregnant', 'Hb(g per dl)', \n",
    "'TSH (mIU per L)', 'AMH(ng per mL)', 'PRL(ng per mL)', 'Vit D3 (ng per mL)', 'RR (breaths per min)', \n",
    "'I beta-HCG cat', 'II beta-HCG cat', 'PRG(ng per mL)', 'RBS(mg per dl)']\n",
    "CATEGORICAL_FEATURES_WITH_VOCABULARY = {col:sorted(list(X_train[col].unique())) for col in CATEGORICAL_FEATURE_NAMES}\n",
    "NUMERIC_FEATURE_NAMES = [col for col in X_train.columns if col not in CATEGORICAL_FEATURE_NAMES]\n",
    "TARGET_COLUMN = \"PCOS (Y/N)\"\n",
    "#TARGET_LABELS = [\"Yes\", \"No\"]\n",
    "FEATURE_NAMES = [col for col in list(training_data_tt.columns) if col!=TARGET_COLUMN]"
   ]
  },
  {
   "cell_type": "markdown",
   "metadata": {},
   "source": [
    "# Configure the hyperparameters"
   ]
  },
  {
   "cell_type": "code",
   "execution_count": 63,
   "metadata": {},
   "outputs": [],
   "source": [
    "# Includes model architecture and training configurations\n",
    "LEARNING_RATE = 0.001\n",
    "WEIGHT_DECAY = 0.0001\n",
    "DROPOUT_RATE = 0.2\n",
    "BATCH_SIZE = 64\n",
    "NUM_EPOCHS = 42\n",
    "\n",
    "NUM_TRANSFORMER_BLOCKS = 1\n",
    "NUM_HEADS = 4 #Number of attention heads\n",
    "EMBEDDING_DIMS = 16 # Embedding dimensions of the categorical features\n",
    "MLP_HIDDEN_UNITS_FACTORS = [2,1]\n",
    "NUM_MLP_BLOCKS = 2"
   ]
  },
  {
   "cell_type": "markdown",
   "metadata": {},
   "source": [
    "# Implement a data reading pipeline"
   ]
  },
  {
   "cell_type": "code",
   "execution_count": 64,
   "metadata": {},
   "outputs": [],
   "source": [
    "# Creating lookup\n",
    "#target_label_lookup = layers.StringLookup(vocabulary=TARGET_LABELS, mask_token=None, num_oov_indices=0)\n",
    "lookup_dic={}\n",
    "for col in CATEGORICAL_FEATURE_NAMES:\n",
    "    vocab = CATEGORICAL_FEATURES_WITH_VOCABULARY[col]\n",
    "    lookup = layers.StringLookup(vocabulary=vocab, mask_token=None, num_oov_indices=0)\n",
    "    lookup_dic[col] = lookup\n",
    "\n",
    "def prepare_example(features, target):\n",
    "    #target_idx = target_label_lookup(target)\n",
    "    return features, target\n",
    "\n",
    "def encode_categorical(batch_x, batch_y):\n",
    "    for col in CATEGORICAL_FEATURE_NAMES:\n",
    "        if col in batch_x:\n",
    "            batch_x[col] = lookup_dic[col](batch_x[col])\n",
    "    return batch_x, batch_y\n",
    "\n",
    "def get_dataset_from_csv(csv_file_path, batch_size=128, shuffle=False):\n",
    "    dataset = (\n",
    "        tf_data.experimental.make_csv_dataset(\n",
    "            csv_file_path,\n",
    "            batch_size=batch_size,\n",
    "            label_name=TARGET_COLUMN,\n",
    "            num_epochs=1,\n",
    "            header=True,\n",
    "            shuffle=shuffle,\n",
    "        )\n",
    "        .map(prepare_example, num_parallel_calls=tf_data.AUTOTUNE, deterministic=False)\n",
    "        .map(encode_categorical)\n",
    "    )\n",
    "    return dataset.cache()"
   ]
  },
  {
   "cell_type": "markdown",
   "metadata": {},
   "source": [
    "# Implement a training and evaluation procedure"
   ]
  },
  {
   "cell_type": "code",
   "execution_count": 65,
   "metadata": {},
   "outputs": [],
   "source": [
    "#my_callbacks = [\n",
    "    #keras.callbacks.EarlyStopping(patience=2, min_delta=0.0012),\n",
    "    #keras.callbacks.ModelCheckpoint(filepath='model.{epoch:02d}-{val_loss:.2f}.h5'),\n",
    "    #keras.callbacks.TensorBoard(log_dir='./logs')]\n",
    "\n",
    "my_callbacks = [\n",
    "    keras.callbacks.ReduceLROnPlateau(monitor=\"val_loss\", factor=0.2, patience=5)]"
   ]
  },
  {
   "cell_type": "code",
   "execution_count": 66,
   "metadata": {},
   "outputs": [],
   "source": [
    "def run_experiment(model, train_data_file, val_data_file, test_data_file, learning_rate, weight_decay, batch_size, num_epoch, weight_for_0, weight_for_1):\n",
    "    train_dataset = get_dataset_from_csv(train_data_file, batch_size, shuffle=True)\n",
    "    validation_dataset = get_dataset_from_csv(val_data_file, batch_size)\n",
    "    test_dataset = get_dataset_from_csv(test_data_file, batch_size)\n",
    "    y_true = np.concatenate([y.numpy() for _, y in test_dataset])\n",
    "    model.compile(loss= BinaryCrossentropy() , optimizer=Adam(learning_rate=learning_rate, weight_decay=weight_decay) , metrics=[AUC]) \n",
    "    print(\"Start training the model...\")\n",
    "    history = model.fit(train_dataset, epochs=num_epoch, validation_data=validation_dataset, batch_size=batch_size, verbose=2, class_weight={0: weight_for_0, 1: weight_for_1})\n",
    "    print(\"Model training finished\")\n",
    "    test_loss, test_auc = model.evaluate(test_dataset, verbose=2)\n",
    "    print(f\"Test ROC AUC: {round(test_auc * 100, 2)}%\")\n",
    "    test_pred = model.predict(test_dataset, verbose=2).ravel()\n",
    "    return history, y_true, test_pred, test_auc"
   ]
  },
  {
   "cell_type": "markdown",
   "metadata": {},
   "source": [
    "# Create model inputs"
   ]
  },
  {
   "cell_type": "code",
   "execution_count": 67,
   "metadata": {},
   "outputs": [],
   "source": [
    "from collections import OrderedDict\n",
    "\n",
    "def create_model_inputs():\n",
    "    inputs=OrderedDict() \n",
    "    # If the dictionary is ordered, the Model will not sort the dictionary so it can read in the inputs correctly\n",
    "    for feature_name in FEATURE_NAMES:\n",
    "        if feature_name in CATEGORICAL_FEATURE_NAMES:\n",
    "            inputs[feature_name] = Input(shape=(), dtype=\"int64\", name=feature_name)\n",
    "        else:\n",
    "            inputs[feature_name] = Input(shape=(), dtype=\"float32\", name=feature_name)\n",
    "    return inputs"
   ]
  },
  {
   "cell_type": "markdown",
   "metadata": {},
   "source": [
    "# Encode features"
   ]
  },
  {
   "cell_type": "code",
   "execution_count": 68,
   "metadata": {},
   "outputs": [],
   "source": [
    "def encode_inputs(inputs, embedding_dims):\n",
    "    encoded_categorical_feature_list = []\n",
    "    encoded_numerical_feature_list = []\n",
    "    for feature_name in inputs:\n",
    "        if feature_name in CATEGORICAL_FEATURE_NAMES:\n",
    "            vocabulary = CATEGORICAL_FEATURES_WITH_VOCABULARY[feature_name]\n",
    "            embedding = Embedding(input_dim=len(vocabulary), output_dim=embedding_dims)\n",
    "            encoded_categorical_feature = embedding(inputs[feature_name]) # shape:(None, embedding_dims)\n",
    "            encoded_categorical_feature_list.append(encoded_categorical_feature)\n",
    "        else:\n",
    "            numerical_feature = ops.expand_dims(inputs[feature_name], axis=-1) # shape:(None, 1)\n",
    "            encoded_numerical_feature = Dense(embedding_dims)(numerical_feature) \n",
    "            encoded_numerical_feature_list.append(encoded_numerical_feature)\n",
    "    return encoded_categorical_feature_list, encoded_numerical_feature_list"
   ]
  },
  {
   "cell_type": "markdown",
   "metadata": {},
   "source": [
    "# Implement an MLP block"
   ]
  },
  {
   "cell_type": "code",
   "execution_count": 69,
   "metadata": {},
   "outputs": [],
   "source": [
    "def create_mlp(input, hidden_units, dropout_rate, activation, normalization_layer, name=None):\n",
    "    inputs = Input(shape=input.shape[1:])\n",
    "    x = inputs\n",
    "    for units in hidden_units:\n",
    "        x = normalization_layer()(x)\n",
    "        x = Dense(units, activation=activation)(x)\n",
    "        x = Dropout(dropout_rate)(x)\n",
    "    outputs = x\n",
    "    model = Model(inputs=inputs, outputs=outputs)\n",
    "    return model"
   ]
  },
  {
   "cell_type": "markdown",
   "metadata": {},
   "source": [
    "# Implement the Novel Transformer classifier"
   ]
  },
  {
   "cell_type": "markdown",
   "metadata": {},
   "source": [
    "1. All the categorical features are encoded as embeddings, using the same embedding_dims. This means that each value in each categorical feature will have its own embedding vector.\n",
    "2. A column embedding, one embedding vector for each categorical feature, is added (point-wise) to the categorical feature embedding.\n",
    "3. All the numerical features are encoded as embeddings, using the same embedding_dims. This is via linear layers. \n",
    "4. The embedded categorical features are concatenated with the embedded numerical features and fed into a stack of Transformer blocks. Each Transformer block consists of a multi-head self-attention layer followed by a feed-forward layer.\n",
    "5. The outputs of the final Transformer layer, which are the contextual embeddings of the features are then fed into a final MLP block.\n",
    "6. A softmax classifer is applied at the end of the model."
   ]
  },
  {
   "cell_type": "code",
   "execution_count": 70,
   "metadata": {},
   "outputs": [
    {
     "name": "stdout",
     "output_type": "stream",
     "text": [
      "Total model weights: 1417377\n"
     ]
    }
   ],
   "source": [
    "def create_noveltransformer_classifier(num_transformer_blocks, num_heads, embedding_dims, mlp_hidden_units_factors, dropout_rate, use_column_embedding=False):\n",
    "    # Create model inputs\n",
    "    inputs = create_model_inputs()\n",
    "    # Encode features\n",
    "    encoded_categorical_feature_list, encoded_numerical_feature_list = encode_inputs(inputs, embedding_dims)\n",
    "    # Stack categorical feature embeddings for the Transformer\n",
    "    encoded_categorical_features = ops.stack(encoded_categorical_feature_list, axis=1) # shape:(None, num_cat_cols, embedding_dims)\n",
    "    # Stack numerical feature embeddings for the Transformer\n",
    "    encoded_numerical_features = ops.stack(encoded_numerical_feature_list, axis=1) # shape:(None, num_numerical_cols, embedding_dims)\n",
    "    # Add column embedding to categorical feature embeddings\n",
    "    if use_column_embedding:\n",
    "        num_cat_columns = encoded_categorical_features.shape[1]\n",
    "        column_embedding = Embedding(input_dim=num_cat_columns, output_dim=embedding_dims)\n",
    "        column_indices = ops.arange(start=0, stop=num_cat_columns, step=1)\n",
    "        encoded_categorical_features = encoded_categorical_features + column_embedding(column_indices) # shape: (None, num_cat_cols, embedding_dims)\n",
    "    \n",
    "    # Concatenate numerical and categorical feature embeddings together\n",
    "    feature_lst = [encoded_categorical_features, encoded_numerical_features]\n",
    "    encoded_features = layers.Concatenate(axis=1)(feature_lst) # shape:(None, total_cols, embedding_dims)\n",
    "\n",
    "    # Create multiple layers of the Transformer block\n",
    "    for block_idx in range(num_transformer_blocks):\n",
    "        # Create a multi-head attention layer\n",
    "        attention_output = MultiHeadAttention(num_heads=num_heads, key_dim=embedding_dims, dropout=dropout_rate, name=f\"multihead_attention_{block_idx}\")(encoded_features, encoded_features) # shape: (None, total_cols, embedding_dims)\n",
    "        # Skip connection 1\n",
    "        x = layers.Add(name=f\"skip_connection1_{block_idx}\")([attention_output, encoded_features]) # shape: (None, total_cols, embedding_dims)\n",
    "        # Layer normalization 1\n",
    "        x = layers.LayerNormalization(name=f\"layer_norm1_{block_idx}\", epsilon=1e-6)(x)\n",
    "        # Feedforward\n",
    "        feedforward_output = create_mlp(input=x, hidden_units=[embedding_dims], dropout_rate=dropout_rate, activation=keras.activations.gelu, normalization_layer=layers.LayerNormalization, name=f\"feedforward_{block_idx}\")(x) \n",
    "        # Skip connection 2\n",
    "        x = layers.Add(name=f\"skip_connection2_{block_idx}\")([feedforward_output, x])\n",
    "        # Layer normalization 2\n",
    "        encoded_features = layers.LayerNormalization(name=f\"layer_norm2_{block_idx}\", epsilon=1e-6)(x)\n",
    "    \n",
    "    # Flatten the \"contextualized\" embeddings of the features and they will be used as input for the final MLP block\n",
    "    features = layers.Flatten()(encoded_features) # shape: (None, total_cols*embedding_dims)\n",
    "\n",
    "    # Compute MLP hidden units\n",
    "    mlp_hidden_units = [factor*features.shape[-1] for factor in mlp_hidden_units_factors]\n",
    "    # Create final MLP\n",
    "    features = create_mlp(input=features, hidden_units=mlp_hidden_units, dropout_rate=dropout_rate, activation=keras.activations.selu, normalization_layer=layers.BatchNormalization, name=\"MLP\")(features) # shape: (None,  total_cols*embedding_dims)\n",
    "\n",
    "    # Add a sigmoid as a binary classifier\n",
    "    outputs = Dense(1, \"sigmoid\", name=\"sigmoid\")(features)\n",
    "    model = Model(inputs, outputs)\n",
    "    return model\n",
    "\n",
    "noveltransformer_model = create_noveltransformer_classifier(NUM_TRANSFORMER_BLOCKS, NUM_HEADS, EMBEDDING_DIMS, MLP_HIDDEN_UNITS_FACTORS, DROPOUT_RATE, True)\n",
    "print(\"Total model weights:\", noveltransformer_model.count_params())"
   ]
  },
  {
   "cell_type": "markdown",
   "metadata": {},
   "source": [
    "# Training and evaluation"
   ]
  },
  {
   "cell_type": "code",
   "execution_count": 71,
   "metadata": {},
   "outputs": [
    {
     "name": "stdout",
     "output_type": "stream",
     "text": [
      "Start training the model...\n",
      "Epoch 1/42\n"
     ]
    },
    {
     "name": "stderr",
     "output_type": "stream",
     "text": [
      "c:\\Users\\Stacy\\anaconda\\envs\\dsa4262_pcos\\Lib\\site-packages\\keras\\src\\trainers\\epoch_iterator.py:151: UserWarning: Your input ran out of data; interrupting training. Make sure that your dataset or generator can generate at least `steps_per_epoch * epochs` batches. You may need to use the `.repeat()` function when building your dataset.\n",
      "  self._interrupted_warning()\n"
     ]
    },
    {
     "name": "stdout",
     "output_type": "stream",
     "text": [
      "5/5 - 12s - 2s/step - auc_1: 0.5625 - loss: 0.0077 - val_auc_1: 0.5186 - val_loss: 1.4083\n",
      "Epoch 2/42\n",
      "5/5 - 0s - 30ms/step - auc_1: 0.6713 - loss: 0.0048 - val_auc_1: 0.7582 - val_loss: 1.2559\n",
      "Epoch 3/42\n",
      "5/5 - 0s - 28ms/step - auc_1: 0.7763 - loss: 0.0030 - val_auc_1: 0.8603 - val_loss: 0.4528\n",
      "Epoch 4/42\n",
      "5/5 - 0s - 28ms/step - auc_1: 0.8282 - loss: 0.0025 - val_auc_1: 0.7739 - val_loss: 1.5170\n",
      "Epoch 5/42\n",
      "5/5 - 0s - 28ms/step - auc_1: 0.8034 - loss: 0.0030 - val_auc_1: 0.8280 - val_loss: 1.2949\n",
      "Epoch 6/42\n",
      "5/5 - 0s - 28ms/step - auc_1: 0.8591 - loss: 0.0023 - val_auc_1: 0.8339 - val_loss: 1.1155\n",
      "Epoch 7/42\n",
      "5/5 - 0s - 29ms/step - auc_1: 0.8439 - loss: 0.0028 - val_auc_1: 0.7134 - val_loss: 1.6840\n",
      "Epoch 8/42\n",
      "5/5 - 0s - 28ms/step - auc_1: 0.8936 - loss: 0.0019 - val_auc_1: 0.8319 - val_loss: 0.9028\n",
      "Epoch 9/42\n",
      "5/5 - 0s - 28ms/step - auc_1: 0.8493 - loss: 0.0025 - val_auc_1: 0.8497 - val_loss: 0.6715\n",
      "Epoch 10/42\n",
      "5/5 - 0s - 28ms/step - auc_1: 0.8844 - loss: 0.0023 - val_auc_1: 0.8239 - val_loss: 0.8451\n",
      "Epoch 11/42\n",
      "5/5 - 0s - 28ms/step - auc_1: 0.8653 - loss: 0.0023 - val_auc_1: 0.8693 - val_loss: 0.6673\n",
      "Epoch 12/42\n",
      "5/5 - 0s - 28ms/step - auc_1: 0.8753 - loss: 0.0023 - val_auc_1: 0.8476 - val_loss: 0.7628\n",
      "Epoch 13/42\n",
      "5/5 - 0s - 27ms/step - auc_1: 0.8939 - loss: 0.0019 - val_auc_1: 0.8168 - val_loss: 0.9992\n",
      "Epoch 14/42\n",
      "5/5 - 0s - 29ms/step - auc_1: 0.9148 - loss: 0.0016 - val_auc_1: 0.8728 - val_loss: 0.6935\n",
      "Epoch 15/42\n",
      "5/5 - 0s - 28ms/step - auc_1: 0.8935 - loss: 0.0020 - val_auc_1: 0.8785 - val_loss: 0.6970\n",
      "Epoch 16/42\n",
      "5/5 - 0s - 27ms/step - auc_1: 0.8950 - loss: 0.0021 - val_auc_1: 0.8031 - val_loss: 0.9351\n",
      "Epoch 17/42\n",
      "5/5 - 0s - 28ms/step - auc_1: 0.9092 - loss: 0.0017 - val_auc_1: 0.8489 - val_loss: 0.5111\n",
      "Epoch 18/42\n",
      "5/5 - 0s - 27ms/step - auc_1: 0.9041 - loss: 0.0020 - val_auc_1: 0.7631 - val_loss: 1.1424\n",
      "Epoch 19/42\n",
      "5/5 - 0s - 27ms/step - auc_1: 0.9035 - loss: 0.0020 - val_auc_1: 0.8725 - val_loss: 0.5126\n",
      "Epoch 20/42\n",
      "5/5 - 0s - 28ms/step - auc_1: 0.9369 - loss: 0.0014 - val_auc_1: 0.8860 - val_loss: 0.4538\n",
      "Epoch 21/42\n",
      "5/5 - 0s - 29ms/step - auc_1: 0.9296 - loss: 0.0015 - val_auc_1: 0.8740 - val_loss: 0.5389\n",
      "Epoch 22/42\n",
      "5/5 - 0s - 28ms/step - auc_1: 0.9226 - loss: 0.0016 - val_auc_1: 0.8272 - val_loss: 0.8757\n",
      "Epoch 23/42\n",
      "5/5 - 0s - 29ms/step - auc_1: 0.9382 - loss: 0.0013 - val_auc_1: 0.8589 - val_loss: 0.6555\n",
      "Epoch 24/42\n",
      "5/5 - 0s - 28ms/step - auc_1: 0.9385 - loss: 0.0014 - val_auc_1: 0.8721 - val_loss: 0.5821\n",
      "Epoch 25/42\n",
      "5/5 - 0s - 28ms/step - auc_1: 0.9438 - loss: 0.0013 - val_auc_1: 0.8668 - val_loss: 0.6769\n",
      "Epoch 26/42\n",
      "5/5 - 0s - 30ms/step - auc_1: 0.9502 - loss: 0.0011 - val_auc_1: 0.8605 - val_loss: 0.5476\n",
      "Epoch 27/42\n",
      "5/5 - 0s - 29ms/step - auc_1: 0.9318 - loss: 0.0015 - val_auc_1: 0.8501 - val_loss: 0.5406\n",
      "Epoch 28/42\n",
      "5/5 - 0s - 30ms/step - auc_1: 0.9476 - loss: 0.0012 - val_auc_1: 0.8664 - val_loss: 0.5540\n",
      "Epoch 29/42\n",
      "5/5 - 0s - 30ms/step - auc_1: 0.9517 - loss: 0.0012 - val_auc_1: 0.8750 - val_loss: 0.4535\n",
      "Epoch 30/42\n",
      "5/5 - 0s - 28ms/step - auc_1: 0.9569 - loss: 0.0011 - val_auc_1: 0.8754 - val_loss: 0.5005\n",
      "Epoch 31/42\n",
      "5/5 - 0s - 29ms/step - auc_1: 0.9577 - loss: 0.0011 - val_auc_1: 0.8587 - val_loss: 0.5389\n",
      "Epoch 32/42\n",
      "5/5 - 0s - 29ms/step - auc_1: 0.9591 - loss: 0.0010 - val_auc_1: 0.8656 - val_loss: 0.5127\n",
      "Epoch 33/42\n",
      "5/5 - 0s - 29ms/step - auc_1: 0.9696 - loss: 8.7815e-04 - val_auc_1: 0.8632 - val_loss: 0.5171\n",
      "Epoch 34/42\n",
      "5/5 - 0s - 30ms/step - auc_1: 0.9699 - loss: 8.7900e-04 - val_auc_1: 0.8754 - val_loss: 0.4607\n",
      "Epoch 35/42\n",
      "5/5 - 0s - 28ms/step - auc_1: 0.9617 - loss: 0.0010 - val_auc_1: 0.8797 - val_loss: 0.4839\n",
      "Epoch 36/42\n",
      "5/5 - 0s - 29ms/step - auc_1: 0.9531 - loss: 0.0011 - val_auc_1: 0.8644 - val_loss: 0.5548\n",
      "Epoch 37/42\n",
      "5/5 - 0s - 29ms/step - auc_1: 0.9612 - loss: 0.0010 - val_auc_1: 0.8540 - val_loss: 0.5718\n",
      "Epoch 38/42\n",
      "5/5 - 0s - 29ms/step - auc_1: 0.9695 - loss: 9.3323e-04 - val_auc_1: 0.8525 - val_loss: 0.6419\n",
      "Epoch 39/42\n",
      "5/5 - 0s - 28ms/step - auc_1: 0.9573 - loss: 0.0011 - val_auc_1: 0.8246 - val_loss: 0.6841\n",
      "Epoch 40/42\n",
      "5/5 - 0s - 28ms/step - auc_1: 0.9598 - loss: 0.0011 - val_auc_1: 0.8458 - val_loss: 0.7436\n",
      "Epoch 41/42\n",
      "5/5 - 0s - 29ms/step - auc_1: 0.9653 - loss: 9.4238e-04 - val_auc_1: 0.8687 - val_loss: 0.5074\n",
      "Epoch 42/42\n",
      "5/5 - 0s - 29ms/step - auc_1: 0.9729 - loss: 7.8126e-04 - val_auc_1: 0.8738 - val_loss: 0.5731\n",
      "Model training finished\n",
      "2/2 - 0s - 10ms/step - auc_1: 0.9557 - loss: 0.3240\n",
      "Test ROC AUC: 95.57%\n",
      "2/2 - 1s - 447ms/step\n"
     ]
    }
   ],
   "source": [
    "history, y_true, y_pred, test_auc = run_experiment(noveltransformer_model, TRAIN_DATA_FILE, VAL_DATA_FILE, TEST_DATA_FILE, LEARNING_RATE, WEIGHT_DECAY, BATCH_SIZE, NUM_EPOCHS, weight_for_0, weight_for_1)"
   ]
  },
  {
   "cell_type": "code",
   "execution_count": 72,
   "metadata": {},
   "outputs": [
    {
     "data": {
      "image/png": "[encoded data removed]",
      "text/plain": [
       "<Figure size 640x480 with 1 Axes>"
      ]
     },
     "metadata": {},
     "output_type": "display_data"
    },
    {
     "data": {
      "image/png": "[encoded data removed]",
      "text/plain": [
       "<Figure size 640x480 with 1 Axes>"
      ]
     },
     "metadata": {},
     "output_type": "display_data"
    }
   ],
   "source": [
    "history_keys = list(history.history.keys())\n",
    "\n",
    "# summarize history for roc auc\n",
    "plt.plot(history.history[history_keys[0]])\n",
    "plt.plot(history.history[history_keys[2]])\n",
    "plt.title('model roc auc')\n",
    "plt.ylabel('roc auc')\n",
    "plt.xlabel('epoch')\n",
    "plt.legend(['train', 'validation'], loc='upper left')\n",
    "plt.show()\n",
    "\n",
    "# summarize history for loss\n",
    "plt.plot(history.history[history_keys[1]])\n",
    "plt.plot(history.history[history_keys[3]])\n",
    "plt.title('model loss')\n",
    "plt.ylabel('loss')\n",
    "plt.xlabel('epoch')\n",
    "plt.legend(['train', 'validation'], loc='upper left')\n",
    "plt.show()"
   ]
  },
  {
   "cell_type": "code",
   "execution_count": 73,
   "metadata": {},
   "outputs": [
    {
     "data": {
      "image/png": "[encoded data removed]",
      "text/plain": [
       "<Figure size 640x480 with 1 Axes>"
      ]
     },
     "metadata": {},
     "output_type": "display_data"
    }
   ],
   "source": [
    "from sklearn.metrics import roc_curve\n",
    "import matplotlib.pyplot as plt\n",
    "\n",
    "fpr, tpr, thresholds = roc_curve(y_true, y_pred)\n",
    "plt.figure(1)\n",
    "plt.plot([0, 1], [0, 1], 'k--')\n",
    "plt.plot(fpr, tpr, label='AUC: {:.3f}'.format(test_auc))\n",
    "plt.xlabel('False positive rate')\n",
    "plt.ylabel('True positive rate')\n",
    "plt.title('ROC curve')\n",
    "plt.legend(loc='best')\n",
    "plt.show()"
   ]
  },
  {
   "cell_type": "markdown",
   "metadata": {},
   "source": [
    "## Finding the best threshold"
   ]
  },
  {
   "cell_type": "code",
   "execution_count": 74,
   "metadata": {},
   "outputs": [
    {
     "name": "stdout",
     "output_type": "stream",
     "text": [
      "Best threshold: 0.06143689155578613\n"
     ]
    }
   ],
   "source": [
    "# This method minimizes the distance to the top-left corner of the ROC space.\n",
    "distances = np.sqrt((1 - tpr) ** 2 + fpr ** 2)\n",
    "best_thresh = thresholds[np.argmin(distances)]\n",
    "print(f\"Best threshold: {best_thresh}\")"
   ]
  },
  {
   "cell_type": "code",
   "execution_count": 75,
   "metadata": {},
   "outputs": [
    {
     "name": "stdout",
     "output_type": "stream",
     "text": [
      "Precision: 0.76\n",
      "Recall: 0.94\n",
      "Specificity: 0.86\n",
      "Sensitivity: 0.94\n"
     ]
    },
    {
     "data": {
      "image/png": "[encoded data removed]",
      "text/plain": [
       "<Figure size 500x400 with 2 Axes>"
      ]
     },
     "metadata": {},
     "output_type": "display_data"
    },
    {
     "name": "stdout",
     "output_type": "stream",
     "text": [
      "              precision    recall  f1-score   support\n",
      "\n",
      "           0       0.97      0.86      0.91        72\n",
      "           1       0.76      0.94      0.84        34\n",
      "\n",
      "    accuracy                           0.89       106\n",
      "   macro avg       0.87      0.90      0.88       106\n",
      "weighted avg       0.90      0.89      0.89       106\n",
      "\n"
     ]
    }
   ],
   "source": [
    "from sklearn.metrics import precision_score, recall_score, classification_report, confusion_matrix\n",
    "import seaborn as sns\n",
    "\n",
    "y_pred = [1 if prob>=best_thresh else 0 for prob in y_pred]\n",
    "\n",
    "# Compute Precision and Recall\n",
    "precision = precision_score(y_true, y_pred)\n",
    "recall = recall_score(y_true, y_pred)\n",
    "\n",
    "print(f'Precision: {precision:.2f}')\n",
    "print(f'Recall: {recall:.2f}')\n",
    "\n",
    "# Compute Sensitivity and Specificity\n",
    "specificity = recall_score(y_true, y_pred, pos_label=0)\n",
    "\n",
    "print(f'Specificity: {specificity:.2f}')\n",
    "print(f'Sensitivity: {recall:.2f}')\n",
    "\n",
    "# Visualise the confusion matrix\n",
    "cm = confusion_matrix(y_true, y_pred)\n",
    "labels = [\"True Negatives (TN)\", \"False Positives (FP)\", \"False Negatives (FN)\", \"True Positives (TP)\"]\n",
    "\n",
    "# Plot confusion matrix\n",
    "plt.figure(figsize=(5, 4))\n",
    "sns.heatmap(cm, annot=True, fmt='d', cmap='Blues', xticklabels=[\"Pred 0\", \"Pred 1\"], yticklabels=[\"Actual 0\", \"Actual 1\"])\n",
    "plt.xlabel(\"Predicted Labels\")\n",
    "plt.ylabel(\"Actual Labels\")\n",
    "plt.title(\"Confusion Matrix\")\n",
    "plt.show()\n",
    "\n",
    "\n",
    "# Visualise the classification report\n",
    "report = classification_report(y_true, y_pred)\n",
    "print(report)"
   ]
  }
 ],
 "metadata": {
  "kernelspec": {
   "display_name": "dsa4262_pcos",
   "language": "python",
   "name": "python3"
  },
  "language_info": {
   "codemirror_mode": {
    "name": "ipython",
    "version": 3
   },
   "file_extension": ".py",
   "mimetype": "text/x-python",
   "name": "python",
   "nbconvert_exporter": "python",
   "pygments_lexer": "ipython3",
   "version": "3.11.11"
  }
 },
 "nbformat": 4,
 "nbformat_minor": 2
}
