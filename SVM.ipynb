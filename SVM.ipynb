{
 "cells": [
  {
   "cell_type": "code",
   "execution_count": 93,
   "metadata": {},
   "outputs": [],
   "source": [
    "import pandas as pd\n",
    "import numpy as np\n",
    "from sklearn.model_selection import train_test_split\n",
    "from sklearn.preprocessing import StandardScaler\n",
    "from sklearn.svm import SVC\n",
    "from sklearn.metrics import accuracy_score, classification_report\n",
    "from sklearn.metrics import roc_auc_score, roc_curve"
   ]
  },
  {
   "cell_type": "code",
   "execution_count": 94,
   "metadata": {},
   "outputs": [
    {
     "name": "stdout",
     "output_type": "stream",
     "text": [
      "     PCOS (Y/N)  Age (yrs)   BMI  Pulse rate(bpm)  RR (breaths/min)  Hb(g/dl)  \\\n",
      "0             0         28  19.3               78                22     10.48   \n",
      "1             0         36  24.9               74                20     11.70   \n",
      "2             1         33  25.3               72                18     11.80   \n",
      "3             0         37  29.7               72                20     12.00   \n",
      "4             0         25  20.1               72                18     10.00   \n",
      "..          ...        ...   ...              ...               ...       ...   \n",
      "526           0         35  18.5               72                16     11.00   \n",
      "527           0         30  25.3               72                18     10.80   \n",
      "528           0         36  23.4               74                20     10.80   \n",
      "529           0         27  22.2               74                20     12.00   \n",
      "530           1         23  30.1               80                20     10.20   \n",
      "\n",
      "     Menstrual Cycle Length(days)  Marriage Status (Yrs)  Pregnant(Y/N)  \\\n",
      "0                               5                    7.0              0   \n",
      "1                               5                   11.0              1   \n",
      "2                               5                   10.0              1   \n",
      "3                               5                    4.0              0   \n",
      "4                               5                    1.0              1   \n",
      "..                            ...                    ...            ...   \n",
      "526                             5                    8.0              0   \n",
      "527                             5                    4.0              1   \n",
      "528                             6                    8.0              0   \n",
      "529                             2                    2.0              0   \n",
      "530                             7                    2.0              0   \n",
      "\n",
      "     No. of abortions  ...  Blood Group_A+  Blood Group_A-  Blood Group_AB+  \\\n",
      "0                   0  ...             0.0             0.0              0.0   \n",
      "1                   0  ...             0.0             0.0              0.0   \n",
      "2                   0  ...             1.0             0.0              0.0   \n",
      "3                   0  ...             0.0             0.0              0.0   \n",
      "4                   0  ...             1.0             0.0              0.0   \n",
      "..                ...  ...             ...             ...              ...   \n",
      "526                 1  ...             0.0             0.0              1.0   \n",
      "527                 1  ...             0.0             0.0              0.0   \n",
      "528                 0  ...             0.0             0.0              0.0   \n",
      "529                 0  ...             0.0             0.0              0.0   \n",
      "530                 0  ...             0.0             0.0              0.0   \n",
      "\n",
      "     Blood Group_AB-  Blood Group_B+  Blood Group_B-  Blood Group_O+  \\\n",
      "0                0.0             0.0             0.0             1.0   \n",
      "1                0.0             0.0             0.0             1.0   \n",
      "2                0.0             0.0             0.0             0.0   \n",
      "3                0.0             1.0             0.0             0.0   \n",
      "4                0.0             0.0             0.0             0.0   \n",
      "..               ...             ...             ...             ...   \n",
      "526              0.0             0.0             0.0             0.0   \n",
      "527              0.0             0.0             0.0             1.0   \n",
      "528              0.0             1.0             0.0             0.0   \n",
      "529              0.0             0.0             0.0             1.0   \n",
      "530              0.0             1.0             0.0             0.0   \n",
      "\n",
      "     Blood Group_O-  Menstrual Cycle(R/I)_irregular  \\\n",
      "0               0.0                             0.0   \n",
      "1               0.0                             0.0   \n",
      "2               0.0                             0.0   \n",
      "3               0.0                             0.0   \n",
      "4               0.0                             0.0   \n",
      "..              ...                             ...   \n",
      "526             0.0                             0.0   \n",
      "527             0.0                             0.0   \n",
      "528             0.0                             0.0   \n",
      "529             0.0                             1.0   \n",
      "530             0.0                             1.0   \n",
      "\n",
      "     Menstrual Cycle(R/I)_regular  \n",
      "0                             1.0  \n",
      "1                             1.0  \n",
      "2                             1.0  \n",
      "3                             1.0  \n",
      "4                             1.0  \n",
      "..                            ...  \n",
      "526                           1.0  \n",
      "527                           1.0  \n",
      "528                           1.0  \n",
      "529                           0.0  \n",
      "530                           0.0  \n",
      "\n",
      "[531 rows x 44 columns]\n"
     ]
    }
   ],
   "source": [
    "# Load dataset\n",
    "df = pd.read_csv(\"cleaned_data.csv\")\n",
    "print(df)"
   ]
  },
  {
   "cell_type": "code",
   "execution_count": 95,
   "metadata": {},
   "outputs": [
    {
     "data": {
      "text/plain": [
       "Index(['PCOS (Y/N)', 'Age (yrs)', 'BMI', 'Pulse rate(bpm)', 'RR (breaths/min)',\n",
       "       'Hb(g/dl)', 'Menstrual Cycle Length(days)', 'Marriage Status (Yrs)',\n",
       "       'Pregnant(Y/N)', 'No. of abortions', 'I   beta-HCG(mIU/mL)',\n",
       "       'II    beta-HCG(mIU/mL)', 'FSH/LH', 'Waist:Hip Ratio', 'TSH (mIU/L)',\n",
       "       'AMH(ng/mL)', 'PRL(ng/mL)', 'Vit D3 (ng/mL)', 'PRG(ng/mL)',\n",
       "       'RBS(mg/dl)', 'Weight gain(Y/N)', 'hair growth(Y/N)',\n",
       "       'Skin darkening (Y/N)', 'Hair loss(Y/N)', 'Pimples(Y/N)',\n",
       "       'Fast food (Y/N)', 'Reg.Exercise(Y/N)', 'BP _Systolic (mmHg)',\n",
       "       'BP _Diastolic (mmHg)', 'Follicle No. (L)', 'Follicle No. (R)',\n",
       "       'Avg. F size (L) (mm)', 'Avg. F size (R) (mm)', 'Endometrium (mm)',\n",
       "       'Blood Group_A+', 'Blood Group_A-', 'Blood Group_AB+',\n",
       "       'Blood Group_AB-', 'Blood Group_B+', 'Blood Group_B-', 'Blood Group_O+',\n",
       "       'Blood Group_O-', 'Menstrual Cycle(R/I)_irregular',\n",
       "       'Menstrual Cycle(R/I)_regular'],\n",
       "      dtype='object')"
      ]
     },
     "execution_count": 95,
     "metadata": {},
     "output_type": "execute_result"
    }
   ],
   "source": [
    "df.columns"
   ]
  },
  {
   "cell_type": "code",
   "execution_count": 96,
   "metadata": {},
   "outputs": [],
   "source": [
    "X = df.drop(columns='PCOS (Y/N)')\n",
    "y = df['PCOS (Y/N)']\n",
    "\n",
    "# Train-test split\n",
    "X_train, X_test, y_train, y_test = train_test_split(X, y, test_size=0.2, random_state=42)"
   ]
  },
  {
   "cell_type": "code",
   "execution_count": 97,
   "metadata": {},
   "outputs": [],
   "source": [
    "# Separate numerical and categorical columns\n",
    "cat_cols = ['Pregnant(Y/N)', 'Weight gain(Y/N)', 'hair growth(Y/N)', 'Skin darkening (Y/N)', 'Hair loss(Y/N)',\n",
    "            'Pimples(Y/N)', 'Fast food (Y/N)', 'Reg.Exercise(Y/N)', 'Blood Group_A+', 'Blood Group_A-',\n",
    "            'Blood Group_AB+', 'Blood Group_AB-', 'Blood Group_B+', 'Blood Group_B-', 'Blood Group_O+',\n",
    "            'Blood Group_O-', 'Menstrual Cycle(R/I)_irregular', 'Menstrual Cycle(R/I)_regular']\n",
    "cat_df_train = X_train[cat_cols]\n",
    "cat_df_test = X_test[cat_cols]\n",
    "\n",
    "cat_df_train = cat_df_train.reset_index(drop=True)\n",
    "cat_df_test = cat_df_test.reset_index(drop=True)\n",
    "\n",
    "num_cols = X_train.drop(columns=cat_cols+['PCOS (Y/N)'], errors='ignore').columns\n",
    "\n",
    "# Scale numerical features only\n",
    "scaler = StandardScaler()\n",
    "df_scaled_train = pd.DataFrame(scaler.fit_transform(X_train[num_cols]), columns=num_cols)\n",
    "df_scaled_test = pd.DataFrame(scaler.transform(X_test[num_cols]), columns=num_cols)\n",
    "\n",
    "# Combine scaled numerical and encoded categorical features\n",
    "X_train = pd.concat([df_scaled_train, cat_df_train], axis=1)\n",
    "X_test = pd.concat([df_scaled_test, cat_df_test], axis=1)"
   ]
  },
  {
   "cell_type": "code",
   "execution_count": 98,
   "metadata": {},
   "outputs": [
    {
     "name": "stdout",
     "output_type": "stream",
     "text": [
      "Accuracy: 0.8504672897196262\n",
      "Classification Report:\n",
      "               precision    recall  f1-score   support\n",
      "\n",
      "           0       0.89      0.89      0.89        72\n",
      "           1       0.77      0.77      0.77        35\n",
      "\n",
      "    accuracy                           0.85       107\n",
      "   macro avg       0.83      0.83      0.83       107\n",
      "weighted avg       0.85      0.85      0.85       107\n",
      "\n",
      "AUC-ROC Score: 0.9206349206349206\n"
     ]
    }
   ],
   "source": [
    "# Train the SVM model\n",
    "svm_model = SVC(kernel='linear', probability=True, random_state=42)\n",
    "svm_model.fit(X_train, y_train)\n",
    "\n",
    "# Make predictions\n",
    "y_pred = svm_model.predict(X_test)\n",
    "\n",
    "# Evaluate the model\n",
    "print(\"Accuracy:\", accuracy_score(y_test, y_pred))\n",
    "print(\"Classification Report:\\n\", classification_report(y_test, y_pred))\n",
    "\n",
    "# Get decision scores\n",
    "y_scores = svm_model.decision_function(X_test)\n",
    "\n",
    "# Compute AUC-ROC score\n",
    "auc_roc = roc_auc_score(y_test, y_scores)\n",
    "print(\"AUC-ROC Score:\", auc_roc)\n"
   ]
  },
  {
   "cell_type": "markdown",
   "metadata": {},
   "source": [
    "# Predicting with PCA"
   ]
  },
  {
   "cell_type": "code",
   "execution_count": 99,
   "metadata": {},
   "outputs": [],
   "source": [
    "import matplotlib.pyplot as plt\n",
    "from sklearn.decomposition import PCA"
   ]
  },
  {
   "cell_type": "code",
   "execution_count": 100,
   "metadata": {},
   "outputs": [
    {
     "data": {
      "image/png": "[encoded data removed]",
      "text/plain": [
       "<Figure size 640x480 with 1 Axes>"
      ]
     },
     "metadata": {},
     "output_type": "display_data"
    },
    {
     "name": "stdout",
     "output_type": "stream",
     "text": [
      "Selected 22 components to retain 95% variance.\n"
     ]
    }
   ],
   "source": [
    "# Apply PCA\n",
    "pca = PCA()\n",
    "X_pca_train = pca.fit_transform(df_scaled_train)\n",
    "X_pca_test = pca.transform(df_scaled_test)\n",
    "\n",
    "# Plot explained variance\n",
    "explained_variance = np.cumsum(pca.explained_variance_ratio_)\n",
    "plt.plot(range(1, len(explained_variance) + 1), explained_variance, marker='o', linestyle='--')\n",
    "plt.xlabel('Number of Principal Components')\n",
    "plt.ylabel('Cumulative Explained Variance')\n",
    "plt.title('Explained Variance vs. Number of Components')\n",
    "plt.axhline(y=0.95, color='r', linestyle='--')  # 95% threshold\n",
    "plt.show()\n",
    "\n",
    "# Select the number of components needed for 95% variance\n",
    "num_components = np.argmax(explained_variance >= 0.95) + 1\n",
    "print(f\"Selected {num_components} components to retain 95% variance.\")\n",
    "\n",
    "X_reduced_train = X_pca_train[:, :num_components]  # Keep only selected components\n",
    "X_reduced_test = X_pca_test[:, :num_components]"
   ]
  },
  {
   "cell_type": "code",
   "execution_count": 101,
   "metadata": {},
   "outputs": [],
   "source": [
    "# Convert NumPy array back to DataFrame\n",
    "X_pca_num_train = pd.DataFrame(X_reduced_train, columns=[f'PC{i+1}' for i in range(X_reduced_train.shape[1])])\n",
    "X_pca_num_test = pd.DataFrame(X_reduced_test, columns=[f'PC{i+1}' for i in range(X_reduced_test.shape[1])])\n",
    "\n",
    "# Combine results with the one-hot encoded columns\n",
    "X_pca_df_train = pd.concat([X_pca_num_train, cat_df_train], axis=1)\n",
    "X_pca_df_test = pd.concat([X_pca_num_test, cat_df_test], axis=1)"
   ]
  },
  {
   "cell_type": "code",
   "execution_count": 102,
   "metadata": {},
   "outputs": [
    {
     "name": "stdout",
     "output_type": "stream",
     "text": [
      "Accuracy: 0.822429906542056\n",
      "Classification Report:\n",
      "               precision    recall  f1-score   support\n",
      "\n",
      "           0       0.85      0.89      0.87        72\n",
      "           1       0.75      0.69      0.72        35\n",
      "\n",
      "    accuracy                           0.82       107\n",
      "   macro avg       0.80      0.79      0.79       107\n",
      "weighted avg       0.82      0.82      0.82       107\n",
      "\n",
      "AUC-ROC Score: 0.9027777777777777\n"
     ]
    }
   ],
   "source": [
    "# Train the SVM model\n",
    "svm_model = SVC(kernel='linear', random_state=42)  \n",
    "svm_model.fit(X_pca_df_train, y_train)\n",
    "\n",
    "# Make predictions\n",
    "y_pred = svm_model.predict(X_pca_df_test)\n",
    "\n",
    "# Evaluate the model\n",
    "print(\"Accuracy:\", accuracy_score(y_test, y_pred))\n",
    "print(\"Classification Report:\\n\", classification_report(y_test, y_pred))\n",
    "\n",
    "# Get decision scores\n",
    "y_scores = svm_model.decision_function(X_pca_df_test)\n",
    "\n",
    "# Compute AUC-ROC score\n",
    "auc_roc = roc_auc_score(y_test, y_scores)\n",
    "print(\"AUC-ROC Score:\", auc_roc)\n",
    "\n",
    "# F1-score decreased\n",
    "# AUC-ROC decreased"
   ]
  },
  {
   "cell_type": "markdown",
   "metadata": {},
   "source": [
    "# SVM with RFE"
   ]
  },
  {
   "cell_type": "code",
   "execution_count": 103,
   "metadata": {},
   "outputs": [],
   "source": [
    "# Train-test split\n",
    "X_train, X_test, y_train, y_test = train_test_split(X, y, test_size=0.2, random_state=42)"
   ]
  },
  {
   "cell_type": "code",
   "execution_count": 104,
   "metadata": {},
   "outputs": [
    {
     "name": "stdout",
     "output_type": "stream",
     "text": [
      "Optimal number of features: 20\n"
     ]
    }
   ],
   "source": [
    "from sklearn.model_selection import cross_val_score\n",
    "from sklearn.ensemble import RandomForestClassifier\n",
    "from sklearn.feature_selection import RFE\n",
    "\n",
    "# Initialize model (RandomForest for ranking)\n",
    "model = RandomForestClassifier(n_estimators=100, random_state=4262)\n",
    "\n",
    "# Try different numbers of features\n",
    "n_features_list = [5, 10, 15, 20, 25]  # Number of features to select\n",
    "scores = []\n",
    "\n",
    "for n_features in n_features_list:\n",
    "    rfe = RFE(estimator=model, n_features_to_select=n_features)\n",
    "    X_rfe = rfe.fit_transform(X_train, y_train)\n",
    "    \n",
    "    # Evaluate performance with cross-validation\n",
    "    score = cross_val_score(model, X_rfe, y_train, cv=5)  # 5-fold cross-validation\n",
    "    scores.append(score.mean())  # Store the mean score\n",
    "\n",
    "# Identify the optimal number of features\n",
    "optimal_n_features = n_features_list[scores.index(max(scores))]\n",
    "print(\"Optimal number of features:\", optimal_n_features)"
   ]
  },
  {
   "cell_type": "code",
   "execution_count": 105,
   "metadata": {},
   "outputs": [
    {
     "name": "stdout",
     "output_type": "stream",
     "text": [
      "Selected Features: ['Age (yrs)', 'BMI', 'Menstrual Cycle Length(days)', 'Marriage Status (Yrs)', 'FSH/LH', 'TSH (mIU/L)', 'AMH(ng/mL)', 'PRL(ng/mL)', 'Vit D3 (ng/mL)', 'RBS(mg/dl)', 'Weight gain(Y/N)', 'hair growth(Y/N)', 'Skin darkening (Y/N)', 'Fast food (Y/N)', 'Follicle No. (L)', 'Follicle No. (R)', 'Avg. F size (L) (mm)', 'Avg. F size (R) (mm)', 'Endometrium (mm)', 'Menstrual Cycle(R/I)_irregular']\n"
     ]
    }
   ],
   "source": [
    "# Apply RFE\n",
    "rfe = RFE(estimator=model, n_features_to_select=20)  # Keep top 20 features\n",
    "X_rfe = rfe.fit_transform(X_train, y_train)\n",
    "\n",
    "# Get selected feature names\n",
    "selected_features = X_train.columns[rfe.support_]\n",
    "print(\"Selected Features:\", list(selected_features))"
   ]
  },
  {
   "cell_type": "code",
   "execution_count": 106,
   "metadata": {},
   "outputs": [],
   "source": [
    "# Convert the result (X_rfe) back to a DataFrame\n",
    "X_rfe_train = pd.DataFrame(X_rfe, columns=selected_features)\n",
    "X_rfe_test = pd.DataFrame(X_test, columns=selected_features)"
   ]
  },
  {
   "cell_type": "code",
   "execution_count": 107,
   "metadata": {},
   "outputs": [
    {
     "name": "stdout",
     "output_type": "stream",
     "text": [
      "Accuracy: 0.8504672897196262\n",
      "Classification Report:\n",
      "               precision    recall  f1-score   support\n",
      "\n",
      "           0       0.89      0.89      0.89        72\n",
      "           1       0.77      0.77      0.77        35\n",
      "\n",
      "    accuracy                           0.85       107\n",
      "   macro avg       0.83      0.83      0.83       107\n",
      "weighted avg       0.85      0.85      0.85       107\n",
      "\n",
      "AUC-ROC Score: 0.9428571428571428\n"
     ]
    }
   ],
   "source": [
    "# Train the SVM model\n",
    "svm_model = SVC(kernel='linear', random_state=42) \n",
    "svm_model.fit(X_rfe_train, y_train)\n",
    "\n",
    "# Make predictions\n",
    "y_pred = svm_model.predict(X_rfe_test)\n",
    "\n",
    "# Evaluate the model\n",
    "print(\"Accuracy:\", accuracy_score(y_test, y_pred))\n",
    "print(\"Classification Report:\\n\", classification_report(y_test, y_pred))\n",
    "\n",
    "# Get decision scores\n",
    "y_scores = svm_model.decision_function(X_rfe_test)\n",
    "\n",
    "# Compute AUC-ROC score\n",
    "auc_roc = roc_auc_score(y_test, y_scores)\n",
    "print(\"AUC-ROC Score:\", auc_roc)\n",
    "\n",
    "# improved"
   ]
  },
  {
   "cell_type": "markdown",
   "metadata": {},
   "source": [
    "# Upsampling with SMOTE"
   ]
  },
  {
   "cell_type": "code",
   "execution_count": 108,
   "metadata": {},
   "outputs": [
    {
     "name": "stdout",
     "output_type": "stream",
     "text": [
      "Before SMOTE: Counter({0: 288, 1: 136})\n",
      "After SMOTE: Counter({1: 288, 0: 288})\n"
     ]
    }
   ],
   "source": [
    "from imblearn.over_sampling import SMOTE\n",
    "from collections import Counter\n",
    "\n",
    "# Check the class distribution before SMOTE\n",
    "print(\"Before SMOTE:\", Counter(y_train))\n",
    "\n",
    "# Apply SMOTE\n",
    "smote = SMOTE(sampling_strategy='auto', random_state=42)\n",
    "X_resampled, y_resampled = smote.fit_resample(X_train, y_train)\n",
    "\n",
    "# Check the class distribution after SMOTE\n",
    "print(\"After SMOTE:\", Counter(y_resampled))"
   ]
  },
  {
   "cell_type": "code",
   "execution_count": 109,
   "metadata": {},
   "outputs": [],
   "source": [
    "X_resampled = pd.DataFrame(X_resampled, columns=X_resampled.columns)"
   ]
  },
  {
   "cell_type": "code",
   "execution_count": 110,
   "metadata": {},
   "outputs": [
    {
     "name": "stdout",
     "output_type": "stream",
     "text": [
      "Optimal number of features: 25\n"
     ]
    }
   ],
   "source": [
    "# Initialize model (RandomForest for ranking)\n",
    "model = RandomForestClassifier(n_estimators=100, random_state=123)\n",
    "\n",
    "# Try different numbers of features\n",
    "n_features_list = [5, 10, 15, 20, 25]  # Number of features to select\n",
    "scores = []\n",
    "\n",
    "for n_features in n_features_list:\n",
    "    rfe = RFE(estimator=model, n_features_to_select=n_features)\n",
    "    X_rfe = rfe.fit_transform(X_resampled, y_resampled)\n",
    "    \n",
    "    # Evaluate performance with cross-validation\n",
    "    score = cross_val_score(model, X_rfe, y_resampled, cv=5)  # 5-fold cross-validation\n",
    "    scores.append(score.mean())  # Store the mean score\n",
    "\n",
    "# Identify the optimal number of features\n",
    "optimal_n_features = n_features_list[scores.index(max(scores))]\n",
    "print(\"Optimal number of features:\", optimal_n_features)"
   ]
  },
  {
   "cell_type": "code",
   "execution_count": 111,
   "metadata": {},
   "outputs": [
    {
     "name": "stdout",
     "output_type": "stream",
     "text": [
      "Selected Features: ['Age (yrs)', 'BMI', 'Hb(g/dl)', 'Menstrual Cycle Length(days)', 'FSH/LH', 'Waist:Hip Ratio', 'TSH (mIU/L)', 'AMH(ng/mL)', 'PRL(ng/mL)', 'Vit D3 (ng/mL)', 'PRG(ng/mL)', 'Skin darkening (Y/N)', 'Fast food (Y/N)', 'Follicle No. (L)', 'Follicle No. (R)', 'Avg. F size (L) (mm)', 'Avg. F size (R) (mm)', 'Endometrium (mm)', 'Menstrual Cycle(R/I)_irregular', 'Menstrual Cycle(R/I)_regular']\n"
     ]
    }
   ],
   "source": [
    "# Apply RFE\n",
    "rfe = RFE(estimator=model, n_features_to_select=20)  # Keep top 20 features\n",
    "X_rfe = rfe.fit_transform(X_resampled, y_resampled)\n",
    "\n",
    "# Get selected feature names\n",
    "selected_features = X_resampled.columns[rfe.support_]\n",
    "print(\"Selected Features:\", list(selected_features))"
   ]
  },
  {
   "cell_type": "code",
   "execution_count": 112,
   "metadata": {},
   "outputs": [],
   "source": [
    "# Convert the result (X_rfe) back to a DataFrame\n",
    "X_resampled_rfe_df = pd.DataFrame(X_rfe, columns=selected_features)\n",
    "\n",
    "X_smote_rfe_test = pd.DataFrame(X_test, columns=selected_features)"
   ]
  },
  {
   "cell_type": "code",
   "execution_count": 113,
   "metadata": {},
   "outputs": [
    {
     "name": "stdout",
     "output_type": "stream",
     "text": [
      "Accuracy: 0.8037383177570093\n",
      "Classification Report:\n",
      "               precision    recall  f1-score   support\n",
      "\n",
      "           0       0.87      0.83      0.85        72\n",
      "           1       0.68      0.74      0.71        35\n",
      "\n",
      "    accuracy                           0.80       107\n",
      "   macro avg       0.78      0.79      0.78       107\n",
      "weighted avg       0.81      0.80      0.81       107\n",
      "\n",
      "AUC-ROC Score: 0.9067460317460316\n"
     ]
    }
   ],
   "source": [
    "# Train the SVM model\n",
    "svm_model = SVC(kernel='linear', random_state=42)  \n",
    "svm_model.fit(X_resampled_rfe_df, y_resampled)\n",
    "\n",
    "# Make predictions\n",
    "y_pred = svm_model.predict(X_smote_rfe_test)\n",
    "\n",
    "# Evaluate the model\n",
    "print(\"Accuracy:\", accuracy_score(y_test, y_pred))\n",
    "print(\"Classification Report:\\n\", classification_report(y_test, y_pred))\n",
    "\n",
    "# Get decision scores\n",
    "y_scores = svm_model.decision_function(X_smote_rfe_test)\n",
    "\n",
    "# Compute AUC-ROC score\n",
    "auc_roc = roc_auc_score(y_test, y_scores)\n",
    "print(\"AUC-ROC Score:\", auc_roc)\n",
    "\n",
    "# other metrics increased\n",
    "# AUC-ROC decreased"
   ]
  },
  {
   "cell_type": "markdown",
   "metadata": {},
   "source": [
    "## Using SMOTE + Tomek"
   ]
  },
  {
   "cell_type": "code",
   "execution_count": 114,
   "metadata": {},
   "outputs": [],
   "source": [
    "from imblearn.combine import SMOTETomek\n",
    "\n",
    "smote_tomek = SMOTETomek(random_state=42)\n",
    "X_resampled_t, y_resampled_t = smote_tomek.fit_resample(X_resampled, y_resampled)"
   ]
  },
  {
   "cell_type": "code",
   "execution_count": 115,
   "metadata": {},
   "outputs": [],
   "source": [
    "X_resampled_t = pd.DataFrame(X_resampled_t, columns=X_resampled_t.columns)"
   ]
  },
  {
   "cell_type": "code",
   "execution_count": 116,
   "metadata": {},
   "outputs": [
    {
     "name": "stdout",
     "output_type": "stream",
     "text": [
      "Optimal number of features: 25\n"
     ]
    }
   ],
   "source": [
    "# Initialize model (RandomForest for ranking)\n",
    "model = RandomForestClassifier(n_estimators=100, random_state=123)\n",
    "\n",
    "# Try different numbers of features\n",
    "n_features_list = [5, 10, 15, 20, 25]  # Number of features to select\n",
    "scores = []\n",
    "\n",
    "for n_features in n_features_list:\n",
    "    rfe = RFE(estimator=model, n_features_to_select=n_features)\n",
    "    X_rfe = rfe.fit_transform(X_resampled_t, y_resampled_t)\n",
    "    \n",
    "    # Evaluate performance with cross-validation\n",
    "    score = cross_val_score(model, X_rfe, y_resampled_t, cv=5)  # 5-fold cross-validation\n",
    "    scores.append(score.mean())  # Store the mean score\n",
    "\n",
    "# Identify the optimal number of features\n",
    "optimal_n_features = n_features_list[scores.index(max(scores))]\n",
    "print(\"Optimal number of features:\", optimal_n_features)"
   ]
  },
  {
   "cell_type": "code",
   "execution_count": 117,
   "metadata": {},
   "outputs": [
    {
     "name": "stdout",
     "output_type": "stream",
     "text": [
      "Selected Features: ['Age (yrs)', 'BMI', 'Hb(g/dl)', 'Menstrual Cycle Length(days)', 'Marriage Status (Yrs)', 'I   beta-HCG(mIU/mL)', 'FSH/LH', 'Waist:Hip Ratio', 'TSH (mIU/L)', 'AMH(ng/mL)', 'PRL(ng/mL)', 'Vit D3 (ng/mL)', 'PRG(ng/mL)', 'RBS(mg/dl)', 'Weight gain(Y/N)', 'hair growth(Y/N)', 'Skin darkening (Y/N)', 'Fast food (Y/N)', 'Follicle No. (L)', 'Follicle No. (R)', 'Avg. F size (L) (mm)', 'Avg. F size (R) (mm)', 'Endometrium (mm)', 'Menstrual Cycle(R/I)_irregular', 'Menstrual Cycle(R/I)_regular']\n"
     ]
    }
   ],
   "source": [
    "# Apply RFE\n",
    "rfe = RFE(estimator=model, n_features_to_select=25)  # Keep top 25 features\n",
    "X_rfe = rfe.fit_transform(X_resampled_t, y_resampled_t)\n",
    "\n",
    "# Get selected feature names\n",
    "selected_features = X_resampled_t.columns[rfe.support_]\n",
    "print(\"Selected Features:\", list(selected_features))"
   ]
  },
  {
   "cell_type": "code",
   "execution_count": 118,
   "metadata": {},
   "outputs": [],
   "source": [
    "# Convert the result (X_rfe) back to a DataFrame\n",
    "X_resampled_t_rfe_df = pd.DataFrame(X_rfe, columns=selected_features)\n",
    "\n",
    "X_t_rfe_test = pd.DataFrame(X_test, columns=selected_features)"
   ]
  },
  {
   "cell_type": "code",
   "execution_count": 119,
   "metadata": {},
   "outputs": [
    {
     "name": "stdout",
     "output_type": "stream",
     "text": [
      "Accuracy: 0.8411214953271028\n",
      "Classification Report:\n",
      "               precision    recall  f1-score   support\n",
      "\n",
      "           0       0.88      0.89      0.88        72\n",
      "           1       0.76      0.74      0.75        35\n",
      "\n",
      "    accuracy                           0.84       107\n",
      "   macro avg       0.82      0.82      0.82       107\n",
      "weighted avg       0.84      0.84      0.84       107\n",
      "\n",
      "AUC-ROC Score: 0.9027777777777777\n"
     ]
    }
   ],
   "source": [
    "# Train the SVM model\n",
    "svm_model = SVC(kernel='linear', random_state=42)  \n",
    "svm_model.fit(X_resampled_t_rfe_df, y_resampled_t)\n",
    "\n",
    "# Make predictions\n",
    "y_pred = svm_model.predict(X_t_rfe_test)\n",
    "\n",
    "# Evaluate the model\n",
    "print(\"Accuracy:\", accuracy_score(y_test, y_pred))\n",
    "print(\"Classification Report:\\n\", classification_report(y_test, y_pred))\n",
    "\n",
    "# Get decision scores\n",
    "y_scores = svm_model.decision_function(X_t_rfe_test)\n",
    "\n",
    "# Compute AUC-ROC score\n",
    "auc_roc = roc_auc_score(y_test, y_scores)\n",
    "print(\"AUC-ROC Score:\", auc_roc)\n",
    "\n",
    "# improved?"
   ]
  },
  {
   "cell_type": "code",
   "execution_count": 120,
   "metadata": {},
   "outputs": [
    {
     "data": {
      "image/png": "[encoded data removed]",
      "text/plain": [
       "<Figure size 800x600 with 1 Axes>"
      ]
     },
     "metadata": {},
     "output_type": "display_data"
    }
   ],
   "source": [
    "# Plot ROC Curve\n",
    "fpr, tpr, _ = roc_curve(y_test, y_scores)\n",
    "plt.figure(figsize=(8, 6))\n",
    "plt.plot(fpr, tpr, label=f'AUC = {auc_roc:.2f}')\n",
    "plt.plot([0, 1], [0, 1], linestyle='--', color='gray')  # Diagonal line\n",
    "plt.xlabel(\"False Positive Rate\")\n",
    "plt.ylabel(\"True Positive Rate\")\n",
    "plt.title(\"ROC Curve\")\n",
    "plt.legend()\n",
    "plt.show()"
   ]
  },
  {
   "cell_type": "markdown",
   "metadata": {},
   "source": [
    "# Assign class weights"
   ]
  },
  {
   "cell_type": "code",
   "execution_count": 121,
   "metadata": {},
   "outputs": [
    {
     "name": "stdout",
     "output_type": "stream",
     "text": [
      "Accuracy: 0.8785046728971962\n",
      "Classification Report:\n",
      "               precision    recall  f1-score   support\n",
      "\n",
      "           0       0.93      0.89      0.91        72\n",
      "           1       0.79      0.86      0.82        35\n",
      "\n",
      "    accuracy                           0.88       107\n",
      "   macro avg       0.86      0.87      0.86       107\n",
      "weighted avg       0.88      0.88      0.88       107\n",
      "\n",
      "AUC-ROC Score: 0.9432539682539682\n"
     ]
    }
   ],
   "source": [
    "# using class weights from svm\n",
    "\n",
    "# Train the SVM model\n",
    "svm_model = SVC(kernel='linear', class_weight='balanced', random_state=42) \n",
    "svm_model.fit(X_rfe_train, y_train)\n",
    "\n",
    "# Make predictions\n",
    "y_pred = svm_model.predict(X_rfe_test)\n",
    "\n",
    "# Evaluate the model\n",
    "print(\"Accuracy:\", accuracy_score(y_test, y_pred))\n",
    "print(\"Classification Report:\\n\", classification_report(y_test, y_pred))\n",
    "\n",
    "# Get decision scores\n",
    "y_scores = svm_model.decision_function(X_rfe_test)\n",
    "\n",
    "# Compute AUC-ROC score\n",
    "auc_roc = roc_auc_score(y_test, y_scores)\n",
    "print(\"AUC-ROC Score:\", auc_roc)\n",
    "\n",
    "# other metrics decreased, AUC-ROC increased\n",
    "# SMOTE better?"
   ]
  },
  {
   "cell_type": "markdown",
   "metadata": {},
   "source": [
    "# Choose best params for SVM"
   ]
  },
  {
   "cell_type": "code",
   "execution_count": 122,
   "metadata": {},
   "outputs": [
    {
     "name": "stdout",
     "output_type": "stream",
     "text": [
      "Best Parameters: {'C': 1, 'gamma': 'scale', 'kernel': 'linear'}\n"
     ]
    }
   ],
   "source": [
    "from sklearn.model_selection import GridSearchCV\n",
    "\n",
    "param_grid = {\n",
    "    'C': [0.1, 1, 10, 100], \n",
    "    'kernel': ['linear', 'rbf', 'poly'],  \n",
    "    'gamma': ['scale', 'auto']\n",
    "}\n",
    "\n",
    "grid_search = GridSearchCV(SVC(), param_grid, cv=5, scoring='f1', n_jobs=-1)\n",
    "grid_search.fit(X_resampled_t_rfe_df, y_resampled_t)\n",
    "\n",
    "print(\"Best Parameters:\", grid_search.best_params_)\n"
   ]
  },
  {
   "cell_type": "code",
   "execution_count": 123,
   "metadata": {},
   "outputs": [
    {
     "name": "stdout",
     "output_type": "stream",
     "text": [
      "Accuracy: 0.8411214953271028\n",
      "Classification Report:\n",
      "               precision    recall  f1-score   support\n",
      "\n",
      "           0       0.88      0.89      0.88        72\n",
      "           1       0.76      0.74      0.75        35\n",
      "\n",
      "    accuracy                           0.84       107\n",
      "   macro avg       0.82      0.82      0.82       107\n",
      "weighted avg       0.84      0.84      0.84       107\n",
      "\n",
      "AUC-ROC Score: 0.9027777777777777\n"
     ]
    }
   ],
   "source": [
    "best_params = grid_search.best_params_\n",
    "\n",
    "svm_model = SVC(\n",
    "    C=best_params['C'], \n",
    "    kernel=best_params['kernel'], \n",
    "    gamma=best_params.get('gamma', 'scale')  \n",
    ")\n",
    "\n",
    "svm_model.fit(X_resampled_t_rfe_df, y_resampled_t)\n",
    "\n",
    "# Make predictions\n",
    "y_pred = svm_model.predict(X_t_rfe_test)\n",
    "\n",
    "# Evaluate the model\n",
    "print(\"Accuracy:\", accuracy_score(y_test, y_pred))\n",
    "print(\"Classification Report:\\n\", classification_report(y_test, y_pred))\n",
    "\n",
    "# Get decision scores\n",
    "y_scores = svm_model.decision_function(X_t_rfe_test)\n",
    "\n",
    "# Compute AUC-ROC score\n",
    "auc_roc = roc_auc_score(y_test, y_scores)\n",
    "print(\"AUC-ROC Score:\", auc_roc)"
   ]
  },
  {
   "cell_type": "markdown",
   "metadata": {},
   "source": [
    "# Feature Engineered Dataset"
   ]
  },
  {
   "cell_type": "code",
   "execution_count": 124,
   "metadata": {},
   "outputs": [
    {
     "name": "stdout",
     "output_type": "stream",
     "text": [
      "     PCOS (Y/N)  Age (yrs)   BMI  Pulse rate(bpm)  \\\n",
      "0             0         28  19.3               78   \n",
      "1             0         36  24.9               74   \n",
      "2             1         33  25.3               72   \n",
      "3             0         37  29.7               72   \n",
      "4             0         25  20.1               72   \n",
      "..          ...        ...   ...              ...   \n",
      "524           0         35  18.5               72   \n",
      "525           0         30  25.3               72   \n",
      "526           0         36  23.4               74   \n",
      "527           0         27  22.2               74   \n",
      "528           1         23  30.1               80   \n",
      "\n",
      "     Menstrual Cycle Length(days)  Marriage Status (Yrs)  Pregnant(Y/N)  \\\n",
      "0                               5                    7.0              0   \n",
      "1                               5                   11.0              1   \n",
      "2                               5                   10.0              1   \n",
      "3                               5                    4.0              0   \n",
      "4                               5                    1.0              1   \n",
      "..                            ...                    ...            ...   \n",
      "524                             5                    8.0              0   \n",
      "525                             5                    4.0              1   \n",
      "526                             6                    8.0              0   \n",
      "527                             2                    2.0              0   \n",
      "528                             7                    2.0              0   \n",
      "\n",
      "     No. of abortions  I   beta-HCG(mIU/mL)  II    beta-HCG(mIU/mL)  ...  \\\n",
      "0                   0                  1.99                    1.99  ...   \n",
      "1                   0                 60.80                    1.99  ...   \n",
      "2                   0                494.08                  494.08  ...   \n",
      "3                   0                  1.99                    1.99  ...   \n",
      "4                   0                801.45                  801.45  ...   \n",
      "..                ...                   ...                     ...  ...   \n",
      "524                 1                  1.99                    1.99  ...   \n",
      "525                 1                 80.13                    1.99  ...   \n",
      "526                 0                  1.99                    1.99  ...   \n",
      "527                 0                292.92                    1.99  ...   \n",
      "528                 0                  1.99                    1.99  ...   \n",
      "\n",
      "     RBS(mg/dl)_low  RBS(mg/dl)_normal  BP _Systolic (mmHg)_high  \\\n",
      "0               0.0                1.0                       0.0   \n",
      "1               0.0                1.0                       0.0   \n",
      "2               0.0                1.0                       0.0   \n",
      "3               0.0                1.0                       0.0   \n",
      "4               0.0                1.0                       0.0   \n",
      "..              ...                ...                       ...   \n",
      "524             0.0                1.0                       0.0   \n",
      "525             0.0                1.0                       0.0   \n",
      "526             0.0                1.0                       0.0   \n",
      "527             0.0                1.0                       0.0   \n",
      "528             0.0                1.0                       0.0   \n",
      "\n",
      "     BP _Systolic (mmHg)_normal  BP _Diastolic (mmHg)_high  \\\n",
      "0                           1.0                        0.0   \n",
      "1                           1.0                        0.0   \n",
      "2                           1.0                        0.0   \n",
      "3                           1.0                        0.0   \n",
      "4                           1.0                        0.0   \n",
      "..                          ...                        ...   \n",
      "524                         1.0                        0.0   \n",
      "525                         1.0                        0.0   \n",
      "526                         1.0                        0.0   \n",
      "527                         1.0                        0.0   \n",
      "528                         1.0                        0.0   \n",
      "\n",
      "     BP _Diastolic (mmHg)_normal  I beta-HCG cat_abnormal  \\\n",
      "0                            1.0                      0.0   \n",
      "1                            1.0                      0.0   \n",
      "2                            1.0                      0.0   \n",
      "3                            1.0                      0.0   \n",
      "4                            1.0                      0.0   \n",
      "..                           ...                      ...   \n",
      "524                          1.0                      0.0   \n",
      "525                          1.0                      0.0   \n",
      "526                          1.0                      0.0   \n",
      "527                          1.0                      1.0   \n",
      "528                          1.0                      0.0   \n",
      "\n",
      "     I beta-HCG cat_normal  II beta-HCG cat_abnormal  II beta-HCG cat_normal  \n",
      "0                      1.0                       0.0                     1.0  \n",
      "1                      1.0                       1.0                     0.0  \n",
      "2                      1.0                       0.0                     1.0  \n",
      "3                      1.0                       0.0                     1.0  \n",
      "4                      1.0                       0.0                     1.0  \n",
      "..                     ...                       ...                     ...  \n",
      "524                    1.0                       0.0                     1.0  \n",
      "525                    1.0                       1.0                     0.0  \n",
      "526                    1.0                       0.0                     1.0  \n",
      "527                    0.0                       0.0                     1.0  \n",
      "528                    1.0                       0.0                     1.0  \n",
      "\n",
      "[529 rows x 66 columns]\n"
     ]
    }
   ],
   "source": [
    "# Load feature engineered dataset\n",
    "df = pd.read_csv(\"final_data.csv\")\n",
    "print(df)"
   ]
  },
  {
   "cell_type": "code",
   "execution_count": 125,
   "metadata": {},
   "outputs": [],
   "source": [
    "X = df.drop(columns='PCOS (Y/N)')\n",
    "y = df['PCOS (Y/N)']\n",
    "\n",
    "# Train-test split\n",
    "X_train, X_test, y_train, y_test = train_test_split(X, y, test_size=0.2, random_state=42)"
   ]
  },
  {
   "cell_type": "code",
   "execution_count": 126,
   "metadata": {},
   "outputs": [
    {
     "data": {
      "text/plain": [
       "Index(['Age (yrs)', 'BMI', 'Pulse rate(bpm)', 'Menstrual Cycle Length(days)',\n",
       "       'Marriage Status (Yrs)', 'Pregnant(Y/N)', 'No. of abortions',\n",
       "       'I   beta-HCG(mIU/mL)', 'II    beta-HCG(mIU/mL)', 'FSH/LH',\n",
       "       'Waist:Hip Ratio', 'Weight gain(Y/N)', 'hair growth(Y/N)',\n",
       "       'Skin darkening (Y/N)', 'Hair loss(Y/N)', 'Pimples(Y/N)',\n",
       "       'Fast food (Y/N)', 'Reg.Exercise(Y/N)', 'Follicle No. (L)',\n",
       "       'Follicle No. (R)', 'Avg. F size (L) (mm)', 'Avg. F size (R) (mm)',\n",
       "       'Endometrium (mm)', 'Blood Group_A+', 'Blood Group_A-',\n",
       "       'Blood Group_AB+', 'Blood Group_AB-', 'Blood Group_B+',\n",
       "       'Blood Group_B-', 'Blood Group_O+', 'Blood Group_O-',\n",
       "       'Menstrual Cycle(R/I)_irregular', 'Menstrual Cycle(R/I)_regular',\n",
       "       'Symptoms score', 'Unhealthy living score', 'RR (breaths/min)_high',\n",
       "       'RR (breaths/min)_normal', 'Hb(g/dl)_low', 'Hb(g/dl)_normal',\n",
       "       'TSH (mIU/L)_high', 'TSH (mIU/L)_low', 'TSH (mIU/L)_normal',\n",
       "       'AMH(ng/mL)_high', 'AMH(ng/mL)_low', 'AMH(ng/mL)_normal',\n",
       "       'PRL(ng/mL)_high', 'PRL(ng/mL)_low', 'PRL(ng/mL)_normal',\n",
       "       'Vit D3 (ng/mL)_high', 'Vit D3 (ng/mL)_low', 'Vit D3 (ng/mL)_normal',\n",
       "       'PRG(ng/mL)_high', 'PRG(ng/mL)_low', 'PRG(ng/mL)_normal',\n",
       "       'RBS(mg/dl)_high', 'RBS(mg/dl)_low', 'RBS(mg/dl)_normal',\n",
       "       'BP _Systolic (mmHg)_high', 'BP _Systolic (mmHg)_normal',\n",
       "       'BP _Diastolic (mmHg)_high', 'BP _Diastolic (mmHg)_normal',\n",
       "       'I beta-HCG cat_abnormal', 'I beta-HCG cat_normal',\n",
       "       'II beta-HCG cat_abnormal', 'II beta-HCG cat_normal'],\n",
       "      dtype='object')"
      ]
     },
     "execution_count": 126,
     "metadata": {},
     "output_type": "execute_result"
    }
   ],
   "source": [
    "X_train.columns"
   ]
  },
  {
   "cell_type": "code",
   "execution_count": 127,
   "metadata": {},
   "outputs": [],
   "source": [
    "# Separate numerical and categorical columns\n",
    "num_cols = ['Age (yrs)', 'BMI', 'Pulse rate(bpm)', 'Menstrual Cycle Length(days)', 'Marriage Status (Yrs)',\n",
    "            'No. of abortions', 'I   beta-HCG(mIU/mL)', 'II    beta-HCG(mIU/mL)', 'FSH/LH',\n",
    "            'Waist:Hip Ratio', 'Follicle No. (L)', 'Follicle No. (R)', 'Avg. F size (L) (mm)',\n",
    "            'Avg. F size (R) (mm)', 'Endometrium (mm)']\n",
    "\n",
    "cat_cols = X_train.drop(columns=num_cols+['PCOS (Y/N)'], errors='ignore').columns\n",
    "\n",
    "cat_df_train = X_train[cat_cols]\n",
    "cat_df_test = X_test[cat_cols]\n",
    "\n",
    "cat_df_train = cat_df_train.reset_index(drop=True)\n",
    "cat_df_test = cat_df_test.reset_index(drop=True)\n",
    "\n",
    "# Scale numerical features only\n",
    "scaler = StandardScaler()\n",
    "df_scaled_train = pd.DataFrame(scaler.fit_transform(X_train[num_cols]), columns=num_cols)\n",
    "df_scaled_test = pd.DataFrame(scaler.transform(X_test[num_cols]), columns=num_cols)\n",
    "\n",
    "# Combine scaled numerical and encoded categorical features\n",
    "X_train = pd.concat([df_scaled_train, cat_df_train], axis=1)\n",
    "X_test = pd.concat([df_scaled_test, cat_df_test], axis=1)"
   ]
  },
  {
   "cell_type": "code",
   "execution_count": 128,
   "metadata": {},
   "outputs": [
    {
     "name": "stdout",
     "output_type": "stream",
     "text": [
      "Accuracy: 0.8867924528301887\n",
      "Classification Report:\n",
      "               precision    recall  f1-score   support\n",
      "\n",
      "           0       0.93      0.91      0.92        74\n",
      "           1       0.79      0.84      0.82        32\n",
      "\n",
      "    accuracy                           0.89       106\n",
      "   macro avg       0.86      0.87      0.87       106\n",
      "weighted avg       0.89      0.89      0.89       106\n",
      "\n",
      "AUC-ROC Score: 0.9497466216216217\n"
     ]
    }
   ],
   "source": [
    "# Train the SVM model\n",
    "svm_model = SVC(kernel='linear', probability=True, random_state=42)\n",
    "svm_model.fit(X_train, y_train)\n",
    "\n",
    "# Make predictions\n",
    "y_pred = svm_model.predict(X_test)\n",
    "\n",
    "# Evaluate the model\n",
    "print(\"Accuracy:\", accuracy_score(y_test, y_pred))\n",
    "print(\"Classification Report:\\n\", classification_report(y_test, y_pred))\n",
    "\n",
    "# Get decision scores\n",
    "y_scores = svm_model.decision_function(X_test)\n",
    "\n",
    "# Compute AUC-ROC score\n",
    "auc_roc = roc_auc_score(y_test, y_scores)\n",
    "print(\"AUC-ROC Score:\", auc_roc)"
   ]
  },
  {
   "cell_type": "markdown",
   "metadata": {},
   "source": [
    "# Predicting with PCA"
   ]
  },
  {
   "cell_type": "code",
   "execution_count": 129,
   "metadata": {},
   "outputs": [],
   "source": [
    "import matplotlib.pyplot as plt\n",
    "from sklearn.decomposition import PCA"
   ]
  },
  {
   "cell_type": "code",
   "execution_count": 130,
   "metadata": {},
   "outputs": [
    {
     "data": {
      "image/png": "[encoded data removed]",
      "text/plain": [
       "<Figure size 640x480 with 1 Axes>"
      ]
     },
     "metadata": {},
     "output_type": "display_data"
    },
    {
     "name": "stdout",
     "output_type": "stream",
     "text": [
      "Selected 13 components to retain 95% variance.\n"
     ]
    }
   ],
   "source": [
    "# Apply PCA\n",
    "pca = PCA()\n",
    "X_pca_train = pca.fit_transform(df_scaled_train)\n",
    "X_pca_test = pca.transform(df_scaled_test)\n",
    "\n",
    "# Plot explained variance\n",
    "explained_variance = np.cumsum(pca.explained_variance_ratio_)\n",
    "plt.plot(range(1, len(explained_variance) + 1), explained_variance, marker='o', linestyle='--')\n",
    "plt.xlabel('Number of Principal Components')\n",
    "plt.ylabel('Cumulative Explained Variance')\n",
    "plt.title('Explained Variance vs. Number of Components')\n",
    "plt.axhline(y=0.95, color='r', linestyle='--')  # 95% threshold\n",
    "plt.show()\n",
    "\n",
    "# Select the number of components needed for 95% variance\n",
    "num_components = np.argmax(explained_variance >= 0.95) + 1\n",
    "print(f\"Selected {num_components} components to retain 95% variance.\")\n",
    "\n",
    "X_reduced_train = X_pca_train[:, :num_components]  # Keep only selected components\n",
    "X_reduced_test = X_pca_test[:, :num_components]"
   ]
  },
  {
   "cell_type": "code",
   "execution_count": 131,
   "metadata": {},
   "outputs": [],
   "source": [
    "# Convert NumPy array back to DataFrame\n",
    "X_pca_num_train = pd.DataFrame(X_reduced_train, columns=[f'PC{i+1}' for i in range(X_reduced_train.shape[1])])\n",
    "X_pca_num_test = pd.DataFrame(X_reduced_test, columns=[f'PC{i+1}' for i in range(X_reduced_test.shape[1])])\n",
    "\n",
    "# Combine results with the one-hot encoded columns\n",
    "X_pca_df_train = pd.concat([X_pca_num_train, cat_df_train], axis=1)\n",
    "X_pca_df_test = pd.concat([X_pca_num_test, cat_df_test], axis=1)"
   ]
  },
  {
   "cell_type": "code",
   "execution_count": 132,
   "metadata": {},
   "outputs": [
    {
     "name": "stdout",
     "output_type": "stream",
     "text": [
      "Accuracy: 0.8867924528301887\n",
      "Classification Report:\n",
      "               precision    recall  f1-score   support\n",
      "\n",
      "           0       0.91      0.93      0.92        74\n",
      "           1       0.83      0.78      0.81        32\n",
      "\n",
      "    accuracy                           0.89       106\n",
      "   macro avg       0.87      0.86      0.86       106\n",
      "weighted avg       0.89      0.89      0.89       106\n",
      "\n",
      "AUC-ROC Score: 0.9645270270270271\n"
     ]
    }
   ],
   "source": [
    "# Train the SVM model\n",
    "svm_model = SVC(kernel='linear', random_state=42)  \n",
    "svm_model.fit(X_pca_df_train, y_train)\n",
    "\n",
    "# Make predictions\n",
    "y_pred = svm_model.predict(X_pca_df_test)\n",
    "\n",
    "# Evaluate the model\n",
    "print(\"Accuracy:\", accuracy_score(y_test, y_pred))\n",
    "print(\"Classification Report:\\n\", classification_report(y_test, y_pred))\n",
    "\n",
    "# Get decision scores\n",
    "y_scores = svm_model.decision_function(X_pca_df_test)\n",
    "\n",
    "# Compute AUC-ROC score\n",
    "auc_roc = roc_auc_score(y_test, y_scores)\n",
    "print(\"AUC-ROC Score:\", auc_roc)\n",
    "\n",
    "# AUC-ROC increased, F1 decreased slightly"
   ]
  },
  {
   "cell_type": "markdown",
   "metadata": {},
   "source": [
    "# SVM with RFE"
   ]
  },
  {
   "cell_type": "code",
   "execution_count": 133,
   "metadata": {},
   "outputs": [
    {
     "name": "stdout",
     "output_type": "stream",
     "text": [
      "Optimal number of features: 20\n"
     ]
    }
   ],
   "source": [
    "from sklearn.model_selection import cross_val_score\n",
    "from sklearn.ensemble import RandomForestClassifier\n",
    "from sklearn.feature_selection import RFE\n",
    "\n",
    "# Initialize model (RandomForest for ranking)\n",
    "model = RandomForestClassifier(n_estimators=100, random_state=4262)\n",
    "\n",
    "# Try different numbers of features\n",
    "n_features_list = [5, 10, 15, 20, 25]  # Number of features to select\n",
    "scores = []\n",
    "\n",
    "for n_features in n_features_list:\n",
    "    rfe = RFE(estimator=model, n_features_to_select=n_features)\n",
    "    X_rfe = rfe.fit_transform(X_train, y_train)\n",
    "    \n",
    "    # Evaluate performance with cross-validation\n",
    "    score = cross_val_score(model, X_rfe, y_train, cv=5)  # 5-fold cross-validation\n",
    "    scores.append(score.mean())  # Store the mean score\n",
    "\n",
    "# Identify the optimal number of features\n",
    "optimal_n_features = n_features_list[scores.index(max(scores))]\n",
    "print(\"Optimal number of features:\", optimal_n_features)"
   ]
  },
  {
   "cell_type": "code",
   "execution_count": 134,
   "metadata": {},
   "outputs": [
    {
     "name": "stdout",
     "output_type": "stream",
     "text": [
      "Selected Features: ['Age (yrs)', 'BMI', 'Pulse rate(bpm)', 'Menstrual Cycle Length(days)', 'Marriage Status (Yrs)', 'I   beta-HCG(mIU/mL)', 'II    beta-HCG(mIU/mL)', 'FSH/LH', 'Waist:Hip Ratio', 'Follicle No. (L)', 'Follicle No. (R)', 'Avg. F size (L) (mm)', 'Avg. F size (R) (mm)', 'Endometrium (mm)', 'Weight gain(Y/N)', 'hair growth(Y/N)', 'Skin darkening (Y/N)', 'Menstrual Cycle(R/I)_irregular', 'Menstrual Cycle(R/I)_regular', 'Symptoms score']\n"
     ]
    }
   ],
   "source": [
    "# Apply RFE\n",
    "rfe = RFE(estimator=model, n_features_to_select=20)  # Keep top 20 features\n",
    "X_rfe = rfe.fit_transform(X_train, y_train)\n",
    "\n",
    "# Get selected feature names\n",
    "selected_features = X_train.columns[rfe.support_]\n",
    "print(\"Selected Features:\", list(selected_features))"
   ]
  },
  {
   "cell_type": "code",
   "execution_count": 135,
   "metadata": {},
   "outputs": [],
   "source": [
    "# Convert the result (X_rfe) back to a DataFrame\n",
    "X_rfe_train = pd.DataFrame(X_rfe, columns=selected_features)\n",
    "X_rfe_test = pd.DataFrame(X_test, columns=selected_features)"
   ]
  },
  {
   "cell_type": "code",
   "execution_count": 136,
   "metadata": {},
   "outputs": [
    {
     "name": "stdout",
     "output_type": "stream",
     "text": [
      "Accuracy: 0.8867924528301887\n",
      "Classification Report:\n",
      "               precision    recall  f1-score   support\n",
      "\n",
      "           0       0.93      0.91      0.92        74\n",
      "           1       0.79      0.84      0.82        32\n",
      "\n",
      "    accuracy                           0.89       106\n",
      "   macro avg       0.86      0.87      0.87       106\n",
      "weighted avg       0.89      0.89      0.89       106\n",
      "\n",
      "AUC-ROC Score: 0.9679054054054054\n"
     ]
    }
   ],
   "source": [
    "# Train the SVM model\n",
    "svm_model = SVC(kernel='linear', random_state=42) \n",
    "svm_model.fit(X_rfe_train, y_train)\n",
    "\n",
    "# Make predictions\n",
    "y_pred = svm_model.predict(X_rfe_test)\n",
    "\n",
    "# Evaluate the model\n",
    "print(\"Accuracy:\", accuracy_score(y_test, y_pred))\n",
    "print(\"Classification Report:\\n\", classification_report(y_test, y_pred))\n",
    "\n",
    "# Get decision scores\n",
    "y_scores = svm_model.decision_function(X_rfe_test)\n",
    "\n",
    "# Compute AUC-ROC score\n",
    "auc_roc = roc_auc_score(y_test, y_scores)\n",
    "print(\"AUC-ROC Score:\", auc_roc)\n",
    "\n",
    "# slightly higher f1 and AUC-ROC"
   ]
  },
  {
   "cell_type": "markdown",
   "metadata": {},
   "source": [
    "# Upsampling with SMOTE"
   ]
  },
  {
   "cell_type": "code",
   "execution_count": 137,
   "metadata": {},
   "outputs": [
    {
     "name": "stdout",
     "output_type": "stream",
     "text": [
      "Before SMOTE: Counter({0: 284, 1: 139})\n",
      "After SMOTE: Counter({0: 284, 1: 284})\n"
     ]
    }
   ],
   "source": [
    "from imblearn.over_sampling import SMOTE\n",
    "from collections import Counter\n",
    "\n",
    "# Check the class distribution before SMOTE\n",
    "print(\"Before SMOTE:\", Counter(y_train))\n",
    "\n",
    "# Apply SMOTE\n",
    "smote = SMOTE(sampling_strategy='auto', random_state=42)\n",
    "X_resampled, y_resampled = smote.fit_resample(X_train, y_train)\n",
    "\n",
    "# Check the class distribution after SMOTE\n",
    "print(\"After SMOTE:\", Counter(y_resampled))"
   ]
  },
  {
   "cell_type": "code",
   "execution_count": 138,
   "metadata": {},
   "outputs": [],
   "source": [
    "X_resampled = pd.DataFrame(X_resampled, columns=X_resampled.columns)"
   ]
  },
  {
   "cell_type": "code",
   "execution_count": 139,
   "metadata": {},
   "outputs": [
    {
     "name": "stdout",
     "output_type": "stream",
     "text": [
      "Optimal number of features: 20\n"
     ]
    }
   ],
   "source": [
    "# Initialize model (RandomForest for ranking)\n",
    "model = RandomForestClassifier(n_estimators=100, random_state=42)\n",
    "\n",
    "# Try different numbers of features\n",
    "n_features_list = [5, 10, 15, 20, 25]  # Number of features to select\n",
    "scores = []\n",
    "\n",
    "for n_features in n_features_list:\n",
    "    rfe = RFE(estimator=model, n_features_to_select=n_features)\n",
    "    X_rfe = rfe.fit_transform(X_resampled, y_resampled)\n",
    "    \n",
    "    # Evaluate performance with cross-validation\n",
    "    score = cross_val_score(model, X_rfe, y_resampled, cv=5)  # 5-fold cross-validation\n",
    "    scores.append(score.mean())  # Store the mean score\n",
    "\n",
    "# Identify the optimal number of features\n",
    "optimal_n_features = n_features_list[scores.index(max(scores))]\n",
    "print(\"Optimal number of features:\", optimal_n_features)"
   ]
  },
  {
   "cell_type": "code",
   "execution_count": 140,
   "metadata": {},
   "outputs": [
    {
     "name": "stdout",
     "output_type": "stream",
     "text": [
      "Selected Features: ['Age (yrs)', 'BMI', 'Menstrual Cycle Length(days)', 'Marriage Status (Yrs)', 'I   beta-HCG(mIU/mL)', 'FSH/LH', 'Waist:Hip Ratio', 'Follicle No. (L)', 'Follicle No. (R)', 'Avg. F size (L) (mm)', 'Avg. F size (R) (mm)', 'Endometrium (mm)', 'Weight gain(Y/N)', 'hair growth(Y/N)', 'Skin darkening (Y/N)', 'Fast food (Y/N)', 'Menstrual Cycle(R/I)_irregular', 'Menstrual Cycle(R/I)_regular', 'Symptoms score', 'Unhealthy living score']\n"
     ]
    }
   ],
   "source": [
    "# Apply RFE\n",
    "rfe = RFE(estimator=model, n_features_to_select=20)  # Keep top 20 features\n",
    "X_rfe = rfe.fit_transform(X_resampled, y_resampled)\n",
    "\n",
    "# Get selected feature names\n",
    "selected_features = X_resampled.columns[rfe.support_]\n",
    "print(\"Selected Features:\", list(selected_features))"
   ]
  },
  {
   "cell_type": "code",
   "execution_count": 141,
   "metadata": {},
   "outputs": [],
   "source": [
    "# Convert the result (X_rfe) back to a DataFrame\n",
    "X_resampled_rfe_df = pd.DataFrame(X_rfe, columns=selected_features)\n",
    "\n",
    "X_smote_rfe_test = pd.DataFrame(X_test, columns=selected_features)"
   ]
  },
  {
   "cell_type": "code",
   "execution_count": 142,
   "metadata": {},
   "outputs": [
    {
     "name": "stdout",
     "output_type": "stream",
     "text": [
      "Accuracy: 0.8773584905660378\n",
      "Classification Report:\n",
      "               precision    recall  f1-score   support\n",
      "\n",
      "           0       0.96      0.86      0.91        74\n",
      "           1       0.74      0.91      0.82        32\n",
      "\n",
      "    accuracy                           0.88       106\n",
      "   macro avg       0.85      0.89      0.86       106\n",
      "weighted avg       0.89      0.88      0.88       106\n",
      "\n",
      "AUC-ROC Score: 0.9653716216216217\n"
     ]
    }
   ],
   "source": [
    "# Train the SVM model\n",
    "svm_model = SVC(kernel='linear', random_state=42)  \n",
    "svm_model.fit(X_resampled_rfe_df, y_resampled)\n",
    "\n",
    "# Make predictions\n",
    "y_pred = svm_model.predict(X_smote_rfe_test)\n",
    "\n",
    "# Evaluate the model\n",
    "print(\"Accuracy:\", accuracy_score(y_test, y_pred))\n",
    "print(\"Classification Report:\\n\", classification_report(y_test, y_pred))\n",
    "\n",
    "# Get decision scores\n",
    "y_scores = svm_model.decision_function(X_smote_rfe_test)\n",
    "\n",
    "# Compute AUC-ROC score\n",
    "auc_roc = roc_auc_score(y_test, y_scores)\n",
    "print(\"AUC-ROC Score:\", auc_roc)\n",
    "\n",
    "# About the same"
   ]
  },
  {
   "cell_type": "markdown",
   "metadata": {},
   "source": [
    "# SMOTE + Tomek"
   ]
  },
  {
   "cell_type": "code",
   "execution_count": 143,
   "metadata": {},
   "outputs": [],
   "source": [
    "from imblearn.combine import SMOTETomek\n",
    "\n",
    "smote_tomek = SMOTETomek(random_state=42)\n",
    "X_resampled_t, y_resampled_t = smote_tomek.fit_resample(X_resampled, y_resampled)"
   ]
  },
  {
   "cell_type": "code",
   "execution_count": 144,
   "metadata": {},
   "outputs": [],
   "source": [
    "X_resampled_t = pd.DataFrame(X_resampled_t, columns=X_resampled_t.columns)"
   ]
  },
  {
   "cell_type": "code",
   "execution_count": 145,
   "metadata": {},
   "outputs": [
    {
     "name": "stdout",
     "output_type": "stream",
     "text": [
      "Optimal number of features: 10\n"
     ]
    }
   ],
   "source": [
    "# Initialize model (RandomForest for ranking)\n",
    "model = RandomForestClassifier(n_estimators=100, random_state=123)\n",
    "\n",
    "# Try different numbers of features\n",
    "n_features_list = [5, 10, 15, 20, 25]  # Number of features to select\n",
    "scores = []\n",
    "\n",
    "for n_features in n_features_list:\n",
    "    rfe = RFE(estimator=model, n_features_to_select=n_features)\n",
    "    X_rfe = rfe.fit_transform(X_resampled_t, y_resampled_t)\n",
    "    \n",
    "    # Evaluate performance with cross-validation\n",
    "    score = cross_val_score(model, X_rfe, y_resampled_t, cv=5)  # 5-fold cross-validation\n",
    "    scores.append(score.mean())  # Store the mean score\n",
    "\n",
    "# Identify the optimal number of features\n",
    "optimal_n_features = n_features_list[scores.index(max(scores))]\n",
    "print(\"Optimal number of features:\", optimal_n_features)"
   ]
  },
  {
   "cell_type": "code",
   "execution_count": 146,
   "metadata": {},
   "outputs": [
    {
     "name": "stdout",
     "output_type": "stream",
     "text": [
      "Selected Features: ['Age (yrs)', 'BMI', 'Menstrual Cycle Length(days)', 'FSH/LH', 'Follicle No. (L)', 'Follicle No. (R)', 'Avg. F size (L) (mm)', 'Menstrual Cycle(R/I)_irregular', 'Menstrual Cycle(R/I)_regular', 'Symptoms score']\n"
     ]
    }
   ],
   "source": [
    "# Apply RFE\n",
    "rfe = RFE(estimator=model, n_features_to_select=10)  # Keep top 10 features\n",
    "X_rfe = rfe.fit_transform(X_resampled_t, y_resampled_t)\n",
    "\n",
    "# Get selected feature names\n",
    "selected_features = X_resampled_t.columns[rfe.support_]\n",
    "print(\"Selected Features:\", list(selected_features))"
   ]
  },
  {
   "cell_type": "code",
   "execution_count": 147,
   "metadata": {},
   "outputs": [],
   "source": [
    "# Convert the result (X_rfe) back to a DataFrame\n",
    "X_resampled_t_rfe_df = pd.DataFrame(X_rfe, columns=selected_features)\n",
    "\n",
    "X_t_rfe_test = pd.DataFrame(X_test, columns=selected_features)"
   ]
  },
  {
   "cell_type": "code",
   "execution_count": 148,
   "metadata": {},
   "outputs": [
    {
     "name": "stdout",
     "output_type": "stream",
     "text": [
      "Accuracy: 0.8773584905660378\n",
      "Classification Report:\n",
      "               precision    recall  f1-score   support\n",
      "\n",
      "           0       0.94      0.88      0.91        74\n",
      "           1       0.76      0.88      0.81        32\n",
      "\n",
      "    accuracy                           0.88       106\n",
      "   macro avg       0.85      0.88      0.86       106\n",
      "weighted avg       0.89      0.88      0.88       106\n",
      "\n",
      "AUC-ROC Score: 0.9619932432432433\n"
     ]
    }
   ],
   "source": [
    "# Train the SVM model\n",
    "svm_model = SVC(kernel='linear', random_state=42)  \n",
    "svm_model.fit(X_resampled_t_rfe_df, y_resampled_t)\n",
    "\n",
    "# Make predictions\n",
    "y_pred = svm_model.predict(X_t_rfe_test)\n",
    "\n",
    "# Evaluate the model\n",
    "print(\"Accuracy:\", accuracy_score(y_test, y_pred))\n",
    "print(\"Classification Report:\\n\", classification_report(y_test, y_pred))\n",
    "\n",
    "# Get decision scores\n",
    "y_scores = svm_model.decision_function(X_t_rfe_test)\n",
    "\n",
    "# Compute AUC-ROC score\n",
    "auc_roc = roc_auc_score(y_test, y_scores)\n",
    "print(\"AUC-ROC Score:\", auc_roc)\n",
    "\n",
    "# f1 increased slightly"
   ]
  },
  {
   "cell_type": "markdown",
   "metadata": {},
   "source": [
    "# Assign Class Weights"
   ]
  },
  {
   "cell_type": "code",
   "execution_count": 149,
   "metadata": {},
   "outputs": [
    {
     "name": "stdout",
     "output_type": "stream",
     "text": [
      "Accuracy: 0.8679245283018868\n",
      "Classification Report:\n",
      "               precision    recall  f1-score   support\n",
      "\n",
      "           0       0.95      0.85      0.90        74\n",
      "           1       0.72      0.91      0.81        32\n",
      "\n",
      "    accuracy                           0.87       106\n",
      "   macro avg       0.84      0.88      0.85       106\n",
      "weighted avg       0.89      0.87      0.87       106\n",
      "\n",
      "AUC-ROC Score: 0.957347972972973\n"
     ]
    }
   ],
   "source": [
    "# using class weights from svm\n",
    "\n",
    "# Train the SVM model\n",
    "svm_model = SVC(kernel='linear', class_weight='balanced', random_state=42) \n",
    "svm_model.fit(X_rfe_train, y_train)\n",
    "\n",
    "# Make predictions\n",
    "y_pred = svm_model.predict(X_rfe_test)\n",
    "\n",
    "# Evaluate the model\n",
    "print(\"Accuracy:\", accuracy_score(y_test, y_pred))\n",
    "print(\"Classification Report:\\n\", classification_report(y_test, y_pred))\n",
    "\n",
    "# Get decision scores\n",
    "y_scores = svm_model.decision_function(X_rfe_test)\n",
    "\n",
    "# Compute AUC-ROC score\n",
    "auc_roc = roc_auc_score(y_test, y_scores)\n",
    "print(\"AUC-ROC Score:\", auc_roc)\n",
    "\n",
    "# decreased"
   ]
  },
  {
   "cell_type": "markdown",
   "metadata": {},
   "source": [
    "# Choose Best Params for SVM"
   ]
  },
  {
   "cell_type": "code",
   "execution_count": 160,
   "metadata": {},
   "outputs": [
    {
     "name": "stdout",
     "output_type": "stream",
     "text": [
      "Best Parameters: {'C': 10, 'gamma': 'auto', 'kernel': 'rbf'}\n"
     ]
    }
   ],
   "source": [
    "from sklearn.model_selection import GridSearchCV\n",
    "\n",
    "param_grid = {\n",
    "    'C': [0.1, 1, 10, 100], \n",
    "    'kernel': ['linear', 'rbf', 'poly'],  \n",
    "    'gamma': ['scale', 'auto']\n",
    "}\n",
    "\n",
    "grid_search = GridSearchCV(SVC(), param_grid, cv=5, scoring='f1', n_jobs=-1)\n",
    "grid_search.fit(X_resampled_t_rfe_df, y_resampled_t)\n",
    "\n",
    "print(\"Best Parameters:\", grid_search.best_params_)"
   ]
  },
  {
   "cell_type": "code",
   "execution_count": null,
   "metadata": {},
   "outputs": [
    {
     "name": "stdout",
     "output_type": "stream",
     "text": [
      "Accuracy: 0.8679245283018868\n",
      "Classification Report:\n",
      "               precision    recall  f1-score   support\n",
      "\n",
      "           0       0.93      0.88      0.90        74\n",
      "           1       0.75      0.84      0.79        32\n",
      "\n",
      "    accuracy                           0.87       106\n",
      "   macro avg       0.84      0.86      0.85       106\n",
      "weighted avg       0.87      0.87      0.87       106\n",
      "\n",
      "AUC-ROC Score: 0.9611486486486487\n"
     ]
    }
   ],
   "source": [
    "best_params = grid_search.best_params_\n",
    "\n",
    "svm_model = SVC(\n",
    "    C=best_params['C'], \n",
    "    kernel=best_params['kernel'], \n",
    "    gamma=best_params.get('gamma', 'scale'),\n",
    "    random_state=123 \n",
    ")\n",
    "\n",
    "svm_model.fit(X_resampled_t_rfe_df, y_resampled_t)\n",
    "\n",
    "# Make predictions\n",
    "y_pred = svm_model.predict(X_t_rfe_test)\n",
    "\n",
    "# Evaluate the model\n",
    "print(\"Accuracy:\", accuracy_score(y_test, y_pred))\n",
    "print(\"Classification Report:\\n\", classification_report(y_test, y_pred))\n",
    "\n",
    "# Get decision scores\n",
    "y_scores = svm_model.decision_function(X_t_rfe_test)\n",
    "\n",
    "# Compute AUC-ROC score\n",
    "auc_roc = roc_auc_score(y_test, y_scores)\n",
    "print(\"AUC-ROC Score:\", auc_roc)"
   ]
  }
 ],
 "metadata": {
  "kernelspec": {
   "display_name": "base",
   "language": "python",
   "name": "python3"
  },
  "language_info": {
   "codemirror_mode": {
    "name": "ipython",
    "version": 3
   },
   "file_extension": ".py",
   "mimetype": "text/x-python",
   "name": "python",
   "nbconvert_exporter": "python",
   "pygments_lexer": "ipython3",
   "version": "3.11.7"
  }
 },
 "nbformat": 4,
 "nbformat_minor": 2
}
