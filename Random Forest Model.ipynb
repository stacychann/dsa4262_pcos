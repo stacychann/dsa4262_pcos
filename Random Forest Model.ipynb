{
 "cells": [
  {
   "cell_type": "markdown",
   "metadata": {},
   "source": [
    "## Random Forest model for PCOS Dataset (cleaned data)"
   ]
  },
  {
   "cell_type": "code",
   "execution_count": 66,
   "metadata": {},
   "outputs": [],
   "source": [
    "import pandas as pd\n",
    "import numpy as np\n",
    "import matplotlib.pyplot as plt\n",
    "import seaborn as sns\n",
    "from collections import Counter\n",
    "from imblearn.over_sampling import SMOTE\n",
    "from sklearn.feature_selection import RFE\n",
    "from sklearn.preprocessing import StandardScaler\n",
    "from sklearn.compose import ColumnTransformer\n",
    "from sklearn.model_selection import train_test_split, GridSearchCV, cross_val_score\n",
    "from sklearn.ensemble import RandomForestClassifier\n",
    "from sklearn.metrics import accuracy_score, classification_report, confusion_matrix, auc, roc_curve, recall_score, f1_score, precision_score"
   ]
  },
  {
   "cell_type": "markdown",
   "metadata": {},
   "source": [
    "### Import Dataset"
   ]
  },
  {
   "cell_type": "code",
   "execution_count": 67,
   "metadata": {},
   "outputs": [
    {
     "data": {
      "text/html": [
       "<div>\n",
       "<style scoped>\n",
       "    .dataframe tbody tr th:only-of-type {\n",
       "        vertical-align: middle;\n",
       "    }\n",
       "\n",
       "    .dataframe tbody tr th {\n",
       "        vertical-align: top;\n",
       "    }\n",
       "\n",
       "    .dataframe thead th {\n",
       "        text-align: right;\n",
       "    }\n",
       "</style>\n",
       "<table border=\"1\" class=\"dataframe\">\n",
       "  <thead>\n",
       "    <tr style=\"text-align: right;\">\n",
       "      <th></th>\n",
       "      <th>PCOS (Y/N)</th>\n",
       "      <th>Age (yrs)</th>\n",
       "      <th>BMI</th>\n",
       "      <th>Pulse rate(bpm)</th>\n",
       "      <th>RR (breaths/min)</th>\n",
       "      <th>Hb(g/dl)</th>\n",
       "      <th>Menstrual Cycle Length(days)</th>\n",
       "      <th>Marriage Status (Yrs)</th>\n",
       "      <th>Pregnant(Y/N)</th>\n",
       "      <th>No. of abortions</th>\n",
       "      <th>...</th>\n",
       "      <th>Blood Group_A+</th>\n",
       "      <th>Blood Group_A-</th>\n",
       "      <th>Blood Group_AB+</th>\n",
       "      <th>Blood Group_AB-</th>\n",
       "      <th>Blood Group_B+</th>\n",
       "      <th>Blood Group_B-</th>\n",
       "      <th>Blood Group_O+</th>\n",
       "      <th>Blood Group_O-</th>\n",
       "      <th>Menstrual Cycle(R/I)_irregular</th>\n",
       "      <th>Menstrual Cycle(R/I)_regular</th>\n",
       "    </tr>\n",
       "  </thead>\n",
       "  <tbody>\n",
       "    <tr>\n",
       "      <th>count</th>\n",
       "      <td>529.000000</td>\n",
       "      <td>529.000000</td>\n",
       "      <td>529.00000</td>\n",
       "      <td>529.000000</td>\n",
       "      <td>529.000000</td>\n",
       "      <td>529.000000</td>\n",
       "      <td>529.000000</td>\n",
       "      <td>529.000000</td>\n",
       "      <td>529.000000</td>\n",
       "      <td>529.000000</td>\n",
       "      <td>...</td>\n",
       "      <td>529.000000</td>\n",
       "      <td>529.000000</td>\n",
       "      <td>529.000000</td>\n",
       "      <td>529.000000</td>\n",
       "      <td>529.000000</td>\n",
       "      <td>529.000000</td>\n",
       "      <td>529.000000</td>\n",
       "      <td>529.000000</td>\n",
       "      <td>529.000000</td>\n",
       "      <td>529.000000</td>\n",
       "    </tr>\n",
       "    <tr>\n",
       "      <th>mean</th>\n",
       "      <td>0.323251</td>\n",
       "      <td>31.425331</td>\n",
       "      <td>24.32344</td>\n",
       "      <td>73.474480</td>\n",
       "      <td>19.238185</td>\n",
       "      <td>11.152136</td>\n",
       "      <td>4.937618</td>\n",
       "      <td>7.651607</td>\n",
       "      <td>0.387524</td>\n",
       "      <td>0.283554</td>\n",
       "      <td>...</td>\n",
       "      <td>0.200378</td>\n",
       "      <td>0.024575</td>\n",
       "      <td>0.077505</td>\n",
       "      <td>0.003781</td>\n",
       "      <td>0.245747</td>\n",
       "      <td>0.030246</td>\n",
       "      <td>0.381853</td>\n",
       "      <td>0.035917</td>\n",
       "      <td>0.275992</td>\n",
       "      <td>0.724008</td>\n",
       "    </tr>\n",
       "    <tr>\n",
       "      <th>std</th>\n",
       "      <td>0.468161</td>\n",
       "      <td>5.430222</td>\n",
       "      <td>4.08396</td>\n",
       "      <td>2.709378</td>\n",
       "      <td>1.697809</td>\n",
       "      <td>0.866512</td>\n",
       "      <td>1.498068</td>\n",
       "      <td>4.801196</td>\n",
       "      <td>0.487646</td>\n",
       "      <td>0.684607</td>\n",
       "      <td>...</td>\n",
       "      <td>0.400662</td>\n",
       "      <td>0.154971</td>\n",
       "      <td>0.267644</td>\n",
       "      <td>0.061429</td>\n",
       "      <td>0.430937</td>\n",
       "      <td>0.171425</td>\n",
       "      <td>0.486301</td>\n",
       "      <td>0.186259</td>\n",
       "      <td>0.447436</td>\n",
       "      <td>0.447436</td>\n",
       "    </tr>\n",
       "    <tr>\n",
       "      <th>min</th>\n",
       "      <td>0.000000</td>\n",
       "      <td>20.000000</td>\n",
       "      <td>12.40000</td>\n",
       "      <td>70.000000</td>\n",
       "      <td>16.000000</td>\n",
       "      <td>8.500000</td>\n",
       "      <td>0.000000</td>\n",
       "      <td>0.000000</td>\n",
       "      <td>0.000000</td>\n",
       "      <td>0.000000</td>\n",
       "      <td>...</td>\n",
       "      <td>0.000000</td>\n",
       "      <td>0.000000</td>\n",
       "      <td>0.000000</td>\n",
       "      <td>0.000000</td>\n",
       "      <td>0.000000</td>\n",
       "      <td>0.000000</td>\n",
       "      <td>0.000000</td>\n",
       "      <td>0.000000</td>\n",
       "      <td>0.000000</td>\n",
       "      <td>0.000000</td>\n",
       "    </tr>\n",
       "    <tr>\n",
       "      <th>25%</th>\n",
       "      <td>0.000000</td>\n",
       "      <td>27.000000</td>\n",
       "      <td>21.60000</td>\n",
       "      <td>72.000000</td>\n",
       "      <td>18.000000</td>\n",
       "      <td>10.500000</td>\n",
       "      <td>5.000000</td>\n",
       "      <td>4.000000</td>\n",
       "      <td>0.000000</td>\n",
       "      <td>0.000000</td>\n",
       "      <td>...</td>\n",
       "      <td>0.000000</td>\n",
       "      <td>0.000000</td>\n",
       "      <td>0.000000</td>\n",
       "      <td>0.000000</td>\n",
       "      <td>0.000000</td>\n",
       "      <td>0.000000</td>\n",
       "      <td>0.000000</td>\n",
       "      <td>0.000000</td>\n",
       "      <td>0.000000</td>\n",
       "      <td>0.000000</td>\n",
       "    </tr>\n",
       "    <tr>\n",
       "      <th>50%</th>\n",
       "      <td>0.000000</td>\n",
       "      <td>31.000000</td>\n",
       "      <td>24.20000</td>\n",
       "      <td>72.000000</td>\n",
       "      <td>18.000000</td>\n",
       "      <td>11.000000</td>\n",
       "      <td>5.000000</td>\n",
       "      <td>7.000000</td>\n",
       "      <td>0.000000</td>\n",
       "      <td>0.000000</td>\n",
       "      <td>...</td>\n",
       "      <td>0.000000</td>\n",
       "      <td>0.000000</td>\n",
       "      <td>0.000000</td>\n",
       "      <td>0.000000</td>\n",
       "      <td>0.000000</td>\n",
       "      <td>0.000000</td>\n",
       "      <td>0.000000</td>\n",
       "      <td>0.000000</td>\n",
       "      <td>0.000000</td>\n",
       "      <td>1.000000</td>\n",
       "    </tr>\n",
       "    <tr>\n",
       "      <th>75%</th>\n",
       "      <td>1.000000</td>\n",
       "      <td>35.000000</td>\n",
       "      <td>26.70000</td>\n",
       "      <td>74.000000</td>\n",
       "      <td>20.000000</td>\n",
       "      <td>11.700000</td>\n",
       "      <td>5.000000</td>\n",
       "      <td>10.000000</td>\n",
       "      <td>1.000000</td>\n",
       "      <td>0.000000</td>\n",
       "      <td>...</td>\n",
       "      <td>0.000000</td>\n",
       "      <td>0.000000</td>\n",
       "      <td>0.000000</td>\n",
       "      <td>0.000000</td>\n",
       "      <td>0.000000</td>\n",
       "      <td>0.000000</td>\n",
       "      <td>1.000000</td>\n",
       "      <td>0.000000</td>\n",
       "      <td>1.000000</td>\n",
       "      <td>1.000000</td>\n",
       "    </tr>\n",
       "    <tr>\n",
       "      <th>max</th>\n",
       "      <td>1.000000</td>\n",
       "      <td>48.000000</td>\n",
       "      <td>38.90000</td>\n",
       "      <td>82.000000</td>\n",
       "      <td>28.000000</td>\n",
       "      <td>14.800000</td>\n",
       "      <td>12.000000</td>\n",
       "      <td>30.000000</td>\n",
       "      <td>1.000000</td>\n",
       "      <td>5.000000</td>\n",
       "      <td>...</td>\n",
       "      <td>1.000000</td>\n",
       "      <td>1.000000</td>\n",
       "      <td>1.000000</td>\n",
       "      <td>1.000000</td>\n",
       "      <td>1.000000</td>\n",
       "      <td>1.000000</td>\n",
       "      <td>1.000000</td>\n",
       "      <td>1.000000</td>\n",
       "      <td>1.000000</td>\n",
       "      <td>1.000000</td>\n",
       "    </tr>\n",
       "  </tbody>\n",
       "</table>\n",
       "<p>8 rows × 44 columns</p>\n",
       "</div>"
      ],
      "text/plain": [
       "       PCOS (Y/N)   Age (yrs)        BMI  Pulse rate(bpm)  RR (breaths/min)  \\\n",
       "count  529.000000  529.000000  529.00000       529.000000        529.000000   \n",
       "mean     0.323251   31.425331   24.32344        73.474480         19.238185   \n",
       "std      0.468161    5.430222    4.08396         2.709378          1.697809   \n",
       "min      0.000000   20.000000   12.40000        70.000000         16.000000   \n",
       "25%      0.000000   27.000000   21.60000        72.000000         18.000000   \n",
       "50%      0.000000   31.000000   24.20000        72.000000         18.000000   \n",
       "75%      1.000000   35.000000   26.70000        74.000000         20.000000   \n",
       "max      1.000000   48.000000   38.90000        82.000000         28.000000   \n",
       "\n",
       "         Hb(g/dl)  Menstrual Cycle Length(days)  Marriage Status (Yrs)  \\\n",
       "count  529.000000                    529.000000             529.000000   \n",
       "mean    11.152136                      4.937618               7.651607   \n",
       "std      0.866512                      1.498068               4.801196   \n",
       "min      8.500000                      0.000000               0.000000   \n",
       "25%     10.500000                      5.000000               4.000000   \n",
       "50%     11.000000                      5.000000               7.000000   \n",
       "75%     11.700000                      5.000000              10.000000   \n",
       "max     14.800000                     12.000000              30.000000   \n",
       "\n",
       "       Pregnant(Y/N)  No. of abortions  ...  Blood Group_A+  Blood Group_A-  \\\n",
       "count     529.000000        529.000000  ...      529.000000      529.000000   \n",
       "mean        0.387524          0.283554  ...        0.200378        0.024575   \n",
       "std         0.487646          0.684607  ...        0.400662        0.154971   \n",
       "min         0.000000          0.000000  ...        0.000000        0.000000   \n",
       "25%         0.000000          0.000000  ...        0.000000        0.000000   \n",
       "50%         0.000000          0.000000  ...        0.000000        0.000000   \n",
       "75%         1.000000          0.000000  ...        0.000000        0.000000   \n",
       "max         1.000000          5.000000  ...        1.000000        1.000000   \n",
       "\n",
       "       Blood Group_AB+  Blood Group_AB-  Blood Group_B+  Blood Group_B-  \\\n",
       "count       529.000000       529.000000      529.000000      529.000000   \n",
       "mean          0.077505         0.003781        0.245747        0.030246   \n",
       "std           0.267644         0.061429        0.430937        0.171425   \n",
       "min           0.000000         0.000000        0.000000        0.000000   \n",
       "25%           0.000000         0.000000        0.000000        0.000000   \n",
       "50%           0.000000         0.000000        0.000000        0.000000   \n",
       "75%           0.000000         0.000000        0.000000        0.000000   \n",
       "max           1.000000         1.000000        1.000000        1.000000   \n",
       "\n",
       "       Blood Group_O+  Blood Group_O-  Menstrual Cycle(R/I)_irregular  \\\n",
       "count      529.000000      529.000000                      529.000000   \n",
       "mean         0.381853        0.035917                        0.275992   \n",
       "std          0.486301        0.186259                        0.447436   \n",
       "min          0.000000        0.000000                        0.000000   \n",
       "25%          0.000000        0.000000                        0.000000   \n",
       "50%          0.000000        0.000000                        0.000000   \n",
       "75%          1.000000        0.000000                        1.000000   \n",
       "max          1.000000        1.000000                        1.000000   \n",
       "\n",
       "       Menstrual Cycle(R/I)_regular  \n",
       "count                    529.000000  \n",
       "mean                       0.724008  \n",
       "std                        0.447436  \n",
       "min                        0.000000  \n",
       "25%                        0.000000  \n",
       "50%                        1.000000  \n",
       "75%                        1.000000  \n",
       "max                        1.000000  \n",
       "\n",
       "[8 rows x 44 columns]"
      ]
     },
     "execution_count": 67,
     "metadata": {},
     "output_type": "execute_result"
    }
   ],
   "source": [
    "file_path = \"./cleaned_data.csv\"\n",
    "data = pd.read_csv(file_path)\n",
    "data.head()\n",
    "data.shape\n",
    "data.columns\n",
    "data.describe()"
   ]
  },
  {
   "cell_type": "markdown",
   "metadata": {},
   "source": [
    "#### Train Test Split and SMOTE"
   ]
  },
  {
   "cell_type": "code",
   "execution_count": 68,
   "metadata": {},
   "outputs": [
    {
     "name": "stdout",
     "output_type": "stream",
     "text": [
      "(423, 43)\n",
      "(106, 43)\n"
     ]
    }
   ],
   "source": [
    "X = data.drop(['PCOS (Y/N)'], axis=1)\n",
    "y = data['PCOS (Y/N)']\n",
    "X_train, X_test, y_train, y_test = train_test_split(X, y, test_size=0.2, random_state=42)\n",
    "\n",
    "print(X_train.shape)\n",
    "print(X_test.shape)\n",
    "\n",
    "smote = SMOTE(random_state=42)\n",
    "X_train_resampled, y_train_resampled = smote.fit_resample(X_train, y_train)"
   ]
  },
  {
   "cell_type": "markdown",
   "metadata": {},
   "source": [
    "### Feature Scaling"
   ]
  },
  {
   "cell_type": "code",
   "execution_count": 69,
   "metadata": {},
   "outputs": [],
   "source": [
    "category_col_names = ['Blood Group_A+', 'Blood Group_A-', 'Blood Group_AB+','Blood Group_AB-', \n",
    "'Blood Group_B+', 'Blood Group_B-', 'Blood Group_O+', 'Blood Group_O-', \n",
    "'Menstrual Cycle(R/I)_irregular', 'Menstrual Cycle(R/I)_regular', 'Weight gain(Y/N)', \n",
    "'hair growth(Y/N)', 'Skin darkening (Y/N)', 'Hair loss(Y/N)', 'Pimples(Y/N)',\n",
    "'Fast food (Y/N)', 'Reg.Exercise(Y/N)', 'Pregnant(Y/N)']\n",
    "\n",
    "numeric_col_names = X.loc[:, ~X.columns.isin(category_col_names)].columns\n",
    "\n",
    "scaler = StandardScaler()\n",
    "X_train_resampled[numeric_col_names] = scaler.fit_transform(X_train_resampled[numeric_col_names])\n",
    "X_test[numeric_col_names] = scaler.transform(X_test[numeric_col_names])"
   ]
  },
  {
   "cell_type": "markdown",
   "metadata": {},
   "source": [
    "### Building Random Forest Classifier"
   ]
  },
  {
   "cell_type": "code",
   "execution_count": 70,
   "metadata": {},
   "outputs": [
    {
     "name": "stdout",
     "output_type": "stream",
     "text": [
      "Test Accuracy: 0.8962264150943396\n"
     ]
    }
   ],
   "source": [
    "rfc = RandomForestClassifier(n_estimators=100, random_state=42, n_jobs=-1)\n",
    "rf.fit(X_train_resampled, y_train_resampled)\n",
    "y_pred=rf.predict(X_test)\n",
    "print(\"Test Accuracy:\", accuracy_score(y_pred, y_test))"
   ]
  },
  {
   "cell_type": "markdown",
   "metadata": {},
   "source": [
    "### Random Forest Classifier with RFE"
   ]
  },
  {
   "cell_type": "code",
   "execution_count": 71,
   "metadata": {},
   "outputs": [
    {
     "name": "stdout",
     "output_type": "stream",
     "text": [
      "selected features: Index(['BMI', 'FSH/LH', 'TSH (mIU/L)', 'AMH(ng/mL)', 'RBS(mg/dl)',\n",
      "       'Fast food (Y/N)', 'Follicle No. (L)', 'Follicle No. (R)',\n",
      "       'Menstrual Cycle(R/I)_irregular', 'Menstrual Cycle(R/I)_regular'],\n",
      "      dtype='object')\n",
      "Test Accuracy: 0.8301886792452831\n"
     ]
    }
   ],
   "source": [
    "rf = RandomForestClassifier(n_estimators=100, random_state=42, n_jobs=-1)\n",
    "rfe = RFE(estimator=rf, n_features_to_select=10)\n",
    "X_train_selected = rfe.fit_transform(X_train_resampled, y_train_resampled)\n",
    "X_test_selected = rfe.transform(X_test)\n",
    "selected_features = X.columns[rfe.support_]\n",
    "\n",
    "print(\"selected features:\", selected_features)\n",
    "\n",
    "rf.fit(X_train_selected, y_train_resampled)\n",
    "y_pred=rf.predict(X_test_selected)\n",
    "\n",
    "print(\"Test Accuracy:\", accuracy_score(y_pred, y_test))"
   ]
  },
  {
   "cell_type": "markdown",
   "metadata": {},
   "source": [
    "### Hyperparameter Tuning"
   ]
  },
  {
   "cell_type": "code",
   "execution_count": 72,
   "metadata": {},
   "outputs": [
    {
     "name": "stdout",
     "output_type": "stream",
     "text": [
      "Fitting 5 folds for each of 108 candidates, totalling 540 fits\n",
      "Best Parameters: {'max_depth': None, 'min_samples_leaf': 1, 'min_samples_split': 2, 'n_estimators': 100}\n",
      "Best Cross-Validation Accuracy: 0.8979972054028877\n"
     ]
    }
   ],
   "source": [
    "param_grid = {\n",
    "    'n_estimators': [100, 200, 300],\n",
    "    'max_depth': [None, 10, 20, 30],\n",
    "    'min_samples_split': [2, 5, 10],\n",
    "    'min_samples_leaf': [1, 2, 4]\n",
    "}\n",
    "grid_search = GridSearchCV(rf, param_grid, cv=5, scoring='accuracy', n_jobs=-1, verbose=1)\n",
    "grid_search.fit(X_train_selected, y_train_resampled)\n",
    "\n",
    "print(\"Best Parameters:\", grid_search.best_params_)\n",
    "print(\"Best Cross-Validation Accuracy:\", grid_search.best_score_)\n",
    "\n",
    "rf_best = grid_search.best_estimator_"
   ]
  },
  {
   "cell_type": "markdown",
   "metadata": {},
   "source": [
    "### Model Evaluation"
   ]
  },
  {
   "cell_type": "code",
   "execution_count": 73,
   "metadata": {},
   "outputs": [
    {
     "name": "stdout",
     "output_type": "stream",
     "text": [
      "AUC score:  0.9125844594594594\n",
      "New Model Test Accuracy: 0.8301886792452831\n"
     ]
    },
    {
     "data": {
      "image/png": "[encoded data removed]",
      "text/plain": [
       "<Figure size 800x600 with 1 Axes>"
      ]
     },
     "metadata": {},
     "output_type": "display_data"
    }
   ],
   "source": [
    "y_pred_best = rf_best.predict(X_test_selected)\n",
    "y_probs = rf_best.predict_proba(X_test_selected)[:,1]\n",
    "fpr, tpr, thresholds = roc_curve(y_test, y_probs)\n",
    "roc_auc = auc(fpr, tpr)\n",
    "\n",
    "print(\"AUC score: \", roc_auc)\n",
    "print(\"New Model Test Accuracy:\", accuracy_score(y_test, y_pred_best))\n",
    "\n",
    "plt.figure(figsize=(8,6))\n",
    "plt.plot(fpr, tpr, color='blue', lw=2, label=f\"AUC = {roc_auc:.2f}\")\n",
    "plt.plot([0,1], [0,1], color='gray', linestyle=\"--\")\n",
    "plt.title(\"ROC Curve\")\n",
    "plt.legend(loc='lower right')\n",
    "plt.xlabel(\"False Positive Rate\")\n",
    "plt.ylabel(\"True Positive Rate\")\n",
    "plt.show()"
   ]
  },
  {
   "cell_type": "markdown",
   "metadata": {},
   "source": [
    "### Finding Best Threshold & Model Evaluation"
   ]
  },
  {
   "cell_type": "code",
   "execution_count": 74,
   "metadata": {},
   "outputs": [
    {
     "name": "stdout",
     "output_type": "stream",
     "text": [
      "Best threshold: 0.43\n",
      "Accuracy:  0.839622641509434\n",
      "Precision:  0.7027027027027027\n",
      "Recall/Sensitivity:  0.8125\n",
      "F1 Score:  0.7536231884057971\n",
      "Specificity:  0.8513513513513513\n"
     ]
    },
    {
     "data": {
      "image/png": "[encoded data removed]",
      "text/plain": [
       "<Figure size 500x400 with 2 Axes>"
      ]
     },
     "metadata": {},
     "output_type": "display_data"
    }
   ],
   "source": [
    "distances = np.sqrt((1 - tpr) ** 2 + fpr ** 2)\n",
    "best_thresh = thresholds[np.argmin(distances)]\n",
    "print(f\"Best threshold: {best_thresh}\")\n",
    "\n",
    "y_pred_best = [1 if prob >= best_thresh else 0 for prob in y_probs]\n",
    "print(\"Accuracy: \", accuracy_score(y_test, y_pred_best))\n",
    "print(\"Precision: \", precision_score(y_test, y_pred_best))\n",
    "print(\"Recall/Sensitivity: \", recall_score(y_test, y_pred_best))\n",
    "print(\"F1 Score: \", f1_score(y_test, y_pred_best))\n",
    "print(\"Specificity: \", recall_score(y_test, y_pred_best, pos_label=0))\n",
    "\n",
    "cm = confusion_matrix(y_test, y_pred_best)\n",
    "labels = [\"True Negatives\", \"False Positives\", \"False Negatives\", \"True Positives\"]\n",
    "plt.figure(figsize=(5, 4))\n",
    "sns.heatmap(cm, annot=True, fmt='d', cmap='Blues', xticklabels=[\"Negative\", \"Positive\"], yticklabels=[\"Negative\", \"Positive\"])\n",
    "plt.xlabel(\"Predicted\")\n",
    "plt.ylabel(\"Actual\")\n",
    "plt.title(\"Confusion Matrix\")\n",
    "plt.show()"
   ]
  }
 ],
 "metadata": {
  "kernelspec": {
   "display_name": "Python 3",
   "language": "python",
   "name": "python3"
  },
  "language_info": {
   "codemirror_mode": {
    "name": "ipython",
    "version": 3
   },
   "file_extension": ".py",
   "mimetype": "text/x-python",
   "name": "python",
   "nbconvert_exporter": "python",
   "pygments_lexer": "ipython3",
   "version": "3.11.0"
  }
 },
 "nbformat": 4,
 "nbformat_minor": 2
}
