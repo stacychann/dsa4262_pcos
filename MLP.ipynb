{
 "cells": [
  {
   "cell_type": "markdown",
   "metadata": {},
   "source": [
    "# Importing packages and reading in the csv file"
   ]
  },
  {
   "cell_type": "code",
   "execution_count": 14,
   "metadata": {},
   "outputs": [],
   "source": [
    "import numpy as np\n",
    "import pandas as pd\n",
    "\n",
    "import tensorflow as tf\n",
    "from tensorflow import keras\n",
    "from keras import Model\n",
    "from keras.layers import Dense, Input, Dropout, BatchNormalization, Flatten\n",
    "from keras.metrics import AUC, Precision, Recall, F1Score\n",
    "from keras.losses import BinaryCrossentropy, BinaryFocalCrossentropy\n",
    "from keras.optimizers import Adam, RMSprop, Adadelta, Adagrad, AdamW, Adamax\n",
    "from sklearn.feature_selection import RFECV\n",
    "from sklearn.ensemble import RandomForestClassifier"
   ]
  },
  {
   "cell_type": "code",
   "execution_count": 15,
   "metadata": {},
   "outputs": [
    {
     "name": "stdout",
     "output_type": "stream",
     "text": [
      "(529, 44)\n"
     ]
    },
    {
     "data": {
      "text/html": [
       "<div>\n",
       "<style scoped>\n",
       "    .dataframe tbody tr th:only-of-type {\n",
       "        vertical-align: middle;\n",
       "    }\n",
       "\n",
       "    .dataframe tbody tr th {\n",
       "        vertical-align: top;\n",
       "    }\n",
       "\n",
       "    .dataframe thead th {\n",
       "        text-align: right;\n",
       "    }\n",
       "</style>\n",
       "<table border=\"1\" class=\"dataframe\">\n",
       "  <thead>\n",
       "    <tr style=\"text-align: right;\">\n",
       "      <th></th>\n",
       "      <th>PCOS (Y/N)</th>\n",
       "      <th>Age (yrs)</th>\n",
       "      <th>BMI</th>\n",
       "      <th>Pulse rate(bpm)</th>\n",
       "      <th>RR (breaths/min)</th>\n",
       "      <th>Hb(g/dl)</th>\n",
       "      <th>Menstrual Cycle Length(days)</th>\n",
       "      <th>Marriage Status (Yrs)</th>\n",
       "      <th>Pregnant(Y/N)</th>\n",
       "      <th>No. of abortions</th>\n",
       "      <th>...</th>\n",
       "      <th>Blood Group_A+</th>\n",
       "      <th>Blood Group_A-</th>\n",
       "      <th>Blood Group_AB+</th>\n",
       "      <th>Blood Group_AB-</th>\n",
       "      <th>Blood Group_B+</th>\n",
       "      <th>Blood Group_B-</th>\n",
       "      <th>Blood Group_O+</th>\n",
       "      <th>Blood Group_O-</th>\n",
       "      <th>Menstrual Cycle(R/I)_irregular</th>\n",
       "      <th>Menstrual Cycle(R/I)_regular</th>\n",
       "    </tr>\n",
       "  </thead>\n",
       "  <tbody>\n",
       "    <tr>\n",
       "      <th>0</th>\n",
       "      <td>0</td>\n",
       "      <td>28</td>\n",
       "      <td>19.3</td>\n",
       "      <td>78</td>\n",
       "      <td>22</td>\n",
       "      <td>10.48</td>\n",
       "      <td>5</td>\n",
       "      <td>7.0</td>\n",
       "      <td>0</td>\n",
       "      <td>0</td>\n",
       "      <td>...</td>\n",
       "      <td>0.0</td>\n",
       "      <td>0.0</td>\n",
       "      <td>0.0</td>\n",
       "      <td>0.0</td>\n",
       "      <td>0.0</td>\n",
       "      <td>0.0</td>\n",
       "      <td>1.0</td>\n",
       "      <td>0.0</td>\n",
       "      <td>0.0</td>\n",
       "      <td>1.0</td>\n",
       "    </tr>\n",
       "    <tr>\n",
       "      <th>1</th>\n",
       "      <td>0</td>\n",
       "      <td>36</td>\n",
       "      <td>24.9</td>\n",
       "      <td>74</td>\n",
       "      <td>20</td>\n",
       "      <td>11.70</td>\n",
       "      <td>5</td>\n",
       "      <td>11.0</td>\n",
       "      <td>1</td>\n",
       "      <td>0</td>\n",
       "      <td>...</td>\n",
       "      <td>0.0</td>\n",
       "      <td>0.0</td>\n",
       "      <td>0.0</td>\n",
       "      <td>0.0</td>\n",
       "      <td>0.0</td>\n",
       "      <td>0.0</td>\n",
       "      <td>1.0</td>\n",
       "      <td>0.0</td>\n",
       "      <td>0.0</td>\n",
       "      <td>1.0</td>\n",
       "    </tr>\n",
       "    <tr>\n",
       "      <th>2</th>\n",
       "      <td>1</td>\n",
       "      <td>33</td>\n",
       "      <td>25.3</td>\n",
       "      <td>72</td>\n",
       "      <td>18</td>\n",
       "      <td>11.80</td>\n",
       "      <td>5</td>\n",
       "      <td>10.0</td>\n",
       "      <td>1</td>\n",
       "      <td>0</td>\n",
       "      <td>...</td>\n",
       "      <td>1.0</td>\n",
       "      <td>0.0</td>\n",
       "      <td>0.0</td>\n",
       "      <td>0.0</td>\n",
       "      <td>0.0</td>\n",
       "      <td>0.0</td>\n",
       "      <td>0.0</td>\n",
       "      <td>0.0</td>\n",
       "      <td>0.0</td>\n",
       "      <td>1.0</td>\n",
       "    </tr>\n",
       "    <tr>\n",
       "      <th>3</th>\n",
       "      <td>0</td>\n",
       "      <td>37</td>\n",
       "      <td>29.7</td>\n",
       "      <td>72</td>\n",
       "      <td>20</td>\n",
       "      <td>12.00</td>\n",
       "      <td>5</td>\n",
       "      <td>4.0</td>\n",
       "      <td>0</td>\n",
       "      <td>0</td>\n",
       "      <td>...</td>\n",
       "      <td>0.0</td>\n",
       "      <td>0.0</td>\n",
       "      <td>0.0</td>\n",
       "      <td>0.0</td>\n",
       "      <td>1.0</td>\n",
       "      <td>0.0</td>\n",
       "      <td>0.0</td>\n",
       "      <td>0.0</td>\n",
       "      <td>0.0</td>\n",
       "      <td>1.0</td>\n",
       "    </tr>\n",
       "    <tr>\n",
       "      <th>4</th>\n",
       "      <td>0</td>\n",
       "      <td>25</td>\n",
       "      <td>20.1</td>\n",
       "      <td>72</td>\n",
       "      <td>18</td>\n",
       "      <td>10.00</td>\n",
       "      <td>5</td>\n",
       "      <td>1.0</td>\n",
       "      <td>1</td>\n",
       "      <td>0</td>\n",
       "      <td>...</td>\n",
       "      <td>1.0</td>\n",
       "      <td>0.0</td>\n",
       "      <td>0.0</td>\n",
       "      <td>0.0</td>\n",
       "      <td>0.0</td>\n",
       "      <td>0.0</td>\n",
       "      <td>0.0</td>\n",
       "      <td>0.0</td>\n",
       "      <td>0.0</td>\n",
       "      <td>1.0</td>\n",
       "    </tr>\n",
       "  </tbody>\n",
       "</table>\n",
       "<p>5 rows × 44 columns</p>\n",
       "</div>"
      ],
      "text/plain": [
       "   PCOS (Y/N)  Age (yrs)   BMI  Pulse rate(bpm)  RR (breaths/min)  Hb(g/dl)  \\\n",
       "0           0         28  19.3               78                22     10.48   \n",
       "1           0         36  24.9               74                20     11.70   \n",
       "2           1         33  25.3               72                18     11.80   \n",
       "3           0         37  29.7               72                20     12.00   \n",
       "4           0         25  20.1               72                18     10.00   \n",
       "\n",
       "   Menstrual Cycle Length(days)  Marriage Status (Yrs)  Pregnant(Y/N)  \\\n",
       "0                             5                    7.0              0   \n",
       "1                             5                   11.0              1   \n",
       "2                             5                   10.0              1   \n",
       "3                             5                    4.0              0   \n",
       "4                             5                    1.0              1   \n",
       "\n",
       "   No. of abortions  ...  Blood Group_A+  Blood Group_A-  Blood Group_AB+  \\\n",
       "0                 0  ...             0.0             0.0              0.0   \n",
       "1                 0  ...             0.0             0.0              0.0   \n",
       "2                 0  ...             1.0             0.0              0.0   \n",
       "3                 0  ...             0.0             0.0              0.0   \n",
       "4                 0  ...             1.0             0.0              0.0   \n",
       "\n",
       "   Blood Group_AB-  Blood Group_B+  Blood Group_B-  Blood Group_O+  \\\n",
       "0              0.0             0.0             0.0             1.0   \n",
       "1              0.0             0.0             0.0             1.0   \n",
       "2              0.0             0.0             0.0             0.0   \n",
       "3              0.0             1.0             0.0             0.0   \n",
       "4              0.0             0.0             0.0             0.0   \n",
       "\n",
       "   Blood Group_O-  Menstrual Cycle(R/I)_irregular  \\\n",
       "0             0.0                             0.0   \n",
       "1             0.0                             0.0   \n",
       "2             0.0                             0.0   \n",
       "3             0.0                             0.0   \n",
       "4             0.0                             0.0   \n",
       "\n",
       "   Menstrual Cycle(R/I)_regular  \n",
       "0                           1.0  \n",
       "1                           1.0  \n",
       "2                           1.0  \n",
       "3                           1.0  \n",
       "4                           1.0  \n",
       "\n",
       "[5 rows x 44 columns]"
      ]
     },
     "execution_count": 15,
     "metadata": {},
     "output_type": "execute_result"
    }
   ],
   "source": [
    "df = pd.read_csv(\"cleaned_data.csv\")\n",
    "print(df.shape)\n",
    "df.head()"
   ]
  },
  {
   "cell_type": "markdown",
   "metadata": {},
   "source": [
    "# Sets a random seed to ensure reproducible results"
   ]
  },
  {
   "cell_type": "code",
   "execution_count": 16,
   "metadata": {},
   "outputs": [
    {
     "data": {
      "text/plain": [
       "'\\nfrom keras import backend as K\\nsession_conf = tf.compat.v1.ConfigProto(intra_op_parallelism_threads=1, inter_op_parallelism_threads=1)\\nsess = tf.compat.v1.Session(graph=tf.compat.v1.get_default_graph(), config=session_conf)\\ntf.compat.v1.keras.backend.set_session(sess)\"\\n'"
      ]
     },
     "execution_count": 16,
     "metadata": {},
     "output_type": "execute_result"
    }
   ],
   "source": [
    "seed_value= 0\n",
    "\n",
    "# 1. Set the `PYTHONHASHSEED` environment variable at a fixed value\n",
    "import os\n",
    "os.environ['PYTHONHASHSEED']=str(seed_value)\n",
    "\n",
    "# 2. Set the `python` built-in pseudo-random generator at a fixed value\n",
    "import random\n",
    "random.seed(seed_value)\n",
    "\n",
    "# 3. Set the `numpy` pseudo-random generator at a fixed value\n",
    "np.random.seed(seed_value)\n",
    "\n",
    "# 4. Set the `tensorflow` pseudo-random generator at a fixed value\n",
    "tf.random.set_seed(seed_value)\n",
    "# for later versions: \n",
    "# tf.compat.v1.set_random_seed(seed_value)\n",
    "\n",
    "# 5. Configure a new global `tensorflow` session\n",
    "\"\"\"\n",
    "from keras import backend as K\n",
    "session_conf = tf.compat.v1.ConfigProto(intra_op_parallelism_threads=1, inter_op_parallelism_threads=1)\n",
    "sess = tf.compat.v1.Session(graph=tf.compat.v1.get_default_graph(), config=session_conf)\n",
    "tf.compat.v1.keras.backend.set_session(sess)\"\n",
    "\"\"\""
   ]
  },
  {
   "cell_type": "markdown",
   "metadata": {},
   "source": [
    "# Finding the class weights to resolve the issue of class imbalance"
   ]
  },
  {
   "cell_type": "code",
   "execution_count": 17,
   "metadata": {},
   "outputs": [],
   "source": [
    "target_counts = np.bincount(df[\"PCOS (Y/N)\"])\n",
    "weight_for_0 = 1.0/target_counts[0]\n",
    "weight_for_1 = 1.0/target_counts[1]"
   ]
  },
  {
   "cell_type": "markdown",
   "metadata": {},
   "source": [
    "# Feature Selection Using RFE "
   ]
  },
  {
   "cell_type": "code",
   "execution_count": 18,
   "metadata": {},
   "outputs": [
    {
     "name": "stdout",
     "output_type": "stream",
     "text": [
      "Index(['Age (yrs)', 'BMI', 'Pulse rate(bpm)', 'RR (breaths/min)', 'Hb(g/dl)',\n",
      "       'Menstrual Cycle Length(days)', 'Marriage Status (Yrs)',\n",
      "       'Pregnant(Y/N)', 'No. of abortions', 'I   beta-HCG(mIU/mL)',\n",
      "       'II    beta-HCG(mIU/mL)', 'FSH/LH', 'Waist:Hip Ratio', 'TSH (mIU/L)',\n",
      "       'AMH(ng/mL)', 'PRL(ng/mL)', 'Vit D3 (ng/mL)', 'PRG(ng/mL)',\n",
      "       'RBS(mg/dl)', 'Weight gain(Y/N)', 'hair growth(Y/N)',\n",
      "       'Skin darkening (Y/N)', 'Hair loss(Y/N)', 'Pimples(Y/N)',\n",
      "       'Fast food (Y/N)', 'Reg.Exercise(Y/N)', 'BP _Systolic (mmHg)',\n",
      "       'BP _Diastolic (mmHg)', 'Follicle No. (L)', 'Follicle No. (R)',\n",
      "       'Avg. F size (L) (mm)', 'Avg. F size (R) (mm)', 'Endometrium (mm)',\n",
      "       'Blood Group_A+', 'Blood Group_B+', 'Blood Group_O+',\n",
      "       'Menstrual Cycle(R/I)_irregular', 'Menstrual Cycle(R/I)_regular'],\n",
      "      dtype='object')\n"
     ]
    },
    {
     "data": {
      "text/html": [
       "<div>\n",
       "<style scoped>\n",
       "    .dataframe tbody tr th:only-of-type {\n",
       "        vertical-align: middle;\n",
       "    }\n",
       "\n",
       "    .dataframe tbody tr th {\n",
       "        vertical-align: top;\n",
       "    }\n",
       "\n",
       "    .dataframe thead th {\n",
       "        text-align: right;\n",
       "    }\n",
       "</style>\n",
       "<table border=\"1\" class=\"dataframe\">\n",
       "  <thead>\n",
       "    <tr style=\"text-align: right;\">\n",
       "      <th></th>\n",
       "      <th>Age (yrs)</th>\n",
       "      <th>BMI</th>\n",
       "      <th>Pulse rate(bpm)</th>\n",
       "      <th>RR (breaths/min)</th>\n",
       "      <th>Hb(g/dl)</th>\n",
       "      <th>Menstrual Cycle Length(days)</th>\n",
       "      <th>Marriage Status (Yrs)</th>\n",
       "      <th>Pregnant(Y/N)</th>\n",
       "      <th>No. of abortions</th>\n",
       "      <th>I   beta-HCG(mIU/mL)</th>\n",
       "      <th>...</th>\n",
       "      <th>Follicle No. (L)</th>\n",
       "      <th>Follicle No. (R)</th>\n",
       "      <th>Avg. F size (L) (mm)</th>\n",
       "      <th>Avg. F size (R) (mm)</th>\n",
       "      <th>Endometrium (mm)</th>\n",
       "      <th>Blood Group_A+</th>\n",
       "      <th>Blood Group_B+</th>\n",
       "      <th>Blood Group_O+</th>\n",
       "      <th>Menstrual Cycle(R/I)_irregular</th>\n",
       "      <th>Menstrual Cycle(R/I)_regular</th>\n",
       "    </tr>\n",
       "  </thead>\n",
       "  <tbody>\n",
       "    <tr>\n",
       "      <th>0</th>\n",
       "      <td>28</td>\n",
       "      <td>19.3</td>\n",
       "      <td>78</td>\n",
       "      <td>22</td>\n",
       "      <td>10.48</td>\n",
       "      <td>5</td>\n",
       "      <td>7.0</td>\n",
       "      <td>0</td>\n",
       "      <td>0</td>\n",
       "      <td>1.99</td>\n",
       "      <td>...</td>\n",
       "      <td>3</td>\n",
       "      <td>3</td>\n",
       "      <td>18.0</td>\n",
       "      <td>18.0</td>\n",
       "      <td>8.5</td>\n",
       "      <td>0.0</td>\n",
       "      <td>0.0</td>\n",
       "      <td>1.0</td>\n",
       "      <td>0.0</td>\n",
       "      <td>1.0</td>\n",
       "    </tr>\n",
       "    <tr>\n",
       "      <th>1</th>\n",
       "      <td>36</td>\n",
       "      <td>24.9</td>\n",
       "      <td>74</td>\n",
       "      <td>20</td>\n",
       "      <td>11.70</td>\n",
       "      <td>5</td>\n",
       "      <td>11.0</td>\n",
       "      <td>1</td>\n",
       "      <td>0</td>\n",
       "      <td>60.80</td>\n",
       "      <td>...</td>\n",
       "      <td>3</td>\n",
       "      <td>5</td>\n",
       "      <td>15.0</td>\n",
       "      <td>14.0</td>\n",
       "      <td>3.7</td>\n",
       "      <td>0.0</td>\n",
       "      <td>0.0</td>\n",
       "      <td>1.0</td>\n",
       "      <td>0.0</td>\n",
       "      <td>1.0</td>\n",
       "    </tr>\n",
       "    <tr>\n",
       "      <th>2</th>\n",
       "      <td>33</td>\n",
       "      <td>25.3</td>\n",
       "      <td>72</td>\n",
       "      <td>18</td>\n",
       "      <td>11.80</td>\n",
       "      <td>5</td>\n",
       "      <td>10.0</td>\n",
       "      <td>1</td>\n",
       "      <td>0</td>\n",
       "      <td>494.08</td>\n",
       "      <td>...</td>\n",
       "      <td>13</td>\n",
       "      <td>15</td>\n",
       "      <td>18.0</td>\n",
       "      <td>20.0</td>\n",
       "      <td>10.0</td>\n",
       "      <td>1.0</td>\n",
       "      <td>0.0</td>\n",
       "      <td>0.0</td>\n",
       "      <td>0.0</td>\n",
       "      <td>1.0</td>\n",
       "    </tr>\n",
       "    <tr>\n",
       "      <th>3</th>\n",
       "      <td>37</td>\n",
       "      <td>29.7</td>\n",
       "      <td>72</td>\n",
       "      <td>20</td>\n",
       "      <td>12.00</td>\n",
       "      <td>5</td>\n",
       "      <td>4.0</td>\n",
       "      <td>0</td>\n",
       "      <td>0</td>\n",
       "      <td>1.99</td>\n",
       "      <td>...</td>\n",
       "      <td>2</td>\n",
       "      <td>2</td>\n",
       "      <td>15.0</td>\n",
       "      <td>14.0</td>\n",
       "      <td>7.5</td>\n",
       "      <td>0.0</td>\n",
       "      <td>1.0</td>\n",
       "      <td>0.0</td>\n",
       "      <td>0.0</td>\n",
       "      <td>1.0</td>\n",
       "    </tr>\n",
       "    <tr>\n",
       "      <th>4</th>\n",
       "      <td>25</td>\n",
       "      <td>20.1</td>\n",
       "      <td>72</td>\n",
       "      <td>18</td>\n",
       "      <td>10.00</td>\n",
       "      <td>5</td>\n",
       "      <td>1.0</td>\n",
       "      <td>1</td>\n",
       "      <td>0</td>\n",
       "      <td>801.45</td>\n",
       "      <td>...</td>\n",
       "      <td>3</td>\n",
       "      <td>4</td>\n",
       "      <td>16.0</td>\n",
       "      <td>14.0</td>\n",
       "      <td>7.0</td>\n",
       "      <td>1.0</td>\n",
       "      <td>0.0</td>\n",
       "      <td>0.0</td>\n",
       "      <td>0.0</td>\n",
       "      <td>1.0</td>\n",
       "    </tr>\n",
       "    <tr>\n",
       "      <th>...</th>\n",
       "      <td>...</td>\n",
       "      <td>...</td>\n",
       "      <td>...</td>\n",
       "      <td>...</td>\n",
       "      <td>...</td>\n",
       "      <td>...</td>\n",
       "      <td>...</td>\n",
       "      <td>...</td>\n",
       "      <td>...</td>\n",
       "      <td>...</td>\n",
       "      <td>...</td>\n",
       "      <td>...</td>\n",
       "      <td>...</td>\n",
       "      <td>...</td>\n",
       "      <td>...</td>\n",
       "      <td>...</td>\n",
       "      <td>...</td>\n",
       "      <td>...</td>\n",
       "      <td>...</td>\n",
       "      <td>...</td>\n",
       "      <td>...</td>\n",
       "    </tr>\n",
       "    <tr>\n",
       "      <th>524</th>\n",
       "      <td>35</td>\n",
       "      <td>18.5</td>\n",
       "      <td>72</td>\n",
       "      <td>16</td>\n",
       "      <td>11.00</td>\n",
       "      <td>5</td>\n",
       "      <td>8.0</td>\n",
       "      <td>0</td>\n",
       "      <td>1</td>\n",
       "      <td>1.99</td>\n",
       "      <td>...</td>\n",
       "      <td>1</td>\n",
       "      <td>0</td>\n",
       "      <td>17.5</td>\n",
       "      <td>10.0</td>\n",
       "      <td>6.7</td>\n",
       "      <td>0.0</td>\n",
       "      <td>0.0</td>\n",
       "      <td>0.0</td>\n",
       "      <td>0.0</td>\n",
       "      <td>1.0</td>\n",
       "    </tr>\n",
       "    <tr>\n",
       "      <th>525</th>\n",
       "      <td>30</td>\n",
       "      <td>25.3</td>\n",
       "      <td>72</td>\n",
       "      <td>18</td>\n",
       "      <td>10.80</td>\n",
       "      <td>5</td>\n",
       "      <td>4.0</td>\n",
       "      <td>1</td>\n",
       "      <td>1</td>\n",
       "      <td>80.13</td>\n",
       "      <td>...</td>\n",
       "      <td>9</td>\n",
       "      <td>7</td>\n",
       "      <td>19.0</td>\n",
       "      <td>18.0</td>\n",
       "      <td>8.2</td>\n",
       "      <td>0.0</td>\n",
       "      <td>0.0</td>\n",
       "      <td>1.0</td>\n",
       "      <td>0.0</td>\n",
       "      <td>1.0</td>\n",
       "    </tr>\n",
       "    <tr>\n",
       "      <th>526</th>\n",
       "      <td>36</td>\n",
       "      <td>23.4</td>\n",
       "      <td>74</td>\n",
       "      <td>20</td>\n",
       "      <td>10.80</td>\n",
       "      <td>6</td>\n",
       "      <td>8.0</td>\n",
       "      <td>0</td>\n",
       "      <td>0</td>\n",
       "      <td>1.99</td>\n",
       "      <td>...</td>\n",
       "      <td>1</td>\n",
       "      <td>0</td>\n",
       "      <td>18.0</td>\n",
       "      <td>9.0</td>\n",
       "      <td>7.3</td>\n",
       "      <td>0.0</td>\n",
       "      <td>1.0</td>\n",
       "      <td>0.0</td>\n",
       "      <td>0.0</td>\n",
       "      <td>1.0</td>\n",
       "    </tr>\n",
       "    <tr>\n",
       "      <th>527</th>\n",
       "      <td>27</td>\n",
       "      <td>22.2</td>\n",
       "      <td>74</td>\n",
       "      <td>20</td>\n",
       "      <td>12.00</td>\n",
       "      <td>2</td>\n",
       "      <td>2.0</td>\n",
       "      <td>0</td>\n",
       "      <td>0</td>\n",
       "      <td>292.92</td>\n",
       "      <td>...</td>\n",
       "      <td>7</td>\n",
       "      <td>6</td>\n",
       "      <td>18.0</td>\n",
       "      <td>16.0</td>\n",
       "      <td>11.5</td>\n",
       "      <td>0.0</td>\n",
       "      <td>0.0</td>\n",
       "      <td>1.0</td>\n",
       "      <td>1.0</td>\n",
       "      <td>0.0</td>\n",
       "    </tr>\n",
       "    <tr>\n",
       "      <th>528</th>\n",
       "      <td>23</td>\n",
       "      <td>30.1</td>\n",
       "      <td>80</td>\n",
       "      <td>20</td>\n",
       "      <td>10.20</td>\n",
       "      <td>7</td>\n",
       "      <td>2.0</td>\n",
       "      <td>0</td>\n",
       "      <td>0</td>\n",
       "      <td>1.99</td>\n",
       "      <td>...</td>\n",
       "      <td>9</td>\n",
       "      <td>10</td>\n",
       "      <td>19.0</td>\n",
       "      <td>18.0</td>\n",
       "      <td>6.9</td>\n",
       "      <td>0.0</td>\n",
       "      <td>1.0</td>\n",
       "      <td>0.0</td>\n",
       "      <td>1.0</td>\n",
       "      <td>0.0</td>\n",
       "    </tr>\n",
       "  </tbody>\n",
       "</table>\n",
       "<p>529 rows × 38 columns</p>\n",
       "</div>"
      ],
      "text/plain": [
       "     Age (yrs)   BMI  Pulse rate(bpm)  RR (breaths/min)  Hb(g/dl)  \\\n",
       "0           28  19.3               78                22     10.48   \n",
       "1           36  24.9               74                20     11.70   \n",
       "2           33  25.3               72                18     11.80   \n",
       "3           37  29.7               72                20     12.00   \n",
       "4           25  20.1               72                18     10.00   \n",
       "..         ...   ...              ...               ...       ...   \n",
       "524         35  18.5               72                16     11.00   \n",
       "525         30  25.3               72                18     10.80   \n",
       "526         36  23.4               74                20     10.80   \n",
       "527         27  22.2               74                20     12.00   \n",
       "528         23  30.1               80                20     10.20   \n",
       "\n",
       "     Menstrual Cycle Length(days)  Marriage Status (Yrs)  Pregnant(Y/N)  \\\n",
       "0                               5                    7.0              0   \n",
       "1                               5                   11.0              1   \n",
       "2                               5                   10.0              1   \n",
       "3                               5                    4.0              0   \n",
       "4                               5                    1.0              1   \n",
       "..                            ...                    ...            ...   \n",
       "524                             5                    8.0              0   \n",
       "525                             5                    4.0              1   \n",
       "526                             6                    8.0              0   \n",
       "527                             2                    2.0              0   \n",
       "528                             7                    2.0              0   \n",
       "\n",
       "     No. of abortions  I   beta-HCG(mIU/mL)  ...  Follicle No. (L)  \\\n",
       "0                   0                  1.99  ...                 3   \n",
       "1                   0                 60.80  ...                 3   \n",
       "2                   0                494.08  ...                13   \n",
       "3                   0                  1.99  ...                 2   \n",
       "4                   0                801.45  ...                 3   \n",
       "..                ...                   ...  ...               ...   \n",
       "524                 1                  1.99  ...                 1   \n",
       "525                 1                 80.13  ...                 9   \n",
       "526                 0                  1.99  ...                 1   \n",
       "527                 0                292.92  ...                 7   \n",
       "528                 0                  1.99  ...                 9   \n",
       "\n",
       "     Follicle No. (R)  Avg. F size (L) (mm)  Avg. F size (R) (mm)  \\\n",
       "0                   3                  18.0                  18.0   \n",
       "1                   5                  15.0                  14.0   \n",
       "2                  15                  18.0                  20.0   \n",
       "3                   2                  15.0                  14.0   \n",
       "4                   4                  16.0                  14.0   \n",
       "..                ...                   ...                   ...   \n",
       "524                 0                  17.5                  10.0   \n",
       "525                 7                  19.0                  18.0   \n",
       "526                 0                  18.0                   9.0   \n",
       "527                 6                  18.0                  16.0   \n",
       "528                10                  19.0                  18.0   \n",
       "\n",
       "     Endometrium (mm)  Blood Group_A+  Blood Group_B+  Blood Group_O+  \\\n",
       "0                 8.5             0.0             0.0             1.0   \n",
       "1                 3.7             0.0             0.0             1.0   \n",
       "2                10.0             1.0             0.0             0.0   \n",
       "3                 7.5             0.0             1.0             0.0   \n",
       "4                 7.0             1.0             0.0             0.0   \n",
       "..                ...             ...             ...             ...   \n",
       "524               6.7             0.0             0.0             0.0   \n",
       "525               8.2             0.0             0.0             1.0   \n",
       "526               7.3             0.0             1.0             0.0   \n",
       "527              11.5             0.0             0.0             1.0   \n",
       "528               6.9             0.0             1.0             0.0   \n",
       "\n",
       "     Menstrual Cycle(R/I)_irregular  Menstrual Cycle(R/I)_regular  \n",
       "0                               0.0                           1.0  \n",
       "1                               0.0                           1.0  \n",
       "2                               0.0                           1.0  \n",
       "3                               0.0                           1.0  \n",
       "4                               0.0                           1.0  \n",
       "..                              ...                           ...  \n",
       "524                             0.0                           1.0  \n",
       "525                             0.0                           1.0  \n",
       "526                             0.0                           1.0  \n",
       "527                             1.0                           0.0  \n",
       "528                             1.0                           0.0  \n",
       "\n",
       "[529 rows x 38 columns]"
      ]
     },
     "execution_count": 18,
     "metadata": {},
     "output_type": "execute_result"
    }
   ],
   "source": [
    "target_column = \"PCOS (Y/N)\"\n",
    "y = df[target_column]\n",
    "X = df.drop(target_column, axis=1)\n",
    "\n",
    "rf = RandomForestClassifier(n_estimators=100, random_state=42, n_jobs=-1)\n",
    "selector = RFECV(estimator=rf, cv=5, step=1, scoring='roc_auc')\n",
    "selector = selector.fit(X, y)\n",
    "selected_columns = X.columns[selector.support_]\n",
    "print(selected_columns)\n",
    "X = X[selected_columns]\n",
    "X"
   ]
  },
  {
   "cell_type": "markdown",
   "metadata": {},
   "source": [
    "# Splitting into train, validation and test datasets"
   ]
  },
  {
   "cell_type": "code",
   "execution_count": 19,
   "metadata": {},
   "outputs": [],
   "source": [
    "# Choose either 60, 20, 20 or 80, 10, 10\n",
    "# Depends on the complexity of the model, the dataset size and the nature of the data\n",
    "\n",
    "test_size_1 = 0.4\n",
    "test_size_2 = 0.5\n",
    "random_state = 1\n",
    "\n",
    "from sklearn.model_selection import train_test_split\n",
    "X_train, X_valtest, y_train, y_valtest = train_test_split(X, y, test_size=test_size_1, stratify=y, random_state=random_state)\n",
    "X_val, X_test, y_val, y_test = train_test_split(X_valtest, y_valtest, test_size=test_size_2, stratify=y_valtest, random_state=random_state)"
   ]
  },
  {
   "cell_type": "markdown",
   "metadata": {},
   "source": [
    "# Scaling numerical columns (Standardization)"
   ]
  },
  {
   "cell_type": "code",
   "execution_count": 20,
   "metadata": {},
   "outputs": [
    {
     "data": {
      "text/plain": [
       "Index(['Age (yrs)', 'BMI', 'Pulse rate(bpm)', 'RR (breaths/min)', 'Hb(g/dl)',\n",
       "       'Menstrual Cycle Length(days)', 'Marriage Status (Yrs)',\n",
       "       'Pregnant(Y/N)', 'No. of abortions', 'I   beta-HCG(mIU/mL)',\n",
       "       'II    beta-HCG(mIU/mL)', 'FSH/LH', 'Waist:Hip Ratio', 'TSH (mIU/L)',\n",
       "       'AMH(ng/mL)', 'PRL(ng/mL)', 'Vit D3 (ng/mL)', 'PRG(ng/mL)',\n",
       "       'RBS(mg/dl)', 'Weight gain(Y/N)', 'hair growth(Y/N)',\n",
       "       'Skin darkening (Y/N)', 'Hair loss(Y/N)', 'Pimples(Y/N)',\n",
       "       'Fast food (Y/N)', 'Reg.Exercise(Y/N)', 'BP _Systolic (mmHg)',\n",
       "       'BP _Diastolic (mmHg)', 'Follicle No. (L)', 'Follicle No. (R)',\n",
       "       'Avg. F size (L) (mm)', 'Avg. F size (R) (mm)', 'Endometrium (mm)',\n",
       "       'Blood Group_A+', 'Blood Group_B+', 'Blood Group_O+',\n",
       "       'Menstrual Cycle(R/I)_irregular', 'Menstrual Cycle(R/I)_regular'],\n",
       "      dtype='object')"
      ]
     },
     "execution_count": 20,
     "metadata": {},
     "output_type": "execute_result"
    }
   ],
   "source": [
    "X_train.columns"
   ]
  },
  {
   "cell_type": "code",
   "execution_count": 21,
   "metadata": {},
   "outputs": [
    {
     "data": {
      "text/plain": [
       "['Age (yrs)',\n",
       " 'BMI',\n",
       " 'Pulse rate(bpm)',\n",
       " 'RR (breaths/min)',\n",
       " 'Hb(g/dl)',\n",
       " 'Menstrual Cycle Length(days)',\n",
       " 'Marriage Status (Yrs)',\n",
       " 'No. of abortions',\n",
       " 'I   beta-HCG(mIU/mL)',\n",
       " 'II    beta-HCG(mIU/mL)',\n",
       " 'FSH/LH',\n",
       " 'Waist:Hip Ratio',\n",
       " 'TSH (mIU/L)',\n",
       " 'AMH(ng/mL)',\n",
       " 'PRL(ng/mL)',\n",
       " 'Vit D3 (ng/mL)',\n",
       " 'PRG(ng/mL)',\n",
       " 'RBS(mg/dl)',\n",
       " 'BP _Systolic (mmHg)',\n",
       " 'BP _Diastolic (mmHg)',\n",
       " 'Follicle No. (L)',\n",
       " 'Follicle No. (R)',\n",
       " 'Avg. F size (L) (mm)',\n",
       " 'Avg. F size (R) (mm)',\n",
       " 'Endometrium (mm)']"
      ]
     },
     "execution_count": 21,
     "metadata": {},
     "output_type": "execute_result"
    }
   ],
   "source": [
    "cat_cols = ['Blood Group_A+', 'Blood Group_A-', 'Blood Group_AB+','Blood Group_AB-', \n",
    "'Blood Group_B+', 'Blood Group_B-', 'Blood Group_O+', 'Blood Group_O-', \n",
    "'Menstrual Cycle(R/I)_irregular', 'Menstrual Cycle(R/I)_regular', 'Weight gain(Y/N)', \n",
    "'hair growth(Y/N)', 'Skin darkening (Y/N)', 'Hair loss(Y/N)', 'Pimples(Y/N)',\n",
    "'Fast food (Y/N)', 'Reg.Exercise(Y/N)', 'Pregnant(Y/N)']\n",
    "numerical_cols =  [col for col in list(X_train.columns) if col not in cat_cols]\n",
    "numerical_cols"
   ]
  },
  {
   "cell_type": "code",
   "execution_count": 22,
   "metadata": {},
   "outputs": [],
   "source": [
    "# data standardization with sklearn\n",
    "from sklearn.preprocessing import StandardScaler\n",
    "\n",
    "# copy of datasets\n",
    "X_train_stand = X_train.copy()\n",
    "X_val_stand = X_val.copy()\n",
    "X_test_stand = X_test.copy()\n",
    "\n",
    "# apply standardization on numerical features\n",
    "for i in numerical_cols:\n",
    "    \n",
    "    # fit on training data column\n",
    "    scale = StandardScaler().fit(X_train_stand[[i]])\n",
    "    \n",
    "    # transform the training data column\n",
    "    X_train_stand[i] = scale.transform(X_train_stand[[i]])\n",
    "    \n",
    "    # transform the validation data column\n",
    "    X_val_stand[i] = scale.transform(X_val_stand[[i]])\n",
    "\n",
    "    # transform the testing data column\n",
    "    X_test_stand[i] = scale.transform(X_test_stand[[i]])"
   ]
  },
  {
   "cell_type": "markdown",
   "metadata": {},
   "source": [
    "# Building a neural network (Keras Functional API)"
   ]
  },
  {
   "cell_type": "code",
   "execution_count": 23,
   "metadata": {},
   "outputs": [
    {
     "data": {
      "text/html": [
       "<pre style=\"white-space:pre;overflow-x:auto;line-height:normal;font-family:Menlo,'DejaVu Sans Mono',consolas,'Courier New',monospace\"><span style=\"font-weight: bold\">Model: \"functional_1\"</span>\n",
       "</pre>\n"
      ],
      "text/plain": [
       "\u001b[1mModel: \"functional_1\"\u001b[0m\n"
      ]
     },
     "metadata": {},
     "output_type": "display_data"
    },
    {
     "data": {
      "text/html": [
       "<pre style=\"white-space:pre;overflow-x:auto;line-height:normal;font-family:Menlo,'DejaVu Sans Mono',consolas,'Courier New',monospace\">┏━━━━━━━━━━━━━━━━━━━━━━━━━━━━━━━━━┳━━━━━━━━━━━━━━━━━━━━━━━━┳━━━━━━━━━━━━━━━┓\n",
       "┃<span style=\"font-weight: bold\"> Layer (type)                    </span>┃<span style=\"font-weight: bold\"> Output Shape           </span>┃<span style=\"font-weight: bold\">       Param # </span>┃\n",
       "┡━━━━━━━━━━━━━━━━━━━━━━━━━━━━━━━━━╇━━━━━━━━━━━━━━━━━━━━━━━━╇━━━━━━━━━━━━━━━┩\n",
       "│ input_layer_1 (<span style=\"color: #0087ff; text-decoration-color: #0087ff\">InputLayer</span>)      │ (<span style=\"color: #00d7ff; text-decoration-color: #00d7ff\">None</span>, <span style=\"color: #00af00; text-decoration-color: #00af00\">38</span>)             │             <span style=\"color: #00af00; text-decoration-color: #00af00\">0</span> │\n",
       "├─────────────────────────────────┼────────────────────────┼───────────────┤\n",
       "│ dense_4 (<span style=\"color: #0087ff; text-decoration-color: #0087ff\">Dense</span>)                 │ (<span style=\"color: #00d7ff; text-decoration-color: #00d7ff\">None</span>, <span style=\"color: #00af00; text-decoration-color: #00af00\">32</span>)             │         <span style=\"color: #00af00; text-decoration-color: #00af00\">1,248</span> │\n",
       "├─────────────────────────────────┼────────────────────────┼───────────────┤\n",
       "│ dense_5 (<span style=\"color: #0087ff; text-decoration-color: #0087ff\">Dense</span>)                 │ (<span style=\"color: #00d7ff; text-decoration-color: #00d7ff\">None</span>, <span style=\"color: #00af00; text-decoration-color: #00af00\">32</span>)             │         <span style=\"color: #00af00; text-decoration-color: #00af00\">1,056</span> │\n",
       "├─────────────────────────────────┼────────────────────────┼───────────────┤\n",
       "│ dropout_1 (<span style=\"color: #0087ff; text-decoration-color: #0087ff\">Dropout</span>)             │ (<span style=\"color: #00d7ff; text-decoration-color: #00d7ff\">None</span>, <span style=\"color: #00af00; text-decoration-color: #00af00\">32</span>)             │             <span style=\"color: #00af00; text-decoration-color: #00af00\">0</span> │\n",
       "├─────────────────────────────────┼────────────────────────┼───────────────┤\n",
       "│ dense_6 (<span style=\"color: #0087ff; text-decoration-color: #0087ff\">Dense</span>)                 │ (<span style=\"color: #00d7ff; text-decoration-color: #00d7ff\">None</span>, <span style=\"color: #00af00; text-decoration-color: #00af00\">32</span>)             │         <span style=\"color: #00af00; text-decoration-color: #00af00\">1,056</span> │\n",
       "├─────────────────────────────────┼────────────────────────┼───────────────┤\n",
       "│ batch_normalization_1           │ (<span style=\"color: #00d7ff; text-decoration-color: #00d7ff\">None</span>, <span style=\"color: #00af00; text-decoration-color: #00af00\">32</span>)             │           <span style=\"color: #00af00; text-decoration-color: #00af00\">128</span> │\n",
       "│ (<span style=\"color: #0087ff; text-decoration-color: #0087ff\">BatchNormalization</span>)            │                        │               │\n",
       "├─────────────────────────────────┼────────────────────────┼───────────────┤\n",
       "│ dense_7 (<span style=\"color: #0087ff; text-decoration-color: #0087ff\">Dense</span>)                 │ (<span style=\"color: #00d7ff; text-decoration-color: #00d7ff\">None</span>, <span style=\"color: #00af00; text-decoration-color: #00af00\">1</span>)              │            <span style=\"color: #00af00; text-decoration-color: #00af00\">33</span> │\n",
       "└─────────────────────────────────┴────────────────────────┴───────────────┘\n",
       "</pre>\n"
      ],
      "text/plain": [
       "┏━━━━━━━━━━━━━━━━━━━━━━━━━━━━━━━━━┳━━━━━━━━━━━━━━━━━━━━━━━━┳━━━━━━━━━━━━━━━┓\n",
       "┃\u001b[1m \u001b[0m\u001b[1mLayer (type)                   \u001b[0m\u001b[1m \u001b[0m┃\u001b[1m \u001b[0m\u001b[1mOutput Shape          \u001b[0m\u001b[1m \u001b[0m┃\u001b[1m \u001b[0m\u001b[1m      Param #\u001b[0m\u001b[1m \u001b[0m┃\n",
       "┡━━━━━━━━━━━━━━━━━━━━━━━━━━━━━━━━━╇━━━━━━━━━━━━━━━━━━━━━━━━╇━━━━━━━━━━━━━━━┩\n",
       "│ input_layer_1 (\u001b[38;5;33mInputLayer\u001b[0m)      │ (\u001b[38;5;45mNone\u001b[0m, \u001b[38;5;34m38\u001b[0m)             │             \u001b[38;5;34m0\u001b[0m │\n",
       "├─────────────────────────────────┼────────────────────────┼───────────────┤\n",
       "│ dense_4 (\u001b[38;5;33mDense\u001b[0m)                 │ (\u001b[38;5;45mNone\u001b[0m, \u001b[38;5;34m32\u001b[0m)             │         \u001b[38;5;34m1,248\u001b[0m │\n",
       "├─────────────────────────────────┼────────────────────────┼───────────────┤\n",
       "│ dense_5 (\u001b[38;5;33mDense\u001b[0m)                 │ (\u001b[38;5;45mNone\u001b[0m, \u001b[38;5;34m32\u001b[0m)             │         \u001b[38;5;34m1,056\u001b[0m │\n",
       "├─────────────────────────────────┼────────────────────────┼───────────────┤\n",
       "│ dropout_1 (\u001b[38;5;33mDropout\u001b[0m)             │ (\u001b[38;5;45mNone\u001b[0m, \u001b[38;5;34m32\u001b[0m)             │             \u001b[38;5;34m0\u001b[0m │\n",
       "├─────────────────────────────────┼────────────────────────┼───────────────┤\n",
       "│ dense_6 (\u001b[38;5;33mDense\u001b[0m)                 │ (\u001b[38;5;45mNone\u001b[0m, \u001b[38;5;34m32\u001b[0m)             │         \u001b[38;5;34m1,056\u001b[0m │\n",
       "├─────────────────────────────────┼────────────────────────┼───────────────┤\n",
       "│ batch_normalization_1           │ (\u001b[38;5;45mNone\u001b[0m, \u001b[38;5;34m32\u001b[0m)             │           \u001b[38;5;34m128\u001b[0m │\n",
       "│ (\u001b[38;5;33mBatchNormalization\u001b[0m)            │                        │               │\n",
       "├─────────────────────────────────┼────────────────────────┼───────────────┤\n",
       "│ dense_7 (\u001b[38;5;33mDense\u001b[0m)                 │ (\u001b[38;5;45mNone\u001b[0m, \u001b[38;5;34m1\u001b[0m)              │            \u001b[38;5;34m33\u001b[0m │\n",
       "└─────────────────────────────────┴────────────────────────┴───────────────┘\n"
      ]
     },
     "metadata": {},
     "output_type": "display_data"
    },
    {
     "data": {
      "text/html": [
       "<pre style=\"white-space:pre;overflow-x:auto;line-height:normal;font-family:Menlo,'DejaVu Sans Mono',consolas,'Courier New',monospace\"><span style=\"font-weight: bold\"> Total params: </span><span style=\"color: #00af00; text-decoration-color: #00af00\">3,521</span> (13.75 KB)\n",
       "</pre>\n"
      ],
      "text/plain": [
       "\u001b[1m Total params: \u001b[0m\u001b[38;5;34m3,521\u001b[0m (13.75 KB)\n"
      ]
     },
     "metadata": {},
     "output_type": "display_data"
    },
    {
     "data": {
      "text/html": [
       "<pre style=\"white-space:pre;overflow-x:auto;line-height:normal;font-family:Menlo,'DejaVu Sans Mono',consolas,'Courier New',monospace\"><span style=\"font-weight: bold\"> Trainable params: </span><span style=\"color: #00af00; text-decoration-color: #00af00\">3,457</span> (13.50 KB)\n",
       "</pre>\n"
      ],
      "text/plain": [
       "\u001b[1m Trainable params: \u001b[0m\u001b[38;5;34m3,457\u001b[0m (13.50 KB)\n"
      ]
     },
     "metadata": {},
     "output_type": "display_data"
    },
    {
     "data": {
      "text/html": [
       "<pre style=\"white-space:pre;overflow-x:auto;line-height:normal;font-family:Menlo,'DejaVu Sans Mono',consolas,'Courier New',monospace\"><span style=\"font-weight: bold\"> Non-trainable params: </span><span style=\"color: #00af00; text-decoration-color: #00af00\">64</span> (256.00 B)\n",
       "</pre>\n"
      ],
      "text/plain": [
       "\u001b[1m Non-trainable params: \u001b[0m\u001b[38;5;34m64\u001b[0m (256.00 B)\n"
      ]
     },
     "metadata": {},
     "output_type": "display_data"
    }
   ],
   "source": [
    "inputs = Input(shape=X_train_stand.shape[1:])\n",
    "x = Dense(32, activation=\"relu\")(inputs)\n",
    "x = Dense(32, activation=\"relu\")(x)\n",
    "x = Dropout(rate=0.2, seed=1)(x)\n",
    "x = Dense(32, activation=\"relu\")(x)\n",
    "x = BatchNormalization()(x)\n",
    "outputs = Dense(1, activation=\"sigmoid\")(x)\n",
    "model = Model(inputs=inputs, outputs=outputs)\n",
    "model.summary()"
   ]
  },
  {
   "cell_type": "code",
   "execution_count": 24,
   "metadata": {},
   "outputs": [],
   "source": [
    "# keras.utils.plot_model(model, \"my_first_model.png\", show_shapes=True)"
   ]
  },
  {
   "cell_type": "code",
   "execution_count": 25,
   "metadata": {},
   "outputs": [],
   "source": [
    "my_callbacks = [\n",
    "    #keras.callbacks.EarlyStopping(patience=2, min_delta=0.0012),\n",
    "    #keras.callbacks.ModelCheckpoint(filepath='model.{epoch:02d}-{val_loss:.2f}.h5'),\n",
    "    #keras.callbacks.TensorBoard(log_dir='./logs')\n",
    "]"
   ]
  },
  {
   "cell_type": "code",
   "execution_count": 26,
   "metadata": {},
   "outputs": [
    {
     "name": "stdout",
     "output_type": "stream",
     "text": [
      "Epoch 1/50\n",
      "\u001b[1m5/5\u001b[0m \u001b[32m━━━━━━━━━━━━━━━━━━━━\u001b[0m\u001b[37m\u001b[0m \u001b[1m3s\u001b[0m 139ms/step - auc_1: 0.5289 - loss: 0.0031 - precision_1: 0.3447 - recall_1: 0.5859 - val_auc_1: 0.5598 - val_loss: 0.6616 - val_precision_1: 0.4737 - val_recall_1: 0.2647\n",
      "Epoch 2/50\n",
      "\u001b[1m5/5\u001b[0m \u001b[32m━━━━━━━━━━━━━━━━━━━━\u001b[0m\u001b[37m\u001b[0m \u001b[1m0s\u001b[0m 20ms/step - auc_1: 0.5827 - loss: 0.0028 - precision_1: 0.3802 - recall_1: 0.6397 - val_auc_1: 0.6234 - val_loss: 0.6505 - val_precision_1: 0.5000 - val_recall_1: 0.2941\n",
      "Epoch 3/50\n",
      "\u001b[1m5/5\u001b[0m \u001b[32m━━━━━━━━━━━━━━━━━━━━\u001b[0m\u001b[37m\u001b[0m \u001b[1m0s\u001b[0m 24ms/step - auc_1: 0.6521 - loss: 0.0026 - precision_1: 0.4003 - recall_1: 0.6489 - val_auc_1: 0.6656 - val_loss: 0.6424 - val_precision_1: 0.5217 - val_recall_1: 0.3529\n",
      "Epoch 4/50\n",
      "\u001b[1m5/5\u001b[0m \u001b[32m━━━━━━━━━━━━━━━━━━━━\u001b[0m\u001b[37m\u001b[0m \u001b[1m0s\u001b[0m 29ms/step - auc_1: 0.6638 - loss: 0.0025 - precision_1: 0.4416 - recall_1: 0.7332 - val_auc_1: 0.7026 - val_loss: 0.6359 - val_precision_1: 0.5556 - val_recall_1: 0.4412\n",
      "Epoch 5/50\n",
      "\u001b[1m5/5\u001b[0m \u001b[32m━━━━━━━━━━━━━━━━━━━━\u001b[0m\u001b[37m\u001b[0m \u001b[1m0s\u001b[0m 20ms/step - auc_1: 0.7911 - loss: 0.0021 - precision_1: 0.5236 - recall_1: 0.7955 - val_auc_1: 0.7265 - val_loss: 0.6287 - val_precision_1: 0.5806 - val_recall_1: 0.5294\n",
      "Epoch 6/50\n",
      "\u001b[1m5/5\u001b[0m \u001b[32m━━━━━━━━━━━━━━━━━━━━\u001b[0m\u001b[37m\u001b[0m \u001b[1m0s\u001b[0m 19ms/step - auc_1: 0.7995 - loss: 0.0021 - precision_1: 0.5155 - recall_1: 0.8010 - val_auc_1: 0.7465 - val_loss: 0.6195 - val_precision_1: 0.5806 - val_recall_1: 0.5294\n",
      "Epoch 7/50\n",
      "\u001b[1m5/5\u001b[0m \u001b[32m━━━━━━━━━━━━━━━━━━━━\u001b[0m\u001b[37m\u001b[0m \u001b[1m0s\u001b[0m 26ms/step - auc_1: 0.8437 - loss: 0.0020 - precision_1: 0.5660 - recall_1: 0.8598 - val_auc_1: 0.7616 - val_loss: 0.6102 - val_precision_1: 0.5667 - val_recall_1: 0.5000\n",
      "Epoch 8/50\n",
      "\u001b[1m5/5\u001b[0m \u001b[32m━━━━━━━━━━━━━━━━━━━━\u001b[0m\u001b[37m\u001b[0m \u001b[1m0s\u001b[0m 24ms/step - auc_1: 0.8619 - loss: 0.0018 - precision_1: 0.5980 - recall_1: 0.8607 - val_auc_1: 0.7739 - val_loss: 0.5997 - val_precision_1: 0.5938 - val_recall_1: 0.5588\n",
      "Epoch 9/50\n",
      "\u001b[1m5/5\u001b[0m \u001b[32m━━━━━━━━━━━━━━━━━━━━\u001b[0m\u001b[37m\u001b[0m \u001b[1m0s\u001b[0m 21ms/step - auc_1: 0.8745 - loss: 0.0018 - precision_1: 0.6021 - recall_1: 0.8567 - val_auc_1: 0.7864 - val_loss: 0.5875 - val_precision_1: 0.5758 - val_recall_1: 0.5588\n",
      "Epoch 10/50\n",
      "\u001b[1m5/5\u001b[0m \u001b[32m━━━━━━━━━━━━━━━━━━━━\u001b[0m\u001b[37m\u001b[0m \u001b[1m0s\u001b[0m 20ms/step - auc_1: 0.8519 - loss: 0.0019 - precision_1: 0.5736 - recall_1: 0.8297 - val_auc_1: 0.7972 - val_loss: 0.5733 - val_precision_1: 0.6129 - val_recall_1: 0.5588\n",
      "Epoch 11/50\n",
      "\u001b[1m5/5\u001b[0m \u001b[32m━━━━━━━━━━━━━━━━━━━━\u001b[0m\u001b[37m\u001b[0m \u001b[1m0s\u001b[0m 25ms/step - auc_1: 0.8914 - loss: 0.0017 - precision_1: 0.6169 - recall_1: 0.8807 - val_auc_1: 0.8082 - val_loss: 0.5597 - val_precision_1: 0.6250 - val_recall_1: 0.5882\n",
      "Epoch 12/50\n",
      "\u001b[1m5/5\u001b[0m \u001b[32m━━━━━━━━━━━━━━━━━━━━\u001b[0m\u001b[37m\u001b[0m \u001b[1m0s\u001b[0m 22ms/step - auc_1: 0.8801 - loss: 0.0017 - precision_1: 0.6174 - recall_1: 0.9005 - val_auc_1: 0.8194 - val_loss: 0.5467 - val_precision_1: 0.6667 - val_recall_1: 0.5882\n",
      "Epoch 13/50\n",
      "\u001b[1m5/5\u001b[0m \u001b[32m━━━━━━━━━━━━━━━━━━━━\u001b[0m\u001b[37m\u001b[0m \u001b[1m0s\u001b[0m 28ms/step - auc_1: 0.8943 - loss: 0.0016 - precision_1: 0.6083 - recall_1: 0.8555 - val_auc_1: 0.8254 - val_loss: 0.5349 - val_precision_1: 0.6897 - val_recall_1: 0.5882\n",
      "Epoch 14/50\n",
      "\u001b[1m5/5\u001b[0m \u001b[32m━━━━━━━━━━━━━━━━━━━━\u001b[0m\u001b[37m\u001b[0m \u001b[1m0s\u001b[0m 29ms/step - auc_1: 0.9207 - loss: 0.0015 - precision_1: 0.6705 - recall_1: 0.9045 - val_auc_1: 0.8339 - val_loss: 0.5222 - val_precision_1: 0.6897 - val_recall_1: 0.5882\n",
      "Epoch 15/50\n",
      "\u001b[1m5/5\u001b[0m \u001b[32m━━━━━━━━━━━━━━━━━━━━\u001b[0m\u001b[37m\u001b[0m \u001b[1m0s\u001b[0m 33ms/step - auc_1: 0.9388 - loss: 0.0014 - precision_1: 0.7127 - recall_1: 0.9363 - val_auc_1: 0.8405 - val_loss: 0.5101 - val_precision_1: 0.7407 - val_recall_1: 0.5882\n",
      "Epoch 16/50\n",
      "\u001b[1m5/5\u001b[0m \u001b[32m━━━━━━━━━━━━━━━━━━━━\u001b[0m\u001b[37m\u001b[0m \u001b[1m0s\u001b[0m 27ms/step - auc_1: 0.9264 - loss: 0.0014 - precision_1: 0.6826 - recall_1: 0.9306 - val_auc_1: 0.8493 - val_loss: 0.4992 - val_precision_1: 0.7407 - val_recall_1: 0.5882\n",
      "Epoch 17/50\n",
      "\u001b[1m5/5\u001b[0m \u001b[32m━━━━━━━━━━━━━━━━━━━━\u001b[0m\u001b[37m\u001b[0m \u001b[1m0s\u001b[0m 23ms/step - auc_1: 0.9285 - loss: 0.0014 - precision_1: 0.6942 - recall_1: 0.9223 - val_auc_1: 0.8538 - val_loss: 0.4906 - val_precision_1: 0.7692 - val_recall_1: 0.5882\n",
      "Epoch 18/50\n",
      "\u001b[1m5/5\u001b[0m \u001b[32m━━━━━━━━━━━━━━━━━━━━\u001b[0m\u001b[37m\u001b[0m \u001b[1m0s\u001b[0m 27ms/step - auc_1: 0.9330 - loss: 0.0014 - precision_1: 0.7100 - recall_1: 0.9339 - val_auc_1: 0.8603 - val_loss: 0.4827 - val_precision_1: 0.7692 - val_recall_1: 0.5882\n",
      "Epoch 19/50\n",
      "\u001b[1m5/5\u001b[0m \u001b[32m━━━━━━━━━━━━━━━━━━━━\u001b[0m\u001b[37m\u001b[0m \u001b[1m0s\u001b[0m 29ms/step - auc_1: 0.9478 - loss: 0.0012 - precision_1: 0.7136 - recall_1: 0.9331 - val_auc_1: 0.8664 - val_loss: 0.4750 - val_precision_1: 0.7692 - val_recall_1: 0.5882\n",
      "Epoch 20/50\n",
      "\u001b[1m5/5\u001b[0m \u001b[32m━━━━━━━━━━━━━━━━━━━━\u001b[0m\u001b[37m\u001b[0m \u001b[1m0s\u001b[0m 27ms/step - auc_1: 0.9402 - loss: 0.0012 - precision_1: 0.7428 - recall_1: 0.8922 - val_auc_1: 0.8711 - val_loss: 0.4677 - val_precision_1: 0.7692 - val_recall_1: 0.5882\n",
      "Epoch 21/50\n",
      "\u001b[1m5/5\u001b[0m \u001b[32m━━━━━━━━━━━━━━━━━━━━\u001b[0m\u001b[37m\u001b[0m \u001b[1m0s\u001b[0m 27ms/step - auc_1: 0.9494 - loss: 0.0012 - precision_1: 0.7778 - recall_1: 0.9404 - val_auc_1: 0.8750 - val_loss: 0.4599 - val_precision_1: 0.7692 - val_recall_1: 0.5882\n",
      "Epoch 22/50\n",
      "\u001b[1m5/5\u001b[0m \u001b[32m━━━━━━━━━━━━━━━━━━━━\u001b[0m\u001b[37m\u001b[0m \u001b[1m0s\u001b[0m 25ms/step - auc_1: 0.9648 - loss: 0.0011 - precision_1: 0.7127 - recall_1: 0.9730 - val_auc_1: 0.8783 - val_loss: 0.4537 - val_precision_1: 0.7692 - val_recall_1: 0.5882\n",
      "Epoch 23/50\n",
      "\u001b[1m5/5\u001b[0m \u001b[32m━━━━━━━━━━━━━━━━━━━━\u001b[0m\u001b[37m\u001b[0m \u001b[1m0s\u001b[0m 26ms/step - auc_1: 0.9513 - loss: 0.0012 - precision_1: 0.7298 - recall_1: 0.9126 - val_auc_1: 0.8819 - val_loss: 0.4477 - val_precision_1: 0.7692 - val_recall_1: 0.5882\n",
      "Epoch 24/50\n",
      "\u001b[1m5/5\u001b[0m \u001b[32m━━━━━━━━━━━━━━━━━━━━\u001b[0m\u001b[37m\u001b[0m \u001b[1m0s\u001b[0m 31ms/step - auc_1: 0.9590 - loss: 0.0011 - precision_1: 0.7350 - recall_1: 0.9392 - val_auc_1: 0.8850 - val_loss: 0.4417 - val_precision_1: 0.7600 - val_recall_1: 0.5588\n",
      "Epoch 25/50\n",
      "\u001b[1m5/5\u001b[0m \u001b[32m━━━━━━━━━━━━━━━━━━━━\u001b[0m\u001b[37m\u001b[0m \u001b[1m0s\u001b[0m 22ms/step - auc_1: 0.9553 - loss: 0.0011 - precision_1: 0.7904 - recall_1: 0.9040 - val_auc_1: 0.8875 - val_loss: 0.4371 - val_precision_1: 0.7600 - val_recall_1: 0.5588\n",
      "Epoch 26/50\n",
      "\u001b[1m5/5\u001b[0m \u001b[32m━━━━━━━━━━━━━━━━━━━━\u001b[0m\u001b[37m\u001b[0m \u001b[1m0s\u001b[0m 29ms/step - auc_1: 0.9662 - loss: 0.0010 - precision_1: 0.7854 - recall_1: 0.9309 - val_auc_1: 0.8887 - val_loss: 0.4312 - val_precision_1: 0.7692 - val_recall_1: 0.5882\n",
      "Epoch 27/50\n",
      "\u001b[1m5/5\u001b[0m \u001b[32m━━━━━━━━━━━━━━━━━━━━\u001b[0m\u001b[37m\u001b[0m \u001b[1m0s\u001b[0m 24ms/step - auc_1: 0.9662 - loss: 0.0010 - precision_1: 0.7617 - recall_1: 0.9342 - val_auc_1: 0.8909 - val_loss: 0.4254 - val_precision_1: 0.8000 - val_recall_1: 0.5882\n",
      "Epoch 28/50\n",
      "\u001b[1m5/5\u001b[0m \u001b[32m━━━━━━━━━━━━━━━━━━━━\u001b[0m\u001b[37m\u001b[0m \u001b[1m0s\u001b[0m 25ms/step - auc_1: 0.9778 - loss: 9.0248e-04 - precision_1: 0.8195 - recall_1: 0.9481 - val_auc_1: 0.8926 - val_loss: 0.4192 - val_precision_1: 0.8000 - val_recall_1: 0.5882\n",
      "Epoch 29/50\n",
      "\u001b[1m5/5\u001b[0m \u001b[32m━━━━━━━━━━━━━━━━━━━━\u001b[0m\u001b[37m\u001b[0m \u001b[1m0s\u001b[0m 25ms/step - auc_1: 0.9740 - loss: 9.5651e-04 - precision_1: 0.7963 - recall_1: 0.9763 - val_auc_1: 0.8934 - val_loss: 0.4144 - val_precision_1: 0.8077 - val_recall_1: 0.6176\n",
      "Epoch 30/50\n",
      "\u001b[1m5/5\u001b[0m \u001b[32m━━━━━━━━━━━━━━━━━━━━\u001b[0m\u001b[37m\u001b[0m \u001b[1m0s\u001b[0m 25ms/step - auc_1: 0.9754 - loss: 8.9712e-04 - precision_1: 0.8082 - recall_1: 0.9444 - val_auc_1: 0.8956 - val_loss: 0.4087 - val_precision_1: 0.8077 - val_recall_1: 0.6176\n",
      "Epoch 31/50\n",
      "\u001b[1m5/5\u001b[0m \u001b[32m━━━━━━━━━━━━━━━━━━━━\u001b[0m\u001b[37m\u001b[0m \u001b[1m0s\u001b[0m 26ms/step - auc_1: 0.9691 - loss: 9.5512e-04 - precision_1: 0.8020 - recall_1: 0.9098 - val_auc_1: 0.8981 - val_loss: 0.4020 - val_precision_1: 0.8077 - val_recall_1: 0.6176\n",
      "Epoch 32/50\n",
      "\u001b[1m5/5\u001b[0m \u001b[32m━━━━━━━━━━━━━━━━━━━━\u001b[0m\u001b[37m\u001b[0m \u001b[1m0s\u001b[0m 30ms/step - auc_1: 0.9756 - loss: 8.9899e-04 - precision_1: 0.7902 - recall_1: 0.9486 - val_auc_1: 0.9034 - val_loss: 0.3946 - val_precision_1: 0.8077 - val_recall_1: 0.6176\n",
      "Epoch 33/50\n",
      "\u001b[1m5/5\u001b[0m \u001b[32m━━━━━━━━━━━━━━━━━━━━\u001b[0m\u001b[37m\u001b[0m \u001b[1m0s\u001b[0m 22ms/step - auc_1: 0.9715 - loss: 9.0166e-04 - precision_1: 0.8286 - recall_1: 0.9212 - val_auc_1: 0.9060 - val_loss: 0.3874 - val_precision_1: 0.8077 - val_recall_1: 0.6176\n",
      "Epoch 34/50\n",
      "\u001b[1m5/5\u001b[0m \u001b[32m━━━━━━━━━━━━━━━━━━━━\u001b[0m\u001b[37m\u001b[0m \u001b[1m0s\u001b[0m 23ms/step - auc_1: 0.9776 - loss: 8.3669e-04 - precision_1: 0.8356 - recall_1: 0.9730 - val_auc_1: 0.9107 - val_loss: 0.3804 - val_precision_1: 0.8148 - val_recall_1: 0.6471\n",
      "Epoch 35/50\n",
      "\u001b[1m5/5\u001b[0m \u001b[32m━━━━━━━━━━━━━━━━━━━━\u001b[0m\u001b[37m\u001b[0m \u001b[1m0s\u001b[0m 22ms/step - auc_1: 0.9828 - loss: 7.4030e-04 - precision_1: 0.8728 - recall_1: 0.9735 - val_auc_1: 0.9140 - val_loss: 0.3760 - val_precision_1: 0.8214 - val_recall_1: 0.6765\n",
      "Epoch 36/50\n",
      "\u001b[1m5/5\u001b[0m \u001b[32m━━━━━━━━━━━━━━━━━━━━\u001b[0m\u001b[37m\u001b[0m \u001b[1m0s\u001b[0m 23ms/step - auc_1: 0.9864 - loss: 7.3415e-04 - precision_1: 0.8579 - recall_1: 0.9817 - val_auc_1: 0.9142 - val_loss: 0.3722 - val_precision_1: 0.8214 - val_recall_1: 0.6765\n",
      "Epoch 37/50\n",
      "\u001b[1m5/5\u001b[0m \u001b[32m━━━━━━━━━━━━━━━━━━━━\u001b[0m\u001b[37m\u001b[0m \u001b[1m0s\u001b[0m 21ms/step - auc_1: 0.9884 - loss: 6.8542e-04 - precision_1: 0.8593 - recall_1: 0.9526 - val_auc_1: 0.9132 - val_loss: 0.3687 - val_precision_1: 0.8214 - val_recall_1: 0.6765\n",
      "Epoch 38/50\n",
      "\u001b[1m5/5\u001b[0m \u001b[32m━━━━━━━━━━━━━━━━━━━━\u001b[0m\u001b[37m\u001b[0m \u001b[1m0s\u001b[0m 25ms/step - auc_1: 0.9855 - loss: 7.4038e-04 - precision_1: 0.8480 - recall_1: 0.9579 - val_auc_1: 0.9130 - val_loss: 0.3664 - val_precision_1: 0.8214 - val_recall_1: 0.6765\n",
      "Epoch 39/50\n",
      "\u001b[1m5/5\u001b[0m \u001b[32m━━━━━━━━━━━━━━━━━━━━\u001b[0m\u001b[37m\u001b[0m \u001b[1m0s\u001b[0m 21ms/step - auc_1: 0.9890 - loss: 6.7250e-04 - precision_1: 0.8469 - recall_1: 0.9784 - val_auc_1: 0.9140 - val_loss: 0.3641 - val_precision_1: 0.8214 - val_recall_1: 0.6765\n",
      "Epoch 40/50\n",
      "\u001b[1m5/5\u001b[0m \u001b[32m━━━━━━━━━━━━━━━━━━━━\u001b[0m\u001b[37m\u001b[0m \u001b[1m0s\u001b[0m 26ms/step - auc_1: 0.9878 - loss: 6.3832e-04 - precision_1: 0.8800 - recall_1: 0.9763 - val_auc_1: 0.9148 - val_loss: 0.3612 - val_precision_1: 0.8276 - val_recall_1: 0.7059\n",
      "Epoch 41/50\n",
      "\u001b[1m5/5\u001b[0m \u001b[32m━━━━━━━━━━━━━━━━━━━━\u001b[0m\u001b[37m\u001b[0m \u001b[1m0s\u001b[0m 22ms/step - auc_1: 0.9848 - loss: 6.9859e-04 - precision_1: 0.8476 - recall_1: 1.0000 - val_auc_1: 0.9150 - val_loss: 0.3576 - val_precision_1: 0.8333 - val_recall_1: 0.7353\n",
      "Epoch 42/50\n",
      "\u001b[1m5/5\u001b[0m \u001b[32m━━━━━━━━━━━━━━━━━━━━\u001b[0m\u001b[37m\u001b[0m \u001b[1m0s\u001b[0m 23ms/step - auc_1: 0.9910 - loss: 5.9463e-04 - precision_1: 0.9133 - recall_1: 0.9579 - val_auc_1: 0.9154 - val_loss: 0.3540 - val_precision_1: 0.8387 - val_recall_1: 0.7647\n",
      "Epoch 43/50\n",
      "\u001b[1m5/5\u001b[0m \u001b[32m━━━━━━━━━━━━━━━━━━━━\u001b[0m\u001b[37m\u001b[0m \u001b[1m0s\u001b[0m 21ms/step - auc_1: 0.9868 - loss: 6.3756e-04 - precision_1: 0.8805 - recall_1: 0.9547 - val_auc_1: 0.9156 - val_loss: 0.3507 - val_precision_1: 0.8387 - val_recall_1: 0.7647\n",
      "Epoch 44/50\n",
      "\u001b[1m5/5\u001b[0m \u001b[32m━━━━━━━━━━━━━━━━━━━━\u001b[0m\u001b[37m\u001b[0m \u001b[1m0s\u001b[0m 23ms/step - auc_1: 0.9934 - loss: 5.3064e-04 - precision_1: 0.9177 - recall_1: 0.9730 - val_auc_1: 0.9173 - val_loss: 0.3468 - val_precision_1: 0.8387 - val_recall_1: 0.7647\n",
      "Epoch 45/50\n",
      "\u001b[1m5/5\u001b[0m \u001b[32m━━━━━━━━━━━━━━━━━━━━\u001b[0m\u001b[37m\u001b[0m \u001b[1m0s\u001b[0m 22ms/step - auc_1: 0.9911 - loss: 5.9767e-04 - precision_1: 0.8889 - recall_1: 0.9763 - val_auc_1: 0.9189 - val_loss: 0.3441 - val_precision_1: 0.8387 - val_recall_1: 0.7647\n",
      "Epoch 46/50\n",
      "\u001b[1m5/5\u001b[0m \u001b[32m━━━━━━━━━━━━━━━━━━━━\u001b[0m\u001b[37m\u001b[0m \u001b[1m0s\u001b[0m 22ms/step - auc_1: 0.9917 - loss: 5.5339e-04 - precision_1: 0.8964 - recall_1: 0.9450 - val_auc_1: 0.9195 - val_loss: 0.3418 - val_precision_1: 0.8387 - val_recall_1: 0.7647\n",
      "Epoch 47/50\n",
      "\u001b[1m5/5\u001b[0m \u001b[32m━━━━━━━━━━━━━━━━━━━━\u001b[0m\u001b[37m\u001b[0m \u001b[1m0s\u001b[0m 35ms/step - auc_1: 0.9962 - loss: 4.5372e-04 - precision_1: 0.9290 - recall_1: 0.9784 - val_auc_1: 0.9181 - val_loss: 0.3391 - val_precision_1: 0.8438 - val_recall_1: 0.7941\n",
      "Epoch 48/50\n",
      "\u001b[1m5/5\u001b[0m \u001b[32m━━━━━━━━━━━━━━━━━━━━\u001b[0m\u001b[37m\u001b[0m \u001b[1m0s\u001b[0m 23ms/step - auc_1: 0.9949 - loss: 4.9495e-04 - precision_1: 0.8698 - recall_1: 0.9817 - val_auc_1: 0.9187 - val_loss: 0.3360 - val_precision_1: 0.8438 - val_recall_1: 0.7941\n",
      "Epoch 49/50\n",
      "\u001b[1m5/5\u001b[0m \u001b[32m━━━━━━━━━━━━━━━━━━━━\u001b[0m\u001b[37m\u001b[0m \u001b[1m0s\u001b[0m 24ms/step - auc_1: 0.9967 - loss: 4.5430e-04 - precision_1: 0.9212 - recall_1: 0.9751 - val_auc_1: 0.9167 - val_loss: 0.3338 - val_precision_1: 0.8485 - val_recall_1: 0.8235\n",
      "Epoch 50/50\n",
      "\u001b[1m5/5\u001b[0m \u001b[32m━━━━━━━━━━━━━━━━━━━━\u001b[0m\u001b[37m\u001b[0m \u001b[1m0s\u001b[0m 32ms/step - auc_1: 0.9954 - loss: 4.3543e-04 - precision_1: 0.9291 - recall_1: 1.0000 - val_auc_1: 0.9189 - val_loss: 0.3306 - val_precision_1: 0.8529 - val_recall_1: 0.8529\n",
      "4/4 - 0s - 12ms/step - auc_1: 0.9050 - loss: 0.3683 - precision_1: 0.7297 - recall_1: 0.7714\n",
      "0.3682691752910614 0.9050301909446716 0.7297297120094299 0.7714285850524902\n"
     ]
    }
   ],
   "source": [
    "model.compile(loss= BinaryCrossentropy() , optimizer=Adam() , metrics=[AUC, Precision, Recall]) \n",
    "history = model.fit(x=X_train_stand, y=y_train, batch_size=64, epochs=50, validation_data=(X_val_stand, y_val), class_weight={0: weight_for_0, 1: weight_for_1}, callbacks=my_callbacks)\n",
    "test_loss, test_auc, test_precision, test_recall = model.evaluate(X_test_stand, y_test, verbose=2)\n",
    "print(test_loss, test_auc, test_precision, test_recall)"
   ]
  },
  {
   "cell_type": "markdown",
   "metadata": {},
   "source": [
    "# Using Keras_tuner"
   ]
  },
  {
   "cell_type": "code",
   "execution_count": 27,
   "metadata": {},
   "outputs": [],
   "source": [
    "import keras_tuner\n",
    "class MyHyperModel(keras_tuner.HyperModel):\n",
    "    def build(self, hp):\n",
    "        # Tune the number of layers.\n",
    "        inputs = Input(shape=X_train.shape[1:])\n",
    "        x = Dense(32, activation=\"relu\")(inputs)\n",
    "        for i in range(hp.Int(\"num_layers\", 1, 4)):\n",
    "            x = Dense(\n",
    "                    # Tune number of units separately.\n",
    "                    units=hp.Int(f\"units_{i}\", min_value=32, max_value=320, step=32),\n",
    "                    activation=hp.Choice(f\"activation_{i}\", [\"relu\", \"tanh\"])\n",
    "                )(x)\n",
    "        if hp.Boolean(\"dropout\"):\n",
    "            x = (Dropout(rate=hp.Float(\"dropout_rate\", min_value=0.1, max_value=0.3, step=0.1)))(x)\n",
    "        if hp.Boolean(\"batch_norm\"): \n",
    "            x = BatchNormalization()(x)\n",
    "        outputs = Dense(1, activation=\"sigmoid\")(x)\n",
    "        model = Model(inputs=inputs, outputs=outputs) \n",
    "        learning_rate = hp.Float(\"lr\", min_value=1e-4, max_value=1e-2, sampling=\"log\")\n",
    "        model.compile(loss=BinaryCrossentropy(), optimizer=Adam(learning_rate=learning_rate) , metrics=[AUC]) \n",
    "        return model\n",
    "\n",
    "    # It is generally not needed to tune the number of epochs because a built-in callback is passed to model.fit()\n",
    "    # to save the model at its best epoch evaluated by the validation_data.\n",
    "    def fit(self, hp, model, *args, **kwargs):\n",
    "        return model.fit(\n",
    "            *args,\n",
    "            batch_size=hp.Int(\"batch_size\", min_value=32, max_value=128, step=32),\n",
    "            **kwargs\n",
    "        )"
   ]
  },
  {
   "cell_type": "code",
   "execution_count": 28,
   "metadata": {},
   "outputs": [
    {
     "name": "stdout",
     "output_type": "stream",
     "text": [
      "\u001b[1m10/10\u001b[0m \u001b[32m━━━━━━━━━━━━━━━━━━━━\u001b[0m\u001b[37m\u001b[0m \u001b[1m2s\u001b[0m 38ms/step - auc_2: 0.6766 - loss: 0.0025 - val_auc_2: 0.6853 - val_loss: 0.6459\n"
     ]
    },
    {
     "data": {
      "text/plain": [
       "<keras.src.callbacks.history.History at 0x1ef25841390>"
      ]
     },
     "execution_count": 28,
     "metadata": {},
     "output_type": "execute_result"
    }
   ],
   "source": [
    "# Quick check to see if the code is working correctly\n",
    "hp = keras_tuner.HyperParameters()\n",
    "hypermodel = MyHyperModel()\n",
    "model = hypermodel.build(hp)\n",
    "hypermodel.fit(hp, model, x=X_train_stand, y=y_train, validation_data=(X_val_stand, y_val), class_weight={0: weight_for_0, 1: weight_for_1})"
   ]
  },
  {
   "cell_type": "markdown",
   "metadata": {},
   "source": [
    "During the search, the model-building function is called with different hyperparameter values in different trial. In each trial, the tuner would generate a new set of hyperparameter values to build the model. The model is then fit and evaluated. The metrics are recorded. The tuner progressively explores the space and finally finds a good set of hyperparameter values."
   ]
  },
  {
   "cell_type": "code",
   "execution_count": 29,
   "metadata": {},
   "outputs": [
    {
     "name": "stdout",
     "output_type": "stream",
     "text": [
      "Search space summary\n",
      "Default search space size: 6\n",
      "num_layers (Int)\n",
      "{'default': None, 'conditions': [], 'min_value': 1, 'max_value': 4, 'step': 1, 'sampling': 'linear'}\n",
      "units_0 (Int)\n",
      "{'default': None, 'conditions': [], 'min_value': 32, 'max_value': 320, 'step': 32, 'sampling': 'linear'}\n",
      "activation_0 (Choice)\n",
      "{'default': 'relu', 'conditions': [], 'values': ['relu', 'tanh'], 'ordered': False}\n",
      "dropout (Boolean)\n",
      "{'default': False, 'conditions': []}\n",
      "batch_norm (Boolean)\n",
      "{'default': False, 'conditions': []}\n",
      "lr (Float)\n",
      "{'default': 0.0001, 'conditions': [], 'min_value': 0.0001, 'max_value': 0.01, 'step': None, 'sampling': 'log'}\n"
     ]
    }
   ],
   "source": [
    "# Select a tuner class: RandomSearch, BayesianOptimization and Hyperband (Each corresponds to one tuning algorithm.)\n",
    "tuner = keras_tuner.RandomSearch(\n",
    "    hypermodel=MyHyperModel(),\n",
    "    objective=keras_tuner.Objective(\"val_auc\", direction=\"max\"),\n",
    "    max_trials=5,\n",
    "    overwrite=True,\n",
    "    directory=\"neural_network_results\",\n",
    "    project_name=\"tune_hypermodel\"\n",
    ")\n",
    "tuner.search_space_summary()\n"
   ]
  },
  {
   "cell_type": "code",
   "execution_count": 30,
   "metadata": {},
   "outputs": [
    {
     "name": "stdout",
     "output_type": "stream",
     "text": [
      "Trial 5 Complete [00h 00m 03s]\n",
      "val_auc: 0.8764297366142273\n",
      "\n",
      "Best val_auc So Far: 0.936274528503418\n",
      "Total elapsed time: 00h 00m 15s\n",
      "Results summary\n",
      "Results in neural_network_results\\tune_hypermodel\n",
      "Showing 10 best trials\n",
      "Objective(name=\"val_auc\", direction=\"max\")\n",
      "\n",
      "Trial 3 summary\n",
      "Hyperparameters:\n",
      "num_layers: 4\n",
      "units_0: 96\n",
      "activation_0: relu\n",
      "dropout: True\n",
      "batch_norm: False\n",
      "lr: 0.004116823186183904\n",
      "units_1: 288\n",
      "activation_1: tanh\n",
      "units_2: 192\n",
      "activation_2: relu\n",
      "batch_size: 32\n",
      "units_3: 256\n",
      "activation_3: tanh\n",
      "dropout_rate: 0.1\n",
      "Score: 0.936274528503418\n",
      "\n",
      "Trial 4 summary\n",
      "Hyperparameters:\n",
      "num_layers: 3\n",
      "units_0: 192\n",
      "activation_0: relu\n",
      "dropout: False\n",
      "batch_norm: True\n",
      "lr: 0.005283071526371937\n",
      "units_1: 256\n",
      "activation_1: relu\n",
      "units_2: 32\n",
      "activation_2: relu\n",
      "batch_size: 32\n",
      "units_3: 64\n",
      "activation_3: relu\n",
      "dropout_rate: 0.2\n",
      "Score: 0.8764297366142273\n",
      "\n",
      "Trial 2 summary\n",
      "Hyperparameters:\n",
      "num_layers: 1\n",
      "units_0: 64\n",
      "activation_0: tanh\n",
      "dropout: True\n",
      "batch_norm: False\n",
      "lr: 0.008516344844733455\n",
      "units_1: 192\n",
      "activation_1: relu\n",
      "units_2: 256\n",
      "activation_2: tanh\n",
      "batch_size: 128\n",
      "units_3: 320\n",
      "activation_3: relu\n",
      "dropout_rate: 0.1\n",
      "Score: 0.8378268480300903\n",
      "\n",
      "Trial 1 summary\n",
      "Hyperparameters:\n",
      "num_layers: 4\n",
      "units_0: 64\n",
      "activation_0: relu\n",
      "dropout: False\n",
      "batch_norm: False\n",
      "lr: 0.00038593719959256805\n",
      "units_1: 288\n",
      "activation_1: relu\n",
      "units_2: 128\n",
      "activation_2: tanh\n",
      "batch_size: 64\n",
      "units_3: 32\n",
      "activation_3: relu\n",
      "Score: 0.7683823108673096\n",
      "\n",
      "Trial 0 summary\n",
      "Hyperparameters:\n",
      "num_layers: 3\n",
      "units_0: 96\n",
      "activation_0: relu\n",
      "dropout: False\n",
      "batch_norm: True\n",
      "lr: 0.00020263128279152088\n",
      "units_1: 32\n",
      "activation_1: relu\n",
      "units_2: 32\n",
      "activation_2: relu\n",
      "batch_size: 32\n",
      "Score: 0.5892565250396729\n"
     ]
    }
   ],
   "source": [
    "tuner.search(x=X_train_stand, y=y_train, validation_data=(X_val_stand, y_val), class_weight={0: weight_for_0, 1: weight_for_1}, callbacks=my_callbacks)\n",
    "tuner.results_summary()"
   ]
  },
  {
   "cell_type": "code",
   "execution_count": 31,
   "metadata": {},
   "outputs": [
    {
     "name": "stderr",
     "output_type": "stream",
     "text": [
      "c:\\Users\\Stacy\\anaconda\\envs\\dsa4262_pcos\\Lib\\site-packages\\keras\\src\\saving\\saving_lib.py:757: UserWarning: Skipping variable loading for optimizer 'adam', because it has 2 variables whereas the saved optimizer has 26 variables. \n",
      "  saveable.load_own_variables(weights_store.get(inner_path))\n"
     ]
    },
    {
     "data": {
      "text/html": [
       "<pre style=\"white-space:pre;overflow-x:auto;line-height:normal;font-family:Menlo,'DejaVu Sans Mono',consolas,'Courier New',monospace\"><span style=\"font-weight: bold\">Model: \"functional\"</span>\n",
       "</pre>\n"
      ],
      "text/plain": [
       "\u001b[1mModel: \"functional\"\u001b[0m\n"
      ]
     },
     "metadata": {},
     "output_type": "display_data"
    },
    {
     "data": {
      "text/html": [
       "<pre style=\"white-space:pre;overflow-x:auto;line-height:normal;font-family:Menlo,'DejaVu Sans Mono',consolas,'Courier New',monospace\">┏━━━━━━━━━━━━━━━━━━━━━━━━━━━━━━━━━┳━━━━━━━━━━━━━━━━━━━━━━━━┳━━━━━━━━━━━━━━━┓\n",
       "┃<span style=\"font-weight: bold\"> Layer (type)                    </span>┃<span style=\"font-weight: bold\"> Output Shape           </span>┃<span style=\"font-weight: bold\">       Param # </span>┃\n",
       "┡━━━━━━━━━━━━━━━━━━━━━━━━━━━━━━━━━╇━━━━━━━━━━━━━━━━━━━━━━━━╇━━━━━━━━━━━━━━━┩\n",
       "│ input_layer (<span style=\"color: #0087ff; text-decoration-color: #0087ff\">InputLayer</span>)        │ (<span style=\"color: #00d7ff; text-decoration-color: #00d7ff\">None</span>, <span style=\"color: #00af00; text-decoration-color: #00af00\">38</span>)             │             <span style=\"color: #00af00; text-decoration-color: #00af00\">0</span> │\n",
       "├─────────────────────────────────┼────────────────────────┼───────────────┤\n",
       "│ dense (<span style=\"color: #0087ff; text-decoration-color: #0087ff\">Dense</span>)                   │ (<span style=\"color: #00d7ff; text-decoration-color: #00d7ff\">None</span>, <span style=\"color: #00af00; text-decoration-color: #00af00\">32</span>)             │         <span style=\"color: #00af00; text-decoration-color: #00af00\">1,248</span> │\n",
       "├─────────────────────────────────┼────────────────────────┼───────────────┤\n",
       "│ dense_1 (<span style=\"color: #0087ff; text-decoration-color: #0087ff\">Dense</span>)                 │ (<span style=\"color: #00d7ff; text-decoration-color: #00d7ff\">None</span>, <span style=\"color: #00af00; text-decoration-color: #00af00\">96</span>)             │         <span style=\"color: #00af00; text-decoration-color: #00af00\">3,168</span> │\n",
       "├─────────────────────────────────┼────────────────────────┼───────────────┤\n",
       "│ dense_2 (<span style=\"color: #0087ff; text-decoration-color: #0087ff\">Dense</span>)                 │ (<span style=\"color: #00d7ff; text-decoration-color: #00d7ff\">None</span>, <span style=\"color: #00af00; text-decoration-color: #00af00\">288</span>)            │        <span style=\"color: #00af00; text-decoration-color: #00af00\">27,936</span> │\n",
       "├─────────────────────────────────┼────────────────────────┼───────────────┤\n",
       "│ dense_3 (<span style=\"color: #0087ff; text-decoration-color: #0087ff\">Dense</span>)                 │ (<span style=\"color: #00d7ff; text-decoration-color: #00d7ff\">None</span>, <span style=\"color: #00af00; text-decoration-color: #00af00\">192</span>)            │        <span style=\"color: #00af00; text-decoration-color: #00af00\">55,488</span> │\n",
       "├─────────────────────────────────┼────────────────────────┼───────────────┤\n",
       "│ dense_4 (<span style=\"color: #0087ff; text-decoration-color: #0087ff\">Dense</span>)                 │ (<span style=\"color: #00d7ff; text-decoration-color: #00d7ff\">None</span>, <span style=\"color: #00af00; text-decoration-color: #00af00\">256</span>)            │        <span style=\"color: #00af00; text-decoration-color: #00af00\">49,408</span> │\n",
       "├─────────────────────────────────┼────────────────────────┼───────────────┤\n",
       "│ dropout (<span style=\"color: #0087ff; text-decoration-color: #0087ff\">Dropout</span>)               │ (<span style=\"color: #00d7ff; text-decoration-color: #00d7ff\">None</span>, <span style=\"color: #00af00; text-decoration-color: #00af00\">256</span>)            │             <span style=\"color: #00af00; text-decoration-color: #00af00\">0</span> │\n",
       "├─────────────────────────────────┼────────────────────────┼───────────────┤\n",
       "│ dense_5 (<span style=\"color: #0087ff; text-decoration-color: #0087ff\">Dense</span>)                 │ (<span style=\"color: #00d7ff; text-decoration-color: #00d7ff\">None</span>, <span style=\"color: #00af00; text-decoration-color: #00af00\">1</span>)              │           <span style=\"color: #00af00; text-decoration-color: #00af00\">257</span> │\n",
       "└─────────────────────────────────┴────────────────────────┴───────────────┘\n",
       "</pre>\n"
      ],
      "text/plain": [
       "┏━━━━━━━━━━━━━━━━━━━━━━━━━━━━━━━━━┳━━━━━━━━━━━━━━━━━━━━━━━━┳━━━━━━━━━━━━━━━┓\n",
       "┃\u001b[1m \u001b[0m\u001b[1mLayer (type)                   \u001b[0m\u001b[1m \u001b[0m┃\u001b[1m \u001b[0m\u001b[1mOutput Shape          \u001b[0m\u001b[1m \u001b[0m┃\u001b[1m \u001b[0m\u001b[1m      Param #\u001b[0m\u001b[1m \u001b[0m┃\n",
       "┡━━━━━━━━━━━━━━━━━━━━━━━━━━━━━━━━━╇━━━━━━━━━━━━━━━━━━━━━━━━╇━━━━━━━━━━━━━━━┩\n",
       "│ input_layer (\u001b[38;5;33mInputLayer\u001b[0m)        │ (\u001b[38;5;45mNone\u001b[0m, \u001b[38;5;34m38\u001b[0m)             │             \u001b[38;5;34m0\u001b[0m │\n",
       "├─────────────────────────────────┼────────────────────────┼───────────────┤\n",
       "│ dense (\u001b[38;5;33mDense\u001b[0m)                   │ (\u001b[38;5;45mNone\u001b[0m, \u001b[38;5;34m32\u001b[0m)             │         \u001b[38;5;34m1,248\u001b[0m │\n",
       "├─────────────────────────────────┼────────────────────────┼───────────────┤\n",
       "│ dense_1 (\u001b[38;5;33mDense\u001b[0m)                 │ (\u001b[38;5;45mNone\u001b[0m, \u001b[38;5;34m96\u001b[0m)             │         \u001b[38;5;34m3,168\u001b[0m │\n",
       "├─────────────────────────────────┼────────────────────────┼───────────────┤\n",
       "│ dense_2 (\u001b[38;5;33mDense\u001b[0m)                 │ (\u001b[38;5;45mNone\u001b[0m, \u001b[38;5;34m288\u001b[0m)            │        \u001b[38;5;34m27,936\u001b[0m │\n",
       "├─────────────────────────────────┼────────────────────────┼───────────────┤\n",
       "│ dense_3 (\u001b[38;5;33mDense\u001b[0m)                 │ (\u001b[38;5;45mNone\u001b[0m, \u001b[38;5;34m192\u001b[0m)            │        \u001b[38;5;34m55,488\u001b[0m │\n",
       "├─────────────────────────────────┼────────────────────────┼───────────────┤\n",
       "│ dense_4 (\u001b[38;5;33mDense\u001b[0m)                 │ (\u001b[38;5;45mNone\u001b[0m, \u001b[38;5;34m256\u001b[0m)            │        \u001b[38;5;34m49,408\u001b[0m │\n",
       "├─────────────────────────────────┼────────────────────────┼───────────────┤\n",
       "│ dropout (\u001b[38;5;33mDropout\u001b[0m)               │ (\u001b[38;5;45mNone\u001b[0m, \u001b[38;5;34m256\u001b[0m)            │             \u001b[38;5;34m0\u001b[0m │\n",
       "├─────────────────────────────────┼────────────────────────┼───────────────┤\n",
       "│ dense_5 (\u001b[38;5;33mDense\u001b[0m)                 │ (\u001b[38;5;45mNone\u001b[0m, \u001b[38;5;34m1\u001b[0m)              │           \u001b[38;5;34m257\u001b[0m │\n",
       "└─────────────────────────────────┴────────────────────────┴───────────────┘\n"
      ]
     },
     "metadata": {},
     "output_type": "display_data"
    },
    {
     "data": {
      "text/html": [
       "<pre style=\"white-space:pre;overflow-x:auto;line-height:normal;font-family:Menlo,'DejaVu Sans Mono',consolas,'Courier New',monospace\"><span style=\"font-weight: bold\"> Total params: </span><span style=\"color: #00af00; text-decoration-color: #00af00\">137,505</span> (537.13 KB)\n",
       "</pre>\n"
      ],
      "text/plain": [
       "\u001b[1m Total params: \u001b[0m\u001b[38;5;34m137,505\u001b[0m (537.13 KB)\n"
      ]
     },
     "metadata": {},
     "output_type": "display_data"
    },
    {
     "data": {
      "text/html": [
       "<pre style=\"white-space:pre;overflow-x:auto;line-height:normal;font-family:Menlo,'DejaVu Sans Mono',consolas,'Courier New',monospace\"><span style=\"font-weight: bold\"> Trainable params: </span><span style=\"color: #00af00; text-decoration-color: #00af00\">137,505</span> (537.13 KB)\n",
       "</pre>\n"
      ],
      "text/plain": [
       "\u001b[1m Trainable params: \u001b[0m\u001b[38;5;34m137,505\u001b[0m (537.13 KB)\n"
      ]
     },
     "metadata": {},
     "output_type": "display_data"
    },
    {
     "data": {
      "text/html": [
       "<pre style=\"white-space:pre;overflow-x:auto;line-height:normal;font-family:Menlo,'DejaVu Sans Mono',consolas,'Courier New',monospace\"><span style=\"font-weight: bold\"> Non-trainable params: </span><span style=\"color: #00af00; text-decoration-color: #00af00\">0</span> (0.00 B)\n",
       "</pre>\n"
      ],
      "text/plain": [
       "\u001b[1m Non-trainable params: \u001b[0m\u001b[38;5;34m0\u001b[0m (0.00 B)\n"
      ]
     },
     "metadata": {},
     "output_type": "display_data"
    }
   ],
   "source": [
    "# Get the top 2 models.\n",
    "models = tuner.get_best_models(num_models=1)\n",
    "best_model = models[0]\n",
    "best_model.summary()"
   ]
  },
  {
   "cell_type": "markdown",
   "metadata": {},
   "source": [
    "# Retraining and evaluation"
   ]
  },
  {
   "cell_type": "code",
   "execution_count": 33,
   "metadata": {},
   "outputs": [
    {
     "name": "stdout",
     "output_type": "stream",
     "text": [
      "Epoch 1/3\n",
      "\u001b[1m14/14\u001b[0m \u001b[32m━━━━━━━━━━━━━━━━━━━━\u001b[0m\u001b[37m\u001b[0m \u001b[1m2s\u001b[0m 4ms/step - auc_1: 0.6263 - loss: 0.0027\n",
      "Epoch 2/3\n",
      "\u001b[1m14/14\u001b[0m \u001b[32m━━━━━━━━━━━━━━━━━━━━\u001b[0m\u001b[37m\u001b[0m \u001b[1m0s\u001b[0m 5ms/step - auc_1: 0.9360 - loss: 0.0013 \n",
      "Epoch 3/3\n",
      "\u001b[1m14/14\u001b[0m \u001b[32m━━━━━━━━━━━━━━━━━━━━\u001b[0m\u001b[37m\u001b[0m \u001b[1m0s\u001b[0m 5ms/step - auc_1: 0.9671 - loss: 0.0011 \n",
      "4/4 - 0s - 93ms/step - auc_1: 0.9503 - loss: 0.3270\n",
      "0.3269551694393158 0.9503018260002136\n"
     ]
    }
   ],
   "source": [
    "best_hps = tuner.get_best_hyperparameters(1)\n",
    "# Build the model with the best hp.\n",
    "hypermodel = MyHyperModel()\n",
    "model = hypermodel.build(best_hps[0])\n",
    "# Fit with the entire dataset.\n",
    "x_all = np.concatenate((X_train_stand, X_val_stand))\n",
    "y_all = np.concatenate((y_train, y_val))\n",
    "history = model.fit(x=x_all, y=y_all, epochs=3, class_weight={0: weight_for_0, 1: weight_for_1})\n",
    "test_loss, test_auc = model.evaluate(X_test_stand, y_test, verbose=2)\n",
    "print(test_loss, test_auc)"
   ]
  },
  {
   "cell_type": "code",
   "execution_count": 34,
   "metadata": {},
   "outputs": [
    {
     "name": "stdout",
     "output_type": "stream",
     "text": [
      "\u001b[1m4/4\u001b[0m \u001b[32m━━━━━━━━━━━━━━━━━━━━\u001b[0m\u001b[37m\u001b[0m \u001b[1m0s\u001b[0m 28ms/step\n"
     ]
    },
    {
     "data": {
      "image/png": "[encoded data removed]",
      "text/plain": [
       "<Figure size 640x480 with 1 Axes>"
      ]
     },
     "metadata": {},
     "output_type": "display_data"
    }
   ],
   "source": [
    "from sklearn.metrics import roc_curve\n",
    "import matplotlib.pyplot as plt\n",
    "y_pred_proba = model.predict(X_test_stand).ravel()\n",
    "fpr, tpr, thresholds = roc_curve(y_test, y_pred_proba)\n",
    "plt.figure(1)\n",
    "plt.plot([0, 1], [0, 1], 'k--')\n",
    "plt.plot(fpr, tpr, label='MLP AUC: {:.3f}'.format(test_auc))\n",
    "plt.xlabel('False positive rate')\n",
    "plt.ylabel('True positive rate')\n",
    "plt.title('ROC curve')\n",
    "plt.legend(loc='best')\n",
    "plt.show()"
   ]
  },
  {
   "cell_type": "markdown",
   "metadata": {},
   "source": [
    "## Finding the best threshold"
   ]
  },
  {
   "cell_type": "code",
   "execution_count": 35,
   "metadata": {},
   "outputs": [
    {
     "name": "stdout",
     "output_type": "stream",
     "text": [
      "Best threshold: 0.4459700882434845\n"
     ]
    }
   ],
   "source": [
    "# This method minimizes the distance to the top-left corner of the ROC space.\n",
    "distances = np.sqrt((1 - tpr) ** 2 + fpr ** 2)\n",
    "best_thresh = thresholds[np.argmin(distances)]\n",
    "print(f\"Best threshold: {best_thresh}\")"
   ]
  },
  {
   "cell_type": "code",
   "execution_count": 36,
   "metadata": {},
   "outputs": [
    {
     "name": "stdout",
     "output_type": "stream",
     "text": [
      "Precision: 0.76\n",
      "Recall: 0.91\n",
      "Specificity: 0.86\n",
      "Sensitivity: 0.91\n"
     ]
    },
    {
     "data": {
      "image/png": "[encoded data removed]",
      "text/plain": [
       "<Figure size 500x400 with 2 Axes>"
      ]
     },
     "metadata": {},
     "output_type": "display_data"
    },
    {
     "name": "stdout",
     "output_type": "stream",
     "text": [
      "              precision    recall  f1-score   support\n",
      "\n",
      "           0       0.95      0.86      0.90        71\n",
      "           1       0.76      0.91      0.83        35\n",
      "\n",
      "    accuracy                           0.88       106\n",
      "   macro avg       0.86      0.89      0.87       106\n",
      "weighted avg       0.89      0.88      0.88       106\n",
      "\n"
     ]
    }
   ],
   "source": [
    "from sklearn.metrics import precision_score, recall_score, classification_report, confusion_matrix\n",
    "import seaborn as sns\n",
    "\n",
    "y_pred = [1 if prob>=best_thresh else 0 for prob in y_pred_proba]\n",
    "\n",
    "# Compute Precision and Recall\n",
    "precision = precision_score(y_test, y_pred)\n",
    "recall = recall_score(y_test, y_pred)\n",
    "\n",
    "print(f'Precision: {precision:.2f}')\n",
    "print(f'Recall: {recall:.2f}')\n",
    "\n",
    "# Compute Sensitivity and Specificity\n",
    "specificity = recall_score(y_test, y_pred, pos_label=0)\n",
    "\n",
    "print(f'Specificity: {specificity:.2f}')\n",
    "print(f'Sensitivity: {recall:.2f}')\n",
    "\n",
    "# Visualise the confusion matrix\n",
    "cm = confusion_matrix(y_test, y_pred)\n",
    "labels = [\"True Negatives (TN)\", \"False Positives (FP)\", \"False Negatives (FN)\", \"True Positives (TP)\"]\n",
    "\n",
    "# Plot confusion matrix\n",
    "plt.figure(figsize=(5, 4))\n",
    "sns.heatmap(cm, annot=True, fmt='d', cmap='Blues', xticklabels=[\"Pred 0\", \"Pred 1\"], yticklabels=[\"Actual 0\", \"Actual 1\"])\n",
    "plt.xlabel(\"Predicted Labels\")\n",
    "plt.ylabel(\"Actual Labels\")\n",
    "plt.title(\"Confusion Matrix\")\n",
    "plt.show()\n",
    "\n",
    "\n",
    "# Visualise the classification report\n",
    "report = classification_report(y_test, y_pred)\n",
    "print(report)"
   ]
  }
 ],
 "metadata": {
  "kernelspec": {
   "display_name": "dsa4262_pcos",
   "language": "python",
   "name": "python3"
  },
  "language_info": {
   "codemirror_mode": {
    "name": "ipython",
    "version": 3
   },
   "file_extension": ".py",
   "mimetype": "text/x-python",
   "name": "python",
   "nbconvert_exporter": "python",
   "pygments_lexer": "ipython3",
   "version": "3.11.11"
  }
 },
 "nbformat": 4,
 "nbformat_minor": 2
}
