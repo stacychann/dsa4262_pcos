{
 "cells": [
  {
   "cell_type": "markdown",
   "metadata": {},
   "source": [
    "# Importing packages and reading in the csv file"
   ]
  },
  {
   "cell_type": "code",
   "execution_count": 1,
   "metadata": {},
   "outputs": [],
   "source": [
    "import numpy as np\n",
    "import pandas as pd\n",
    "\n",
    "import tensorflow as tf\n",
    "from tensorflow import keras\n",
    "from keras import Model\n",
    "from keras.layers import Dense, Input, Dropout, BatchNormalization, Flatten\n",
    "from keras.metrics import AUC, Precision, Recall, F1Score\n",
    "from keras.losses import BinaryCrossentropy, BinaryFocalCrossentropy\n",
    "from keras.optimizers import Adam, RMSprop, Adadelta, Adagrad, AdamW, Adamax"
   ]
  },
  {
   "cell_type": "code",
   "execution_count": 2,
   "metadata": {},
   "outputs": [
    {
     "name": "stdout",
     "output_type": "stream",
     "text": [
      "(529, 44)\n"
     ]
    },
    {
     "data": {
      "text/html": [
       "<div>\n",
       "<style scoped>\n",
       "    .dataframe tbody tr th:only-of-type {\n",
       "        vertical-align: middle;\n",
       "    }\n",
       "\n",
       "    .dataframe tbody tr th {\n",
       "        vertical-align: top;\n",
       "    }\n",
       "\n",
       "    .dataframe thead th {\n",
       "        text-align: right;\n",
       "    }\n",
       "</style>\n",
       "<table border=\"1\" class=\"dataframe\">\n",
       "  <thead>\n",
       "    <tr style=\"text-align: right;\">\n",
       "      <th></th>\n",
       "      <th>PCOS (Y/N)</th>\n",
       "      <th>Age (yrs)</th>\n",
       "      <th>BMI</th>\n",
       "      <th>Pulse rate(bpm)</th>\n",
       "      <th>RR (breaths/min)</th>\n",
       "      <th>Hb(g/dl)</th>\n",
       "      <th>Menstrual Cycle Length(days)</th>\n",
       "      <th>Marriage Status (Yrs)</th>\n",
       "      <th>Pregnant(Y/N)</th>\n",
       "      <th>No. of abortions</th>\n",
       "      <th>...</th>\n",
       "      <th>Blood Group_A+</th>\n",
       "      <th>Blood Group_A-</th>\n",
       "      <th>Blood Group_AB+</th>\n",
       "      <th>Blood Group_AB-</th>\n",
       "      <th>Blood Group_B+</th>\n",
       "      <th>Blood Group_B-</th>\n",
       "      <th>Blood Group_O+</th>\n",
       "      <th>Blood Group_O-</th>\n",
       "      <th>Menstrual Cycle(R/I)_irregular</th>\n",
       "      <th>Menstrual Cycle(R/I)_regular</th>\n",
       "    </tr>\n",
       "  </thead>\n",
       "  <tbody>\n",
       "    <tr>\n",
       "      <th>0</th>\n",
       "      <td>0</td>\n",
       "      <td>28</td>\n",
       "      <td>19.3</td>\n",
       "      <td>78</td>\n",
       "      <td>22</td>\n",
       "      <td>10.48</td>\n",
       "      <td>5</td>\n",
       "      <td>7.0</td>\n",
       "      <td>0</td>\n",
       "      <td>0</td>\n",
       "      <td>...</td>\n",
       "      <td>0.0</td>\n",
       "      <td>0.0</td>\n",
       "      <td>0.0</td>\n",
       "      <td>0.0</td>\n",
       "      <td>0.0</td>\n",
       "      <td>0.0</td>\n",
       "      <td>1.0</td>\n",
       "      <td>0.0</td>\n",
       "      <td>0.0</td>\n",
       "      <td>1.0</td>\n",
       "    </tr>\n",
       "    <tr>\n",
       "      <th>1</th>\n",
       "      <td>0</td>\n",
       "      <td>36</td>\n",
       "      <td>24.9</td>\n",
       "      <td>74</td>\n",
       "      <td>20</td>\n",
       "      <td>11.70</td>\n",
       "      <td>5</td>\n",
       "      <td>11.0</td>\n",
       "      <td>1</td>\n",
       "      <td>0</td>\n",
       "      <td>...</td>\n",
       "      <td>0.0</td>\n",
       "      <td>0.0</td>\n",
       "      <td>0.0</td>\n",
       "      <td>0.0</td>\n",
       "      <td>0.0</td>\n",
       "      <td>0.0</td>\n",
       "      <td>1.0</td>\n",
       "      <td>0.0</td>\n",
       "      <td>0.0</td>\n",
       "      <td>1.0</td>\n",
       "    </tr>\n",
       "    <tr>\n",
       "      <th>2</th>\n",
       "      <td>1</td>\n",
       "      <td>33</td>\n",
       "      <td>25.3</td>\n",
       "      <td>72</td>\n",
       "      <td>18</td>\n",
       "      <td>11.80</td>\n",
       "      <td>5</td>\n",
       "      <td>10.0</td>\n",
       "      <td>1</td>\n",
       "      <td>0</td>\n",
       "      <td>...</td>\n",
       "      <td>1.0</td>\n",
       "      <td>0.0</td>\n",
       "      <td>0.0</td>\n",
       "      <td>0.0</td>\n",
       "      <td>0.0</td>\n",
       "      <td>0.0</td>\n",
       "      <td>0.0</td>\n",
       "      <td>0.0</td>\n",
       "      <td>0.0</td>\n",
       "      <td>1.0</td>\n",
       "    </tr>\n",
       "    <tr>\n",
       "      <th>3</th>\n",
       "      <td>0</td>\n",
       "      <td>37</td>\n",
       "      <td>29.7</td>\n",
       "      <td>72</td>\n",
       "      <td>20</td>\n",
       "      <td>12.00</td>\n",
       "      <td>5</td>\n",
       "      <td>4.0</td>\n",
       "      <td>0</td>\n",
       "      <td>0</td>\n",
       "      <td>...</td>\n",
       "      <td>0.0</td>\n",
       "      <td>0.0</td>\n",
       "      <td>0.0</td>\n",
       "      <td>0.0</td>\n",
       "      <td>1.0</td>\n",
       "      <td>0.0</td>\n",
       "      <td>0.0</td>\n",
       "      <td>0.0</td>\n",
       "      <td>0.0</td>\n",
       "      <td>1.0</td>\n",
       "    </tr>\n",
       "    <tr>\n",
       "      <th>4</th>\n",
       "      <td>0</td>\n",
       "      <td>25</td>\n",
       "      <td>20.1</td>\n",
       "      <td>72</td>\n",
       "      <td>18</td>\n",
       "      <td>10.00</td>\n",
       "      <td>5</td>\n",
       "      <td>1.0</td>\n",
       "      <td>1</td>\n",
       "      <td>0</td>\n",
       "      <td>...</td>\n",
       "      <td>1.0</td>\n",
       "      <td>0.0</td>\n",
       "      <td>0.0</td>\n",
       "      <td>0.0</td>\n",
       "      <td>0.0</td>\n",
       "      <td>0.0</td>\n",
       "      <td>0.0</td>\n",
       "      <td>0.0</td>\n",
       "      <td>0.0</td>\n",
       "      <td>1.0</td>\n",
       "    </tr>\n",
       "  </tbody>\n",
       "</table>\n",
       "<p>5 rows × 44 columns</p>\n",
       "</div>"
      ],
      "text/plain": [
       "   PCOS (Y/N)  Age (yrs)   BMI  Pulse rate(bpm)  RR (breaths/min)  Hb(g/dl)  \\\n",
       "0           0         28  19.3               78                22     10.48   \n",
       "1           0         36  24.9               74                20     11.70   \n",
       "2           1         33  25.3               72                18     11.80   \n",
       "3           0         37  29.7               72                20     12.00   \n",
       "4           0         25  20.1               72                18     10.00   \n",
       "\n",
       "   Menstrual Cycle Length(days)  Marriage Status (Yrs)  Pregnant(Y/N)  \\\n",
       "0                             5                    7.0              0   \n",
       "1                             5                   11.0              1   \n",
       "2                             5                   10.0              1   \n",
       "3                             5                    4.0              0   \n",
       "4                             5                    1.0              1   \n",
       "\n",
       "   No. of abortions  ...  Blood Group_A+  Blood Group_A-  Blood Group_AB+  \\\n",
       "0                 0  ...             0.0             0.0              0.0   \n",
       "1                 0  ...             0.0             0.0              0.0   \n",
       "2                 0  ...             1.0             0.0              0.0   \n",
       "3                 0  ...             0.0             0.0              0.0   \n",
       "4                 0  ...             1.0             0.0              0.0   \n",
       "\n",
       "   Blood Group_AB-  Blood Group_B+  Blood Group_B-  Blood Group_O+  \\\n",
       "0              0.0             0.0             0.0             1.0   \n",
       "1              0.0             0.0             0.0             1.0   \n",
       "2              0.0             0.0             0.0             0.0   \n",
       "3              0.0             1.0             0.0             0.0   \n",
       "4              0.0             0.0             0.0             0.0   \n",
       "\n",
       "   Blood Group_O-  Menstrual Cycle(R/I)_irregular  \\\n",
       "0             0.0                             0.0   \n",
       "1             0.0                             0.0   \n",
       "2             0.0                             0.0   \n",
       "3             0.0                             0.0   \n",
       "4             0.0                             0.0   \n",
       "\n",
       "   Menstrual Cycle(R/I)_regular  \n",
       "0                           1.0  \n",
       "1                           1.0  \n",
       "2                           1.0  \n",
       "3                           1.0  \n",
       "4                           1.0  \n",
       "\n",
       "[5 rows x 44 columns]"
      ]
     },
     "execution_count": 2,
     "metadata": {},
     "output_type": "execute_result"
    }
   ],
   "source": [
    "df = pd.read_csv(\"cleaned_data.csv\")\n",
    "print(df.shape)\n",
    "df.head()"
   ]
  },
  {
   "cell_type": "markdown",
   "metadata": {},
   "source": [
    "# Finding the class weights to resolve the issue of class imbalance"
   ]
  },
  {
   "cell_type": "code",
   "execution_count": 3,
   "metadata": {},
   "outputs": [],
   "source": [
    "target_counts = np.bincount(df[\"PCOS (Y/N)\"])\n",
    "weight_for_0 = 1.0/target_counts[0]\n",
    "weight_for_1 = 1.0/target_counts[1]"
   ]
  },
  {
   "cell_type": "markdown",
   "metadata": {},
   "source": [
    "# Splitting into train, validation and test datasets"
   ]
  },
  {
   "cell_type": "code",
   "execution_count": 4,
   "metadata": {},
   "outputs": [],
   "source": [
    "# Choose either 60, 20, 20 or 80, 10, 10\n",
    "# Depends on the complexity of the model, the dataset size and the nature of the data\n",
    "\n",
    "test_size_1 = 0.4\n",
    "test_size_2 = 0.5\n",
    "random_state = 1\n",
    "target_column = \"PCOS (Y/N)\"\n",
    "\n",
    "from sklearn.model_selection import train_test_split\n",
    "y = df[target_column]\n",
    "X = df.drop(target_column, axis=1)\n",
    "X_train, X_valtest, y_train, y_valtest = train_test_split(X, y, test_size=test_size_1, stratify=y, random_state=random_state)\n",
    "X_val, X_test, y_val, y_test = train_test_split(X_valtest, y_valtest, test_size=test_size_2, stratify=y_valtest, random_state=random_state)"
   ]
  },
  {
   "cell_type": "markdown",
   "metadata": {},
   "source": [
    "# Scaling numerical columns (Standardization)"
   ]
  },
  {
   "cell_type": "code",
   "execution_count": 5,
   "metadata": {},
   "outputs": [
    {
     "data": {
      "text/plain": [
       "Index(['Age (yrs)', 'BMI', 'Pulse rate(bpm)', 'RR (breaths/min)', 'Hb(g/dl)',\n",
       "       'Menstrual Cycle Length(days)', 'Marriage Status (Yrs)',\n",
       "       'Pregnant(Y/N)', 'No. of abortions', 'I   beta-HCG(mIU/mL)',\n",
       "       'II    beta-HCG(mIU/mL)', 'FSH/LH', 'Waist:Hip Ratio', 'TSH (mIU/L)',\n",
       "       'AMH(ng/mL)', 'PRL(ng/mL)', 'Vit D3 (ng/mL)', 'PRG(ng/mL)',\n",
       "       'RBS(mg/dl)', 'Weight gain(Y/N)', 'hair growth(Y/N)',\n",
       "       'Skin darkening (Y/N)', 'Hair loss(Y/N)', 'Pimples(Y/N)',\n",
       "       'Fast food (Y/N)', 'Reg.Exercise(Y/N)', 'BP _Systolic (mmHg)',\n",
       "       'BP _Diastolic (mmHg)', 'Follicle No. (L)', 'Follicle No. (R)',\n",
       "       'Avg. F size (L) (mm)', 'Avg. F size (R) (mm)', 'Endometrium (mm)',\n",
       "       'Blood Group_A+', 'Blood Group_A-', 'Blood Group_AB+',\n",
       "       'Blood Group_AB-', 'Blood Group_B+', 'Blood Group_B-', 'Blood Group_O+',\n",
       "       'Blood Group_O-', 'Menstrual Cycle(R/I)_irregular',\n",
       "       'Menstrual Cycle(R/I)_regular'],\n",
       "      dtype='object')"
      ]
     },
     "execution_count": 5,
     "metadata": {},
     "output_type": "execute_result"
    }
   ],
   "source": [
    "X_train.columns"
   ]
  },
  {
   "cell_type": "code",
   "execution_count": 6,
   "metadata": {},
   "outputs": [
    {
     "data": {
      "text/plain": [
       "['Age (yrs)',\n",
       " 'BMI',\n",
       " 'Pulse rate(bpm)',\n",
       " 'RR (breaths/min)',\n",
       " 'Hb(g/dl)',\n",
       " 'Menstrual Cycle Length(days)',\n",
       " 'Marriage Status (Yrs)',\n",
       " 'No. of abortions',\n",
       " 'I   beta-HCG(mIU/mL)',\n",
       " 'II    beta-HCG(mIU/mL)',\n",
       " 'FSH/LH',\n",
       " 'Waist:Hip Ratio',\n",
       " 'TSH (mIU/L)',\n",
       " 'AMH(ng/mL)',\n",
       " 'PRL(ng/mL)',\n",
       " 'Vit D3 (ng/mL)',\n",
       " 'PRG(ng/mL)',\n",
       " 'RBS(mg/dl)',\n",
       " 'BP _Systolic (mmHg)',\n",
       " 'BP _Diastolic (mmHg)',\n",
       " 'Follicle No. (L)',\n",
       " 'Follicle No. (R)',\n",
       " 'Avg. F size (L) (mm)',\n",
       " 'Avg. F size (R) (mm)',\n",
       " 'Endometrium (mm)']"
      ]
     },
     "execution_count": 6,
     "metadata": {},
     "output_type": "execute_result"
    }
   ],
   "source": [
    "cat_cols = ['Blood Group_A+', 'Blood Group_A-', 'Blood Group_AB+','Blood Group_AB-', \n",
    "'Blood Group_B+', 'Blood Group_B-', 'Blood Group_O+', 'Blood Group_O-', \n",
    "'Menstrual Cycle(R/I)_irregular', 'Menstrual Cycle(R/I)_regular', 'Weight gain(Y/N)', \n",
    "'hair growth(Y/N)', 'Skin darkening (Y/N)', 'Hair loss(Y/N)', 'Pimples(Y/N)',\n",
    "'Fast food (Y/N)', 'Reg.Exercise(Y/N)', 'Pregnant(Y/N)']\n",
    "numerical_cols =  [col for col in list(X_train.columns) if col not in cat_cols]\n",
    "numerical_cols"
   ]
  },
  {
   "cell_type": "code",
   "execution_count": 7,
   "metadata": {},
   "outputs": [],
   "source": [
    "# data standardization with sklearn\n",
    "from sklearn.preprocessing import StandardScaler\n",
    "\n",
    "# copy of datasets\n",
    "X_train_stand = X_train.copy()\n",
    "X_val_stand = X_val.copy()\n",
    "X_test_stand = X_test.copy()\n",
    "\n",
    "# apply standardization on numerical features\n",
    "for i in numerical_cols:\n",
    "    \n",
    "    # fit on training data column\n",
    "    scale = StandardScaler().fit(X_train_stand[[i]])\n",
    "    \n",
    "    # transform the training data column\n",
    "    X_train_stand[i] = scale.transform(X_train_stand[[i]])\n",
    "    \n",
    "    # transform the validation data column\n",
    "    X_val_stand[i] = scale.transform(X_val_stand[[i]])\n",
    "\n",
    "    # transform the testing data column\n",
    "    X_test_stand[i] = scale.transform(X_test_stand[[i]])"
   ]
  },
  {
   "cell_type": "markdown",
   "metadata": {},
   "source": [
    "# Building a neural network (Keras Functional API)"
   ]
  },
  {
   "cell_type": "code",
   "execution_count": 8,
   "metadata": {},
   "outputs": [
    {
     "data": {
      "text/html": [
       "<pre style=\"white-space:pre;overflow-x:auto;line-height:normal;font-family:Menlo,'DejaVu Sans Mono',consolas,'Courier New',monospace\"><span style=\"font-weight: bold\">Model: \"functional\"</span>\n",
       "</pre>\n"
      ],
      "text/plain": [
       "\u001b[1mModel: \"functional\"\u001b[0m\n"
      ]
     },
     "metadata": {},
     "output_type": "display_data"
    },
    {
     "data": {
      "text/html": [
       "<pre style=\"white-space:pre;overflow-x:auto;line-height:normal;font-family:Menlo,'DejaVu Sans Mono',consolas,'Courier New',monospace\">┏━━━━━━━━━━━━━━━━━━━━━━━━━━━━━━━━━┳━━━━━━━━━━━━━━━━━━━━━━━━┳━━━━━━━━━━━━━━━┓\n",
       "┃<span style=\"font-weight: bold\"> Layer (type)                    </span>┃<span style=\"font-weight: bold\"> Output Shape           </span>┃<span style=\"font-weight: bold\">       Param # </span>┃\n",
       "┡━━━━━━━━━━━━━━━━━━━━━━━━━━━━━━━━━╇━━━━━━━━━━━━━━━━━━━━━━━━╇━━━━━━━━━━━━━━━┩\n",
       "│ input_layer (<span style=\"color: #0087ff; text-decoration-color: #0087ff\">InputLayer</span>)        │ (<span style=\"color: #00d7ff; text-decoration-color: #00d7ff\">None</span>, <span style=\"color: #00af00; text-decoration-color: #00af00\">43</span>)             │             <span style=\"color: #00af00; text-decoration-color: #00af00\">0</span> │\n",
       "├─────────────────────────────────┼────────────────────────┼───────────────┤\n",
       "│ dense (<span style=\"color: #0087ff; text-decoration-color: #0087ff\">Dense</span>)                   │ (<span style=\"color: #00d7ff; text-decoration-color: #00d7ff\">None</span>, <span style=\"color: #00af00; text-decoration-color: #00af00\">32</span>)             │         <span style=\"color: #00af00; text-decoration-color: #00af00\">1,408</span> │\n",
       "├─────────────────────────────────┼────────────────────────┼───────────────┤\n",
       "│ dense_1 (<span style=\"color: #0087ff; text-decoration-color: #0087ff\">Dense</span>)                 │ (<span style=\"color: #00d7ff; text-decoration-color: #00d7ff\">None</span>, <span style=\"color: #00af00; text-decoration-color: #00af00\">32</span>)             │         <span style=\"color: #00af00; text-decoration-color: #00af00\">1,056</span> │\n",
       "├─────────────────────────────────┼────────────────────────┼───────────────┤\n",
       "│ dropout (<span style=\"color: #0087ff; text-decoration-color: #0087ff\">Dropout</span>)               │ (<span style=\"color: #00d7ff; text-decoration-color: #00d7ff\">None</span>, <span style=\"color: #00af00; text-decoration-color: #00af00\">32</span>)             │             <span style=\"color: #00af00; text-decoration-color: #00af00\">0</span> │\n",
       "├─────────────────────────────────┼────────────────────────┼───────────────┤\n",
       "│ dense_2 (<span style=\"color: #0087ff; text-decoration-color: #0087ff\">Dense</span>)                 │ (<span style=\"color: #00d7ff; text-decoration-color: #00d7ff\">None</span>, <span style=\"color: #00af00; text-decoration-color: #00af00\">32</span>)             │         <span style=\"color: #00af00; text-decoration-color: #00af00\">1,056</span> │\n",
       "├─────────────────────────────────┼────────────────────────┼───────────────┤\n",
       "│ batch_normalization             │ (<span style=\"color: #00d7ff; text-decoration-color: #00d7ff\">None</span>, <span style=\"color: #00af00; text-decoration-color: #00af00\">32</span>)             │           <span style=\"color: #00af00; text-decoration-color: #00af00\">128</span> │\n",
       "│ (<span style=\"color: #0087ff; text-decoration-color: #0087ff\">BatchNormalization</span>)            │                        │               │\n",
       "├─────────────────────────────────┼────────────────────────┼───────────────┤\n",
       "│ dense_3 (<span style=\"color: #0087ff; text-decoration-color: #0087ff\">Dense</span>)                 │ (<span style=\"color: #00d7ff; text-decoration-color: #00d7ff\">None</span>, <span style=\"color: #00af00; text-decoration-color: #00af00\">1</span>)              │            <span style=\"color: #00af00; text-decoration-color: #00af00\">33</span> │\n",
       "└─────────────────────────────────┴────────────────────────┴───────────────┘\n",
       "</pre>\n"
      ],
      "text/plain": [
       "┏━━━━━━━━━━━━━━━━━━━━━━━━━━━━━━━━━┳━━━━━━━━━━━━━━━━━━━━━━━━┳━━━━━━━━━━━━━━━┓\n",
       "┃\u001b[1m \u001b[0m\u001b[1mLayer (type)                   \u001b[0m\u001b[1m \u001b[0m┃\u001b[1m \u001b[0m\u001b[1mOutput Shape          \u001b[0m\u001b[1m \u001b[0m┃\u001b[1m \u001b[0m\u001b[1m      Param #\u001b[0m\u001b[1m \u001b[0m┃\n",
       "┡━━━━━━━━━━━━━━━━━━━━━━━━━━━━━━━━━╇━━━━━━━━━━━━━━━━━━━━━━━━╇━━━━━━━━━━━━━━━┩\n",
       "│ input_layer (\u001b[38;5;33mInputLayer\u001b[0m)        │ (\u001b[38;5;45mNone\u001b[0m, \u001b[38;5;34m43\u001b[0m)             │             \u001b[38;5;34m0\u001b[0m │\n",
       "├─────────────────────────────────┼────────────────────────┼───────────────┤\n",
       "│ dense (\u001b[38;5;33mDense\u001b[0m)                   │ (\u001b[38;5;45mNone\u001b[0m, \u001b[38;5;34m32\u001b[0m)             │         \u001b[38;5;34m1,408\u001b[0m │\n",
       "├─────────────────────────────────┼────────────────────────┼───────────────┤\n",
       "│ dense_1 (\u001b[38;5;33mDense\u001b[0m)                 │ (\u001b[38;5;45mNone\u001b[0m, \u001b[38;5;34m32\u001b[0m)             │         \u001b[38;5;34m1,056\u001b[0m │\n",
       "├─────────────────────────────────┼────────────────────────┼───────────────┤\n",
       "│ dropout (\u001b[38;5;33mDropout\u001b[0m)               │ (\u001b[38;5;45mNone\u001b[0m, \u001b[38;5;34m32\u001b[0m)             │             \u001b[38;5;34m0\u001b[0m │\n",
       "├─────────────────────────────────┼────────────────────────┼───────────────┤\n",
       "│ dense_2 (\u001b[38;5;33mDense\u001b[0m)                 │ (\u001b[38;5;45mNone\u001b[0m, \u001b[38;5;34m32\u001b[0m)             │         \u001b[38;5;34m1,056\u001b[0m │\n",
       "├─────────────────────────────────┼────────────────────────┼───────────────┤\n",
       "│ batch_normalization             │ (\u001b[38;5;45mNone\u001b[0m, \u001b[38;5;34m32\u001b[0m)             │           \u001b[38;5;34m128\u001b[0m │\n",
       "│ (\u001b[38;5;33mBatchNormalization\u001b[0m)            │                        │               │\n",
       "├─────────────────────────────────┼────────────────────────┼───────────────┤\n",
       "│ dense_3 (\u001b[38;5;33mDense\u001b[0m)                 │ (\u001b[38;5;45mNone\u001b[0m, \u001b[38;5;34m1\u001b[0m)              │            \u001b[38;5;34m33\u001b[0m │\n",
       "└─────────────────────────────────┴────────────────────────┴───────────────┘\n"
      ]
     },
     "metadata": {},
     "output_type": "display_data"
    },
    {
     "data": {
      "text/html": [
       "<pre style=\"white-space:pre;overflow-x:auto;line-height:normal;font-family:Menlo,'DejaVu Sans Mono',consolas,'Courier New',monospace\"><span style=\"font-weight: bold\"> Total params: </span><span style=\"color: #00af00; text-decoration-color: #00af00\">3,681</span> (14.38 KB)\n",
       "</pre>\n"
      ],
      "text/plain": [
       "\u001b[1m Total params: \u001b[0m\u001b[38;5;34m3,681\u001b[0m (14.38 KB)\n"
      ]
     },
     "metadata": {},
     "output_type": "display_data"
    },
    {
     "data": {
      "text/html": [
       "<pre style=\"white-space:pre;overflow-x:auto;line-height:normal;font-family:Menlo,'DejaVu Sans Mono',consolas,'Courier New',monospace\"><span style=\"font-weight: bold\"> Trainable params: </span><span style=\"color: #00af00; text-decoration-color: #00af00\">3,617</span> (14.13 KB)\n",
       "</pre>\n"
      ],
      "text/plain": [
       "\u001b[1m Trainable params: \u001b[0m\u001b[38;5;34m3,617\u001b[0m (14.13 KB)\n"
      ]
     },
     "metadata": {},
     "output_type": "display_data"
    },
    {
     "data": {
      "text/html": [
       "<pre style=\"white-space:pre;overflow-x:auto;line-height:normal;font-family:Menlo,'DejaVu Sans Mono',consolas,'Courier New',monospace\"><span style=\"font-weight: bold\"> Non-trainable params: </span><span style=\"color: #00af00; text-decoration-color: #00af00\">64</span> (256.00 B)\n",
       "</pre>\n"
      ],
      "text/plain": [
       "\u001b[1m Non-trainable params: \u001b[0m\u001b[38;5;34m64\u001b[0m (256.00 B)\n"
      ]
     },
     "metadata": {},
     "output_type": "display_data"
    }
   ],
   "source": [
    "inputs = Input(shape=X_train.shape[1:])\n",
    "x = Dense(32, activation=\"relu\")(inputs)\n",
    "x = Dense(32, activation=\"relu\")(x)\n",
    "x = Dropout(rate=0.2, seed=1)(x)\n",
    "x = Dense(32, activation=\"relu\")(x)\n",
    "x = BatchNormalization()(x)\n",
    "outputs = Dense(1, activation=\"sigmoid\")(x)\n",
    "model = Model(inputs=inputs, outputs=outputs)\n",
    "model.summary()"
   ]
  },
  {
   "cell_type": "code",
   "execution_count": 9,
   "metadata": {},
   "outputs": [],
   "source": [
    "# keras.utils.plot_model(model, \"my_first_model.png\", show_shapes=True)"
   ]
  },
  {
   "cell_type": "code",
   "execution_count": 10,
   "metadata": {},
   "outputs": [],
   "source": [
    "my_callbacks = [\n",
    "    #keras.callbacks.EarlyStopping(patience=2, min_delta=0.0012),\n",
    "    #keras.callbacks.ModelCheckpoint(filepath='model.{epoch:02d}-{val_loss:.2f}.h5'),\n",
    "    #keras.callbacks.TensorBoard(log_dir='./logs')\n",
    "]"
   ]
  },
  {
   "cell_type": "code",
   "execution_count": 11,
   "metadata": {},
   "outputs": [
    {
     "name": "stdout",
     "output_type": "stream",
     "text": [
      "Epoch 1/50\n",
      "\u001b[1m5/5\u001b[0m \u001b[32m━━━━━━━━━━━━━━━━━━━━\u001b[0m\u001b[37m\u001b[0m \u001b[1m4s\u001b[0m 142ms/step - auc: 0.3821 - loss: 0.0033 - precision: 0.2089 - recall: 0.4087 - val_auc: 0.2533 - val_loss: 0.6891 - val_precision: 0.0000e+00 - val_recall: 0.0000e+00\n",
      "Epoch 2/50\n",
      "\u001b[1m5/5\u001b[0m \u001b[32m━━━━━━━━━━━━━━━━━━━━\u001b[0m\u001b[37m\u001b[0m \u001b[1m0s\u001b[0m 25ms/step - auc: 0.5332 - loss: 0.0029 - precision: 0.3159 - recall: 0.5127 - val_auc: 0.3562 - val_loss: 0.6790 - val_precision: 0.2857 - val_recall: 0.0588\n",
      "Epoch 3/50\n",
      "\u001b[1m5/5\u001b[0m \u001b[32m━━━━━━━━━━━━━━━━━━━━\u001b[0m\u001b[37m\u001b[0m \u001b[1m0s\u001b[0m 22ms/step - auc: 0.5534 - loss: 0.0027 - precision: 0.3519 - recall: 0.5764 - val_auc: 0.4732 - val_loss: 0.6713 - val_precision: 0.3684 - val_recall: 0.2059\n",
      "Epoch 4/50\n",
      "\u001b[1m5/5\u001b[0m \u001b[32m━━━━━━━━━━━━━━━━━━━━\u001b[0m\u001b[37m\u001b[0m \u001b[1m0s\u001b[0m 20ms/step - auc: 0.6517 - loss: 0.0025 - precision: 0.4157 - recall: 0.6561 - val_auc: 0.5766 - val_loss: 0.6647 - val_precision: 0.4333 - val_recall: 0.3824\n",
      "Epoch 5/50\n",
      "\u001b[1m5/5\u001b[0m \u001b[32m━━━━━━━━━━━━━━━━━━━━\u001b[0m\u001b[37m\u001b[0m \u001b[1m0s\u001b[0m 19ms/step - auc: 0.6825 - loss: 0.0026 - precision: 0.4330 - recall: 0.6598 - val_auc: 0.6548 - val_loss: 0.6589 - val_precision: 0.4615 - val_recall: 0.5294\n",
      "Epoch 6/50\n",
      "\u001b[1m5/5\u001b[0m \u001b[32m━━━━━━━━━━━━━━━━━━━━\u001b[0m\u001b[37m\u001b[0m \u001b[1m0s\u001b[0m 21ms/step - auc: 0.7262 - loss: 0.0024 - precision: 0.4319 - recall: 0.7037 - val_auc: 0.7130 - val_loss: 0.6521 - val_precision: 0.4762 - val_recall: 0.5882\n",
      "Epoch 7/50\n",
      "\u001b[1m5/5\u001b[0m \u001b[32m━━━━━━━━━━━━━━━━━━━━\u001b[0m\u001b[37m\u001b[0m \u001b[1m0s\u001b[0m 20ms/step - auc: 0.7873 - loss: 0.0022 - precision: 0.5453 - recall: 0.7546 - val_auc: 0.7473 - val_loss: 0.6444 - val_precision: 0.4889 - val_recall: 0.6471\n",
      "Epoch 8/50\n",
      "\u001b[1m5/5\u001b[0m \u001b[32m━━━━━━━━━━━━━━━━━━━━\u001b[0m\u001b[37m\u001b[0m \u001b[1m0s\u001b[0m 23ms/step - auc: 0.8060 - loss: 0.0021 - precision: 0.5429 - recall: 0.7731 - val_auc: 0.7661 - val_loss: 0.6362 - val_precision: 0.5217 - val_recall: 0.7059\n",
      "Epoch 9/50\n",
      "\u001b[1m5/5\u001b[0m \u001b[32m━━━━━━━━━━━━━━━━━━━━\u001b[0m\u001b[37m\u001b[0m \u001b[1m0s\u001b[0m 20ms/step - auc: 0.8551 - loss: 0.0019 - precision: 0.5590 - recall: 0.8390 - val_auc: 0.7845 - val_loss: 0.6270 - val_precision: 0.5682 - val_recall: 0.7353\n",
      "Epoch 10/50\n",
      "\u001b[1m5/5\u001b[0m \u001b[32m━━━━━━━━━━━━━━━━━━━━\u001b[0m\u001b[37m\u001b[0m \u001b[1m0s\u001b[0m 20ms/step - auc: 0.8845 - loss: 0.0018 - precision: 0.6122 - recall: 0.8809 - val_auc: 0.7976 - val_loss: 0.6170 - val_precision: 0.5778 - val_recall: 0.7647\n",
      "Epoch 11/50\n",
      "\u001b[1m5/5\u001b[0m \u001b[32m━━━━━━━━━━━━━━━━━━━━\u001b[0m\u001b[37m\u001b[0m \u001b[1m0s\u001b[0m 19ms/step - auc: 0.8754 - loss: 0.0018 - precision: 0.6500 - recall: 0.8021 - val_auc: 0.8105 - val_loss: 0.6067 - val_precision: 0.5909 - val_recall: 0.7647\n",
      "Epoch 12/50\n",
      "\u001b[1m5/5\u001b[0m \u001b[32m━━━━━━━━━━━━━━━━━━━━\u001b[0m\u001b[37m\u001b[0m \u001b[1m0s\u001b[0m 21ms/step - auc: 0.8891 - loss: 0.0018 - precision: 0.6186 - recall: 0.8620 - val_auc: 0.8248 - val_loss: 0.5977 - val_precision: 0.6047 - val_recall: 0.7647\n",
      "Epoch 13/50\n",
      "\u001b[1m5/5\u001b[0m \u001b[32m━━━━━━━━━━━━━━━━━━━━\u001b[0m\u001b[37m\u001b[0m \u001b[1m0s\u001b[0m 20ms/step - auc: 0.8969 - loss: 0.0017 - precision: 0.6724 - recall: 0.8810 - val_auc: 0.8372 - val_loss: 0.5861 - val_precision: 0.6047 - val_recall: 0.7647\n",
      "Epoch 14/50\n",
      "\u001b[1m5/5\u001b[0m \u001b[32m━━━━━━━━━━━━━━━━━━━━\u001b[0m\u001b[37m\u001b[0m \u001b[1m0s\u001b[0m 21ms/step - auc: 0.8866 - loss: 0.0018 - precision: 0.6737 - recall: 0.8365 - val_auc: 0.8462 - val_loss: 0.5746 - val_precision: 0.6585 - val_recall: 0.7941\n",
      "Epoch 15/50\n",
      "\u001b[1m5/5\u001b[0m \u001b[32m━━━━━━━━━━━━━━━━━━━━\u001b[0m\u001b[37m\u001b[0m \u001b[1m0s\u001b[0m 22ms/step - auc: 0.8961 - loss: 0.0017 - precision: 0.6740 - recall: 0.8683 - val_auc: 0.8531 - val_loss: 0.5637 - val_precision: 0.6429 - val_recall: 0.7941\n",
      "Epoch 16/50\n",
      "\u001b[1m5/5\u001b[0m \u001b[32m━━━━━━━━━━━━━━━━━━━━\u001b[0m\u001b[37m\u001b[0m \u001b[1m0s\u001b[0m 18ms/step - auc: 0.9163 - loss: 0.0015 - precision: 0.6202 - recall: 0.8751 - val_auc: 0.8601 - val_loss: 0.5507 - val_precision: 0.6429 - val_recall: 0.7941\n",
      "Epoch 17/50\n",
      "\u001b[1m5/5\u001b[0m \u001b[32m━━━━━━━━━━━━━━━━━━━━\u001b[0m\u001b[37m\u001b[0m \u001b[1m0s\u001b[0m 20ms/step - auc: 0.9327 - loss: 0.0014 - precision: 0.7427 - recall: 0.9022 - val_auc: 0.8701 - val_loss: 0.5368 - val_precision: 0.6429 - val_recall: 0.7941\n",
      "Epoch 18/50\n",
      "\u001b[1m5/5\u001b[0m \u001b[32m━━━━━━━━━━━━━━━━━━━━\u001b[0m\u001b[37m\u001b[0m \u001b[1m0s\u001b[0m 18ms/step - auc: 0.9563 - loss: 0.0012 - precision: 0.7847 - recall: 0.8810 - val_auc: 0.8748 - val_loss: 0.5233 - val_precision: 0.6190 - val_recall: 0.7647\n",
      "Epoch 19/50\n",
      "\u001b[1m5/5\u001b[0m \u001b[32m━━━━━━━━━━━━━━━━━━━━\u001b[0m\u001b[37m\u001b[0m \u001b[1m0s\u001b[0m 20ms/step - auc: 0.9267 - loss: 0.0014 - precision: 0.6920 - recall: 0.8622 - val_auc: 0.8803 - val_loss: 0.5112 - val_precision: 0.6341 - val_recall: 0.7647\n",
      "Epoch 20/50\n",
      "\u001b[1m5/5\u001b[0m \u001b[32m━━━━━━━━━━━━━━━━━━━━\u001b[0m\u001b[37m\u001b[0m \u001b[1m0s\u001b[0m 20ms/step - auc: 0.9441 - loss: 0.0013 - precision: 0.7814 - recall: 0.8978 - val_auc: 0.8862 - val_loss: 0.4985 - val_precision: 0.6500 - val_recall: 0.7647\n",
      "Epoch 21/50\n",
      "\u001b[1m5/5\u001b[0m \u001b[32m━━━━━━━━━━━━━━━━━━━━\u001b[0m\u001b[37m\u001b[0m \u001b[1m0s\u001b[0m 20ms/step - auc: 0.9413 - loss: 0.0013 - precision: 0.7392 - recall: 0.8857 - val_auc: 0.8903 - val_loss: 0.4868 - val_precision: 0.6667 - val_recall: 0.7647\n",
      "Epoch 22/50\n",
      "\u001b[1m5/5\u001b[0m \u001b[32m━━━━━━━━━━━━━━━━━━━━\u001b[0m\u001b[37m\u001b[0m \u001b[1m0s\u001b[0m 18ms/step - auc: 0.9565 - loss: 0.0012 - precision: 0.7800 - recall: 0.8856 - val_auc: 0.8917 - val_loss: 0.4752 - val_precision: 0.6842 - val_recall: 0.7647\n",
      "Epoch 23/50\n",
      "\u001b[1m5/5\u001b[0m \u001b[32m━━━━━━━━━━━━━━━━━━━━\u001b[0m\u001b[37m\u001b[0m \u001b[1m0s\u001b[0m 20ms/step - auc: 0.9307 - loss: 0.0013 - precision: 0.7671 - recall: 0.8359 - val_auc: 0.8964 - val_loss: 0.4651 - val_precision: 0.6842 - val_recall: 0.7647\n",
      "Epoch 24/50\n",
      "\u001b[1m5/5\u001b[0m \u001b[32m━━━━━━━━━━━━━━━━━━━━\u001b[0m\u001b[37m\u001b[0m \u001b[1m0s\u001b[0m 19ms/step - auc: 0.9667 - loss: 0.0010 - precision: 0.8129 - recall: 0.9240 - val_auc: 0.9011 - val_loss: 0.4551 - val_precision: 0.6667 - val_recall: 0.7647\n",
      "Epoch 25/50\n",
      "\u001b[1m5/5\u001b[0m \u001b[32m━━━━━━━━━━━━━━━━━━━━\u001b[0m\u001b[37m\u001b[0m \u001b[1m0s\u001b[0m 22ms/step - auc: 0.9776 - loss: 9.5337e-04 - precision: 0.8053 - recall: 0.9113 - val_auc: 0.9016 - val_loss: 0.4471 - val_precision: 0.6842 - val_recall: 0.7647\n",
      "Epoch 26/50\n",
      "\u001b[1m5/5\u001b[0m \u001b[32m━━━━━━━━━━━━━━━━━━━━\u001b[0m\u001b[37m\u001b[0m \u001b[1m0s\u001b[0m 18ms/step - auc: 0.9730 - loss: 9.7768e-04 - precision: 0.8210 - recall: 0.9555 - val_auc: 0.9028 - val_loss: 0.4389 - val_precision: 0.6842 - val_recall: 0.7647\n",
      "Epoch 27/50\n",
      "\u001b[1m5/5\u001b[0m \u001b[32m━━━━━━━━━━━━━━━━━━━━\u001b[0m\u001b[37m\u001b[0m \u001b[1m0s\u001b[0m 20ms/step - auc: 0.9651 - loss: 9.8875e-04 - precision: 0.7989 - recall: 0.9347 - val_auc: 0.9036 - val_loss: 0.4307 - val_precision: 0.6842 - val_recall: 0.7647\n",
      "Epoch 28/50\n",
      "\u001b[1m5/5\u001b[0m \u001b[32m━━━━━━━━━━━━━━━━━━━━\u001b[0m\u001b[37m\u001b[0m \u001b[1m0s\u001b[0m 19ms/step - auc: 0.9696 - loss: 9.5258e-04 - precision: 0.8089 - recall: 0.9004 - val_auc: 0.9054 - val_loss: 0.4215 - val_precision: 0.7027 - val_recall: 0.7647\n",
      "Epoch 29/50\n",
      "\u001b[1m5/5\u001b[0m \u001b[32m━━━━━━━━━━━━━━━━━━━━\u001b[0m\u001b[37m\u001b[0m \u001b[1m0s\u001b[0m 19ms/step - auc: 0.9754 - loss: 9.1697e-04 - precision: 0.8315 - recall: 0.9211 - val_auc: 0.9048 - val_loss: 0.4129 - val_precision: 0.7143 - val_recall: 0.7353\n",
      "Epoch 30/50\n",
      "\u001b[1m5/5\u001b[0m \u001b[32m━━━━━━━━━━━━━━━━━━━━\u001b[0m\u001b[37m\u001b[0m \u001b[1m0s\u001b[0m 20ms/step - auc: 0.9791 - loss: 8.4661e-04 - precision: 0.8539 - recall: 0.9182 - val_auc: 0.9054 - val_loss: 0.4048 - val_precision: 0.7143 - val_recall: 0.7353\n",
      "Epoch 31/50\n",
      "\u001b[1m5/5\u001b[0m \u001b[32m━━━━━━━━━━━━━━━━━━━━\u001b[0m\u001b[37m\u001b[0m \u001b[1m0s\u001b[0m 20ms/step - auc: 0.9815 - loss: 8.3441e-04 - precision: 0.8291 - recall: 0.9627 - val_auc: 0.9091 - val_loss: 0.3942 - val_precision: 0.7576 - val_recall: 0.7353\n",
      "Epoch 32/50\n",
      "\u001b[1m5/5\u001b[0m \u001b[32m━━━━━━━━━━━━━━━━━━━━\u001b[0m\u001b[37m\u001b[0m \u001b[1m0s\u001b[0m 19ms/step - auc: 0.9742 - loss: 8.7577e-04 - precision: 0.8117 - recall: 0.9297 - val_auc: 0.9128 - val_loss: 0.3847 - val_precision: 0.7353 - val_recall: 0.7353\n",
      "Epoch 33/50\n",
      "\u001b[1m5/5\u001b[0m \u001b[32m━━━━━━━━━━━━━━━━━━━━\u001b[0m\u001b[37m\u001b[0m \u001b[1m0s\u001b[0m 21ms/step - auc: 0.9784 - loss: 8.3727e-04 - precision: 0.8434 - recall: 0.9328 - val_auc: 0.9148 - val_loss: 0.3772 - val_precision: 0.7353 - val_recall: 0.7353\n",
      "Epoch 34/50\n",
      "\u001b[1m5/5\u001b[0m \u001b[32m━━━━━━━━━━━━━━━━━━━━\u001b[0m\u001b[37m\u001b[0m \u001b[1m0s\u001b[0m 18ms/step - auc: 0.9896 - loss: 7.0991e-04 - precision: 0.8155 - recall: 0.9730 - val_auc: 0.9171 - val_loss: 0.3699 - val_precision: 0.7353 - val_recall: 0.7353\n",
      "Epoch 35/50\n",
      "\u001b[1m5/5\u001b[0m \u001b[32m━━━━━━━━━━━━━━━━━━━━\u001b[0m\u001b[37m\u001b[0m \u001b[1m0s\u001b[0m 18ms/step - auc: 0.9793 - loss: 8.2227e-04 - precision: 0.8204 - recall: 0.9109 - val_auc: 0.9161 - val_loss: 0.3620 - val_precision: 0.7812 - val_recall: 0.7353\n",
      "Epoch 36/50\n",
      "\u001b[1m5/5\u001b[0m \u001b[32m━━━━━━━━━━━━━━━━━━━━\u001b[0m\u001b[37m\u001b[0m \u001b[1m0s\u001b[0m 19ms/step - auc: 0.9827 - loss: 7.5181e-04 - precision: 0.8465 - recall: 0.9469 - val_auc: 0.9156 - val_loss: 0.3570 - val_precision: 0.7812 - val_recall: 0.7353\n",
      "Epoch 37/50\n",
      "\u001b[1m5/5\u001b[0m \u001b[32m━━━━━━━━━━━━━━━━━━━━\u001b[0m\u001b[37m\u001b[0m \u001b[1m0s\u001b[0m 18ms/step - auc: 0.9765 - loss: 8.4802e-04 - precision: 0.8514 - recall: 0.9035 - val_auc: 0.9165 - val_loss: 0.3531 - val_precision: 0.7576 - val_recall: 0.7353\n",
      "Epoch 38/50\n",
      "\u001b[1m5/5\u001b[0m \u001b[32m━━━━━━━━━━━━━━━━━━━━\u001b[0m\u001b[37m\u001b[0m \u001b[1m0s\u001b[0m 21ms/step - auc: 0.9932 - loss: 6.2703e-04 - precision: 0.8696 - recall: 0.9707 - val_auc: 0.9156 - val_loss: 0.3479 - val_precision: 0.7576 - val_recall: 0.7353\n",
      "Epoch 39/50\n",
      "\u001b[1m5/5\u001b[0m \u001b[32m━━━━━━━━━━━━━━━━━━━━\u001b[0m\u001b[37m\u001b[0m \u001b[1m0s\u001b[0m 19ms/step - auc: 0.9832 - loss: 7.0436e-04 - precision: 0.8418 - recall: 0.9605 - val_auc: 0.9154 - val_loss: 0.3450 - val_precision: 0.7273 - val_recall: 0.7059\n",
      "Epoch 40/50\n",
      "\u001b[1m5/5\u001b[0m \u001b[32m━━━━━━━━━━━━━━━━━━━━\u001b[0m\u001b[37m\u001b[0m \u001b[1m0s\u001b[0m 18ms/step - auc: 0.9866 - loss: 6.9137e-04 - precision: 0.8425 - recall: 0.9777 - val_auc: 0.9142 - val_loss: 0.3426 - val_precision: 0.7273 - val_recall: 0.7059\n",
      "Epoch 41/50\n",
      "\u001b[1m5/5\u001b[0m \u001b[32m━━━━━━━━━━━━━━━━━━━━\u001b[0m\u001b[37m\u001b[0m \u001b[1m0s\u001b[0m 22ms/step - auc: 0.9917 - loss: 6.1189e-04 - precision: 0.8997 - recall: 0.9580 - val_auc: 0.9154 - val_loss: 0.3390 - val_precision: 0.7273 - val_recall: 0.7059\n",
      "Epoch 42/50\n",
      "\u001b[1m5/5\u001b[0m \u001b[32m━━━━━━━━━━━━━━━━━━━━\u001b[0m\u001b[37m\u001b[0m \u001b[1m0s\u001b[0m 19ms/step - auc: 0.9901 - loss: 6.3443e-04 - precision: 0.8428 - recall: 0.9835 - val_auc: 0.9140 - val_loss: 0.3357 - val_precision: 0.7273 - val_recall: 0.7059\n",
      "Epoch 43/50\n",
      "\u001b[1m5/5\u001b[0m \u001b[32m━━━━━━━━━━━━━━━━━━━━\u001b[0m\u001b[37m\u001b[0m \u001b[1m0s\u001b[0m 22ms/step - auc: 0.9971 - loss: 5.1855e-04 - precision: 0.9332 - recall: 0.9967 - val_auc: 0.9148 - val_loss: 0.3323 - val_precision: 0.7273 - val_recall: 0.7059\n",
      "Epoch 44/50\n",
      "\u001b[1m5/5\u001b[0m \u001b[32m━━━━━━━━━━━━━━━━━━━━\u001b[0m\u001b[37m\u001b[0m \u001b[1m0s\u001b[0m 22ms/step - auc: 0.9867 - loss: 6.5054e-04 - precision: 0.8924 - recall: 0.9128 - val_auc: 0.9161 - val_loss: 0.3298 - val_precision: 0.7273 - val_recall: 0.7059\n",
      "Epoch 45/50\n",
      "\u001b[1m5/5\u001b[0m \u001b[32m━━━━━━━━━━━━━━━━━━━━\u001b[0m\u001b[37m\u001b[0m \u001b[1m0s\u001b[0m 20ms/step - auc: 0.9895 - loss: 5.7139e-04 - precision: 0.8546 - recall: 0.9724 - val_auc: 0.9183 - val_loss: 0.3274 - val_precision: 0.7059 - val_recall: 0.7059\n",
      "Epoch 46/50\n",
      "\u001b[1m5/5\u001b[0m \u001b[32m━━━━━━━━━━━━━━━━━━━━\u001b[0m\u001b[37m\u001b[0m \u001b[1m0s\u001b[0m 19ms/step - auc: 0.9953 - loss: 4.6777e-04 - precision: 0.9357 - recall: 0.9852 - val_auc: 0.9177 - val_loss: 0.3249 - val_precision: 0.7059 - val_recall: 0.7059\n",
      "Epoch 47/50\n",
      "\u001b[1m5/5\u001b[0m \u001b[32m━━━━━━━━━━━━━━━━━━━━\u001b[0m\u001b[37m\u001b[0m \u001b[1m0s\u001b[0m 21ms/step - auc: 0.9983 - loss: 4.1866e-04 - precision: 0.9354 - recall: 0.9849 - val_auc: 0.9163 - val_loss: 0.3239 - val_precision: 0.7059 - val_recall: 0.7059\n",
      "Epoch 48/50\n",
      "\u001b[1m5/5\u001b[0m \u001b[32m━━━━━━━━━━━━━━━━━━━━\u001b[0m\u001b[37m\u001b[0m \u001b[1m0s\u001b[0m 23ms/step - auc: 0.9961 - loss: 4.7770e-04 - precision: 0.8925 - recall: 0.9914 - val_auc: 0.9165 - val_loss: 0.3215 - val_precision: 0.7059 - val_recall: 0.7059\n",
      "Epoch 49/50\n",
      "\u001b[1m5/5\u001b[0m \u001b[32m━━━━━━━━━━━━━━━━━━━━\u001b[0m\u001b[37m\u001b[0m \u001b[1m0s\u001b[0m 22ms/step - auc: 0.9961 - loss: 4.3282e-04 - precision: 0.9003 - recall: 0.9868 - val_auc: 0.9199 - val_loss: 0.3179 - val_precision: 0.7059 - val_recall: 0.7059\n",
      "Epoch 50/50\n",
      "\u001b[1m5/5\u001b[0m \u001b[32m━━━━━━━━━━━━━━━━━━━━\u001b[0m\u001b[37m\u001b[0m \u001b[1m0s\u001b[0m 25ms/step - auc: 0.9938 - loss: 4.5748e-04 - precision: 0.9095 - recall: 0.9830 - val_auc: 0.9187 - val_loss: 0.3138 - val_precision: 0.7273 - val_recall: 0.7059\n",
      "4/4 - 0s - 13ms/step - auc: 0.9592 - loss: 0.2599 - precision: 0.7838 - recall: 0.8286\n",
      "0.2599431872367859 0.9591549634933472 0.7837837934494019 0.8285714387893677\n"
     ]
    }
   ],
   "source": [
    "model.compile(loss= BinaryCrossentropy() , optimizer=Adam() , metrics=[AUC, Precision, Recall]) \n",
    "history = model.fit(x=X_train_stand, y=y_train, batch_size=64, epochs=50, validation_data=(X_val_stand, y_val), class_weight={0: weight_for_0, 1: weight_for_1}, callbacks=my_callbacks)\n",
    "test_loss, test_auc, test_precision, test_recall = model.evaluate(X_test_stand, y_test, verbose=2)\n",
    "print(test_loss, test_auc, test_precision, test_recall)"
   ]
  },
  {
   "cell_type": "markdown",
   "metadata": {},
   "source": [
    "# Using Keras_tuner"
   ]
  },
  {
   "cell_type": "code",
   "execution_count": 47,
   "metadata": {},
   "outputs": [],
   "source": [
    "import keras_tuner\n",
    "class MyHyperModel(keras_tuner.HyperModel):\n",
    "    def build(self, hp):\n",
    "        # Tune the number of layers.\n",
    "        inputs = Input(shape=X_train.shape[1:])\n",
    "        x = Dense(32, activation=\"relu\")(inputs)\n",
    "        for i in range(hp.Int(\"num_layers\", 1, 4)):\n",
    "            x = Dense(\n",
    "                    # Tune number of units separately.\n",
    "                    units=hp.Int(f\"units_{i}\", min_value=32, max_value=320, step=32),\n",
    "                    activation=hp.Choice(f\"activation_{i}\", [\"relu\", \"tanh\"])\n",
    "                )(x)\n",
    "        if hp.Boolean(\"dropout\"):\n",
    "            x = (Dropout(rate=hp.Float(\"dropout_rate\", min_value=0.1, max_value=0.3, step=0.1)))(x)\n",
    "        if hp.Boolean(\"batch_norm\"): \n",
    "            x = BatchNormalization()(x)\n",
    "        outputs = Dense(1, activation=\"sigmoid\")(x)\n",
    "        model = Model(inputs=inputs, outputs=outputs) \n",
    "        learning_rate = hp.Float(\"lr\", min_value=1e-4, max_value=1e-2, sampling=\"log\")\n",
    "        model.compile(loss=BinaryCrossentropy(), optimizer=Adam(learning_rate=learning_rate) , metrics=[AUC]) \n",
    "        return model\n",
    "\n",
    "    # It is generally not needed to tune the number of epochs because a built-in callback is passed to model.fit()\n",
    "    # to save the model at its best epoch evaluated by the validation_data.\n",
    "    def fit(self, hp, model, *args, **kwargs):\n",
    "        return model.fit(\n",
    "            *args,\n",
    "            batch_size=hp.Int(\"batch_size\", min_value=32, max_value=128, step=32),\n",
    "            **kwargs\n",
    "        )"
   ]
  },
  {
   "cell_type": "code",
   "execution_count": 49,
   "metadata": {},
   "outputs": [
    {
     "name": "stdout",
     "output_type": "stream",
     "text": [
      "\u001b[1m10/10\u001b[0m \u001b[32m━━━━━━━━━━━━━━━━━━━━\u001b[0m\u001b[37m\u001b[0m \u001b[1m2s\u001b[0m 36ms/step - auc_5: 0.5223 - loss: 0.0027 - val_auc_5: 0.4205 - val_loss: 0.7064\n"
     ]
    },
    {
     "data": {
      "text/plain": [
       "<keras.src.callbacks.history.History at 0x248501cc310>"
      ]
     },
     "execution_count": 49,
     "metadata": {},
     "output_type": "execute_result"
    }
   ],
   "source": [
    "# Quick check to see if the code is working correctly\n",
    "hp = keras_tuner.HyperParameters()\n",
    "hypermodel = MyHyperModel()\n",
    "model = hypermodel.build(hp)\n",
    "hypermodel.fit(hp, model, x=X_train_stand, y=y_train, validation_data=(X_val_stand, y_val), class_weight={0: weight_for_0, 1: weight_for_1})"
   ]
  },
  {
   "cell_type": "markdown",
   "metadata": {},
   "source": [
    "During the search, the model-building function is called with different hyperparameter values in different trial. In each trial, the tuner would generate a new set of hyperparameter values to build the model. The model is then fit and evaluated. The metrics are recorded. The tuner progressively explores the space and finally finds a good set of hyperparameter values."
   ]
  },
  {
   "cell_type": "code",
   "execution_count": 51,
   "metadata": {},
   "outputs": [
    {
     "name": "stdout",
     "output_type": "stream",
     "text": [
      "Search space summary\n",
      "Default search space size: 6\n",
      "num_layers (Int)\n",
      "{'default': None, 'conditions': [], 'min_value': 1, 'max_value': 4, 'step': 1, 'sampling': 'linear'}\n",
      "units_0 (Int)\n",
      "{'default': None, 'conditions': [], 'min_value': 32, 'max_value': 320, 'step': 32, 'sampling': 'linear'}\n",
      "activation_0 (Choice)\n",
      "{'default': 'relu', 'conditions': [], 'values': ['relu', 'tanh'], 'ordered': False}\n",
      "dropout (Boolean)\n",
      "{'default': False, 'conditions': []}\n",
      "batch_norm (Boolean)\n",
      "{'default': False, 'conditions': []}\n",
      "lr (Float)\n",
      "{'default': 0.0001, 'conditions': [], 'min_value': 0.0001, 'max_value': 0.01, 'step': None, 'sampling': 'log'}\n"
     ]
    }
   ],
   "source": [
    "# Select a tuner class: RandomSearch, BayesianOptimization and Hyperband (Each corresponds to one tuning algorithm.)\n",
    "tuner = keras_tuner.RandomSearch(\n",
    "    hypermodel=MyHyperModel(),\n",
    "    objective=keras_tuner.Objective(\"val_auc\", direction=\"max\"),\n",
    "    max_trials=5,\n",
    "    overwrite=True,\n",
    "    directory=\"neural_network_results\",\n",
    "    project_name=\"tune_hypermodel\"\n",
    ")\n",
    "tuner.search_space_summary()\n"
   ]
  },
  {
   "cell_type": "code",
   "execution_count": 52,
   "metadata": {},
   "outputs": [
    {
     "name": "stdout",
     "output_type": "stream",
     "text": [
      "Trial 5 Complete [00h 00m 03s]\n",
      "val_auc: 0.8504902124404907\n",
      "\n",
      "Best val_auc So Far: 0.9522058963775635\n",
      "Total elapsed time: 00h 00m 15s\n",
      "Results summary\n",
      "Results in neural_network_results\\tune_hypermodel\n",
      "Showing 10 best trials\n",
      "Objective(name=\"val_auc\", direction=\"max\")\n",
      "\n",
      "Trial 1 summary\n",
      "Hyperparameters:\n",
      "num_layers: 3\n",
      "units_0: 128\n",
      "activation_0: relu\n",
      "dropout: True\n",
      "batch_norm: False\n",
      "lr: 0.003908373550672397\n",
      "units_1: 224\n",
      "activation_1: relu\n",
      "units_2: 320\n",
      "activation_2: relu\n",
      "batch_size: 32\n",
      "dropout_rate: 0.1\n",
      "Score: 0.9522058963775635\n",
      "\n",
      "Trial 0 summary\n",
      "Hyperparameters:\n",
      "num_layers: 3\n",
      "units_0: 320\n",
      "activation_0: relu\n",
      "dropout: False\n",
      "batch_norm: True\n",
      "lr: 0.0006923370394694686\n",
      "units_1: 32\n",
      "activation_1: relu\n",
      "units_2: 32\n",
      "activation_2: relu\n",
      "batch_size: 32\n",
      "Score: 0.9093136787414551\n",
      "\n",
      "Trial 2 summary\n",
      "Hyperparameters:\n",
      "num_layers: 1\n",
      "units_0: 288\n",
      "activation_0: relu\n",
      "dropout: False\n",
      "batch_norm: True\n",
      "lr: 0.0025580422886773498\n",
      "units_1: 128\n",
      "activation_1: relu\n",
      "units_2: 288\n",
      "activation_2: tanh\n",
      "batch_size: 128\n",
      "dropout_rate: 0.1\n",
      "Score: 0.8713235259056091\n",
      "\n",
      "Trial 3 summary\n",
      "Hyperparameters:\n",
      "num_layers: 1\n",
      "units_0: 224\n",
      "activation_0: relu\n",
      "dropout: False\n",
      "batch_norm: True\n",
      "lr: 0.0009259685801345267\n",
      "units_1: 288\n",
      "activation_1: relu\n",
      "units_2: 192\n",
      "activation_2: tanh\n",
      "batch_size: 32\n",
      "dropout_rate: 0.1\n",
      "Score: 0.8541666865348816\n",
      "\n",
      "Trial 4 summary\n",
      "Hyperparameters:\n",
      "num_layers: 2\n",
      "units_0: 320\n",
      "activation_0: relu\n",
      "dropout: False\n",
      "batch_norm: True\n",
      "lr: 0.0005937545919702229\n",
      "units_1: 96\n",
      "activation_1: relu\n",
      "units_2: 320\n",
      "activation_2: relu\n",
      "batch_size: 32\n",
      "dropout_rate: 0.1\n",
      "Score: 0.8504902124404907\n"
     ]
    }
   ],
   "source": [
    "tuner.search(x=X_train_stand, y=y_train, validation_data=(X_val_stand, y_val), class_weight={0: weight_for_0, 1: weight_for_1}, callbacks=my_callbacks)\n",
    "tuner.results_summary()"
   ]
  },
  {
   "cell_type": "code",
   "execution_count": 62,
   "metadata": {},
   "outputs": [
    {
     "name": "stderr",
     "output_type": "stream",
     "text": [
      "c:\\Users\\Stacy\\anaconda\\envs\\dsa4262_pcos\\Lib\\site-packages\\keras\\src\\saving\\saving_lib.py:757: UserWarning: Skipping variable loading for optimizer 'adam', because it has 2 variables whereas the saved optimizer has 22 variables. \n",
      "  saveable.load_own_variables(weights_store.get(inner_path))\n"
     ]
    },
    {
     "data": {
      "text/html": [
       "<pre style=\"white-space:pre;overflow-x:auto;line-height:normal;font-family:Menlo,'DejaVu Sans Mono',consolas,'Courier New',monospace\"><span style=\"font-weight: bold\">Model: \"functional\"</span>\n",
       "</pre>\n"
      ],
      "text/plain": [
       "\u001b[1mModel: \"functional\"\u001b[0m\n"
      ]
     },
     "metadata": {},
     "output_type": "display_data"
    },
    {
     "data": {
      "text/html": [
       "<pre style=\"white-space:pre;overflow-x:auto;line-height:normal;font-family:Menlo,'DejaVu Sans Mono',consolas,'Courier New',monospace\">┏━━━━━━━━━━━━━━━━━━━━━━━━━━━━━━━━━┳━━━━━━━━━━━━━━━━━━━━━━━━┳━━━━━━━━━━━━━━━┓\n",
       "┃<span style=\"font-weight: bold\"> Layer (type)                    </span>┃<span style=\"font-weight: bold\"> Output Shape           </span>┃<span style=\"font-weight: bold\">       Param # </span>┃\n",
       "┡━━━━━━━━━━━━━━━━━━━━━━━━━━━━━━━━━╇━━━━━━━━━━━━━━━━━━━━━━━━╇━━━━━━━━━━━━━━━┩\n",
       "│ input_layer (<span style=\"color: #0087ff; text-decoration-color: #0087ff\">InputLayer</span>)        │ (<span style=\"color: #00d7ff; text-decoration-color: #00d7ff\">None</span>, <span style=\"color: #00af00; text-decoration-color: #00af00\">43</span>)             │             <span style=\"color: #00af00; text-decoration-color: #00af00\">0</span> │\n",
       "├─────────────────────────────────┼────────────────────────┼───────────────┤\n",
       "│ dense (<span style=\"color: #0087ff; text-decoration-color: #0087ff\">Dense</span>)                   │ (<span style=\"color: #00d7ff; text-decoration-color: #00d7ff\">None</span>, <span style=\"color: #00af00; text-decoration-color: #00af00\">32</span>)             │         <span style=\"color: #00af00; text-decoration-color: #00af00\">1,408</span> │\n",
       "├─────────────────────────────────┼────────────────────────┼───────────────┤\n",
       "│ dense_1 (<span style=\"color: #0087ff; text-decoration-color: #0087ff\">Dense</span>)                 │ (<span style=\"color: #00d7ff; text-decoration-color: #00d7ff\">None</span>, <span style=\"color: #00af00; text-decoration-color: #00af00\">128</span>)            │         <span style=\"color: #00af00; text-decoration-color: #00af00\">4,224</span> │\n",
       "├─────────────────────────────────┼────────────────────────┼───────────────┤\n",
       "│ dense_2 (<span style=\"color: #0087ff; text-decoration-color: #0087ff\">Dense</span>)                 │ (<span style=\"color: #00d7ff; text-decoration-color: #00d7ff\">None</span>, <span style=\"color: #00af00; text-decoration-color: #00af00\">224</span>)            │        <span style=\"color: #00af00; text-decoration-color: #00af00\">28,896</span> │\n",
       "├─────────────────────────────────┼────────────────────────┼───────────────┤\n",
       "│ dense_3 (<span style=\"color: #0087ff; text-decoration-color: #0087ff\">Dense</span>)                 │ (<span style=\"color: #00d7ff; text-decoration-color: #00d7ff\">None</span>, <span style=\"color: #00af00; text-decoration-color: #00af00\">320</span>)            │        <span style=\"color: #00af00; text-decoration-color: #00af00\">72,000</span> │\n",
       "├─────────────────────────────────┼────────────────────────┼───────────────┤\n",
       "│ dropout (<span style=\"color: #0087ff; text-decoration-color: #0087ff\">Dropout</span>)               │ (<span style=\"color: #00d7ff; text-decoration-color: #00d7ff\">None</span>, <span style=\"color: #00af00; text-decoration-color: #00af00\">320</span>)            │             <span style=\"color: #00af00; text-decoration-color: #00af00\">0</span> │\n",
       "├─────────────────────────────────┼────────────────────────┼───────────────┤\n",
       "│ dense_4 (<span style=\"color: #0087ff; text-decoration-color: #0087ff\">Dense</span>)                 │ (<span style=\"color: #00d7ff; text-decoration-color: #00d7ff\">None</span>, <span style=\"color: #00af00; text-decoration-color: #00af00\">1</span>)              │           <span style=\"color: #00af00; text-decoration-color: #00af00\">321</span> │\n",
       "└─────────────────────────────────┴────────────────────────┴───────────────┘\n",
       "</pre>\n"
      ],
      "text/plain": [
       "┏━━━━━━━━━━━━━━━━━━━━━━━━━━━━━━━━━┳━━━━━━━━━━━━━━━━━━━━━━━━┳━━━━━━━━━━━━━━━┓\n",
       "┃\u001b[1m \u001b[0m\u001b[1mLayer (type)                   \u001b[0m\u001b[1m \u001b[0m┃\u001b[1m \u001b[0m\u001b[1mOutput Shape          \u001b[0m\u001b[1m \u001b[0m┃\u001b[1m \u001b[0m\u001b[1m      Param #\u001b[0m\u001b[1m \u001b[0m┃\n",
       "┡━━━━━━━━━━━━━━━━━━━━━━━━━━━━━━━━━╇━━━━━━━━━━━━━━━━━━━━━━━━╇━━━━━━━━━━━━━━━┩\n",
       "│ input_layer (\u001b[38;5;33mInputLayer\u001b[0m)        │ (\u001b[38;5;45mNone\u001b[0m, \u001b[38;5;34m43\u001b[0m)             │             \u001b[38;5;34m0\u001b[0m │\n",
       "├─────────────────────────────────┼────────────────────────┼───────────────┤\n",
       "│ dense (\u001b[38;5;33mDense\u001b[0m)                   │ (\u001b[38;5;45mNone\u001b[0m, \u001b[38;5;34m32\u001b[0m)             │         \u001b[38;5;34m1,408\u001b[0m │\n",
       "├─────────────────────────────────┼────────────────────────┼───────────────┤\n",
       "│ dense_1 (\u001b[38;5;33mDense\u001b[0m)                 │ (\u001b[38;5;45mNone\u001b[0m, \u001b[38;5;34m128\u001b[0m)            │         \u001b[38;5;34m4,224\u001b[0m │\n",
       "├─────────────────────────────────┼────────────────────────┼───────────────┤\n",
       "│ dense_2 (\u001b[38;5;33mDense\u001b[0m)                 │ (\u001b[38;5;45mNone\u001b[0m, \u001b[38;5;34m224\u001b[0m)            │        \u001b[38;5;34m28,896\u001b[0m │\n",
       "├─────────────────────────────────┼────────────────────────┼───────────────┤\n",
       "│ dense_3 (\u001b[38;5;33mDense\u001b[0m)                 │ (\u001b[38;5;45mNone\u001b[0m, \u001b[38;5;34m320\u001b[0m)            │        \u001b[38;5;34m72,000\u001b[0m │\n",
       "├─────────────────────────────────┼────────────────────────┼───────────────┤\n",
       "│ dropout (\u001b[38;5;33mDropout\u001b[0m)               │ (\u001b[38;5;45mNone\u001b[0m, \u001b[38;5;34m320\u001b[0m)            │             \u001b[38;5;34m0\u001b[0m │\n",
       "├─────────────────────────────────┼────────────────────────┼───────────────┤\n",
       "│ dense_4 (\u001b[38;5;33mDense\u001b[0m)                 │ (\u001b[38;5;45mNone\u001b[0m, \u001b[38;5;34m1\u001b[0m)              │           \u001b[38;5;34m321\u001b[0m │\n",
       "└─────────────────────────────────┴────────────────────────┴───────────────┘\n"
      ]
     },
     "metadata": {},
     "output_type": "display_data"
    },
    {
     "data": {
      "text/html": [
       "<pre style=\"white-space:pre;overflow-x:auto;line-height:normal;font-family:Menlo,'DejaVu Sans Mono',consolas,'Courier New',monospace\"><span style=\"font-weight: bold\"> Total params: </span><span style=\"color: #00af00; text-decoration-color: #00af00\">106,849</span> (417.38 KB)\n",
       "</pre>\n"
      ],
      "text/plain": [
       "\u001b[1m Total params: \u001b[0m\u001b[38;5;34m106,849\u001b[0m (417.38 KB)\n"
      ]
     },
     "metadata": {},
     "output_type": "display_data"
    },
    {
     "data": {
      "text/html": [
       "<pre style=\"white-space:pre;overflow-x:auto;line-height:normal;font-family:Menlo,'DejaVu Sans Mono',consolas,'Courier New',monospace\"><span style=\"font-weight: bold\"> Trainable params: </span><span style=\"color: #00af00; text-decoration-color: #00af00\">106,849</span> (417.38 KB)\n",
       "</pre>\n"
      ],
      "text/plain": [
       "\u001b[1m Trainable params: \u001b[0m\u001b[38;5;34m106,849\u001b[0m (417.38 KB)\n"
      ]
     },
     "metadata": {},
     "output_type": "display_data"
    },
    {
     "data": {
      "text/html": [
       "<pre style=\"white-space:pre;overflow-x:auto;line-height:normal;font-family:Menlo,'DejaVu Sans Mono',consolas,'Courier New',monospace\"><span style=\"font-weight: bold\"> Non-trainable params: </span><span style=\"color: #00af00; text-decoration-color: #00af00\">0</span> (0.00 B)\n",
       "</pre>\n"
      ],
      "text/plain": [
       "\u001b[1m Non-trainable params: \u001b[0m\u001b[38;5;34m0\u001b[0m (0.00 B)\n"
      ]
     },
     "metadata": {},
     "output_type": "display_data"
    }
   ],
   "source": [
    "# Get the top 2 models.\n",
    "models = tuner.get_best_models(num_models=1)\n",
    "best_model = models[0]\n",
    "best_model.summary()"
   ]
  },
  {
   "cell_type": "markdown",
   "metadata": {},
   "source": [
    "# Retraining and evaluation"
   ]
  },
  {
   "cell_type": "code",
   "execution_count": 78,
   "metadata": {},
   "outputs": [
    {
     "name": "stdout",
     "output_type": "stream",
     "text": [
      "Epoch 1/3\n",
      "\u001b[1m14/14\u001b[0m \u001b[32m━━━━━━━━━━━━━━━━━━━━\u001b[0m\u001b[37m\u001b[0m \u001b[1m2s\u001b[0m 4ms/step - auc_11: 0.6532 - loss: 0.0024\n",
      "Epoch 2/3\n",
      "\u001b[1m14/14\u001b[0m \u001b[32m━━━━━━━━━━━━━━━━━━━━\u001b[0m\u001b[37m\u001b[0m \u001b[1m0s\u001b[0m 4ms/step - auc_11: 0.9305 - loss: 0.0013     \n",
      "Epoch 3/3\n",
      "\u001b[1m14/14\u001b[0m \u001b[32m━━━━━━━━━━━━━━━━━━━━\u001b[0m\u001b[37m\u001b[0m \u001b[1m0s\u001b[0m 5ms/step - auc_11: 0.9757 - loss: 8.6590e-04 \n",
      "4/4 - 0s - 65ms/step - auc_11: 0.9477 - loss: 0.3399\n",
      "0.33992233872413635 0.9476860761642456\n"
     ]
    }
   ],
   "source": [
    "best_hps = tuner.get_best_hyperparameters(1)\n",
    "# Build the model with the best hp.\n",
    "hypermodel = MyHyperModel()\n",
    "model = hypermodel.build(best_hps[0])\n",
    "# Fit with the entire dataset.\n",
    "x_all = np.concatenate((X_train_stand, X_val_stand))\n",
    "y_all = np.concatenate((y_train, y_val))\n",
    "history = model.fit(x=x_all, y=y_all, epochs=3, class_weight={0: weight_for_0, 1: weight_for_1})\n",
    "test_loss, test_auc = model.evaluate(X_test_stand, y_test, verbose=2)\n",
    "print(test_loss, test_auc)"
   ]
  },
  {
   "cell_type": "code",
   "execution_count": 90,
   "metadata": {},
   "outputs": [
    {
     "name": "stdout",
     "output_type": "stream",
     "text": [
      "\u001b[1m4/4\u001b[0m \u001b[32m━━━━━━━━━━━━━━━━━━━━\u001b[0m\u001b[37m\u001b[0m \u001b[1m0s\u001b[0m 10ms/step\n"
     ]
    },
    {
     "data": {
      "image/png": "[encoded data removed]",
      "text/plain": [
       "<Figure size 640x480 with 1 Axes>"
      ]
     },
     "metadata": {},
     "output_type": "display_data"
    }
   ],
   "source": [
    "from sklearn.metrics import roc_curve\n",
    "import matplotlib.pyplot as plt\n",
    "y_pred_proba = model.predict(X_test_stand).ravel()\n",
    "fpr, tpr, thresholds = roc_curve(y_test, y_pred_proba)\n",
    "plt.figure(1)\n",
    "plt.plot([0, 1], [0, 1], 'k--')\n",
    "plt.plot(fpr, tpr, label='MLP AUC: {:.3f}'.format(test_auc))\n",
    "plt.xlabel('False positive rate')\n",
    "plt.ylabel('True positive rate')\n",
    "plt.title('ROC curve')\n",
    "plt.legend(loc='best')\n",
    "plt.show()"
   ]
  },
  {
   "cell_type": "markdown",
   "metadata": {},
   "source": [
    "## Finding the best threshold"
   ]
  },
  {
   "cell_type": "code",
   "execution_count": 91,
   "metadata": {},
   "outputs": [
    {
     "name": "stdout",
     "output_type": "stream",
     "text": [
      "Best threshold: 0.7060604691505432\n"
     ]
    }
   ],
   "source": [
    "# This method minimizes the distance to the top-left corner of the ROC space.\n",
    "distances = np.sqrt((1 - tpr) ** 2 + fpr ** 2)\n",
    "best_thresh = thresholds[np.argmin(distances)]\n",
    "print(f\"Best threshold: {best_thresh}\")"
   ]
  },
  {
   "cell_type": "code",
   "execution_count": 99,
   "metadata": {},
   "outputs": [
    {
     "name": "stdout",
     "output_type": "stream",
     "text": [
      "Precision: 0.82\n",
      "Recall: 0.91\n",
      "Specificity: 0.90\n",
      "Sensitivity: 0.91\n"
     ]
    },
    {
     "data": {
      "image/png": "[encoded data removed]",
      "text/plain": [
       "<Figure size 500x400 with 2 Axes>"
      ]
     },
     "metadata": {},
     "output_type": "display_data"
    },
    {
     "name": "stdout",
     "output_type": "stream",
     "text": [
      "              precision    recall  f1-score   support\n",
      "\n",
      "           0       0.96      0.90      0.93        71\n",
      "           1       0.82      0.91      0.86        35\n",
      "\n",
      "    accuracy                           0.91       106\n",
      "   macro avg       0.89      0.91      0.90       106\n",
      "weighted avg       0.91      0.91      0.91       106\n",
      "\n"
     ]
    }
   ],
   "source": [
    "from sklearn.metrics import precision_score, recall_score, classification_report, confusion_matrix\n",
    "import seaborn as sns\n",
    "\n",
    "y_pred = [1 if prob>=best_thresh else 0 for prob in y_pred_proba]\n",
    "\n",
    "# Compute Precision and Recall\n",
    "precision = precision_score(y_test, y_pred)\n",
    "recall = recall_score(y_test, y_pred)\n",
    "\n",
    "print(f'Precision: {precision:.2f}')\n",
    "print(f'Recall: {recall:.2f}')\n",
    "\n",
    "# Compute Sensitivity and Specificity\n",
    "specificity = recall_score(y_test, y_pred, pos_label=0)\n",
    "\n",
    "print(f'Specificity: {specificity:.2f}')\n",
    "print(f'Sensitivity: {recall:.2f}')\n",
    "\n",
    "# Visualise the confusion matrix\n",
    "cm = confusion_matrix(y_test, y_pred)\n",
    "labels = [\"True Negatives (TN)\", \"False Positives (FP)\", \"False Negatives (FN)\", \"True Positives (TP)\"]\n",
    "\n",
    "# Plot confusion matrix\n",
    "plt.figure(figsize=(5, 4))\n",
    "sns.heatmap(cm, annot=True, fmt='d', cmap='Blues', xticklabels=[\"Pred 0\", \"Pred 1\"], yticklabels=[\"Actual 0\", \"Actual 1\"])\n",
    "plt.xlabel(\"Predicted Labels\")\n",
    "plt.ylabel(\"Actual Labels\")\n",
    "plt.title(\"Confusion Matrix\")\n",
    "plt.show()\n",
    "\n",
    "\n",
    "# Visualise the classification report\n",
    "report = classification_report(y_test, y_pred)\n",
    "print(report)"
   ]
  }
 ],
 "metadata": {
  "kernelspec": {
   "display_name": "dsa4262_pcos",
   "language": "python",
   "name": "python3"
  },
  "language_info": {
   "codemirror_mode": {
    "name": "ipython",
    "version": 3
   },
   "file_extension": ".py",
   "mimetype": "text/x-python",
   "name": "python",
   "nbconvert_exporter": "python",
   "pygments_lexer": "ipython3",
   "version": "3.11.11"
  }
 },
 "nbformat": 4,
 "nbformat_minor": 2
}
